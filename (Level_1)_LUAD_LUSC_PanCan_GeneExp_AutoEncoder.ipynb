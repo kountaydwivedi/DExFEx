{
 "cells": [
  {
   "cell_type": "markdown",
   "metadata": {
    "id": "hbjAyUvIgEAE"
   },
   "source": [
    "# Initialising and Imports"
   ]
  },
  {
   "cell_type": "code",
   "execution_count": 1,
   "metadata": {
    "colab": {
     "base_uri": "https://localhost:8080/",
     "height": 17
    },
    "id": "T0tBaSIOgEAF",
    "outputId": "cbdb504d-cdfd-45b7-a70d-0a477c643ec0"
   },
   "outputs": [
    {
     "data": {
      "text/html": [
       "<style>.container { width:90% !important; }</style>"
      ],
      "text/plain": [
       "<IPython.core.display.HTML object>"
      ]
     },
     "metadata": {},
     "output_type": "display_data"
    }
   ],
   "source": [
    "# https://stackoverflow.com/questions/21971449/how-do-i-increase-the-cell-width-of-the-jupyter-ipython-notebook-in-my-browser\n",
    "\n",
    "from IPython.core.display import display, HTML\n",
    "display(HTML(\"<style>.container { width:90% !important; }</style>\"))"
   ]
  },
  {
   "cell_type": "code",
   "execution_count": 2,
   "metadata": {
    "id": "Tuf1zfR1gEAG"
   },
   "outputs": [],
   "source": [
    "import numpy as np\n",
    "import pandas as pd\n",
    "import seaborn as sea\n",
    "import matplotlib.pyplot as plt\n",
    "from sklearn.preprocessing import StandardScaler\n",
    "from sklearn.model_selection import train_test_split\n",
    "plt.style.use('fivethirtyeight')\n",
    "sea.set_style('whitegrid')\n",
    "%matplotlib inline\n",
    "%load_ext autoreload\n",
    "%autoreload 2"
   ]
  },
  {
   "cell_type": "code",
   "execution_count": 3,
   "metadata": {
    "id": "wzFKtn0SgEAH"
   },
   "outputs": [],
   "source": [
    "import warnings\n",
    "warnings.simplefilter('ignore')"
   ]
  },
  {
   "cell_type": "code",
   "execution_count": 4,
   "metadata": {
    "id": "2ss8kWE-gEAI"
   },
   "outputs": [],
   "source": [
    "import os\n",
    "import gc\n",
    "import time\n",
    "import copy\n",
    "import shutil\n",
    "import torch\n",
    "import torch.nn as nn\n",
    "import model_utils as u\n",
    "import model_classes as c\n",
    "import torch.nn.functional as F\n",
    "from torch.autograd import Variable\n",
    "from torchvision import utils, transforms\n",
    "from torch.utils.data import Dataset, DataLoader"
   ]
  },
  {
   "cell_type": "code",
   "execution_count": 5,
   "metadata": {},
   "outputs": [],
   "source": [
    "torch.use_deterministic_algorithms(True)\n",
    "os.environ[\"CUBLAS_WORKSPACE_CONFIG\"]=\":16:8\""
   ]
  },
  {
   "cell_type": "markdown",
   "metadata": {
    "id": "kLy4bMvYgEAI"
   },
   "source": [
    "# Setup device and Seed"
   ]
  },
  {
   "cell_type": "code",
   "execution_count": 6,
   "metadata": {
    "id": "aaYyNNN0gEAI"
   },
   "outputs": [],
   "source": [
    "device = torch.device('cuda' if torch.cuda.is_available() else 'cpu')"
   ]
  },
  {
   "cell_type": "code",
   "execution_count": 7,
   "metadata": {
    "colab": {
     "base_uri": "https://localhost:8080/"
    },
    "id": "6JtFffPMgEAJ",
    "outputId": "52e627f4-0840-462a-cc8d-bc2b3fd3ecb0"
   },
   "outputs": [
    {
     "data": {
      "text/plain": [
       "device(type='cuda')"
      ]
     },
     "execution_count": 7,
     "metadata": {},
     "output_type": "execute_result"
    }
   ],
   "source": [
    "device"
   ]
  },
  {
   "cell_type": "code",
   "execution_count": 8,
   "metadata": {
    "id": "cxaz6AGqgEAJ"
   },
   "outputs": [],
   "source": [
    "# https://pytorch.org/docs/stable/notes/randomness.html\n",
    "seed = 325\n",
    "u.set_all_seeds(seed)"
   ]
  },
  {
   "cell_type": "markdown",
   "metadata": {
    "id": "glCouYb3i8VS"
   },
   "source": [
    "\n",
    "\n",
    "---\n",
    "\n",
    "---\n",
    "\n",
    "---\n",
    "\n"
   ]
  },
  {
   "cell_type": "markdown",
   "metadata": {
    "id": "9ZKhLVjngEAL"
   },
   "source": [
    "# Setup Dataframe"
   ]
  },
  {
   "cell_type": "markdown",
   "metadata": {
    "id": "Lqu1MXrXgEAM"
   },
   "source": [
    "Helper links:\n",
    "\n",
    "https://stackoverflow.com/questions/16396903/delete-the-first-three-rows-of-a-dataframe-in-pandas<br>\n",
    "https://pandas.pydata.org/pandas-docs/stable/reference/api/pandas.DataFrame.rename.html<br>\n",
    "https://www.geeksforgeeks.org/how-to-rename-columns-in-pandas-dataframe/<br>\n",
    "https://pandas.pydata.org/docs/reference/api/pandas.DataFrame.insert.html<br>\n",
    "https://pandas.pydata.org/pandas-docs/stable/user_guide/merging.html<br>\n",
    "https://pandas.pydata.org/pandas-docs/stable/reference/api/pandas.DataFrame.copy.html"
   ]
  },
  {
   "cell_type": "code",
   "execution_count": 9,
   "metadata": {
    "id": "dxh3iADAgEAK"
   },
   "outputs": [],
   "source": [
    "# setup path to the dataset directory\n",
    "\n",
    "PATH = \"D:/CANCER BIOLOGY/DATASET/TCGA/FROM Xena/\""
   ]
  },
  {
   "cell_type": "code",
   "execution_count": 10,
   "metadata": {
    "id": "dOHuM3CzgEAK"
   },
   "outputs": [],
   "source": [
    "# load dataset t0 dataframes: {\"LUAD\":Lung Adenocarcinoma, \"LUSU\":Lung Squamous Cell Carcinoma}\n",
    "# https://stackoverflow.com/questions/18885175/read-a-zipped-file-as-a-pandas-dataframe\n",
    "# https://www.analyticsvidhya.com/blog/2021/04/delimiters-in-pandas-read_csv-function/\n",
    "\n",
    "df_luad = pd.read_csv(PATH+\"TCGA.LUAD.sampleMap_HiSeqV2_PANCAN.gz\", compression = \"gzip\", sep = \"\\t\")\n",
    "df_lusu = pd.read_csv(PATH+\"TCGA.LUSC.sampleMap_HiSeqV2_PANCAN.gz\", compression = \"gzip\", sep = \"\\t\")"
   ]
  },
  {
   "cell_type": "code",
   "execution_count": 11,
   "metadata": {
    "id": "pFMe9dd-gEAL"
   },
   "outputs": [
    {
     "data": {
      "text/html": [
       "<div>\n",
       "<style scoped>\n",
       "    .dataframe tbody tr th:only-of-type {\n",
       "        vertical-align: middle;\n",
       "    }\n",
       "\n",
       "    .dataframe tbody tr th {\n",
       "        vertical-align: top;\n",
       "    }\n",
       "\n",
       "    .dataframe thead th {\n",
       "        text-align: right;\n",
       "    }\n",
       "</style>\n",
       "<table border=\"1\" class=\"dataframe\">\n",
       "  <thead>\n",
       "    <tr style=\"text-align: right;\">\n",
       "      <th></th>\n",
       "      <th>sample</th>\n",
       "      <th>TCGA-69-7978-01</th>\n",
       "      <th>TCGA-62-8399-01</th>\n",
       "      <th>TCGA-78-7539-01</th>\n",
       "      <th>TCGA-50-5931-11</th>\n",
       "      <th>TCGA-73-4658-01</th>\n",
       "      <th>TCGA-44-6775-01</th>\n",
       "      <th>TCGA-44-2655-01</th>\n",
       "      <th>TCGA-44-3398-01</th>\n",
       "      <th>TCGA-62-8397-01</th>\n",
       "      <th>...</th>\n",
       "      <th>TCGA-75-7025-01</th>\n",
       "      <th>TCGA-55-7726-01</th>\n",
       "      <th>TCGA-L9-A743-01</th>\n",
       "      <th>TCGA-86-8358-01</th>\n",
       "      <th>TCGA-55-6972-01</th>\n",
       "      <th>TCGA-55-7727-01</th>\n",
       "      <th>TCGA-91-6831-01</th>\n",
       "      <th>TCGA-MN-A4N4-01</th>\n",
       "      <th>TCGA-55-8302-01</th>\n",
       "      <th>TCGA-MP-A4TK-01</th>\n",
       "    </tr>\n",
       "  </thead>\n",
       "  <tbody>\n",
       "    <tr>\n",
       "      <th>0</th>\n",
       "      <td>ARHGEF10L</td>\n",
       "      <td>0.125808</td>\n",
       "      <td>0.561708</td>\n",
       "      <td>-0.237592</td>\n",
       "      <td>-1.180492</td>\n",
       "      <td>-0.656192</td>\n",
       "      <td>0.139908</td>\n",
       "      <td>-0.537692</td>\n",
       "      <td>-0.839092</td>\n",
       "      <td>0.677108</td>\n",
       "      <td>...</td>\n",
       "      <td>0.226508</td>\n",
       "      <td>-2.342092</td>\n",
       "      <td>-0.207692</td>\n",
       "      <td>-0.659792</td>\n",
       "      <td>-1.651292</td>\n",
       "      <td>-2.621192</td>\n",
       "      <td>-1.025192</td>\n",
       "      <td>0.070108</td>\n",
       "      <td>0.305608</td>\n",
       "      <td>0.263208</td>\n",
       "    </tr>\n",
       "    <tr>\n",
       "      <th>1</th>\n",
       "      <td>HIF3A</td>\n",
       "      <td>-1.294926</td>\n",
       "      <td>6.069174</td>\n",
       "      <td>3.581474</td>\n",
       "      <td>3.927674</td>\n",
       "      <td>-0.525926</td>\n",
       "      <td>-1.497426</td>\n",
       "      <td>-0.021226</td>\n",
       "      <td>0.179974</td>\n",
       "      <td>1.092974</td>\n",
       "      <td>...</td>\n",
       "      <td>2.539674</td>\n",
       "      <td>-1.259526</td>\n",
       "      <td>-0.387226</td>\n",
       "      <td>3.689474</td>\n",
       "      <td>3.509374</td>\n",
       "      <td>1.986874</td>\n",
       "      <td>-1.993426</td>\n",
       "      <td>2.790974</td>\n",
       "      <td>-0.018326</td>\n",
       "      <td>4.657474</td>\n",
       "    </tr>\n",
       "    <tr>\n",
       "      <th>2</th>\n",
       "      <td>RNF17</td>\n",
       "      <td>-0.112935</td>\n",
       "      <td>-0.531035</td>\n",
       "      <td>0.592065</td>\n",
       "      <td>0.291065</td>\n",
       "      <td>-0.531035</td>\n",
       "      <td>0.475865</td>\n",
       "      <td>0.071065</td>\n",
       "      <td>-0.531035</td>\n",
       "      <td>-0.531035</td>\n",
       "      <td>...</td>\n",
       "      <td>-0.068235</td>\n",
       "      <td>-0.531035</td>\n",
       "      <td>0.428265</td>\n",
       "      <td>0.202865</td>\n",
       "      <td>0.567665</td>\n",
       "      <td>0.408165</td>\n",
       "      <td>-0.531035</td>\n",
       "      <td>0.440465</td>\n",
       "      <td>-0.531035</td>\n",
       "      <td>0.049365</td>\n",
       "    </tr>\n",
       "    <tr>\n",
       "      <th>3</th>\n",
       "      <td>RNF10</td>\n",
       "      <td>-1.411872</td>\n",
       "      <td>-0.228672</td>\n",
       "      <td>-0.108372</td>\n",
       "      <td>-0.043472</td>\n",
       "      <td>-0.156672</td>\n",
       "      <td>-0.605472</td>\n",
       "      <td>0.139328</td>\n",
       "      <td>-0.450172</td>\n",
       "      <td>0.583528</td>\n",
       "      <td>...</td>\n",
       "      <td>-0.451572</td>\n",
       "      <td>0.261228</td>\n",
       "      <td>-0.331772</td>\n",
       "      <td>-0.213372</td>\n",
       "      <td>-0.189472</td>\n",
       "      <td>0.091028</td>\n",
       "      <td>0.492828</td>\n",
       "      <td>0.037428</td>\n",
       "      <td>0.003728</td>\n",
       "      <td>-0.334572</td>\n",
       "    </tr>\n",
       "    <tr>\n",
       "      <th>4</th>\n",
       "      <td>RNF11</td>\n",
       "      <td>0.203922</td>\n",
       "      <td>0.052122</td>\n",
       "      <td>-0.499978</td>\n",
       "      <td>0.710822</td>\n",
       "      <td>0.373522</td>\n",
       "      <td>0.129022</td>\n",
       "      <td>0.436522</td>\n",
       "      <td>0.529622</td>\n",
       "      <td>0.314922</td>\n",
       "      <td>...</td>\n",
       "      <td>-0.155778</td>\n",
       "      <td>0.362522</td>\n",
       "      <td>-0.520578</td>\n",
       "      <td>0.031222</td>\n",
       "      <td>-0.966478</td>\n",
       "      <td>0.318322</td>\n",
       "      <td>0.150822</td>\n",
       "      <td>-0.357778</td>\n",
       "      <td>-0.451578</td>\n",
       "      <td>0.156422</td>\n",
       "    </tr>\n",
       "    <tr>\n",
       "      <th>...</th>\n",
       "      <td>...</td>\n",
       "      <td>...</td>\n",
       "      <td>...</td>\n",
       "      <td>...</td>\n",
       "      <td>...</td>\n",
       "      <td>...</td>\n",
       "      <td>...</td>\n",
       "      <td>...</td>\n",
       "      <td>...</td>\n",
       "      <td>...</td>\n",
       "      <td>...</td>\n",
       "      <td>...</td>\n",
       "      <td>...</td>\n",
       "      <td>...</td>\n",
       "      <td>...</td>\n",
       "      <td>...</td>\n",
       "      <td>...</td>\n",
       "      <td>...</td>\n",
       "      <td>...</td>\n",
       "      <td>...</td>\n",
       "      <td>...</td>\n",
       "    </tr>\n",
       "    <tr>\n",
       "      <th>20525</th>\n",
       "      <td>PTRF</td>\n",
       "      <td>0.863614</td>\n",
       "      <td>0.317114</td>\n",
       "      <td>-1.243086</td>\n",
       "      <td>2.802714</td>\n",
       "      <td>1.110714</td>\n",
       "      <td>0.879814</td>\n",
       "      <td>-0.028286</td>\n",
       "      <td>0.008714</td>\n",
       "      <td>-0.005186</td>\n",
       "      <td>...</td>\n",
       "      <td>0.544614</td>\n",
       "      <td>1.638214</td>\n",
       "      <td>0.381814</td>\n",
       "      <td>-1.080186</td>\n",
       "      <td>-2.139886</td>\n",
       "      <td>-1.495486</td>\n",
       "      <td>0.472314</td>\n",
       "      <td>0.993014</td>\n",
       "      <td>0.634014</td>\n",
       "      <td>1.222714</td>\n",
       "    </tr>\n",
       "    <tr>\n",
       "      <th>20526</th>\n",
       "      <td>BCL6B</td>\n",
       "      <td>0.802173</td>\n",
       "      <td>1.079073</td>\n",
       "      <td>-1.283227</td>\n",
       "      <td>2.250473</td>\n",
       "      <td>1.513973</td>\n",
       "      <td>0.126473</td>\n",
       "      <td>0.576073</td>\n",
       "      <td>0.643573</td>\n",
       "      <td>-0.735227</td>\n",
       "      <td>...</td>\n",
       "      <td>0.842873</td>\n",
       "      <td>0.680873</td>\n",
       "      <td>0.642773</td>\n",
       "      <td>0.154673</td>\n",
       "      <td>-0.849427</td>\n",
       "      <td>-0.359227</td>\n",
       "      <td>0.332973</td>\n",
       "      <td>0.570873</td>\n",
       "      <td>-0.909527</td>\n",
       "      <td>0.671573</td>\n",
       "    </tr>\n",
       "    <tr>\n",
       "      <th>20527</th>\n",
       "      <td>GSTK1</td>\n",
       "      <td>0.108205</td>\n",
       "      <td>-0.782695</td>\n",
       "      <td>0.034105</td>\n",
       "      <td>-0.540795</td>\n",
       "      <td>-0.454095</td>\n",
       "      <td>-0.797795</td>\n",
       "      <td>0.531305</td>\n",
       "      <td>0.310605</td>\n",
       "      <td>0.204105</td>\n",
       "      <td>...</td>\n",
       "      <td>-0.454195</td>\n",
       "      <td>-0.466595</td>\n",
       "      <td>-0.011995</td>\n",
       "      <td>-0.503195</td>\n",
       "      <td>0.512405</td>\n",
       "      <td>-0.584495</td>\n",
       "      <td>-1.756895</td>\n",
       "      <td>0.506805</td>\n",
       "      <td>-0.114895</td>\n",
       "      <td>-0.189095</td>\n",
       "    </tr>\n",
       "    <tr>\n",
       "      <th>20528</th>\n",
       "      <td>SELP</td>\n",
       "      <td>0.595367</td>\n",
       "      <td>3.114267</td>\n",
       "      <td>0.571467</td>\n",
       "      <td>3.985967</td>\n",
       "      <td>2.893167</td>\n",
       "      <td>1.805567</td>\n",
       "      <td>2.445467</td>\n",
       "      <td>2.575967</td>\n",
       "      <td>1.336567</td>\n",
       "      <td>...</td>\n",
       "      <td>2.817667</td>\n",
       "      <td>-0.301333</td>\n",
       "      <td>2.508367</td>\n",
       "      <td>-0.518033</td>\n",
       "      <td>-1.540033</td>\n",
       "      <td>1.663867</td>\n",
       "      <td>-0.275933</td>\n",
       "      <td>-0.073933</td>\n",
       "      <td>0.848867</td>\n",
       "      <td>1.195667</td>\n",
       "    </tr>\n",
       "    <tr>\n",
       "      <th>20529</th>\n",
       "      <td>SELS</td>\n",
       "      <td>-0.222712</td>\n",
       "      <td>-0.388912</td>\n",
       "      <td>0.233588</td>\n",
       "      <td>0.370988</td>\n",
       "      <td>0.193788</td>\n",
       "      <td>-0.116512</td>\n",
       "      <td>0.798088</td>\n",
       "      <td>0.590388</td>\n",
       "      <td>-0.598212</td>\n",
       "      <td>...</td>\n",
       "      <td>-0.259512</td>\n",
       "      <td>0.673688</td>\n",
       "      <td>0.362988</td>\n",
       "      <td>0.310288</td>\n",
       "      <td>1.140588</td>\n",
       "      <td>0.188988</td>\n",
       "      <td>0.732388</td>\n",
       "      <td>-0.243412</td>\n",
       "      <td>0.195588</td>\n",
       "      <td>0.272688</td>\n",
       "    </tr>\n",
       "  </tbody>\n",
       "</table>\n",
       "<p>20530 rows × 577 columns</p>\n",
       "</div>"
      ],
      "text/plain": [
       "          sample  TCGA-69-7978-01  TCGA-62-8399-01  TCGA-78-7539-01  \\\n",
       "0      ARHGEF10L         0.125808         0.561708        -0.237592   \n",
       "1          HIF3A        -1.294926         6.069174         3.581474   \n",
       "2          RNF17        -0.112935        -0.531035         0.592065   \n",
       "3          RNF10        -1.411872        -0.228672        -0.108372   \n",
       "4          RNF11         0.203922         0.052122        -0.499978   \n",
       "...          ...              ...              ...              ...   \n",
       "20525       PTRF         0.863614         0.317114        -1.243086   \n",
       "20526      BCL6B         0.802173         1.079073        -1.283227   \n",
       "20527      GSTK1         0.108205        -0.782695         0.034105   \n",
       "20528       SELP         0.595367         3.114267         0.571467   \n",
       "20529       SELS        -0.222712        -0.388912         0.233588   \n",
       "\n",
       "       TCGA-50-5931-11  TCGA-73-4658-01  TCGA-44-6775-01  TCGA-44-2655-01  \\\n",
       "0            -1.180492        -0.656192         0.139908        -0.537692   \n",
       "1             3.927674        -0.525926        -1.497426        -0.021226   \n",
       "2             0.291065        -0.531035         0.475865         0.071065   \n",
       "3            -0.043472        -0.156672        -0.605472         0.139328   \n",
       "4             0.710822         0.373522         0.129022         0.436522   \n",
       "...                ...              ...              ...              ...   \n",
       "20525         2.802714         1.110714         0.879814        -0.028286   \n",
       "20526         2.250473         1.513973         0.126473         0.576073   \n",
       "20527        -0.540795        -0.454095        -0.797795         0.531305   \n",
       "20528         3.985967         2.893167         1.805567         2.445467   \n",
       "20529         0.370988         0.193788        -0.116512         0.798088   \n",
       "\n",
       "       TCGA-44-3398-01  TCGA-62-8397-01  ...  TCGA-75-7025-01  \\\n",
       "0            -0.839092         0.677108  ...         0.226508   \n",
       "1             0.179974         1.092974  ...         2.539674   \n",
       "2            -0.531035        -0.531035  ...        -0.068235   \n",
       "3            -0.450172         0.583528  ...        -0.451572   \n",
       "4             0.529622         0.314922  ...        -0.155778   \n",
       "...                ...              ...  ...              ...   \n",
       "20525         0.008714        -0.005186  ...         0.544614   \n",
       "20526         0.643573        -0.735227  ...         0.842873   \n",
       "20527         0.310605         0.204105  ...        -0.454195   \n",
       "20528         2.575967         1.336567  ...         2.817667   \n",
       "20529         0.590388        -0.598212  ...        -0.259512   \n",
       "\n",
       "       TCGA-55-7726-01  TCGA-L9-A743-01  TCGA-86-8358-01  TCGA-55-6972-01  \\\n",
       "0            -2.342092        -0.207692        -0.659792        -1.651292   \n",
       "1            -1.259526        -0.387226         3.689474         3.509374   \n",
       "2            -0.531035         0.428265         0.202865         0.567665   \n",
       "3             0.261228        -0.331772        -0.213372        -0.189472   \n",
       "4             0.362522        -0.520578         0.031222        -0.966478   \n",
       "...                ...              ...              ...              ...   \n",
       "20525         1.638214         0.381814        -1.080186        -2.139886   \n",
       "20526         0.680873         0.642773         0.154673        -0.849427   \n",
       "20527        -0.466595        -0.011995        -0.503195         0.512405   \n",
       "20528        -0.301333         2.508367        -0.518033        -1.540033   \n",
       "20529         0.673688         0.362988         0.310288         1.140588   \n",
       "\n",
       "       TCGA-55-7727-01  TCGA-91-6831-01  TCGA-MN-A4N4-01  TCGA-55-8302-01  \\\n",
       "0            -2.621192        -1.025192         0.070108         0.305608   \n",
       "1             1.986874        -1.993426         2.790974        -0.018326   \n",
       "2             0.408165        -0.531035         0.440465        -0.531035   \n",
       "3             0.091028         0.492828         0.037428         0.003728   \n",
       "4             0.318322         0.150822        -0.357778        -0.451578   \n",
       "...                ...              ...              ...              ...   \n",
       "20525        -1.495486         0.472314         0.993014         0.634014   \n",
       "20526        -0.359227         0.332973         0.570873        -0.909527   \n",
       "20527        -0.584495        -1.756895         0.506805        -0.114895   \n",
       "20528         1.663867        -0.275933        -0.073933         0.848867   \n",
       "20529         0.188988         0.732388        -0.243412         0.195588   \n",
       "\n",
       "       TCGA-MP-A4TK-01  \n",
       "0             0.263208  \n",
       "1             4.657474  \n",
       "2             0.049365  \n",
       "3            -0.334572  \n",
       "4             0.156422  \n",
       "...                ...  \n",
       "20525         1.222714  \n",
       "20526         0.671573  \n",
       "20527        -0.189095  \n",
       "20528         1.195667  \n",
       "20529         0.272688  \n",
       "\n",
       "[20530 rows x 577 columns]"
      ]
     },
     "execution_count": 11,
     "metadata": {},
     "output_type": "execute_result"
    }
   ],
   "source": [
    "df_luad"
   ]
  },
  {
   "cell_type": "code",
   "execution_count": 12,
   "metadata": {
    "id": "Jn0ntmOvgEAL"
   },
   "outputs": [
    {
     "data": {
      "text/html": [
       "<div>\n",
       "<style scoped>\n",
       "    .dataframe tbody tr th:only-of-type {\n",
       "        vertical-align: middle;\n",
       "    }\n",
       "\n",
       "    .dataframe tbody tr th {\n",
       "        vertical-align: top;\n",
       "    }\n",
       "\n",
       "    .dataframe thead th {\n",
       "        text-align: right;\n",
       "    }\n",
       "</style>\n",
       "<table border=\"1\" class=\"dataframe\">\n",
       "  <thead>\n",
       "    <tr style=\"text-align: right;\">\n",
       "      <th></th>\n",
       "      <th>sample</th>\n",
       "      <th>TCGA-18-3417-01</th>\n",
       "      <th>TCGA-22-4613-01</th>\n",
       "      <th>TCGA-90-7769-01</th>\n",
       "      <th>TCGA-77-A5G1-01</th>\n",
       "      <th>TCGA-77-A5G3-01</th>\n",
       "      <th>TCGA-66-2766-01</th>\n",
       "      <th>TCGA-37-4135-01</th>\n",
       "      <th>TCGA-56-8201-01</th>\n",
       "      <th>TCGA-56-7582-11</th>\n",
       "      <th>...</th>\n",
       "      <th>TCGA-77-8144-01</th>\n",
       "      <th>TCGA-J1-A4AH-01</th>\n",
       "      <th>TCGA-56-7580-01</th>\n",
       "      <th>TCGA-63-A5MY-01</th>\n",
       "      <th>TCGA-33-AASL-01</th>\n",
       "      <th>TCGA-85-A512-01</th>\n",
       "      <th>TCGA-85-8354-01</th>\n",
       "      <th>TCGA-O2-A5IB-01</th>\n",
       "      <th>TCGA-77-7335-01</th>\n",
       "      <th>TCGA-56-7731-11</th>\n",
       "    </tr>\n",
       "  </thead>\n",
       "  <tbody>\n",
       "    <tr>\n",
       "      <th>0</th>\n",
       "      <td>ARHGEF10L</td>\n",
       "      <td>-2.032992</td>\n",
       "      <td>-1.109192</td>\n",
       "      <td>-1.270392</td>\n",
       "      <td>0.054708</td>\n",
       "      <td>-1.344192</td>\n",
       "      <td>-1.145092</td>\n",
       "      <td>-0.737892</td>\n",
       "      <td>-0.619892</td>\n",
       "      <td>-0.050992</td>\n",
       "      <td>...</td>\n",
       "      <td>-2.237692</td>\n",
       "      <td>-1.395092</td>\n",
       "      <td>-1.926792</td>\n",
       "      <td>-1.335292</td>\n",
       "      <td>-0.762292</td>\n",
       "      <td>-1.286992</td>\n",
       "      <td>-1.847792</td>\n",
       "      <td>0.568508</td>\n",
       "      <td>-0.849892</td>\n",
       "      <td>-0.888992</td>\n",
       "    </tr>\n",
       "    <tr>\n",
       "      <th>1</th>\n",
       "      <td>HIF3A</td>\n",
       "      <td>-0.775126</td>\n",
       "      <td>-1.023426</td>\n",
       "      <td>-3.254826</td>\n",
       "      <td>0.075174</td>\n",
       "      <td>0.826174</td>\n",
       "      <td>1.306874</td>\n",
       "      <td>-2.036826</td>\n",
       "      <td>-0.015326</td>\n",
       "      <td>2.772874</td>\n",
       "      <td>...</td>\n",
       "      <td>-5.006326</td>\n",
       "      <td>3.974574</td>\n",
       "      <td>3.154774</td>\n",
       "      <td>4.021874</td>\n",
       "      <td>-0.831926</td>\n",
       "      <td>-1.863426</td>\n",
       "      <td>-1.297326</td>\n",
       "      <td>0.025974</td>\n",
       "      <td>-2.414126</td>\n",
       "      <td>4.229474</td>\n",
       "    </tr>\n",
       "    <tr>\n",
       "      <th>2</th>\n",
       "      <td>RNF17</td>\n",
       "      <td>0.573765</td>\n",
       "      <td>-0.531035</td>\n",
       "      <td>-0.090835</td>\n",
       "      <td>-0.531035</td>\n",
       "      <td>-0.531035</td>\n",
       "      <td>-0.049535</td>\n",
       "      <td>0.829765</td>\n",
       "      <td>-0.531035</td>\n",
       "      <td>3.204265</td>\n",
       "      <td>...</td>\n",
       "      <td>-0.531035</td>\n",
       "      <td>1.349965</td>\n",
       "      <td>4.157765</td>\n",
       "      <td>1.554065</td>\n",
       "      <td>0.984465</td>\n",
       "      <td>-0.531035</td>\n",
       "      <td>-0.531035</td>\n",
       "      <td>0.084865</td>\n",
       "      <td>0.192865</td>\n",
       "      <td>-0.531035</td>\n",
       "    </tr>\n",
       "    <tr>\n",
       "      <th>3</th>\n",
       "      <td>RNF10</td>\n",
       "      <td>0.365228</td>\n",
       "      <td>-0.326772</td>\n",
       "      <td>0.160728</td>\n",
       "      <td>-0.147472</td>\n",
       "      <td>-0.364672</td>\n",
       "      <td>-0.697672</td>\n",
       "      <td>-0.765472</td>\n",
       "      <td>0.068428</td>\n",
       "      <td>-0.010572</td>\n",
       "      <td>...</td>\n",
       "      <td>-0.381072</td>\n",
       "      <td>-0.527472</td>\n",
       "      <td>0.171028</td>\n",
       "      <td>-0.292972</td>\n",
       "      <td>-0.651572</td>\n",
       "      <td>0.020328</td>\n",
       "      <td>-0.280072</td>\n",
       "      <td>-0.009372</td>\n",
       "      <td>0.197228</td>\n",
       "      <td>0.162228</td>\n",
       "    </tr>\n",
       "    <tr>\n",
       "      <th>4</th>\n",
       "      <td>RNF11</td>\n",
       "      <td>0.364522</td>\n",
       "      <td>0.308122</td>\n",
       "      <td>0.368322</td>\n",
       "      <td>0.826222</td>\n",
       "      <td>-0.312978</td>\n",
       "      <td>-0.792078</td>\n",
       "      <td>0.583822</td>\n",
       "      <td>-0.573278</td>\n",
       "      <td>0.323522</td>\n",
       "      <td>...</td>\n",
       "      <td>0.075622</td>\n",
       "      <td>-0.513978</td>\n",
       "      <td>-0.604678</td>\n",
       "      <td>0.479122</td>\n",
       "      <td>-0.446678</td>\n",
       "      <td>-0.560978</td>\n",
       "      <td>-0.560278</td>\n",
       "      <td>-0.136278</td>\n",
       "      <td>0.443922</td>\n",
       "      <td>0.344522</td>\n",
       "    </tr>\n",
       "    <tr>\n",
       "      <th>...</th>\n",
       "      <td>...</td>\n",
       "      <td>...</td>\n",
       "      <td>...</td>\n",
       "      <td>...</td>\n",
       "      <td>...</td>\n",
       "      <td>...</td>\n",
       "      <td>...</td>\n",
       "      <td>...</td>\n",
       "      <td>...</td>\n",
       "      <td>...</td>\n",
       "      <td>...</td>\n",
       "      <td>...</td>\n",
       "      <td>...</td>\n",
       "      <td>...</td>\n",
       "      <td>...</td>\n",
       "      <td>...</td>\n",
       "      <td>...</td>\n",
       "      <td>...</td>\n",
       "      <td>...</td>\n",
       "      <td>...</td>\n",
       "      <td>...</td>\n",
       "    </tr>\n",
       "    <tr>\n",
       "      <th>20525</th>\n",
       "      <td>PTRF</td>\n",
       "      <td>1.025014</td>\n",
       "      <td>-0.396686</td>\n",
       "      <td>0.094714</td>\n",
       "      <td>1.569614</td>\n",
       "      <td>1.269914</td>\n",
       "      <td>-0.263486</td>\n",
       "      <td>-2.675286</td>\n",
       "      <td>1.638114</td>\n",
       "      <td>2.118814</td>\n",
       "      <td>...</td>\n",
       "      <td>1.972214</td>\n",
       "      <td>0.993014</td>\n",
       "      <td>-0.233586</td>\n",
       "      <td>-0.222586</td>\n",
       "      <td>0.774714</td>\n",
       "      <td>0.434414</td>\n",
       "      <td>1.246914</td>\n",
       "      <td>-2.425586</td>\n",
       "      <td>1.550114</td>\n",
       "      <td>2.468514</td>\n",
       "    </tr>\n",
       "    <tr>\n",
       "      <th>20526</th>\n",
       "      <td>BCL6B</td>\n",
       "      <td>-0.381027</td>\n",
       "      <td>-0.781327</td>\n",
       "      <td>-2.267827</td>\n",
       "      <td>-0.409227</td>\n",
       "      <td>-0.542127</td>\n",
       "      <td>-0.932927</td>\n",
       "      <td>-1.847227</td>\n",
       "      <td>0.972273</td>\n",
       "      <td>4.176973</td>\n",
       "      <td>...</td>\n",
       "      <td>-0.010327</td>\n",
       "      <td>-1.413827</td>\n",
       "      <td>-0.132027</td>\n",
       "      <td>-1.714727</td>\n",
       "      <td>-2.306727</td>\n",
       "      <td>-0.491427</td>\n",
       "      <td>-0.070027</td>\n",
       "      <td>-0.734427</td>\n",
       "      <td>0.294773</td>\n",
       "      <td>2.667973</td>\n",
       "    </tr>\n",
       "    <tr>\n",
       "      <th>20527</th>\n",
       "      <td>GSTK1</td>\n",
       "      <td>0.839305</td>\n",
       "      <td>-0.732495</td>\n",
       "      <td>-1.137095</td>\n",
       "      <td>-0.003395</td>\n",
       "      <td>-1.324995</td>\n",
       "      <td>-0.113095</td>\n",
       "      <td>0.841305</td>\n",
       "      <td>-0.320395</td>\n",
       "      <td>-0.376795</td>\n",
       "      <td>...</td>\n",
       "      <td>-1.539295</td>\n",
       "      <td>-1.318095</td>\n",
       "      <td>-0.900095</td>\n",
       "      <td>0.251605</td>\n",
       "      <td>0.406205</td>\n",
       "      <td>0.318305</td>\n",
       "      <td>-0.620695</td>\n",
       "      <td>-1.926795</td>\n",
       "      <td>0.369005</td>\n",
       "      <td>-0.264695</td>\n",
       "    </tr>\n",
       "    <tr>\n",
       "      <th>20528</th>\n",
       "      <td>SELP</td>\n",
       "      <td>-1.085033</td>\n",
       "      <td>1.733867</td>\n",
       "      <td>-1.210233</td>\n",
       "      <td>1.761467</td>\n",
       "      <td>-1.784433</td>\n",
       "      <td>-0.762733</td>\n",
       "      <td>-2.145733</td>\n",
       "      <td>0.812667</td>\n",
       "      <td>1.800567</td>\n",
       "      <td>...</td>\n",
       "      <td>-3.797533</td>\n",
       "      <td>0.044667</td>\n",
       "      <td>-1.761533</td>\n",
       "      <td>-0.018533</td>\n",
       "      <td>-2.346733</td>\n",
       "      <td>-1.011433</td>\n",
       "      <td>-1.390333</td>\n",
       "      <td>-2.121633</td>\n",
       "      <td>1.909267</td>\n",
       "      <td>3.930867</td>\n",
       "    </tr>\n",
       "    <tr>\n",
       "      <th>20529</th>\n",
       "      <td>SELS</td>\n",
       "      <td>0.533188</td>\n",
       "      <td>0.624488</td>\n",
       "      <td>0.153688</td>\n",
       "      <td>0.738688</td>\n",
       "      <td>0.881688</td>\n",
       "      <td>0.920388</td>\n",
       "      <td>1.270188</td>\n",
       "      <td>-0.077912</td>\n",
       "      <td>-0.033012</td>\n",
       "      <td>...</td>\n",
       "      <td>-0.203412</td>\n",
       "      <td>0.149288</td>\n",
       "      <td>-0.631012</td>\n",
       "      <td>0.511088</td>\n",
       "      <td>0.879388</td>\n",
       "      <td>0.392288</td>\n",
       "      <td>0.918888</td>\n",
       "      <td>-0.637412</td>\n",
       "      <td>0.117688</td>\n",
       "      <td>0.842588</td>\n",
       "    </tr>\n",
       "  </tbody>\n",
       "</table>\n",
       "<p>20530 rows × 554 columns</p>\n",
       "</div>"
      ],
      "text/plain": [
       "          sample  TCGA-18-3417-01  TCGA-22-4613-01  TCGA-90-7769-01  \\\n",
       "0      ARHGEF10L        -2.032992        -1.109192        -1.270392   \n",
       "1          HIF3A        -0.775126        -1.023426        -3.254826   \n",
       "2          RNF17         0.573765        -0.531035        -0.090835   \n",
       "3          RNF10         0.365228        -0.326772         0.160728   \n",
       "4          RNF11         0.364522         0.308122         0.368322   \n",
       "...          ...              ...              ...              ...   \n",
       "20525       PTRF         1.025014        -0.396686         0.094714   \n",
       "20526      BCL6B        -0.381027        -0.781327        -2.267827   \n",
       "20527      GSTK1         0.839305        -0.732495        -1.137095   \n",
       "20528       SELP        -1.085033         1.733867        -1.210233   \n",
       "20529       SELS         0.533188         0.624488         0.153688   \n",
       "\n",
       "       TCGA-77-A5G1-01  TCGA-77-A5G3-01  TCGA-66-2766-01  TCGA-37-4135-01  \\\n",
       "0             0.054708        -1.344192        -1.145092        -0.737892   \n",
       "1             0.075174         0.826174         1.306874        -2.036826   \n",
       "2            -0.531035        -0.531035        -0.049535         0.829765   \n",
       "3            -0.147472        -0.364672        -0.697672        -0.765472   \n",
       "4             0.826222        -0.312978        -0.792078         0.583822   \n",
       "...                ...              ...              ...              ...   \n",
       "20525         1.569614         1.269914        -0.263486        -2.675286   \n",
       "20526        -0.409227        -0.542127        -0.932927        -1.847227   \n",
       "20527        -0.003395        -1.324995        -0.113095         0.841305   \n",
       "20528         1.761467        -1.784433        -0.762733        -2.145733   \n",
       "20529         0.738688         0.881688         0.920388         1.270188   \n",
       "\n",
       "       TCGA-56-8201-01  TCGA-56-7582-11  ...  TCGA-77-8144-01  \\\n",
       "0            -0.619892        -0.050992  ...        -2.237692   \n",
       "1            -0.015326         2.772874  ...        -5.006326   \n",
       "2            -0.531035         3.204265  ...        -0.531035   \n",
       "3             0.068428        -0.010572  ...        -0.381072   \n",
       "4            -0.573278         0.323522  ...         0.075622   \n",
       "...                ...              ...  ...              ...   \n",
       "20525         1.638114         2.118814  ...         1.972214   \n",
       "20526         0.972273         4.176973  ...        -0.010327   \n",
       "20527        -0.320395        -0.376795  ...        -1.539295   \n",
       "20528         0.812667         1.800567  ...        -3.797533   \n",
       "20529        -0.077912        -0.033012  ...        -0.203412   \n",
       "\n",
       "       TCGA-J1-A4AH-01  TCGA-56-7580-01  TCGA-63-A5MY-01  TCGA-33-AASL-01  \\\n",
       "0            -1.395092        -1.926792        -1.335292        -0.762292   \n",
       "1             3.974574         3.154774         4.021874        -0.831926   \n",
       "2             1.349965         4.157765         1.554065         0.984465   \n",
       "3            -0.527472         0.171028        -0.292972        -0.651572   \n",
       "4            -0.513978        -0.604678         0.479122        -0.446678   \n",
       "...                ...              ...              ...              ...   \n",
       "20525         0.993014        -0.233586        -0.222586         0.774714   \n",
       "20526        -1.413827        -0.132027        -1.714727        -2.306727   \n",
       "20527        -1.318095        -0.900095         0.251605         0.406205   \n",
       "20528         0.044667        -1.761533        -0.018533        -2.346733   \n",
       "20529         0.149288        -0.631012         0.511088         0.879388   \n",
       "\n",
       "       TCGA-85-A512-01  TCGA-85-8354-01  TCGA-O2-A5IB-01  TCGA-77-7335-01  \\\n",
       "0            -1.286992        -1.847792         0.568508        -0.849892   \n",
       "1            -1.863426        -1.297326         0.025974        -2.414126   \n",
       "2            -0.531035        -0.531035         0.084865         0.192865   \n",
       "3             0.020328        -0.280072        -0.009372         0.197228   \n",
       "4            -0.560978        -0.560278        -0.136278         0.443922   \n",
       "...                ...              ...              ...              ...   \n",
       "20525         0.434414         1.246914        -2.425586         1.550114   \n",
       "20526        -0.491427        -0.070027        -0.734427         0.294773   \n",
       "20527         0.318305        -0.620695        -1.926795         0.369005   \n",
       "20528        -1.011433        -1.390333        -2.121633         1.909267   \n",
       "20529         0.392288         0.918888        -0.637412         0.117688   \n",
       "\n",
       "       TCGA-56-7731-11  \n",
       "0            -0.888992  \n",
       "1             4.229474  \n",
       "2            -0.531035  \n",
       "3             0.162228  \n",
       "4             0.344522  \n",
       "...                ...  \n",
       "20525         2.468514  \n",
       "20526         2.667973  \n",
       "20527        -0.264695  \n",
       "20528         3.930867  \n",
       "20529         0.842588  \n",
       "\n",
       "[20530 rows x 554 columns]"
      ]
     },
     "execution_count": 12,
     "metadata": {},
     "output_type": "execute_result"
    }
   ],
   "source": [
    "df_lusu"
   ]
  },
  {
   "cell_type": "markdown",
   "metadata": {},
   "source": [
    "# Dataset preprocessing "
   ]
  },
  {
   "cell_type": "code",
   "execution_count": 13,
   "metadata": {},
   "outputs": [
    {
     "data": {
      "text/html": [
       "Rows containing all 0s removed."
      ],
      "text/plain": [
       "<IPython.core.display.HTML object>"
      ]
     },
     "metadata": {},
     "output_type": "display_data"
    },
    {
     "data": {
      "text/html": [
       "Gene names saved in list 'columns'."
      ],
      "text/plain": [
       "<IPython.core.display.HTML object>"
      ]
     },
     "metadata": {},
     "output_type": "display_data"
    },
    {
     "data": {
      "text/html": [
       "Dataset transposed (rows to column and columns to rows)."
      ],
      "text/plain": [
       "<IPython.core.display.HTML object>"
      ]
     },
     "metadata": {},
     "output_type": "display_data"
    },
    {
     "data": {
      "text/html": [
       "Gene name column removed."
      ],
      "text/plain": [
       "<IPython.core.display.HTML object>"
      ]
     },
     "metadata": {},
     "output_type": "display_data"
    },
    {
     "data": {
      "text/html": [
       "Samples' ground truth values (0, 1) inserted."
      ],
      "text/plain": [
       "<IPython.core.display.HTML object>"
      ]
     },
     "metadata": {},
     "output_type": "display_data"
    },
    {
     "data": {
      "text/html": [
       "DF_LUAD and DF_LUSU dataframes combined to one."
      ],
      "text/plain": [
       "<IPython.core.display.HTML object>"
      ]
     },
     "metadata": {},
     "output_type": "display_data"
    },
    {
     "data": {
      "text/html": [
       "Columns containing same value across all samples removed."
      ],
      "text/plain": [
       "<IPython.core.display.HTML object>"
      ]
     },
     "metadata": {},
     "output_type": "display_data"
    },
    {
     "data": {
      "text/html": [
       "Dataframe with labels ====>"
      ],
      "text/plain": [
       "<IPython.core.display.HTML object>"
      ]
     },
     "metadata": {},
     "output_type": "display_data"
    },
    {
     "data": {
      "text/html": [
       "<div>\n",
       "<style scoped>\n",
       "    .dataframe tbody tr th:only-of-type {\n",
       "        vertical-align: middle;\n",
       "    }\n",
       "\n",
       "    .dataframe tbody tr th {\n",
       "        vertical-align: top;\n",
       "    }\n",
       "\n",
       "    .dataframe thead th {\n",
       "        text-align: right;\n",
       "    }\n",
       "</style>\n",
       "<table border=\"1\" class=\"dataframe\">\n",
       "  <thead>\n",
       "    <tr style=\"text-align: right;\">\n",
       "      <th></th>\n",
       "      <th>label</th>\n",
       "      <th>ARHGEF10L</th>\n",
       "      <th>HIF3A</th>\n",
       "      <th>RNF17</th>\n",
       "      <th>RNF10</th>\n",
       "      <th>RNF11</th>\n",
       "      <th>RNF13</th>\n",
       "      <th>GTF2IP1</th>\n",
       "      <th>REM1</th>\n",
       "      <th>MTVR2</th>\n",
       "      <th>...</th>\n",
       "      <th>TULP2</th>\n",
       "      <th>NPY5R</th>\n",
       "      <th>GNGT2</th>\n",
       "      <th>GNGT1</th>\n",
       "      <th>TULP3</th>\n",
       "      <th>PTRF</th>\n",
       "      <th>BCL6B</th>\n",
       "      <th>GSTK1</th>\n",
       "      <th>SELP</th>\n",
       "      <th>SELS</th>\n",
       "    </tr>\n",
       "  </thead>\n",
       "  <tbody>\n",
       "    <tr>\n",
       "      <th>TCGA-69-7978-01</th>\n",
       "      <td>1</td>\n",
       "      <td>0.125808</td>\n",
       "      <td>-1.29493</td>\n",
       "      <td>-0.112935</td>\n",
       "      <td>-1.41187</td>\n",
       "      <td>0.203922</td>\n",
       "      <td>0.0993901</td>\n",
       "      <td>-0.222094</td>\n",
       "      <td>0.504354</td>\n",
       "      <td>-0.423399</td>\n",
       "      <td>...</td>\n",
       "      <td>1.13472</td>\n",
       "      <td>-0.845117</td>\n",
       "      <td>1.76017</td>\n",
       "      <td>-1.28139</td>\n",
       "      <td>0.224623</td>\n",
       "      <td>0.863614</td>\n",
       "      <td>0.802173</td>\n",
       "      <td>0.108205</td>\n",
       "      <td>0.595367</td>\n",
       "      <td>-0.222712</td>\n",
       "    </tr>\n",
       "    <tr>\n",
       "      <th>TCGA-62-8399-01</th>\n",
       "      <td>1</td>\n",
       "      <td>0.561708</td>\n",
       "      <td>6.06917</td>\n",
       "      <td>-0.531035</td>\n",
       "      <td>-0.228672</td>\n",
       "      <td>0.0521219</td>\n",
       "      <td>-1.20601</td>\n",
       "      <td>-0.338894</td>\n",
       "      <td>1.44985</td>\n",
       "      <td>0.0394006</td>\n",
       "      <td>...</td>\n",
       "      <td>-0.286078</td>\n",
       "      <td>-0.055517</td>\n",
       "      <td>-0.0282335</td>\n",
       "      <td>0.0480102</td>\n",
       "      <td>0.295223</td>\n",
       "      <td>0.317114</td>\n",
       "      <td>1.07907</td>\n",
       "      <td>-0.782695</td>\n",
       "      <td>3.11427</td>\n",
       "      <td>-0.388912</td>\n",
       "    </tr>\n",
       "    <tr>\n",
       "      <th>TCGA-78-7539-01</th>\n",
       "      <td>1</td>\n",
       "      <td>-0.237592</td>\n",
       "      <td>3.58147</td>\n",
       "      <td>0.592065</td>\n",
       "      <td>-0.108372</td>\n",
       "      <td>-0.499978</td>\n",
       "      <td>-0.0254099</td>\n",
       "      <td>0.163006</td>\n",
       "      <td>0.131654</td>\n",
       "      <td>-0.0508994</td>\n",
       "      <td>...</td>\n",
       "      <td>2.20992</td>\n",
       "      <td>-1.58712</td>\n",
       "      <td>1.56537</td>\n",
       "      <td>2.63871</td>\n",
       "      <td>0.0491232</td>\n",
       "      <td>-1.24309</td>\n",
       "      <td>-1.28323</td>\n",
       "      <td>0.0341054</td>\n",
       "      <td>0.571467</td>\n",
       "      <td>0.233588</td>\n",
       "    </tr>\n",
       "    <tr>\n",
       "      <th>TCGA-50-5931-11</th>\n",
       "      <td>1</td>\n",
       "      <td>-1.18049</td>\n",
       "      <td>3.92767</td>\n",
       "      <td>0.291065</td>\n",
       "      <td>-0.043472</td>\n",
       "      <td>0.710822</td>\n",
       "      <td>1.05089</td>\n",
       "      <td>-0.564394</td>\n",
       "      <td>1.68395</td>\n",
       "      <td>0.398701</td>\n",
       "      <td>...</td>\n",
       "      <td>-0.748878</td>\n",
       "      <td>0.900483</td>\n",
       "      <td>1.90357</td>\n",
       "      <td>-1.28139</td>\n",
       "      <td>-0.549277</td>\n",
       "      <td>2.80271</td>\n",
       "      <td>2.25047</td>\n",
       "      <td>-0.540795</td>\n",
       "      <td>3.98597</td>\n",
       "      <td>0.370988</td>\n",
       "    </tr>\n",
       "    <tr>\n",
       "      <th>TCGA-73-4658-01</th>\n",
       "      <td>1</td>\n",
       "      <td>-0.656192</td>\n",
       "      <td>-0.525926</td>\n",
       "      <td>-0.531035</td>\n",
       "      <td>-0.156672</td>\n",
       "      <td>0.373522</td>\n",
       "      <td>0.44729</td>\n",
       "      <td>-0.438994</td>\n",
       "      <td>1.83155</td>\n",
       "      <td>-0.423399</td>\n",
       "      <td>...</td>\n",
       "      <td>-0.748878</td>\n",
       "      <td>-0.931417</td>\n",
       "      <td>1.91517</td>\n",
       "      <td>-0.17659</td>\n",
       "      <td>0.0423232</td>\n",
       "      <td>1.11071</td>\n",
       "      <td>1.51397</td>\n",
       "      <td>-0.454095</td>\n",
       "      <td>2.89317</td>\n",
       "      <td>0.193788</td>\n",
       "    </tr>\n",
       "    <tr>\n",
       "      <th>...</th>\n",
       "      <td>...</td>\n",
       "      <td>...</td>\n",
       "      <td>...</td>\n",
       "      <td>...</td>\n",
       "      <td>...</td>\n",
       "      <td>...</td>\n",
       "      <td>...</td>\n",
       "      <td>...</td>\n",
       "      <td>...</td>\n",
       "      <td>...</td>\n",
       "      <td>...</td>\n",
       "      <td>...</td>\n",
       "      <td>...</td>\n",
       "      <td>...</td>\n",
       "      <td>...</td>\n",
       "      <td>...</td>\n",
       "      <td>...</td>\n",
       "      <td>...</td>\n",
       "      <td>...</td>\n",
       "      <td>...</td>\n",
       "      <td>...</td>\n",
       "    </tr>\n",
       "    <tr>\n",
       "      <th>TCGA-85-A512-01</th>\n",
       "      <td>0</td>\n",
       "      <td>-1.28699</td>\n",
       "      <td>-1.86343</td>\n",
       "      <td>-0.531035</td>\n",
       "      <td>0.020328</td>\n",
       "      <td>-0.560978</td>\n",
       "      <td>0.51729</td>\n",
       "      <td>0.519806</td>\n",
       "      <td>-0.748146</td>\n",
       "      <td>-0.423399</td>\n",
       "      <td>...</td>\n",
       "      <td>-0.748878</td>\n",
       "      <td>-1.58712</td>\n",
       "      <td>-0.236033</td>\n",
       "      <td>1.41071</td>\n",
       "      <td>1.65372</td>\n",
       "      <td>0.434414</td>\n",
       "      <td>-0.491427</td>\n",
       "      <td>0.318305</td>\n",
       "      <td>-1.01143</td>\n",
       "      <td>0.392288</td>\n",
       "    </tr>\n",
       "    <tr>\n",
       "      <th>TCGA-85-8354-01</th>\n",
       "      <td>0</td>\n",
       "      <td>-1.84779</td>\n",
       "      <td>-1.29733</td>\n",
       "      <td>-0.531035</td>\n",
       "      <td>-0.280072</td>\n",
       "      <td>-0.560278</td>\n",
       "      <td>0.85009</td>\n",
       "      <td>-0.166294</td>\n",
       "      <td>-1.51925</td>\n",
       "      <td>0.602101</td>\n",
       "      <td>...</td>\n",
       "      <td>0.276622</td>\n",
       "      <td>-1.58712</td>\n",
       "      <td>-0.784133</td>\n",
       "      <td>1.46201</td>\n",
       "      <td>0.765023</td>\n",
       "      <td>1.24691</td>\n",
       "      <td>-0.0700266</td>\n",
       "      <td>-0.620695</td>\n",
       "      <td>-1.39033</td>\n",
       "      <td>0.918888</td>\n",
       "    </tr>\n",
       "    <tr>\n",
       "      <th>TCGA-O2-A5IB-01</th>\n",
       "      <td>0</td>\n",
       "      <td>0.568508</td>\n",
       "      <td>0.0259737</td>\n",
       "      <td>0.084865</td>\n",
       "      <td>-0.00937199</td>\n",
       "      <td>-0.136278</td>\n",
       "      <td>-1.41811</td>\n",
       "      <td>0.173506</td>\n",
       "      <td>-2.19405</td>\n",
       "      <td>0.622701</td>\n",
       "      <td>...</td>\n",
       "      <td>-0.408378</td>\n",
       "      <td>-1.24662</td>\n",
       "      <td>-1.94053</td>\n",
       "      <td>-1.28139</td>\n",
       "      <td>1.28172</td>\n",
       "      <td>-2.42559</td>\n",
       "      <td>-0.734427</td>\n",
       "      <td>-1.92679</td>\n",
       "      <td>-2.12163</td>\n",
       "      <td>-0.637412</td>\n",
       "    </tr>\n",
       "    <tr>\n",
       "      <th>TCGA-77-7335-01</th>\n",
       "      <td>0</td>\n",
       "      <td>-0.849892</td>\n",
       "      <td>-2.41413</td>\n",
       "      <td>0.192865</td>\n",
       "      <td>0.197228</td>\n",
       "      <td>0.443922</td>\n",
       "      <td>0.54789</td>\n",
       "      <td>0.0844055</td>\n",
       "      <td>1.01505</td>\n",
       "      <td>-0.423399</td>\n",
       "      <td>...</td>\n",
       "      <td>-0.748878</td>\n",
       "      <td>-1.58712</td>\n",
       "      <td>2.16037</td>\n",
       "      <td>1.19391</td>\n",
       "      <td>0.197023</td>\n",
       "      <td>1.55011</td>\n",
       "      <td>0.294773</td>\n",
       "      <td>0.369005</td>\n",
       "      <td>1.90927</td>\n",
       "      <td>0.117688</td>\n",
       "    </tr>\n",
       "    <tr>\n",
       "      <th>TCGA-56-7731-11</th>\n",
       "      <td>0</td>\n",
       "      <td>-0.888992</td>\n",
       "      <td>4.22947</td>\n",
       "      <td>-0.531035</td>\n",
       "      <td>0.162228</td>\n",
       "      <td>0.344522</td>\n",
       "      <td>0.42709</td>\n",
       "      <td>-0.910394</td>\n",
       "      <td>0.194154</td>\n",
       "      <td>0.468401</td>\n",
       "      <td>...</td>\n",
       "      <td>-0.748878</td>\n",
       "      <td>-0.396017</td>\n",
       "      <td>2.03047</td>\n",
       "      <td>-1.28139</td>\n",
       "      <td>-0.790077</td>\n",
       "      <td>2.46851</td>\n",
       "      <td>2.66797</td>\n",
       "      <td>-0.264695</td>\n",
       "      <td>3.93087</td>\n",
       "      <td>0.842588</td>\n",
       "    </tr>\n",
       "  </tbody>\n",
       "</table>\n",
       "<p>1129 rows × 20259 columns</p>\n",
       "</div>"
      ],
      "text/plain": [
       "                 label ARHGEF10L      HIF3A     RNF17       RNF10      RNF11  \\\n",
       "TCGA-69-7978-01      1  0.125808   -1.29493 -0.112935    -1.41187   0.203922   \n",
       "TCGA-62-8399-01      1  0.561708    6.06917 -0.531035   -0.228672  0.0521219   \n",
       "TCGA-78-7539-01      1 -0.237592    3.58147  0.592065   -0.108372  -0.499978   \n",
       "TCGA-50-5931-11      1  -1.18049    3.92767  0.291065   -0.043472   0.710822   \n",
       "TCGA-73-4658-01      1 -0.656192  -0.525926 -0.531035   -0.156672   0.373522   \n",
       "...                ...       ...        ...       ...         ...        ...   \n",
       "TCGA-85-A512-01      0  -1.28699   -1.86343 -0.531035    0.020328  -0.560978   \n",
       "TCGA-85-8354-01      0  -1.84779   -1.29733 -0.531035   -0.280072  -0.560278   \n",
       "TCGA-O2-A5IB-01      0  0.568508  0.0259737  0.084865 -0.00937199  -0.136278   \n",
       "TCGA-77-7335-01      0 -0.849892   -2.41413  0.192865    0.197228   0.443922   \n",
       "TCGA-56-7731-11      0 -0.888992    4.22947 -0.531035    0.162228   0.344522   \n",
       "\n",
       "                     RNF13    GTF2IP1      REM1      MTVR2  ...     TULP2  \\\n",
       "TCGA-69-7978-01  0.0993901  -0.222094  0.504354  -0.423399  ...   1.13472   \n",
       "TCGA-62-8399-01   -1.20601  -0.338894   1.44985  0.0394006  ... -0.286078   \n",
       "TCGA-78-7539-01 -0.0254099   0.163006  0.131654 -0.0508994  ...   2.20992   \n",
       "TCGA-50-5931-11    1.05089  -0.564394   1.68395   0.398701  ... -0.748878   \n",
       "TCGA-73-4658-01    0.44729  -0.438994   1.83155  -0.423399  ... -0.748878   \n",
       "...                    ...        ...       ...        ...  ...       ...   \n",
       "TCGA-85-A512-01    0.51729   0.519806 -0.748146  -0.423399  ... -0.748878   \n",
       "TCGA-85-8354-01    0.85009  -0.166294  -1.51925   0.602101  ...  0.276622   \n",
       "TCGA-O2-A5IB-01   -1.41811   0.173506  -2.19405   0.622701  ... -0.408378   \n",
       "TCGA-77-7335-01    0.54789  0.0844055   1.01505  -0.423399  ... -0.748878   \n",
       "TCGA-56-7731-11    0.42709  -0.910394  0.194154   0.468401  ... -0.748878   \n",
       "\n",
       "                    NPY5R      GNGT2      GNGT1      TULP3      PTRF  \\\n",
       "TCGA-69-7978-01 -0.845117    1.76017   -1.28139   0.224623  0.863614   \n",
       "TCGA-62-8399-01 -0.055517 -0.0282335  0.0480102   0.295223  0.317114   \n",
       "TCGA-78-7539-01  -1.58712    1.56537    2.63871  0.0491232  -1.24309   \n",
       "TCGA-50-5931-11  0.900483    1.90357   -1.28139  -0.549277   2.80271   \n",
       "TCGA-73-4658-01 -0.931417    1.91517   -0.17659  0.0423232   1.11071   \n",
       "...                   ...        ...        ...        ...       ...   \n",
       "TCGA-85-A512-01  -1.58712  -0.236033    1.41071    1.65372  0.434414   \n",
       "TCGA-85-8354-01  -1.58712  -0.784133    1.46201   0.765023   1.24691   \n",
       "TCGA-O2-A5IB-01  -1.24662   -1.94053   -1.28139    1.28172  -2.42559   \n",
       "TCGA-77-7335-01  -1.58712    2.16037    1.19391   0.197023   1.55011   \n",
       "TCGA-56-7731-11 -0.396017    2.03047   -1.28139  -0.790077   2.46851   \n",
       "\n",
       "                     BCL6B      GSTK1      SELP      SELS  \n",
       "TCGA-69-7978-01   0.802173   0.108205  0.595367 -0.222712  \n",
       "TCGA-62-8399-01    1.07907  -0.782695   3.11427 -0.388912  \n",
       "TCGA-78-7539-01   -1.28323  0.0341054  0.571467  0.233588  \n",
       "TCGA-50-5931-11    2.25047  -0.540795   3.98597  0.370988  \n",
       "TCGA-73-4658-01    1.51397  -0.454095   2.89317  0.193788  \n",
       "...                    ...        ...       ...       ...  \n",
       "TCGA-85-A512-01  -0.491427   0.318305  -1.01143  0.392288  \n",
       "TCGA-85-8354-01 -0.0700266  -0.620695  -1.39033  0.918888  \n",
       "TCGA-O2-A5IB-01  -0.734427   -1.92679  -2.12163 -0.637412  \n",
       "TCGA-77-7335-01   0.294773   0.369005   1.90927  0.117688  \n",
       "TCGA-56-7731-11    2.66797  -0.264695   3.93087  0.842588  \n",
       "\n",
       "[1129 rows x 20259 columns]"
      ]
     },
     "metadata": {},
     "output_type": "display_data"
    },
    {
     "data": {
      "text/html": [
       "Data preprocessing done. Returning processed dataframe as 'df_final', sample labels as 'labels', gene names as 'columns'."
      ],
      "text/plain": [
       "<IPython.core.display.HTML object>"
      ]
     },
     "metadata": {},
     "output_type": "display_data"
    },
    {
     "data": {
      "text/html": [
       "Done."
      ],
      "text/plain": [
       "<IPython.core.display.HTML object>"
      ]
     },
     "metadata": {},
     "output_type": "display_data"
    }
   ],
   "source": [
    "df, labels, columns = u.dataset_preprocess(df_luad, df_lusu)"
   ]
  },
  {
   "cell_type": "code",
   "execution_count": 14,
   "metadata": {},
   "outputs": [],
   "source": [
    "# df_random_picked_genes = df.iloc[:, ls_random_genes_150]\n",
    "# plt.figure(figsize=(20,10))\n",
    "# sea.boxplot(data=df_random_picked_genes)\n",
    "# plt.xlabel('Features (Genes)', fontsize='xx-large')\n",
    "# plt.tick_params(\n",
    "#     axis='x',          # changes apply to the x-axis\n",
    "#     which='both',      # both major and minor ticks are affected\n",
    "#     bottom=False,      # ticks along the bottom edge are off\n",
    "#     top=False,         # ticks along the top edge are off\n",
    "#     labelbottom=False) # labels along the bottom edge are off\n",
    "# # plt.yticks([-10, -5, 0, 5, 10, 15, 20], fontsize='xx-large')\n",
    "# plt.title('Boxplot of 150 randomly picked features in primary dataset', fontsize='xx-large')\n",
    "# plt.savefig(PATH+\"dataframe_unprocessed_boxplot_sea\", dpi=100, bbox_inches='tight')\n",
    "# plt.show()"
   ]
  },
  {
   "cell_type": "code",
   "execution_count": null,
   "metadata": {
    "scrolled": false
   },
   "outputs": [],
   "source": []
  },
  {
   "cell_type": "code",
   "execution_count": 15,
   "metadata": {},
   "outputs": [],
   "source": [
    "# plt.figure(figsize=(20,10))\n",
    "# plt.boxplot(x=temp_df, showfliers=False)\n",
    "# plt.xlabel('Features (Genes)', fontsize='xx-large')\n",
    "# plt.xticks(fontsize='xx-large')\n",
    "# plt.yticks([-10, -5, 0, 5, 10, 15, 20], fontsize='xx-large')\n",
    "# plt.title('Boxplot of feature values of primary dataset', fontsize='xx-large')\n",
    "# plt.savefig(PATH+\"dataframe_unprocessed_boxplot\", dpi=300, bbox_inches='tight')\n",
    "# plt.show()"
   ]
  },
  {
   "cell_type": "code",
   "execution_count": 16,
   "metadata": {},
   "outputs": [],
   "source": [
    "# ## compute outliers for each column\n",
    "\n",
    "\n",
    "# Q1 = np.percentile(df, 25) \n",
    "# Q2 = np.percentile(df, 50) \n",
    "# Q3 = np.percentile(df, 75) \n",
    "  \n",
    "# print('Q1 25 percentile of the given data is, ', Q1)\n",
    "# print('Q1 50 percentile of the given data is, ', Q2)\n",
    "# print('Q1 75 percentile of the given data is, ', Q3)\n",
    "  \n",
    "# IQR = Q3 - Q1 \n",
    "# print('Interquartile range is', IQR)"
   ]
  },
  {
   "cell_type": "code",
   "execution_count": 17,
   "metadata": {},
   "outputs": [],
   "source": [
    "# pd.set_option('display.max_columns', None)\n",
    "# pd.set_option('display.max_rows', None)"
   ]
  },
  {
   "cell_type": "code",
   "execution_count": null,
   "metadata": {},
   "outputs": [],
   "source": []
  },
  {
   "cell_type": "code",
   "execution_count": 18,
   "metadata": {
    "scrolled": true
   },
   "outputs": [],
   "source": [
    "# ((df < (Q1 - 1.5 * IQR)) | (df > (Q3 + 1.5 * IQR))).any()"
   ]
  },
  {
   "cell_type": "code",
   "execution_count": null,
   "metadata": {},
   "outputs": [],
   "source": []
  },
  {
   "cell_type": "code",
   "execution_count": null,
   "metadata": {},
   "outputs": [],
   "source": []
  },
  {
   "cell_type": "code",
   "execution_count": null,
   "metadata": {},
   "outputs": [],
   "source": []
  },
  {
   "cell_type": "code",
   "execution_count": null,
   "metadata": {},
   "outputs": [],
   "source": []
  },
  {
   "cell_type": "code",
   "execution_count": null,
   "metadata": {},
   "outputs": [],
   "source": []
  },
  {
   "cell_type": "code",
   "execution_count": null,
   "metadata": {},
   "outputs": [],
   "source": []
  },
  {
   "cell_type": "code",
   "execution_count": null,
   "metadata": {},
   "outputs": [],
   "source": []
  },
  {
   "cell_type": "code",
   "execution_count": null,
   "metadata": {},
   "outputs": [],
   "source": []
  },
  {
   "cell_type": "code",
   "execution_count": null,
   "metadata": {},
   "outputs": [],
   "source": []
  },
  {
   "cell_type": "code",
   "execution_count": null,
   "metadata": {},
   "outputs": [],
   "source": []
  },
  {
   "cell_type": "code",
   "execution_count": null,
   "metadata": {},
   "outputs": [],
   "source": []
  },
  {
   "cell_type": "code",
   "execution_count": null,
   "metadata": {},
   "outputs": [],
   "source": []
  },
  {
   "cell_type": "code",
   "execution_count": null,
   "metadata": {},
   "outputs": [],
   "source": []
  },
  {
   "cell_type": "code",
   "execution_count": null,
   "metadata": {},
   "outputs": [],
   "source": []
  },
  {
   "cell_type": "code",
   "execution_count": null,
   "metadata": {},
   "outputs": [],
   "source": []
  },
  {
   "cell_type": "markdown",
   "metadata": {},
   "source": [
    "# Train_Test_Split"
   ]
  },
  {
   "cell_type": "code",
   "execution_count": 19,
   "metadata": {},
   "outputs": [],
   "source": [
    "df_xtrain, df_xtest, df_ytrain, df_ytest = train_test_split(df, labels, train_size=0.9, random_state=seed, stratify=labels)"
   ]
  },
  {
   "cell_type": "code",
   "execution_count": 20,
   "metadata": {},
   "outputs": [],
   "source": [
    "df = df_xtrain.copy(deep=True)\n",
    "labels = df_ytrain\n",
    "df.reset_index(inplace=True, drop=True)\n",
    "df_xtest.reset_index(inplace=True, drop=True)"
   ]
  },
  {
   "cell_type": "markdown",
   "metadata": {
    "id": "HRx3gk4rkmf0"
   },
   "source": [
    "# Dataset standardisation"
   ]
  },
  {
   "cell_type": "code",
   "execution_count": 21,
   "metadata": {
    "id": "czGOVMFIlO2C"
   },
   "outputs": [],
   "source": [
    "# create StandardScaler object and normalise the dataset\n",
    "\n",
    "scaler_df = StandardScaler()"
   ]
  },
  {
   "cell_type": "code",
   "execution_count": 22,
   "metadata": {
    "colab": {
     "base_uri": "https://localhost:8080/"
    },
    "id": "g8f8-m3Blllb",
    "outputId": "730d97e6-9c82-4cec-da0f-82d45c41abe2"
   },
   "outputs": [],
   "source": [
    "# scale/normalise and transform the both xtraina and xtest using StandardScaler. \n",
    "# Note that this will convert the dataframes to np.ndarray, and that is what we want\n",
    "\n",
    "df_scaled = scaler_df.fit_transform(df)"
   ]
  },
  {
   "cell_type": "code",
   "execution_count": 23,
   "metadata": {},
   "outputs": [
    {
     "data": {
      "text/plain": [
       "array([[ 0.60194351, -0.51260303,  0.16783496, ...,  1.0775639 ,\n",
       "         0.37239114,  0.20205473],\n",
       "       [-1.63751552, -1.66562737, -0.76943149, ..., -1.20409613,\n",
       "        -0.11554825,  0.31835016],\n",
       "       [-1.13516482,  1.01585638,  0.19219028, ..., -0.63017313,\n",
       "        -1.97439867, -0.94626889],\n",
       "       ...,\n",
       "       [ 1.15899041,  1.03072796, -0.08858526, ...,  1.35928268,\n",
       "         0.8652834 ,  0.20261745],\n",
       "       [-0.1418535 , -1.46463312,  1.18349798, ..., -0.3998021 ,\n",
       "         0.328795  ,  1.47023767],\n",
       "       [-1.41849346, -1.59425204, -0.76943149, ..., -0.40828296,\n",
       "        -2.00014271,  0.77659169]])"
      ]
     },
     "execution_count": 23,
     "metadata": {},
     "output_type": "execute_result"
    }
   ],
   "source": [
    "df_scaled"
   ]
  },
  {
   "cell_type": "markdown",
   "metadata": {
    "id": "bAmGnqGsuFU3"
   },
   "source": [
    "---\n",
    "\n",
    "---\n",
    "\n",
    "\n",
    "\n",
    "---\n",
    "\n"
   ]
  },
  {
   "cell_type": "markdown",
   "metadata": {
    "id": "0vjye_qAgEAQ"
   },
   "source": [
    "# Hyperparameters, Datasets and DataLoaders"
   ]
  },
  {
   "cell_type": "markdown",
   "metadata": {
    "id": "oRUpGiQmgEAQ"
   },
   "source": [
    "\n",
    "1. Create and assign values to each hyperparameters\n",
    "2. Create train_dataset object of LUNG_GeneExp class\n",
    "3. Create train_dataloader for train_dataset \n",
    "4. Iterate through one sample of item from train_dataset and see if everything is working fine.\n",
    "\n",
    "https://pytorch.org/tutorials/beginner/basics/data_tutorial.html"
   ]
  },
  {
   "cell_type": "code",
   "execution_count": 24,
   "metadata": {
    "id": "-VA07268gEAQ"
   },
   "outputs": [],
   "source": [
    "input_dim = df.shape[1]\n",
    "epochs = 150\n",
    "batch_size = 64\n",
    "learning_rate = 1e-4\n",
    "output_dim = 512"
   ]
  },
  {
   "cell_type": "code",
   "execution_count": 25,
   "metadata": {
    "id": "KlxOu-qJgEAQ"
   },
   "outputs": [],
   "source": [
    "train_dataset = c.LUNG_GeneExp(labels, df_scaled)"
   ]
  },
  {
   "cell_type": "code",
   "execution_count": 26,
   "metadata": {
    "id": "B0oGsbq_gEAQ"
   },
   "outputs": [],
   "source": [
    "train_loader = DataLoader(train_dataset, batch_size, shuffle=True)"
   ]
  },
  {
   "cell_type": "markdown",
   "metadata": {
    "id": "nOGLh2zugEAR"
   },
   "source": [
    "# Training and Plotting"
   ]
  },
  {
   "cell_type": "markdown",
   "metadata": {
    "id": "5GVK4yyCgEAR"
   },
   "source": [
    "1. Train autoencoder\n",
    "2. Plot loss graph"
   ]
  },
  {
   "cell_type": "code",
   "execution_count": 27,
   "metadata": {
    "id": "aeLp8ci1gEAR"
   },
   "outputs": [],
   "source": [
    "u.set_all_seeds(seed)\n",
    "model = c.AutoEncoder(input_dim, output_dim)\n",
    "model.to(device)\n",
    "optimizer = torch.optim.AdamW(model.parameters(), lr=learning_rate, betas=(0.9, 0.999), weight_decay=0.001, amsgrad=False)"
   ]
  },
  {
   "cell_type": "code",
   "execution_count": 28,
   "metadata": {
    "colab": {
     "base_uri": "https://localhost:8080/"
    },
    "id": "GH-7sl2AgEAS",
    "outputId": "4f8f6283-40c2-4d20-a0ff-3d683e0b0aef",
    "scrolled": false
   },
   "outputs": [
    {
     "data": {
      "application/vnd.jupyter.widget-view+json": {
       "model_id": "195506a4bcad4960bef15f9d7f63bd7d",
       "version_major": 2,
       "version_minor": 0
      },
      "text/plain": [
       "  0%|          | 0/16 [00:00<?, ?it/s]"
      ]
     },
     "metadata": {},
     "output_type": "display_data"
    },
    {
     "name": "stdout",
     "output_type": "stream",
     "text": [
      "Epoch: 001/150 | Batch 0000/0016 | Loss: 1.1733\n"
     ]
    },
    {
     "data": {
      "application/vnd.jupyter.widget-view+json": {
       "model_id": "642cd84afa5d43e6b52212fbb7636667",
       "version_major": 2,
       "version_minor": 0
      },
      "text/plain": [
       "  0%|          | 0/16 [00:00<?, ?it/s]"
      ]
     },
     "metadata": {},
     "output_type": "display_data"
    },
    {
     "name": "stdout",
     "output_type": "stream",
     "text": [
      "Epoch: 002/150 | Batch 0000/0016 | Loss: 0.6708\n"
     ]
    },
    {
     "data": {
      "application/vnd.jupyter.widget-view+json": {
       "model_id": "e88f60540c83420e9abf1f374758f8c6",
       "version_major": 2,
       "version_minor": 0
      },
      "text/plain": [
       "  0%|          | 0/16 [00:00<?, ?it/s]"
      ]
     },
     "metadata": {},
     "output_type": "display_data"
    },
    {
     "name": "stdout",
     "output_type": "stream",
     "text": [
      "Epoch: 003/150 | Batch 0000/0016 | Loss: 0.6128\n"
     ]
    },
    {
     "data": {
      "application/vnd.jupyter.widget-view+json": {
       "model_id": "654e299f615946cfa9373230c89918f9",
       "version_major": 2,
       "version_minor": 0
      },
      "text/plain": [
       "  0%|          | 0/16 [00:00<?, ?it/s]"
      ]
     },
     "metadata": {},
     "output_type": "display_data"
    },
    {
     "name": "stdout",
     "output_type": "stream",
     "text": [
      "Epoch: 004/150 | Batch 0000/0016 | Loss: 0.5777\n"
     ]
    },
    {
     "data": {
      "application/vnd.jupyter.widget-view+json": {
       "model_id": "cb0eb4b0be7041caab8c9d2c42dbc424",
       "version_major": 2,
       "version_minor": 0
      },
      "text/plain": [
       "  0%|          | 0/16 [00:00<?, ?it/s]"
      ]
     },
     "metadata": {},
     "output_type": "display_data"
    },
    {
     "name": "stdout",
     "output_type": "stream",
     "text": [
      "Epoch: 005/150 | Batch 0000/0016 | Loss: 0.5574\n"
     ]
    },
    {
     "data": {
      "application/vnd.jupyter.widget-view+json": {
       "model_id": "dd265134f5874276878c34e497b671eb",
       "version_major": 2,
       "version_minor": 0
      },
      "text/plain": [
       "  0%|          | 0/16 [00:00<?, ?it/s]"
      ]
     },
     "metadata": {},
     "output_type": "display_data"
    },
    {
     "name": "stdout",
     "output_type": "stream",
     "text": [
      "Epoch: 006/150 | Batch 0000/0016 | Loss: 0.7460\n"
     ]
    },
    {
     "data": {
      "application/vnd.jupyter.widget-view+json": {
       "model_id": "3135ae8f894e41d0b33377232e8a3c01",
       "version_major": 2,
       "version_minor": 0
      },
      "text/plain": [
       "  0%|          | 0/16 [00:00<?, ?it/s]"
      ]
     },
     "metadata": {},
     "output_type": "display_data"
    },
    {
     "name": "stdout",
     "output_type": "stream",
     "text": [
      "Epoch: 007/150 | Batch 0000/0016 | Loss: 0.4815\n"
     ]
    },
    {
     "data": {
      "application/vnd.jupyter.widget-view+json": {
       "model_id": "894f03a192ae431397566b6515010a56",
       "version_major": 2,
       "version_minor": 0
      },
      "text/plain": [
       "  0%|          | 0/16 [00:00<?, ?it/s]"
      ]
     },
     "metadata": {},
     "output_type": "display_data"
    },
    {
     "name": "stdout",
     "output_type": "stream",
     "text": [
      "Epoch: 008/150 | Batch 0000/0016 | Loss: 0.5898\n"
     ]
    },
    {
     "data": {
      "application/vnd.jupyter.widget-view+json": {
       "model_id": "ceaa1f5adacc45d9bffe4813195fdeab",
       "version_major": 2,
       "version_minor": 0
      },
      "text/plain": [
       "  0%|          | 0/16 [00:00<?, ?it/s]"
      ]
     },
     "metadata": {},
     "output_type": "display_data"
    },
    {
     "name": "stdout",
     "output_type": "stream",
     "text": [
      "Epoch: 009/150 | Batch 0000/0016 | Loss: 0.6108\n"
     ]
    },
    {
     "data": {
      "application/vnd.jupyter.widget-view+json": {
       "model_id": "f918e81f7e0e4beba4cb4418d83d50ea",
       "version_major": 2,
       "version_minor": 0
      },
      "text/plain": [
       "  0%|          | 0/16 [00:00<?, ?it/s]"
      ]
     },
     "metadata": {},
     "output_type": "display_data"
    },
    {
     "name": "stdout",
     "output_type": "stream",
     "text": [
      "Epoch: 010/150 | Batch 0000/0016 | Loss: 0.4079\n"
     ]
    },
    {
     "data": {
      "application/vnd.jupyter.widget-view+json": {
       "model_id": "fd8dbaf809b847a19e886eeb13db7a35",
       "version_major": 2,
       "version_minor": 0
      },
      "text/plain": [
       "  0%|          | 0/16 [00:00<?, ?it/s]"
      ]
     },
     "metadata": {},
     "output_type": "display_data"
    },
    {
     "name": "stdout",
     "output_type": "stream",
     "text": [
      "Epoch: 011/150 | Batch 0000/0016 | Loss: 0.4072\n"
     ]
    },
    {
     "data": {
      "application/vnd.jupyter.widget-view+json": {
       "model_id": "d15b91ffa5a14c57aae2fd854362a29b",
       "version_major": 2,
       "version_minor": 0
      },
      "text/plain": [
       "  0%|          | 0/16 [00:00<?, ?it/s]"
      ]
     },
     "metadata": {},
     "output_type": "display_data"
    },
    {
     "name": "stdout",
     "output_type": "stream",
     "text": [
      "Epoch: 012/150 | Batch 0000/0016 | Loss: 0.4583\n"
     ]
    },
    {
     "data": {
      "application/vnd.jupyter.widget-view+json": {
       "model_id": "6a61280e10d8447994dfca83fa306526",
       "version_major": 2,
       "version_minor": 0
      },
      "text/plain": [
       "  0%|          | 0/16 [00:00<?, ?it/s]"
      ]
     },
     "metadata": {},
     "output_type": "display_data"
    },
    {
     "name": "stdout",
     "output_type": "stream",
     "text": [
      "Epoch: 013/150 | Batch 0000/0016 | Loss: 0.3876\n"
     ]
    },
    {
     "data": {
      "application/vnd.jupyter.widget-view+json": {
       "model_id": "c8d44024453c4969a0dc258529ef81f2",
       "version_major": 2,
       "version_minor": 0
      },
      "text/plain": [
       "  0%|          | 0/16 [00:00<?, ?it/s]"
      ]
     },
     "metadata": {},
     "output_type": "display_data"
    },
    {
     "name": "stdout",
     "output_type": "stream",
     "text": [
      "Epoch: 014/150 | Batch 0000/0016 | Loss: 0.3977\n"
     ]
    },
    {
     "data": {
      "application/vnd.jupyter.widget-view+json": {
       "model_id": "b44c6c3641b24e70b4d8ceff57d83bc8",
       "version_major": 2,
       "version_minor": 0
      },
      "text/plain": [
       "  0%|          | 0/16 [00:00<?, ?it/s]"
      ]
     },
     "metadata": {},
     "output_type": "display_data"
    },
    {
     "name": "stdout",
     "output_type": "stream",
     "text": [
      "Epoch: 015/150 | Batch 0000/0016 | Loss: 0.3512\n"
     ]
    },
    {
     "data": {
      "application/vnd.jupyter.widget-view+json": {
       "model_id": "71a7e74174f94b158450bad90e74334b",
       "version_major": 2,
       "version_minor": 0
      },
      "text/plain": [
       "  0%|          | 0/16 [00:00<?, ?it/s]"
      ]
     },
     "metadata": {},
     "output_type": "display_data"
    },
    {
     "name": "stdout",
     "output_type": "stream",
     "text": [
      "Epoch: 016/150 | Batch 0000/0016 | Loss: 0.3597\n"
     ]
    },
    {
     "data": {
      "application/vnd.jupyter.widget-view+json": {
       "model_id": "db01921aa025479e9b616451e739ca19",
       "version_major": 2,
       "version_minor": 0
      },
      "text/plain": [
       "  0%|          | 0/16 [00:00<?, ?it/s]"
      ]
     },
     "metadata": {},
     "output_type": "display_data"
    },
    {
     "name": "stdout",
     "output_type": "stream",
     "text": [
      "Epoch: 017/150 | Batch 0000/0016 | Loss: 0.3582\n"
     ]
    },
    {
     "data": {
      "application/vnd.jupyter.widget-view+json": {
       "model_id": "57a979a758fc4e31939572af48105e5a",
       "version_major": 2,
       "version_minor": 0
      },
      "text/plain": [
       "  0%|          | 0/16 [00:00<?, ?it/s]"
      ]
     },
     "metadata": {},
     "output_type": "display_data"
    },
    {
     "name": "stdout",
     "output_type": "stream",
     "text": [
      "Epoch: 018/150 | Batch 0000/0016 | Loss: 0.3436\n"
     ]
    },
    {
     "data": {
      "application/vnd.jupyter.widget-view+json": {
       "model_id": "6261d6cc54f54e1f968ec27045ceed90",
       "version_major": 2,
       "version_minor": 0
      },
      "text/plain": [
       "  0%|          | 0/16 [00:00<?, ?it/s]"
      ]
     },
     "metadata": {},
     "output_type": "display_data"
    },
    {
     "name": "stdout",
     "output_type": "stream",
     "text": [
      "Epoch: 019/150 | Batch 0000/0016 | Loss: 0.3237\n"
     ]
    },
    {
     "data": {
      "application/vnd.jupyter.widget-view+json": {
       "model_id": "272f9bde040046668c1e360033f56289",
       "version_major": 2,
       "version_minor": 0
      },
      "text/plain": [
       "  0%|          | 0/16 [00:00<?, ?it/s]"
      ]
     },
     "metadata": {},
     "output_type": "display_data"
    },
    {
     "name": "stdout",
     "output_type": "stream",
     "text": [
      "Epoch: 020/150 | Batch 0000/0016 | Loss: 0.3125\n"
     ]
    },
    {
     "data": {
      "application/vnd.jupyter.widget-view+json": {
       "model_id": "af352603154f47fbb2a018cbde352718",
       "version_major": 2,
       "version_minor": 0
      },
      "text/plain": [
       "  0%|          | 0/16 [00:00<?, ?it/s]"
      ]
     },
     "metadata": {},
     "output_type": "display_data"
    },
    {
     "name": "stdout",
     "output_type": "stream",
     "text": [
      "Epoch: 021/150 | Batch 0000/0016 | Loss: 0.3193\n"
     ]
    },
    {
     "data": {
      "application/vnd.jupyter.widget-view+json": {
       "model_id": "7fcb4511a6af45cdb533a3ca75287495",
       "version_major": 2,
       "version_minor": 0
      },
      "text/plain": [
       "  0%|          | 0/16 [00:00<?, ?it/s]"
      ]
     },
     "metadata": {},
     "output_type": "display_data"
    },
    {
     "name": "stdout",
     "output_type": "stream",
     "text": [
      "Epoch: 022/150 | Batch 0000/0016 | Loss: 0.2878\n"
     ]
    },
    {
     "data": {
      "application/vnd.jupyter.widget-view+json": {
       "model_id": "55117c26770443bb86f8efd5228ced62",
       "version_major": 2,
       "version_minor": 0
      },
      "text/plain": [
       "  0%|          | 0/16 [00:00<?, ?it/s]"
      ]
     },
     "metadata": {},
     "output_type": "display_data"
    },
    {
     "name": "stdout",
     "output_type": "stream",
     "text": [
      "Epoch: 023/150 | Batch 0000/0016 | Loss: 0.3334\n"
     ]
    },
    {
     "data": {
      "application/vnd.jupyter.widget-view+json": {
       "model_id": "1b1559825f414846b9d2e572a915648e",
       "version_major": 2,
       "version_minor": 0
      },
      "text/plain": [
       "  0%|          | 0/16 [00:00<?, ?it/s]"
      ]
     },
     "metadata": {},
     "output_type": "display_data"
    },
    {
     "name": "stdout",
     "output_type": "stream",
     "text": [
      "Epoch: 024/150 | Batch 0000/0016 | Loss: 0.2759\n"
     ]
    },
    {
     "data": {
      "application/vnd.jupyter.widget-view+json": {
       "model_id": "38656065fa114a81bf08d89e8b577249",
       "version_major": 2,
       "version_minor": 0
      },
      "text/plain": [
       "  0%|          | 0/16 [00:00<?, ?it/s]"
      ]
     },
     "metadata": {},
     "output_type": "display_data"
    },
    {
     "name": "stdout",
     "output_type": "stream",
     "text": [
      "Epoch: 025/150 | Batch 0000/0016 | Loss: 0.2696\n"
     ]
    },
    {
     "data": {
      "application/vnd.jupyter.widget-view+json": {
       "model_id": "9d3772980251459d83c1c826a10388ff",
       "version_major": 2,
       "version_minor": 0
      },
      "text/plain": [
       "  0%|          | 0/16 [00:00<?, ?it/s]"
      ]
     },
     "metadata": {},
     "output_type": "display_data"
    },
    {
     "name": "stdout",
     "output_type": "stream",
     "text": [
      "Epoch: 026/150 | Batch 0000/0016 | Loss: 0.2540\n"
     ]
    },
    {
     "data": {
      "application/vnd.jupyter.widget-view+json": {
       "model_id": "3f13cf749eb74454970060b3d5855fbb",
       "version_major": 2,
       "version_minor": 0
      },
      "text/plain": [
       "  0%|          | 0/16 [00:00<?, ?it/s]"
      ]
     },
     "metadata": {},
     "output_type": "display_data"
    },
    {
     "name": "stdout",
     "output_type": "stream",
     "text": [
      "Epoch: 027/150 | Batch 0000/0016 | Loss: 0.2711\n"
     ]
    },
    {
     "data": {
      "application/vnd.jupyter.widget-view+json": {
       "model_id": "dde3f018ea3343f480ed1cfbc04d9987",
       "version_major": 2,
       "version_minor": 0
      },
      "text/plain": [
       "  0%|          | 0/16 [00:00<?, ?it/s]"
      ]
     },
     "metadata": {},
     "output_type": "display_data"
    },
    {
     "name": "stdout",
     "output_type": "stream",
     "text": [
      "Epoch: 028/150 | Batch 0000/0016 | Loss: 0.2569\n"
     ]
    },
    {
     "data": {
      "application/vnd.jupyter.widget-view+json": {
       "model_id": "fb327732586a404ca445df07618a854b",
       "version_major": 2,
       "version_minor": 0
      },
      "text/plain": [
       "  0%|          | 0/16 [00:00<?, ?it/s]"
      ]
     },
     "metadata": {},
     "output_type": "display_data"
    },
    {
     "name": "stdout",
     "output_type": "stream",
     "text": [
      "Epoch: 029/150 | Batch 0000/0016 | Loss: 0.2468\n"
     ]
    },
    {
     "data": {
      "application/vnd.jupyter.widget-view+json": {
       "model_id": "91570d16091d4ed8bd4c42ec73786927",
       "version_major": 2,
       "version_minor": 0
      },
      "text/plain": [
       "  0%|          | 0/16 [00:00<?, ?it/s]"
      ]
     },
     "metadata": {},
     "output_type": "display_data"
    },
    {
     "name": "stdout",
     "output_type": "stream",
     "text": [
      "Epoch: 030/150 | Batch 0000/0016 | Loss: 0.2402\n"
     ]
    },
    {
     "data": {
      "application/vnd.jupyter.widget-view+json": {
       "model_id": "c1556052fb4a4d009c326cda389bfe15",
       "version_major": 2,
       "version_minor": 0
      },
      "text/plain": [
       "  0%|          | 0/16 [00:00<?, ?it/s]"
      ]
     },
     "metadata": {},
     "output_type": "display_data"
    },
    {
     "name": "stdout",
     "output_type": "stream",
     "text": [
      "Epoch: 031/150 | Batch 0000/0016 | Loss: 0.2550\n"
     ]
    },
    {
     "data": {
      "application/vnd.jupyter.widget-view+json": {
       "model_id": "61a7c5d8365042a683b1f2ed82e94c2a",
       "version_major": 2,
       "version_minor": 0
      },
      "text/plain": [
       "  0%|          | 0/16 [00:00<?, ?it/s]"
      ]
     },
     "metadata": {},
     "output_type": "display_data"
    },
    {
     "name": "stdout",
     "output_type": "stream",
     "text": [
      "Epoch: 032/150 | Batch 0000/0016 | Loss: 0.2715\n"
     ]
    },
    {
     "data": {
      "application/vnd.jupyter.widget-view+json": {
       "model_id": "94e0c2c50d064597a304ebdd098ef1ac",
       "version_major": 2,
       "version_minor": 0
      },
      "text/plain": [
       "  0%|          | 0/16 [00:00<?, ?it/s]"
      ]
     },
     "metadata": {},
     "output_type": "display_data"
    },
    {
     "name": "stdout",
     "output_type": "stream",
     "text": [
      "Epoch: 033/150 | Batch 0000/0016 | Loss: 0.2322\n"
     ]
    },
    {
     "data": {
      "application/vnd.jupyter.widget-view+json": {
       "model_id": "9a3e465d55e54bb4a95da3bba59ab414",
       "version_major": 2,
       "version_minor": 0
      },
      "text/plain": [
       "  0%|          | 0/16 [00:00<?, ?it/s]"
      ]
     },
     "metadata": {},
     "output_type": "display_data"
    },
    {
     "name": "stdout",
     "output_type": "stream",
     "text": [
      "Epoch: 034/150 | Batch 0000/0016 | Loss: 0.2065\n"
     ]
    },
    {
     "data": {
      "application/vnd.jupyter.widget-view+json": {
       "model_id": "a5a9f5ae7a5a46ac97e4782f204f4fef",
       "version_major": 2,
       "version_minor": 0
      },
      "text/plain": [
       "  0%|          | 0/16 [00:00<?, ?it/s]"
      ]
     },
     "metadata": {},
     "output_type": "display_data"
    },
    {
     "name": "stdout",
     "output_type": "stream",
     "text": [
      "Epoch: 035/150 | Batch 0000/0016 | Loss: 0.2065\n"
     ]
    },
    {
     "data": {
      "application/vnd.jupyter.widget-view+json": {
       "model_id": "69418741648945589f5c0b103dbc35a3",
       "version_major": 2,
       "version_minor": 0
      },
      "text/plain": [
       "  0%|          | 0/16 [00:00<?, ?it/s]"
      ]
     },
     "metadata": {},
     "output_type": "display_data"
    },
    {
     "name": "stdout",
     "output_type": "stream",
     "text": [
      "Epoch: 036/150 | Batch 0000/0016 | Loss: 0.2076\n"
     ]
    },
    {
     "data": {
      "application/vnd.jupyter.widget-view+json": {
       "model_id": "4c845c8ebb53425e8bcf741ccf65fb32",
       "version_major": 2,
       "version_minor": 0
      },
      "text/plain": [
       "  0%|          | 0/16 [00:00<?, ?it/s]"
      ]
     },
     "metadata": {},
     "output_type": "display_data"
    },
    {
     "name": "stdout",
     "output_type": "stream",
     "text": [
      "Epoch: 037/150 | Batch 0000/0016 | Loss: 0.2035\n"
     ]
    },
    {
     "data": {
      "application/vnd.jupyter.widget-view+json": {
       "model_id": "2ac6400b9ba04395b782316e33fe457a",
       "version_major": 2,
       "version_minor": 0
      },
      "text/plain": [
       "  0%|          | 0/16 [00:00<?, ?it/s]"
      ]
     },
     "metadata": {},
     "output_type": "display_data"
    },
    {
     "name": "stdout",
     "output_type": "stream",
     "text": [
      "Epoch: 038/150 | Batch 0000/0016 | Loss: 0.2138\n"
     ]
    },
    {
     "data": {
      "application/vnd.jupyter.widget-view+json": {
       "model_id": "ce904b86698c4c178392e76b14dd8c99",
       "version_major": 2,
       "version_minor": 0
      },
      "text/plain": [
       "  0%|          | 0/16 [00:00<?, ?it/s]"
      ]
     },
     "metadata": {},
     "output_type": "display_data"
    },
    {
     "name": "stdout",
     "output_type": "stream",
     "text": [
      "Epoch: 039/150 | Batch 0000/0016 | Loss: 0.1892\n"
     ]
    },
    {
     "data": {
      "application/vnd.jupyter.widget-view+json": {
       "model_id": "01802f99fc2f46ba8147a51e7bf121e0",
       "version_major": 2,
       "version_minor": 0
      },
      "text/plain": [
       "  0%|          | 0/16 [00:00<?, ?it/s]"
      ]
     },
     "metadata": {},
     "output_type": "display_data"
    },
    {
     "name": "stdout",
     "output_type": "stream",
     "text": [
      "Epoch: 040/150 | Batch 0000/0016 | Loss: 0.1925\n"
     ]
    },
    {
     "data": {
      "application/vnd.jupyter.widget-view+json": {
       "model_id": "03be3977663c47a3b98269bf87cf5ffb",
       "version_major": 2,
       "version_minor": 0
      },
      "text/plain": [
       "  0%|          | 0/16 [00:00<?, ?it/s]"
      ]
     },
     "metadata": {},
     "output_type": "display_data"
    },
    {
     "name": "stdout",
     "output_type": "stream",
     "text": [
      "Epoch: 041/150 | Batch 0000/0016 | Loss: 0.1966\n"
     ]
    },
    {
     "data": {
      "application/vnd.jupyter.widget-view+json": {
       "model_id": "86af7f015b17450c98c1434d397e2f34",
       "version_major": 2,
       "version_minor": 0
      },
      "text/plain": [
       "  0%|          | 0/16 [00:00<?, ?it/s]"
      ]
     },
     "metadata": {},
     "output_type": "display_data"
    },
    {
     "name": "stdout",
     "output_type": "stream",
     "text": [
      "Epoch: 042/150 | Batch 0000/0016 | Loss: 0.1754\n"
     ]
    },
    {
     "data": {
      "application/vnd.jupyter.widget-view+json": {
       "model_id": "f629b8d9fef2448f9a7de28e98714394",
       "version_major": 2,
       "version_minor": 0
      },
      "text/plain": [
       "  0%|          | 0/16 [00:00<?, ?it/s]"
      ]
     },
     "metadata": {},
     "output_type": "display_data"
    },
    {
     "name": "stdout",
     "output_type": "stream",
     "text": [
      "Epoch: 043/150 | Batch 0000/0016 | Loss: 0.1756\n"
     ]
    },
    {
     "data": {
      "application/vnd.jupyter.widget-view+json": {
       "model_id": "48115b9bd5344e2abafff590bba6dd98",
       "version_major": 2,
       "version_minor": 0
      },
      "text/plain": [
       "  0%|          | 0/16 [00:00<?, ?it/s]"
      ]
     },
     "metadata": {},
     "output_type": "display_data"
    },
    {
     "name": "stdout",
     "output_type": "stream",
     "text": [
      "Epoch: 044/150 | Batch 0000/0016 | Loss: 0.1813\n"
     ]
    },
    {
     "data": {
      "application/vnd.jupyter.widget-view+json": {
       "model_id": "e31ce4f385944107b46e7d4f2b3c8c29",
       "version_major": 2,
       "version_minor": 0
      },
      "text/plain": [
       "  0%|          | 0/16 [00:00<?, ?it/s]"
      ]
     },
     "metadata": {},
     "output_type": "display_data"
    },
    {
     "name": "stdout",
     "output_type": "stream",
     "text": [
      "Epoch: 045/150 | Batch 0000/0016 | Loss: 0.1709\n"
     ]
    },
    {
     "data": {
      "application/vnd.jupyter.widget-view+json": {
       "model_id": "39b7d808bdd347fdb462216013fb6886",
       "version_major": 2,
       "version_minor": 0
      },
      "text/plain": [
       "  0%|          | 0/16 [00:00<?, ?it/s]"
      ]
     },
     "metadata": {},
     "output_type": "display_data"
    },
    {
     "name": "stdout",
     "output_type": "stream",
     "text": [
      "Epoch: 046/150 | Batch 0000/0016 | Loss: 0.1831\n"
     ]
    },
    {
     "data": {
      "application/vnd.jupyter.widget-view+json": {
       "model_id": "733f129adbd1401cbc4d318e9fe30018",
       "version_major": 2,
       "version_minor": 0
      },
      "text/plain": [
       "  0%|          | 0/16 [00:00<?, ?it/s]"
      ]
     },
     "metadata": {},
     "output_type": "display_data"
    },
    {
     "name": "stdout",
     "output_type": "stream",
     "text": [
      "Epoch: 047/150 | Batch 0000/0016 | Loss: 0.1669\n"
     ]
    },
    {
     "data": {
      "application/vnd.jupyter.widget-view+json": {
       "model_id": "974a8aa2ffdf40bca23a9a6afc596d27",
       "version_major": 2,
       "version_minor": 0
      },
      "text/plain": [
       "  0%|          | 0/16 [00:00<?, ?it/s]"
      ]
     },
     "metadata": {},
     "output_type": "display_data"
    },
    {
     "name": "stdout",
     "output_type": "stream",
     "text": [
      "Epoch: 048/150 | Batch 0000/0016 | Loss: 0.1562\n"
     ]
    },
    {
     "data": {
      "application/vnd.jupyter.widget-view+json": {
       "model_id": "1d93e756f6f0407ab0e4a7b83c82c6e7",
       "version_major": 2,
       "version_minor": 0
      },
      "text/plain": [
       "  0%|          | 0/16 [00:00<?, ?it/s]"
      ]
     },
     "metadata": {},
     "output_type": "display_data"
    },
    {
     "name": "stdout",
     "output_type": "stream",
     "text": [
      "Epoch: 049/150 | Batch 0000/0016 | Loss: 0.1563\n"
     ]
    },
    {
     "data": {
      "application/vnd.jupyter.widget-view+json": {
       "model_id": "6f924b1bc7d44186b2ae26c1557d5580",
       "version_major": 2,
       "version_minor": 0
      },
      "text/plain": [
       "  0%|          | 0/16 [00:00<?, ?it/s]"
      ]
     },
     "metadata": {},
     "output_type": "display_data"
    },
    {
     "name": "stdout",
     "output_type": "stream",
     "text": [
      "Epoch: 050/150 | Batch 0000/0016 | Loss: 0.1592\n"
     ]
    },
    {
     "data": {
      "application/vnd.jupyter.widget-view+json": {
       "model_id": "72a261d13ff641d9beb481967fe7c6f6",
       "version_major": 2,
       "version_minor": 0
      },
      "text/plain": [
       "  0%|          | 0/16 [00:00<?, ?it/s]"
      ]
     },
     "metadata": {},
     "output_type": "display_data"
    },
    {
     "name": "stdout",
     "output_type": "stream",
     "text": [
      "Epoch: 051/150 | Batch 0000/0016 | Loss: 0.1492\n"
     ]
    },
    {
     "data": {
      "application/vnd.jupyter.widget-view+json": {
       "model_id": "cdde4fe89d3b48eb85e7adc3084370c1",
       "version_major": 2,
       "version_minor": 0
      },
      "text/plain": [
       "  0%|          | 0/16 [00:00<?, ?it/s]"
      ]
     },
     "metadata": {},
     "output_type": "display_data"
    },
    {
     "name": "stdout",
     "output_type": "stream",
     "text": [
      "Epoch: 052/150 | Batch 0000/0016 | Loss: 0.1401\n"
     ]
    },
    {
     "data": {
      "application/vnd.jupyter.widget-view+json": {
       "model_id": "1e7e189030524cb4ac1de89a7004e18f",
       "version_major": 2,
       "version_minor": 0
      },
      "text/plain": [
       "  0%|          | 0/16 [00:00<?, ?it/s]"
      ]
     },
     "metadata": {},
     "output_type": "display_data"
    },
    {
     "name": "stdout",
     "output_type": "stream",
     "text": [
      "Epoch: 053/150 | Batch 0000/0016 | Loss: 0.1422\n"
     ]
    },
    {
     "data": {
      "application/vnd.jupyter.widget-view+json": {
       "model_id": "a822579b30554b029d2c3e763d492a98",
       "version_major": 2,
       "version_minor": 0
      },
      "text/plain": [
       "  0%|          | 0/16 [00:00<?, ?it/s]"
      ]
     },
     "metadata": {},
     "output_type": "display_data"
    },
    {
     "name": "stdout",
     "output_type": "stream",
     "text": [
      "Epoch: 054/150 | Batch 0000/0016 | Loss: 0.1402\n"
     ]
    },
    {
     "data": {
      "application/vnd.jupyter.widget-view+json": {
       "model_id": "3c9a8b6344bf414d95fdc164e64ddb48",
       "version_major": 2,
       "version_minor": 0
      },
      "text/plain": [
       "  0%|          | 0/16 [00:00<?, ?it/s]"
      ]
     },
     "metadata": {},
     "output_type": "display_data"
    },
    {
     "name": "stdout",
     "output_type": "stream",
     "text": [
      "Epoch: 055/150 | Batch 0000/0016 | Loss: 0.1322\n"
     ]
    },
    {
     "data": {
      "application/vnd.jupyter.widget-view+json": {
       "model_id": "70ef61c8d1f4419086fd651b75b43879",
       "version_major": 2,
       "version_minor": 0
      },
      "text/plain": [
       "  0%|          | 0/16 [00:00<?, ?it/s]"
      ]
     },
     "metadata": {},
     "output_type": "display_data"
    },
    {
     "name": "stdout",
     "output_type": "stream",
     "text": [
      "Epoch: 056/150 | Batch 0000/0016 | Loss: 0.1475\n"
     ]
    },
    {
     "data": {
      "application/vnd.jupyter.widget-view+json": {
       "model_id": "7bf86fe2be7a429c85a86ae2681cb08a",
       "version_major": 2,
       "version_minor": 0
      },
      "text/plain": [
       "  0%|          | 0/16 [00:00<?, ?it/s]"
      ]
     },
     "metadata": {},
     "output_type": "display_data"
    },
    {
     "name": "stdout",
     "output_type": "stream",
     "text": [
      "Epoch: 057/150 | Batch 0000/0016 | Loss: 0.1411\n"
     ]
    },
    {
     "data": {
      "application/vnd.jupyter.widget-view+json": {
       "model_id": "028ee1a382614bd9902c93a59e60647d",
       "version_major": 2,
       "version_minor": 0
      },
      "text/plain": [
       "  0%|          | 0/16 [00:00<?, ?it/s]"
      ]
     },
     "metadata": {},
     "output_type": "display_data"
    },
    {
     "name": "stdout",
     "output_type": "stream",
     "text": [
      "Epoch: 058/150 | Batch 0000/0016 | Loss: 0.1394\n"
     ]
    },
    {
     "data": {
      "application/vnd.jupyter.widget-view+json": {
       "model_id": "086df01a8e3e46668c7a98ce37f721ac",
       "version_major": 2,
       "version_minor": 0
      },
      "text/plain": [
       "  0%|          | 0/16 [00:00<?, ?it/s]"
      ]
     },
     "metadata": {},
     "output_type": "display_data"
    },
    {
     "name": "stdout",
     "output_type": "stream",
     "text": [
      "Epoch: 059/150 | Batch 0000/0016 | Loss: 0.1265\n"
     ]
    },
    {
     "data": {
      "application/vnd.jupyter.widget-view+json": {
       "model_id": "b0ad723611d24503a6f6b69ed4a7e3db",
       "version_major": 2,
       "version_minor": 0
      },
      "text/plain": [
       "  0%|          | 0/16 [00:00<?, ?it/s]"
      ]
     },
     "metadata": {},
     "output_type": "display_data"
    },
    {
     "name": "stdout",
     "output_type": "stream",
     "text": [
      "Epoch: 060/150 | Batch 0000/0016 | Loss: 0.1200\n"
     ]
    },
    {
     "data": {
      "application/vnd.jupyter.widget-view+json": {
       "model_id": "e6b05727cac1477590642a3b67814b77",
       "version_major": 2,
       "version_minor": 0
      },
      "text/plain": [
       "  0%|          | 0/16 [00:00<?, ?it/s]"
      ]
     },
     "metadata": {},
     "output_type": "display_data"
    },
    {
     "name": "stdout",
     "output_type": "stream",
     "text": [
      "Epoch: 061/150 | Batch 0000/0016 | Loss: 0.1183\n"
     ]
    },
    {
     "data": {
      "application/vnd.jupyter.widget-view+json": {
       "model_id": "2dee9586d9dc453fbecfa17d79011c70",
       "version_major": 2,
       "version_minor": 0
      },
      "text/plain": [
       "  0%|          | 0/16 [00:00<?, ?it/s]"
      ]
     },
     "metadata": {},
     "output_type": "display_data"
    },
    {
     "name": "stdout",
     "output_type": "stream",
     "text": [
      "Epoch: 062/150 | Batch 0000/0016 | Loss: 0.1172\n"
     ]
    },
    {
     "data": {
      "application/vnd.jupyter.widget-view+json": {
       "model_id": "36af448a8836461d9b9990105e8ae1fc",
       "version_major": 2,
       "version_minor": 0
      },
      "text/plain": [
       "  0%|          | 0/16 [00:00<?, ?it/s]"
      ]
     },
     "metadata": {},
     "output_type": "display_data"
    },
    {
     "name": "stdout",
     "output_type": "stream",
     "text": [
      "Epoch: 063/150 | Batch 0000/0016 | Loss: 0.1198\n"
     ]
    },
    {
     "data": {
      "application/vnd.jupyter.widget-view+json": {
       "model_id": "dcb1346ae96d4739b98a23376e02f8c3",
       "version_major": 2,
       "version_minor": 0
      },
      "text/plain": [
       "  0%|          | 0/16 [00:00<?, ?it/s]"
      ]
     },
     "metadata": {},
     "output_type": "display_data"
    },
    {
     "name": "stdout",
     "output_type": "stream",
     "text": [
      "Epoch: 064/150 | Batch 0000/0016 | Loss: 0.1130\n"
     ]
    },
    {
     "data": {
      "application/vnd.jupyter.widget-view+json": {
       "model_id": "8bca8770bfb14f39a5d673f4c3e990b3",
       "version_major": 2,
       "version_minor": 0
      },
      "text/plain": [
       "  0%|          | 0/16 [00:00<?, ?it/s]"
      ]
     },
     "metadata": {},
     "output_type": "display_data"
    },
    {
     "name": "stdout",
     "output_type": "stream",
     "text": [
      "Epoch: 065/150 | Batch 0000/0016 | Loss: 0.1091\n"
     ]
    },
    {
     "data": {
      "application/vnd.jupyter.widget-view+json": {
       "model_id": "2d8ba1bbd2c14f46bd0b20e28f960d83",
       "version_major": 2,
       "version_minor": 0
      },
      "text/plain": [
       "  0%|          | 0/16 [00:00<?, ?it/s]"
      ]
     },
     "metadata": {},
     "output_type": "display_data"
    },
    {
     "name": "stdout",
     "output_type": "stream",
     "text": [
      "Epoch: 066/150 | Batch 0000/0016 | Loss: 0.1031\n"
     ]
    },
    {
     "data": {
      "application/vnd.jupyter.widget-view+json": {
       "model_id": "a49768fe6ce949568896fe26735d87c4",
       "version_major": 2,
       "version_minor": 0
      },
      "text/plain": [
       "  0%|          | 0/16 [00:00<?, ?it/s]"
      ]
     },
     "metadata": {},
     "output_type": "display_data"
    },
    {
     "name": "stdout",
     "output_type": "stream",
     "text": [
      "Epoch: 067/150 | Batch 0000/0016 | Loss: 0.1058\n"
     ]
    },
    {
     "data": {
      "application/vnd.jupyter.widget-view+json": {
       "model_id": "f2f59d9bf2c44c788c6f8468d5ab8192",
       "version_major": 2,
       "version_minor": 0
      },
      "text/plain": [
       "  0%|          | 0/16 [00:00<?, ?it/s]"
      ]
     },
     "metadata": {},
     "output_type": "display_data"
    },
    {
     "name": "stdout",
     "output_type": "stream",
     "text": [
      "Epoch: 068/150 | Batch 0000/0016 | Loss: 0.1046\n"
     ]
    },
    {
     "data": {
      "application/vnd.jupyter.widget-view+json": {
       "model_id": "58217000cc3141a7b23487407c6c5065",
       "version_major": 2,
       "version_minor": 0
      },
      "text/plain": [
       "  0%|          | 0/16 [00:00<?, ?it/s]"
      ]
     },
     "metadata": {},
     "output_type": "display_data"
    },
    {
     "name": "stdout",
     "output_type": "stream",
     "text": [
      "Epoch: 069/150 | Batch 0000/0016 | Loss: 0.1066\n"
     ]
    },
    {
     "data": {
      "application/vnd.jupyter.widget-view+json": {
       "model_id": "7e1e757451ef43d4bb789f830b15482f",
       "version_major": 2,
       "version_minor": 0
      },
      "text/plain": [
       "  0%|          | 0/16 [00:00<?, ?it/s]"
      ]
     },
     "metadata": {},
     "output_type": "display_data"
    },
    {
     "name": "stdout",
     "output_type": "stream",
     "text": [
      "Epoch: 070/150 | Batch 0000/0016 | Loss: 0.0978\n"
     ]
    },
    {
     "data": {
      "application/vnd.jupyter.widget-view+json": {
       "model_id": "c812b0808f70479aaf40b45f072a5aba",
       "version_major": 2,
       "version_minor": 0
      },
      "text/plain": [
       "  0%|          | 0/16 [00:00<?, ?it/s]"
      ]
     },
     "metadata": {},
     "output_type": "display_data"
    },
    {
     "name": "stdout",
     "output_type": "stream",
     "text": [
      "Epoch: 071/150 | Batch 0000/0016 | Loss: 0.0976\n"
     ]
    },
    {
     "data": {
      "application/vnd.jupyter.widget-view+json": {
       "model_id": "f7aad192bd29448ea63bb3f9c4a00683",
       "version_major": 2,
       "version_minor": 0
      },
      "text/plain": [
       "  0%|          | 0/16 [00:00<?, ?it/s]"
      ]
     },
     "metadata": {},
     "output_type": "display_data"
    },
    {
     "name": "stdout",
     "output_type": "stream",
     "text": [
      "Epoch: 072/150 | Batch 0000/0016 | Loss: 0.0897\n"
     ]
    },
    {
     "data": {
      "application/vnd.jupyter.widget-view+json": {
       "model_id": "2b92aef186d04c2e9265d836ef24a014",
       "version_major": 2,
       "version_minor": 0
      },
      "text/plain": [
       "  0%|          | 0/16 [00:00<?, ?it/s]"
      ]
     },
     "metadata": {},
     "output_type": "display_data"
    },
    {
     "name": "stdout",
     "output_type": "stream",
     "text": [
      "Epoch: 073/150 | Batch 0000/0016 | Loss: 0.0887\n"
     ]
    },
    {
     "data": {
      "application/vnd.jupyter.widget-view+json": {
       "model_id": "ba53272ce6374f5181377316251f5d49",
       "version_major": 2,
       "version_minor": 0
      },
      "text/plain": [
       "  0%|          | 0/16 [00:00<?, ?it/s]"
      ]
     },
     "metadata": {},
     "output_type": "display_data"
    },
    {
     "name": "stdout",
     "output_type": "stream",
     "text": [
      "Epoch: 074/150 | Batch 0000/0016 | Loss: 0.0859\n"
     ]
    },
    {
     "data": {
      "application/vnd.jupyter.widget-view+json": {
       "model_id": "be8b8d2f2d284a4aad382bcf0ad66913",
       "version_major": 2,
       "version_minor": 0
      },
      "text/plain": [
       "  0%|          | 0/16 [00:00<?, ?it/s]"
      ]
     },
     "metadata": {},
     "output_type": "display_data"
    },
    {
     "name": "stdout",
     "output_type": "stream",
     "text": [
      "Epoch: 075/150 | Batch 0000/0016 | Loss: 0.0833\n"
     ]
    },
    {
     "data": {
      "application/vnd.jupyter.widget-view+json": {
       "model_id": "abb14aa4caa649989695b8d344e17a64",
       "version_major": 2,
       "version_minor": 0
      },
      "text/plain": [
       "  0%|          | 0/16 [00:00<?, ?it/s]"
      ]
     },
     "metadata": {},
     "output_type": "display_data"
    },
    {
     "name": "stdout",
     "output_type": "stream",
     "text": [
      "Epoch: 076/150 | Batch 0000/0016 | Loss: 0.0918\n"
     ]
    },
    {
     "data": {
      "application/vnd.jupyter.widget-view+json": {
       "model_id": "60829c4b66a945c69a7ba151402c10b8",
       "version_major": 2,
       "version_minor": 0
      },
      "text/plain": [
       "  0%|          | 0/16 [00:00<?, ?it/s]"
      ]
     },
     "metadata": {},
     "output_type": "display_data"
    },
    {
     "name": "stdout",
     "output_type": "stream",
     "text": [
      "Epoch: 077/150 | Batch 0000/0016 | Loss: 0.0820\n"
     ]
    },
    {
     "data": {
      "application/vnd.jupyter.widget-view+json": {
       "model_id": "16a39cf9f36442ea87c0862914fa0110",
       "version_major": 2,
       "version_minor": 0
      },
      "text/plain": [
       "  0%|          | 0/16 [00:00<?, ?it/s]"
      ]
     },
     "metadata": {},
     "output_type": "display_data"
    },
    {
     "name": "stdout",
     "output_type": "stream",
     "text": [
      "Epoch: 078/150 | Batch 0000/0016 | Loss: 0.0813\n"
     ]
    },
    {
     "data": {
      "application/vnd.jupyter.widget-view+json": {
       "model_id": "1937e138c815434aafff6a709ed4151f",
       "version_major": 2,
       "version_minor": 0
      },
      "text/plain": [
       "  0%|          | 0/16 [00:00<?, ?it/s]"
      ]
     },
     "metadata": {},
     "output_type": "display_data"
    },
    {
     "name": "stdout",
     "output_type": "stream",
     "text": [
      "Epoch: 079/150 | Batch 0000/0016 | Loss: 0.0897\n"
     ]
    },
    {
     "data": {
      "application/vnd.jupyter.widget-view+json": {
       "model_id": "7054e5a684cc43c7a45412e0d9a4dab3",
       "version_major": 2,
       "version_minor": 0
      },
      "text/plain": [
       "  0%|          | 0/16 [00:00<?, ?it/s]"
      ]
     },
     "metadata": {},
     "output_type": "display_data"
    },
    {
     "name": "stdout",
     "output_type": "stream",
     "text": [
      "Epoch: 080/150 | Batch 0000/0016 | Loss: 0.0836\n"
     ]
    },
    {
     "data": {
      "application/vnd.jupyter.widget-view+json": {
       "model_id": "a6b64d28f3d6433b89015e14bfc14691",
       "version_major": 2,
       "version_minor": 0
      },
      "text/plain": [
       "  0%|          | 0/16 [00:00<?, ?it/s]"
      ]
     },
     "metadata": {},
     "output_type": "display_data"
    },
    {
     "name": "stdout",
     "output_type": "stream",
     "text": [
      "Epoch: 081/150 | Batch 0000/0016 | Loss: 0.0785\n"
     ]
    },
    {
     "data": {
      "application/vnd.jupyter.widget-view+json": {
       "model_id": "a4b7e006babb47e583994e1f24afea42",
       "version_major": 2,
       "version_minor": 0
      },
      "text/plain": [
       "  0%|          | 0/16 [00:00<?, ?it/s]"
      ]
     },
     "metadata": {},
     "output_type": "display_data"
    },
    {
     "name": "stdout",
     "output_type": "stream",
     "text": [
      "Epoch: 082/150 | Batch 0000/0016 | Loss: 0.0746\n"
     ]
    },
    {
     "data": {
      "application/vnd.jupyter.widget-view+json": {
       "model_id": "782fe719e99244ba80d2a8d584c75694",
       "version_major": 2,
       "version_minor": 0
      },
      "text/plain": [
       "  0%|          | 0/16 [00:00<?, ?it/s]"
      ]
     },
     "metadata": {},
     "output_type": "display_data"
    },
    {
     "name": "stdout",
     "output_type": "stream",
     "text": [
      "Epoch: 083/150 | Batch 0000/0016 | Loss: 0.0726\n"
     ]
    },
    {
     "data": {
      "application/vnd.jupyter.widget-view+json": {
       "model_id": "578467c6dc7e45bf9fbc8f506a9694c4",
       "version_major": 2,
       "version_minor": 0
      },
      "text/plain": [
       "  0%|          | 0/16 [00:00<?, ?it/s]"
      ]
     },
     "metadata": {},
     "output_type": "display_data"
    },
    {
     "name": "stdout",
     "output_type": "stream",
     "text": [
      "Epoch: 084/150 | Batch 0000/0016 | Loss: 0.0814\n"
     ]
    },
    {
     "data": {
      "application/vnd.jupyter.widget-view+json": {
       "model_id": "2150e0dff01c4b188a760176bb6a002c",
       "version_major": 2,
       "version_minor": 0
      },
      "text/plain": [
       "  0%|          | 0/16 [00:00<?, ?it/s]"
      ]
     },
     "metadata": {},
     "output_type": "display_data"
    },
    {
     "name": "stdout",
     "output_type": "stream",
     "text": [
      "Epoch: 085/150 | Batch 0000/0016 | Loss: 0.0695\n"
     ]
    },
    {
     "data": {
      "application/vnd.jupyter.widget-view+json": {
       "model_id": "cc3ace4857a143e2b51ebbe97eb3c167",
       "version_major": 2,
       "version_minor": 0
      },
      "text/plain": [
       "  0%|          | 0/16 [00:00<?, ?it/s]"
      ]
     },
     "metadata": {},
     "output_type": "display_data"
    },
    {
     "name": "stdout",
     "output_type": "stream",
     "text": [
      "Epoch: 086/150 | Batch 0000/0016 | Loss: 0.0680\n"
     ]
    },
    {
     "data": {
      "application/vnd.jupyter.widget-view+json": {
       "model_id": "38880334a73948f69e1f082de042e28d",
       "version_major": 2,
       "version_minor": 0
      },
      "text/plain": [
       "  0%|          | 0/16 [00:00<?, ?it/s]"
      ]
     },
     "metadata": {},
     "output_type": "display_data"
    },
    {
     "name": "stdout",
     "output_type": "stream",
     "text": [
      "Epoch: 087/150 | Batch 0000/0016 | Loss: 0.0680\n"
     ]
    },
    {
     "data": {
      "application/vnd.jupyter.widget-view+json": {
       "model_id": "a192f62787d7485498707571672fff09",
       "version_major": 2,
       "version_minor": 0
      },
      "text/plain": [
       "  0%|          | 0/16 [00:00<?, ?it/s]"
      ]
     },
     "metadata": {},
     "output_type": "display_data"
    },
    {
     "name": "stdout",
     "output_type": "stream",
     "text": [
      "Epoch: 088/150 | Batch 0000/0016 | Loss: 0.0653\n"
     ]
    },
    {
     "data": {
      "application/vnd.jupyter.widget-view+json": {
       "model_id": "97528f3f66ea479296a0cdcd52e0c17d",
       "version_major": 2,
       "version_minor": 0
      },
      "text/plain": [
       "  0%|          | 0/16 [00:00<?, ?it/s]"
      ]
     },
     "metadata": {},
     "output_type": "display_data"
    },
    {
     "name": "stdout",
     "output_type": "stream",
     "text": [
      "Epoch: 089/150 | Batch 0000/0016 | Loss: 0.0631\n"
     ]
    },
    {
     "data": {
      "application/vnd.jupyter.widget-view+json": {
       "model_id": "68683cb0e599491888243be85f0c1217",
       "version_major": 2,
       "version_minor": 0
      },
      "text/plain": [
       "  0%|          | 0/16 [00:00<?, ?it/s]"
      ]
     },
     "metadata": {},
     "output_type": "display_data"
    },
    {
     "name": "stdout",
     "output_type": "stream",
     "text": [
      "Epoch: 090/150 | Batch 0000/0016 | Loss: 0.0609\n"
     ]
    },
    {
     "data": {
      "application/vnd.jupyter.widget-view+json": {
       "model_id": "23c523172f3b4d65829ea0e0c770ffe9",
       "version_major": 2,
       "version_minor": 0
      },
      "text/plain": [
       "  0%|          | 0/16 [00:00<?, ?it/s]"
      ]
     },
     "metadata": {},
     "output_type": "display_data"
    },
    {
     "name": "stdout",
     "output_type": "stream",
     "text": [
      "Epoch: 091/150 | Batch 0000/0016 | Loss: 0.0640\n"
     ]
    },
    {
     "data": {
      "application/vnd.jupyter.widget-view+json": {
       "model_id": "c9007688b9934233a72c9db821b950af",
       "version_major": 2,
       "version_minor": 0
      },
      "text/plain": [
       "  0%|          | 0/16 [00:00<?, ?it/s]"
      ]
     },
     "metadata": {},
     "output_type": "display_data"
    },
    {
     "name": "stdout",
     "output_type": "stream",
     "text": [
      "Epoch: 092/150 | Batch 0000/0016 | Loss: 0.0576\n"
     ]
    },
    {
     "data": {
      "application/vnd.jupyter.widget-view+json": {
       "model_id": "78d1359e5964483fb3d4d93f1f4937e2",
       "version_major": 2,
       "version_minor": 0
      },
      "text/plain": [
       "  0%|          | 0/16 [00:00<?, ?it/s]"
      ]
     },
     "metadata": {},
     "output_type": "display_data"
    },
    {
     "name": "stdout",
     "output_type": "stream",
     "text": [
      "Epoch: 093/150 | Batch 0000/0016 | Loss: 0.0564\n"
     ]
    },
    {
     "data": {
      "application/vnd.jupyter.widget-view+json": {
       "model_id": "f1d75ddc65e24d6481506b1c17f5f7ae",
       "version_major": 2,
       "version_minor": 0
      },
      "text/plain": [
       "  0%|          | 0/16 [00:00<?, ?it/s]"
      ]
     },
     "metadata": {},
     "output_type": "display_data"
    },
    {
     "name": "stdout",
     "output_type": "stream",
     "text": [
      "Epoch: 094/150 | Batch 0000/0016 | Loss: 0.0577\n"
     ]
    },
    {
     "data": {
      "application/vnd.jupyter.widget-view+json": {
       "model_id": "b47c12757fbc442989b0ca6b2c1406f1",
       "version_major": 2,
       "version_minor": 0
      },
      "text/plain": [
       "  0%|          | 0/16 [00:00<?, ?it/s]"
      ]
     },
     "metadata": {},
     "output_type": "display_data"
    },
    {
     "name": "stdout",
     "output_type": "stream",
     "text": [
      "Epoch: 095/150 | Batch 0000/0016 | Loss: 0.0529\n"
     ]
    },
    {
     "data": {
      "application/vnd.jupyter.widget-view+json": {
       "model_id": "eb70b4eb14f440e9a8d353265c5e4fc1",
       "version_major": 2,
       "version_minor": 0
      },
      "text/plain": [
       "  0%|          | 0/16 [00:00<?, ?it/s]"
      ]
     },
     "metadata": {},
     "output_type": "display_data"
    },
    {
     "name": "stdout",
     "output_type": "stream",
     "text": [
      "Epoch: 096/150 | Batch 0000/0016 | Loss: 0.0620\n"
     ]
    },
    {
     "data": {
      "application/vnd.jupyter.widget-view+json": {
       "model_id": "1eb5adf6fc444f01ad11ad30b41391ee",
       "version_major": 2,
       "version_minor": 0
      },
      "text/plain": [
       "  0%|          | 0/16 [00:00<?, ?it/s]"
      ]
     },
     "metadata": {},
     "output_type": "display_data"
    },
    {
     "name": "stdout",
     "output_type": "stream",
     "text": [
      "Epoch: 097/150 | Batch 0000/0016 | Loss: 0.0590\n"
     ]
    },
    {
     "data": {
      "application/vnd.jupyter.widget-view+json": {
       "model_id": "f8aa0ec9f3e0467292b409dccf603551",
       "version_major": 2,
       "version_minor": 0
      },
      "text/plain": [
       "  0%|          | 0/16 [00:00<?, ?it/s]"
      ]
     },
     "metadata": {},
     "output_type": "display_data"
    },
    {
     "name": "stdout",
     "output_type": "stream",
     "text": [
      "Epoch: 098/150 | Batch 0000/0016 | Loss: 0.0599\n"
     ]
    },
    {
     "data": {
      "application/vnd.jupyter.widget-view+json": {
       "model_id": "96083ce5ca034150a008292838bdb9e6",
       "version_major": 2,
       "version_minor": 0
      },
      "text/plain": [
       "  0%|          | 0/16 [00:00<?, ?it/s]"
      ]
     },
     "metadata": {},
     "output_type": "display_data"
    },
    {
     "name": "stdout",
     "output_type": "stream",
     "text": [
      "Epoch: 099/150 | Batch 0000/0016 | Loss: 0.0537\n"
     ]
    },
    {
     "data": {
      "application/vnd.jupyter.widget-view+json": {
       "model_id": "ba6d48dd7ff74da6ae2fccb41cc6c290",
       "version_major": 2,
       "version_minor": 0
      },
      "text/plain": [
       "  0%|          | 0/16 [00:00<?, ?it/s]"
      ]
     },
     "metadata": {},
     "output_type": "display_data"
    },
    {
     "name": "stdout",
     "output_type": "stream",
     "text": [
      "Epoch: 100/150 | Batch 0000/0016 | Loss: 0.0509\n"
     ]
    },
    {
     "data": {
      "application/vnd.jupyter.widget-view+json": {
       "model_id": "b213a44f0d33423aa784f1ec16faca2b",
       "version_major": 2,
       "version_minor": 0
      },
      "text/plain": [
       "  0%|          | 0/16 [00:00<?, ?it/s]"
      ]
     },
     "metadata": {},
     "output_type": "display_data"
    },
    {
     "name": "stdout",
     "output_type": "stream",
     "text": [
      "Epoch: 101/150 | Batch 0000/0016 | Loss: 0.0525\n"
     ]
    },
    {
     "data": {
      "application/vnd.jupyter.widget-view+json": {
       "model_id": "5b41189925bf463d9490cc9d569a37ff",
       "version_major": 2,
       "version_minor": 0
      },
      "text/plain": [
       "  0%|          | 0/16 [00:00<?, ?it/s]"
      ]
     },
     "metadata": {},
     "output_type": "display_data"
    },
    {
     "name": "stdout",
     "output_type": "stream",
     "text": [
      "Epoch: 102/150 | Batch 0000/0016 | Loss: 0.0460\n"
     ]
    },
    {
     "data": {
      "application/vnd.jupyter.widget-view+json": {
       "model_id": "f99bd39304a3418b955fae5278d13f89",
       "version_major": 2,
       "version_minor": 0
      },
      "text/plain": [
       "  0%|          | 0/16 [00:00<?, ?it/s]"
      ]
     },
     "metadata": {},
     "output_type": "display_data"
    },
    {
     "name": "stdout",
     "output_type": "stream",
     "text": [
      "Epoch: 103/150 | Batch 0000/0016 | Loss: 0.0493\n"
     ]
    },
    {
     "data": {
      "application/vnd.jupyter.widget-view+json": {
       "model_id": "adecc8391dc74de5b3340589142fca84",
       "version_major": 2,
       "version_minor": 0
      },
      "text/plain": [
       "  0%|          | 0/16 [00:00<?, ?it/s]"
      ]
     },
     "metadata": {},
     "output_type": "display_data"
    },
    {
     "name": "stdout",
     "output_type": "stream",
     "text": [
      "Epoch: 104/150 | Batch 0000/0016 | Loss: 0.0578\n"
     ]
    },
    {
     "data": {
      "application/vnd.jupyter.widget-view+json": {
       "model_id": "06341683cf434a068c2c41f2a38e9319",
       "version_major": 2,
       "version_minor": 0
      },
      "text/plain": [
       "  0%|          | 0/16 [00:00<?, ?it/s]"
      ]
     },
     "metadata": {},
     "output_type": "display_data"
    },
    {
     "name": "stdout",
     "output_type": "stream",
     "text": [
      "Epoch: 105/150 | Batch 0000/0016 | Loss: 0.0489\n"
     ]
    },
    {
     "data": {
      "application/vnd.jupyter.widget-view+json": {
       "model_id": "063cc7d6ef984acea7f6217d10298dc6",
       "version_major": 2,
       "version_minor": 0
      },
      "text/plain": [
       "  0%|          | 0/16 [00:00<?, ?it/s]"
      ]
     },
     "metadata": {},
     "output_type": "display_data"
    },
    {
     "name": "stdout",
     "output_type": "stream",
     "text": [
      "Epoch: 106/150 | Batch 0000/0016 | Loss: 0.0623\n"
     ]
    },
    {
     "data": {
      "application/vnd.jupyter.widget-view+json": {
       "model_id": "1f5d293f6b0444f1957f923052408b84",
       "version_major": 2,
       "version_minor": 0
      },
      "text/plain": [
       "  0%|          | 0/16 [00:00<?, ?it/s]"
      ]
     },
     "metadata": {},
     "output_type": "display_data"
    },
    {
     "name": "stdout",
     "output_type": "stream",
     "text": [
      "Epoch: 107/150 | Batch 0000/0016 | Loss: 0.0451\n"
     ]
    },
    {
     "data": {
      "application/vnd.jupyter.widget-view+json": {
       "model_id": "eaca0f65a0fd4c2da6ae006ac1a42618",
       "version_major": 2,
       "version_minor": 0
      },
      "text/plain": [
       "  0%|          | 0/16 [00:00<?, ?it/s]"
      ]
     },
     "metadata": {},
     "output_type": "display_data"
    },
    {
     "name": "stdout",
     "output_type": "stream",
     "text": [
      "Epoch: 108/150 | Batch 0000/0016 | Loss: 0.0412\n"
     ]
    },
    {
     "data": {
      "application/vnd.jupyter.widget-view+json": {
       "model_id": "fbdeff1ccdb44f67a893d7a8b4e3d1c4",
       "version_major": 2,
       "version_minor": 0
      },
      "text/plain": [
       "  0%|          | 0/16 [00:00<?, ?it/s]"
      ]
     },
     "metadata": {},
     "output_type": "display_data"
    },
    {
     "name": "stdout",
     "output_type": "stream",
     "text": [
      "Epoch: 109/150 | Batch 0000/0016 | Loss: 0.0419\n"
     ]
    },
    {
     "data": {
      "application/vnd.jupyter.widget-view+json": {
       "model_id": "7e3ff0296d524ab4b32ee7b95c3bce69",
       "version_major": 2,
       "version_minor": 0
      },
      "text/plain": [
       "  0%|          | 0/16 [00:00<?, ?it/s]"
      ]
     },
     "metadata": {},
     "output_type": "display_data"
    },
    {
     "name": "stdout",
     "output_type": "stream",
     "text": [
      "Epoch: 110/150 | Batch 0000/0016 | Loss: 0.0443\n"
     ]
    },
    {
     "data": {
      "application/vnd.jupyter.widget-view+json": {
       "model_id": "ad0e0f13a7964e3c9647ea4cf78daa40",
       "version_major": 2,
       "version_minor": 0
      },
      "text/plain": [
       "  0%|          | 0/16 [00:00<?, ?it/s]"
      ]
     },
     "metadata": {},
     "output_type": "display_data"
    },
    {
     "name": "stdout",
     "output_type": "stream",
     "text": [
      "Epoch: 111/150 | Batch 0000/0016 | Loss: 0.0463\n"
     ]
    },
    {
     "data": {
      "application/vnd.jupyter.widget-view+json": {
       "model_id": "62356f1a0c2f4d138e2c8b7e826db0d5",
       "version_major": 2,
       "version_minor": 0
      },
      "text/plain": [
       "  0%|          | 0/16 [00:00<?, ?it/s]"
      ]
     },
     "metadata": {},
     "output_type": "display_data"
    },
    {
     "name": "stdout",
     "output_type": "stream",
     "text": [
      "Epoch: 112/150 | Batch 0000/0016 | Loss: 0.0399\n"
     ]
    },
    {
     "data": {
      "application/vnd.jupyter.widget-view+json": {
       "model_id": "28d7f844988e424486d3818f39d8cbfe",
       "version_major": 2,
       "version_minor": 0
      },
      "text/plain": [
       "  0%|          | 0/16 [00:00<?, ?it/s]"
      ]
     },
     "metadata": {},
     "output_type": "display_data"
    },
    {
     "name": "stdout",
     "output_type": "stream",
     "text": [
      "Epoch: 113/150 | Batch 0000/0016 | Loss: 0.0377\n"
     ]
    },
    {
     "data": {
      "application/vnd.jupyter.widget-view+json": {
       "model_id": "33c546d6aa554c1bb7b9e1d378d07ff2",
       "version_major": 2,
       "version_minor": 0
      },
      "text/plain": [
       "  0%|          | 0/16 [00:00<?, ?it/s]"
      ]
     },
     "metadata": {},
     "output_type": "display_data"
    },
    {
     "name": "stdout",
     "output_type": "stream",
     "text": [
      "Epoch: 114/150 | Batch 0000/0016 | Loss: 0.0452\n"
     ]
    },
    {
     "data": {
      "application/vnd.jupyter.widget-view+json": {
       "model_id": "b69f0fe442c244a58b610471f7057ea9",
       "version_major": 2,
       "version_minor": 0
      },
      "text/plain": [
       "  0%|          | 0/16 [00:00<?, ?it/s]"
      ]
     },
     "metadata": {},
     "output_type": "display_data"
    },
    {
     "name": "stdout",
     "output_type": "stream",
     "text": [
      "Epoch: 115/150 | Batch 0000/0016 | Loss: 0.0402\n"
     ]
    },
    {
     "data": {
      "application/vnd.jupyter.widget-view+json": {
       "model_id": "822468231c3d4e8985fa7653c9bd31ba",
       "version_major": 2,
       "version_minor": 0
      },
      "text/plain": [
       "  0%|          | 0/16 [00:00<?, ?it/s]"
      ]
     },
     "metadata": {},
     "output_type": "display_data"
    },
    {
     "name": "stdout",
     "output_type": "stream",
     "text": [
      "Epoch: 116/150 | Batch 0000/0016 | Loss: 0.0349\n"
     ]
    },
    {
     "data": {
      "application/vnd.jupyter.widget-view+json": {
       "model_id": "0a88db9777cd47d7875cb14d60246989",
       "version_major": 2,
       "version_minor": 0
      },
      "text/plain": [
       "  0%|          | 0/16 [00:00<?, ?it/s]"
      ]
     },
     "metadata": {},
     "output_type": "display_data"
    },
    {
     "name": "stdout",
     "output_type": "stream",
     "text": [
      "Epoch: 117/150 | Batch 0000/0016 | Loss: 0.0373\n"
     ]
    },
    {
     "data": {
      "application/vnd.jupyter.widget-view+json": {
       "model_id": "94141f17723b484990d2011243be6c53",
       "version_major": 2,
       "version_minor": 0
      },
      "text/plain": [
       "  0%|          | 0/16 [00:00<?, ?it/s]"
      ]
     },
     "metadata": {},
     "output_type": "display_data"
    },
    {
     "name": "stdout",
     "output_type": "stream",
     "text": [
      "Epoch: 118/150 | Batch 0000/0016 | Loss: 0.0372\n"
     ]
    },
    {
     "data": {
      "application/vnd.jupyter.widget-view+json": {
       "model_id": "00d659f0c0544a62a934449394f17d9c",
       "version_major": 2,
       "version_minor": 0
      },
      "text/plain": [
       "  0%|          | 0/16 [00:00<?, ?it/s]"
      ]
     },
     "metadata": {},
     "output_type": "display_data"
    },
    {
     "name": "stdout",
     "output_type": "stream",
     "text": [
      "Epoch: 119/150 | Batch 0000/0016 | Loss: 0.0405\n"
     ]
    },
    {
     "data": {
      "application/vnd.jupyter.widget-view+json": {
       "model_id": "3b231a89d2e44ceb9b7805d0b9da2fea",
       "version_major": 2,
       "version_minor": 0
      },
      "text/plain": [
       "  0%|          | 0/16 [00:00<?, ?it/s]"
      ]
     },
     "metadata": {},
     "output_type": "display_data"
    },
    {
     "name": "stdout",
     "output_type": "stream",
     "text": [
      "Epoch: 120/150 | Batch 0000/0016 | Loss: 0.0343\n"
     ]
    },
    {
     "data": {
      "application/vnd.jupyter.widget-view+json": {
       "model_id": "819c46166a5746d5ab65b79a2568ecd7",
       "version_major": 2,
       "version_minor": 0
      },
      "text/plain": [
       "  0%|          | 0/16 [00:00<?, ?it/s]"
      ]
     },
     "metadata": {},
     "output_type": "display_data"
    },
    {
     "name": "stdout",
     "output_type": "stream",
     "text": [
      "Epoch: 121/150 | Batch 0000/0016 | Loss: 0.0370\n"
     ]
    },
    {
     "data": {
      "application/vnd.jupyter.widget-view+json": {
       "model_id": "5a9e86d49a8e443d938699c6c6f8ea74",
       "version_major": 2,
       "version_minor": 0
      },
      "text/plain": [
       "  0%|          | 0/16 [00:00<?, ?it/s]"
      ]
     },
     "metadata": {},
     "output_type": "display_data"
    },
    {
     "name": "stdout",
     "output_type": "stream",
     "text": [
      "Epoch: 122/150 | Batch 0000/0016 | Loss: 0.0377\n"
     ]
    },
    {
     "data": {
      "application/vnd.jupyter.widget-view+json": {
       "model_id": "fd9da3e976b345d8ac6afc8b9774886c",
       "version_major": 2,
       "version_minor": 0
      },
      "text/plain": [
       "  0%|          | 0/16 [00:00<?, ?it/s]"
      ]
     },
     "metadata": {},
     "output_type": "display_data"
    },
    {
     "name": "stdout",
     "output_type": "stream",
     "text": [
      "Epoch: 123/150 | Batch 0000/0016 | Loss: 0.0409\n"
     ]
    },
    {
     "data": {
      "application/vnd.jupyter.widget-view+json": {
       "model_id": "675d546ae0394ddf9f52b498193ae718",
       "version_major": 2,
       "version_minor": 0
      },
      "text/plain": [
       "  0%|          | 0/16 [00:00<?, ?it/s]"
      ]
     },
     "metadata": {},
     "output_type": "display_data"
    },
    {
     "name": "stdout",
     "output_type": "stream",
     "text": [
      "Epoch: 124/150 | Batch 0000/0016 | Loss: 0.0333\n"
     ]
    },
    {
     "data": {
      "application/vnd.jupyter.widget-view+json": {
       "model_id": "3e361f66f2544ebd8118780e48585395",
       "version_major": 2,
       "version_minor": 0
      },
      "text/plain": [
       "  0%|          | 0/16 [00:00<?, ?it/s]"
      ]
     },
     "metadata": {},
     "output_type": "display_data"
    },
    {
     "name": "stdout",
     "output_type": "stream",
     "text": [
      "Epoch: 125/150 | Batch 0000/0016 | Loss: 0.0343\n"
     ]
    },
    {
     "data": {
      "application/vnd.jupyter.widget-view+json": {
       "model_id": "df3ef3713ae44cc3ae1326e9a47b8939",
       "version_major": 2,
       "version_minor": 0
      },
      "text/plain": [
       "  0%|          | 0/16 [00:00<?, ?it/s]"
      ]
     },
     "metadata": {},
     "output_type": "display_data"
    },
    {
     "name": "stdout",
     "output_type": "stream",
     "text": [
      "Epoch: 126/150 | Batch 0000/0016 | Loss: 0.0389\n"
     ]
    },
    {
     "data": {
      "application/vnd.jupyter.widget-view+json": {
       "model_id": "6537f893bb4a4d66bbe87c8068d0ed76",
       "version_major": 2,
       "version_minor": 0
      },
      "text/plain": [
       "  0%|          | 0/16 [00:00<?, ?it/s]"
      ]
     },
     "metadata": {},
     "output_type": "display_data"
    },
    {
     "name": "stdout",
     "output_type": "stream",
     "text": [
      "Epoch: 127/150 | Batch 0000/0016 | Loss: 0.0322\n"
     ]
    },
    {
     "data": {
      "application/vnd.jupyter.widget-view+json": {
       "model_id": "46f88cd5c9f54d2eba0638f9e741fd95",
       "version_major": 2,
       "version_minor": 0
      },
      "text/plain": [
       "  0%|          | 0/16 [00:00<?, ?it/s]"
      ]
     },
     "metadata": {},
     "output_type": "display_data"
    },
    {
     "name": "stdout",
     "output_type": "stream",
     "text": [
      "Epoch: 128/150 | Batch 0000/0016 | Loss: 0.0357\n"
     ]
    },
    {
     "data": {
      "application/vnd.jupyter.widget-view+json": {
       "model_id": "78350ed394bf4a8cb10e7543f76b335e",
       "version_major": 2,
       "version_minor": 0
      },
      "text/plain": [
       "  0%|          | 0/16 [00:00<?, ?it/s]"
      ]
     },
     "metadata": {},
     "output_type": "display_data"
    },
    {
     "name": "stdout",
     "output_type": "stream",
     "text": [
      "Epoch: 129/150 | Batch 0000/0016 | Loss: 0.0321\n"
     ]
    },
    {
     "data": {
      "application/vnd.jupyter.widget-view+json": {
       "model_id": "eed46266c3e743d89b1440ec228a9480",
       "version_major": 2,
       "version_minor": 0
      },
      "text/plain": [
       "  0%|          | 0/16 [00:00<?, ?it/s]"
      ]
     },
     "metadata": {},
     "output_type": "display_data"
    },
    {
     "name": "stdout",
     "output_type": "stream",
     "text": [
      "Epoch: 130/150 | Batch 0000/0016 | Loss: 0.0330\n"
     ]
    },
    {
     "data": {
      "application/vnd.jupyter.widget-view+json": {
       "model_id": "2ec4d64db4cf4ef7b77a966e1846a677",
       "version_major": 2,
       "version_minor": 0
      },
      "text/plain": [
       "  0%|          | 0/16 [00:00<?, ?it/s]"
      ]
     },
     "metadata": {},
     "output_type": "display_data"
    },
    {
     "name": "stdout",
     "output_type": "stream",
     "text": [
      "Epoch: 131/150 | Batch 0000/0016 | Loss: 0.0276\n"
     ]
    },
    {
     "data": {
      "application/vnd.jupyter.widget-view+json": {
       "model_id": "0f90489fedbd415a923f1af793149fc0",
       "version_major": 2,
       "version_minor": 0
      },
      "text/plain": [
       "  0%|          | 0/16 [00:00<?, ?it/s]"
      ]
     },
     "metadata": {},
     "output_type": "display_data"
    },
    {
     "name": "stdout",
     "output_type": "stream",
     "text": [
      "Epoch: 132/150 | Batch 0000/0016 | Loss: 0.0322\n"
     ]
    },
    {
     "data": {
      "application/vnd.jupyter.widget-view+json": {
       "model_id": "3f0a63f76c37405f943ca1fe86bfa0d3",
       "version_major": 2,
       "version_minor": 0
      },
      "text/plain": [
       "  0%|          | 0/16 [00:00<?, ?it/s]"
      ]
     },
     "metadata": {},
     "output_type": "display_data"
    },
    {
     "name": "stdout",
     "output_type": "stream",
     "text": [
      "Epoch: 133/150 | Batch 0000/0016 | Loss: 0.0266\n"
     ]
    },
    {
     "data": {
      "application/vnd.jupyter.widget-view+json": {
       "model_id": "4853b5453a644891a8fb0bfdb28d8a02",
       "version_major": 2,
       "version_minor": 0
      },
      "text/plain": [
       "  0%|          | 0/16 [00:00<?, ?it/s]"
      ]
     },
     "metadata": {},
     "output_type": "display_data"
    },
    {
     "name": "stdout",
     "output_type": "stream",
     "text": [
      "Epoch: 134/150 | Batch 0000/0016 | Loss: 0.0278\n"
     ]
    },
    {
     "data": {
      "application/vnd.jupyter.widget-view+json": {
       "model_id": "abb7aa0284f84f98ad6c498ad358949a",
       "version_major": 2,
       "version_minor": 0
      },
      "text/plain": [
       "  0%|          | 0/16 [00:00<?, ?it/s]"
      ]
     },
     "metadata": {},
     "output_type": "display_data"
    },
    {
     "name": "stdout",
     "output_type": "stream",
     "text": [
      "Epoch: 135/150 | Batch 0000/0016 | Loss: 0.0311\n"
     ]
    },
    {
     "data": {
      "application/vnd.jupyter.widget-view+json": {
       "model_id": "c647bd435f424db2b0d8be53bd5e8502",
       "version_major": 2,
       "version_minor": 0
      },
      "text/plain": [
       "  0%|          | 0/16 [00:00<?, ?it/s]"
      ]
     },
     "metadata": {},
     "output_type": "display_data"
    },
    {
     "name": "stdout",
     "output_type": "stream",
     "text": [
      "Epoch: 136/150 | Batch 0000/0016 | Loss: 0.0280\n"
     ]
    },
    {
     "data": {
      "application/vnd.jupyter.widget-view+json": {
       "model_id": "0c8fdc9b55e74e5a9f907edce5f901f9",
       "version_major": 2,
       "version_minor": 0
      },
      "text/plain": [
       "  0%|          | 0/16 [00:00<?, ?it/s]"
      ]
     },
     "metadata": {},
     "output_type": "display_data"
    },
    {
     "name": "stdout",
     "output_type": "stream",
     "text": [
      "Epoch: 137/150 | Batch 0000/0016 | Loss: 0.0368\n"
     ]
    },
    {
     "data": {
      "application/vnd.jupyter.widget-view+json": {
       "model_id": "58381eb67209447e8e4958f22a3ce1ff",
       "version_major": 2,
       "version_minor": 0
      },
      "text/plain": [
       "  0%|          | 0/16 [00:00<?, ?it/s]"
      ]
     },
     "metadata": {},
     "output_type": "display_data"
    },
    {
     "name": "stdout",
     "output_type": "stream",
     "text": [
      "Epoch: 138/150 | Batch 0000/0016 | Loss: 0.0331\n"
     ]
    },
    {
     "data": {
      "application/vnd.jupyter.widget-view+json": {
       "model_id": "4b6d3555b7904b2bba44c8b7e0d2674e",
       "version_major": 2,
       "version_minor": 0
      },
      "text/plain": [
       "  0%|          | 0/16 [00:00<?, ?it/s]"
      ]
     },
     "metadata": {},
     "output_type": "display_data"
    },
    {
     "name": "stdout",
     "output_type": "stream",
     "text": [
      "Epoch: 139/150 | Batch 0000/0016 | Loss: 0.0374\n"
     ]
    },
    {
     "data": {
      "application/vnd.jupyter.widget-view+json": {
       "model_id": "3cc286ec28384d4b85aebef95e54a4da",
       "version_major": 2,
       "version_minor": 0
      },
      "text/plain": [
       "  0%|          | 0/16 [00:00<?, ?it/s]"
      ]
     },
     "metadata": {},
     "output_type": "display_data"
    },
    {
     "name": "stdout",
     "output_type": "stream",
     "text": [
      "Epoch: 140/150 | Batch 0000/0016 | Loss: 0.0306\n"
     ]
    },
    {
     "data": {
      "application/vnd.jupyter.widget-view+json": {
       "model_id": "d3e054227988467eac30d6749e8d497e",
       "version_major": 2,
       "version_minor": 0
      },
      "text/plain": [
       "  0%|          | 0/16 [00:00<?, ?it/s]"
      ]
     },
     "metadata": {},
     "output_type": "display_data"
    },
    {
     "name": "stdout",
     "output_type": "stream",
     "text": [
      "Epoch: 141/150 | Batch 0000/0016 | Loss: 0.0332\n"
     ]
    },
    {
     "data": {
      "application/vnd.jupyter.widget-view+json": {
       "model_id": "acc2db14ff2840f4b188cb083e1310fc",
       "version_major": 2,
       "version_minor": 0
      },
      "text/plain": [
       "  0%|          | 0/16 [00:00<?, ?it/s]"
      ]
     },
     "metadata": {},
     "output_type": "display_data"
    },
    {
     "name": "stdout",
     "output_type": "stream",
     "text": [
      "Epoch: 142/150 | Batch 0000/0016 | Loss: 0.0256\n"
     ]
    },
    {
     "data": {
      "application/vnd.jupyter.widget-view+json": {
       "model_id": "e0a84fb09cae48c9bed713df64d386e7",
       "version_major": 2,
       "version_minor": 0
      },
      "text/plain": [
       "  0%|          | 0/16 [00:00<?, ?it/s]"
      ]
     },
     "metadata": {},
     "output_type": "display_data"
    },
    {
     "name": "stdout",
     "output_type": "stream",
     "text": [
      "Epoch: 143/150 | Batch 0000/0016 | Loss: 0.0246\n"
     ]
    },
    {
     "data": {
      "application/vnd.jupyter.widget-view+json": {
       "model_id": "a9c0ea75974d4016abeb7ba85307c0b2",
       "version_major": 2,
       "version_minor": 0
      },
      "text/plain": [
       "  0%|          | 0/16 [00:00<?, ?it/s]"
      ]
     },
     "metadata": {},
     "output_type": "display_data"
    },
    {
     "name": "stdout",
     "output_type": "stream",
     "text": [
      "Epoch: 144/150 | Batch 0000/0016 | Loss: 0.0296\n"
     ]
    },
    {
     "data": {
      "application/vnd.jupyter.widget-view+json": {
       "model_id": "00efc8b693d847c9b9f79031ba07cf68",
       "version_major": 2,
       "version_minor": 0
      },
      "text/plain": [
       "  0%|          | 0/16 [00:00<?, ?it/s]"
      ]
     },
     "metadata": {},
     "output_type": "display_data"
    },
    {
     "name": "stdout",
     "output_type": "stream",
     "text": [
      "Epoch: 145/150 | Batch 0000/0016 | Loss: 0.0250\n"
     ]
    },
    {
     "data": {
      "application/vnd.jupyter.widget-view+json": {
       "model_id": "b9294fb54e214bbc8deaa0df9f2537b2",
       "version_major": 2,
       "version_minor": 0
      },
      "text/plain": [
       "  0%|          | 0/16 [00:00<?, ?it/s]"
      ]
     },
     "metadata": {},
     "output_type": "display_data"
    },
    {
     "name": "stdout",
     "output_type": "stream",
     "text": [
      "Epoch: 146/150 | Batch 0000/0016 | Loss: 0.0310\n"
     ]
    },
    {
     "data": {
      "application/vnd.jupyter.widget-view+json": {
       "model_id": "4290f451d1494378b28fd52b1051e4d9",
       "version_major": 2,
       "version_minor": 0
      },
      "text/plain": [
       "  0%|          | 0/16 [00:00<?, ?it/s]"
      ]
     },
     "metadata": {},
     "output_type": "display_data"
    },
    {
     "name": "stdout",
     "output_type": "stream",
     "text": [
      "Epoch: 147/150 | Batch 0000/0016 | Loss: 0.0260\n"
     ]
    },
    {
     "data": {
      "application/vnd.jupyter.widget-view+json": {
       "model_id": "4272a04b0bf84998b3490bcedb54b951",
       "version_major": 2,
       "version_minor": 0
      },
      "text/plain": [
       "  0%|          | 0/16 [00:00<?, ?it/s]"
      ]
     },
     "metadata": {},
     "output_type": "display_data"
    },
    {
     "name": "stdout",
     "output_type": "stream",
     "text": [
      "Epoch: 148/150 | Batch 0000/0016 | Loss: 0.0275\n"
     ]
    },
    {
     "data": {
      "application/vnd.jupyter.widget-view+json": {
       "model_id": "4c63836cb0514c14bc8e4af7f12a2f73",
       "version_major": 2,
       "version_minor": 0
      },
      "text/plain": [
       "  0%|          | 0/16 [00:00<?, ?it/s]"
      ]
     },
     "metadata": {},
     "output_type": "display_data"
    },
    {
     "name": "stdout",
     "output_type": "stream",
     "text": [
      "Epoch: 149/150 | Batch 0000/0016 | Loss: 0.0292\n"
     ]
    },
    {
     "data": {
      "application/vnd.jupyter.widget-view+json": {
       "model_id": "15627596c2574dea884e0cc7e8444a79",
       "version_major": 2,
       "version_minor": 0
      },
      "text/plain": [
       "  0%|          | 0/16 [00:00<?, ?it/s]"
      ]
     },
     "metadata": {},
     "output_type": "display_data"
    },
    {
     "name": "stdout",
     "output_type": "stream",
     "text": [
      "Epoch: 150/150 | Batch 0000/0016 | Loss: 0.0284\n",
      "Total Training Time: 5.68 min\n",
      "Overall avg loss = 0.15\n"
     ]
    }
   ],
   "source": [
    "log_dict = u.train_encoder(\n",
    "    num_epochs = epochs,\n",
    "    model = model,\n",
    "    optimizer = optimizer,\n",
    "    device = device,\n",
    "    train_loader = train_loader,\n",
    "    skip_epoch_stats = False,\n",
    "    logging_interval = 500\n",
    ")"
   ]
  },
  {
   "cell_type": "code",
   "execution_count": 29,
   "metadata": {
    "colab": {
     "base_uri": "https://localhost:8080/",
     "height": 297
    },
    "id": "_oFHIooCxo7Z",
    "outputId": "4b12fa61-e0a3-4b2b-c09a-091295ef7b88",
    "scrolled": false
   },
   "outputs": [
    {
     "data": {
      "image/png": "[encoded data removed]",
      "text/plain": [
       "<Figure size 576x396 with 2 Axes>"
      ]
     },
     "metadata": {},
     "output_type": "display_data"
    }
   ],
   "source": [
    "u.plot_training_loss(log_dict['train_loss_per_batch'], epochs)\n",
    "plt.title(\"Autoencoder: Min loss={:.4f}, Avg loss={:.4f}\".format(log_dict['final_loss'], log_dict['avg_loss']))\n",
    "plt.savefig(PATH+\"SECOND_ITERATION/seed=\"+str(seed)+\"/autoencoder\", dpi=300, bbox_inches='tight')\n",
    "plt.show()"
   ]
  },
  {
   "cell_type": "code",
   "execution_count": 30,
   "metadata": {
    "id": "lNdoI29ngEAS"
   },
   "outputs": [],
   "source": [
    "torch.save(model.state_dict(), PATH+\"SECOND_ITERATION/models/XENA_LUNG_GeneExp_Autoencoder.kd\")"
   ]
  },
  {
   "cell_type": "markdown",
   "metadata": {},
   "source": [
    "---\n",
    "---\n",
    "---\n"
   ]
  },
  {
   "cell_type": "markdown",
   "metadata": {},
   "source": [
    "## Compute pearson correlation b/w True_Dataset and Generated_Dataset"
   ]
  },
  {
   "cell_type": "code",
   "execution_count": 31,
   "metadata": {
    "scrolled": true
   },
   "outputs": [
    {
     "name": "stdout",
     "output_type": "stream",
     "text": [
      "Pearson Correlation Coefficient =  0.9930949313450451\n"
     ]
    }
   ],
   "source": [
    "pearson_loader = DataLoader(train_dataset, len(train_dataset), shuffle=True)\n",
    "pearson_correlation_coeff = u.pearson_correlation(model, pearson_loader, device)\n",
    "with open(r'D:/CANCER BIOLOGY/DATASET/TCGA/FROM Xena/SECOND_ITERATION/seed=%s/pearson.txt'%str(seed), 'w') as fp:\n",
    "    fp.write(\"%s\\n\" % pearson_correlation_coeff)\n",
    "print(\"Pearson Correlation Coefficient = \", pearson_correlation_coeff)"
   ]
  },
  {
   "cell_type": "markdown",
   "metadata": {},
   "source": [
    "# Level 1 complete !!"
   ]
  }
 ],
 "metadata": {
  "accelerator": "GPU",
  "colab": {
   "collapsed_sections": [
    "6mJvOjXwNLH1",
    "tlE1rQG3PJby"
   ],
   "name": "1_XENA_LUNG_GeneExp_Autoencoder",
   "provenance": []
  },
  "kernelspec": {
   "display_name": "Python 3 (ipykernel)",
   "language": "python",
   "name": "python3"
  },
  "language_info": {
   "codemirror_mode": {
    "name": "ipython",
    "version": 3
   },
   "file_extension": ".py",
   "mimetype": "text/x-python",
   "name": "python",
   "nbconvert_exporter": "python",
   "pygments_lexer": "ipython3",
   "version": "3.7.13"
  }
 },
 "nbformat": 4,
 "nbformat_minor": 1
}
