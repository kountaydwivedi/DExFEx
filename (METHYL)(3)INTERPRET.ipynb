{
 "cells": [
  {
   "cell_type": "code",
   "execution_count": 1,
   "metadata": {},
   "outputs": [],
   "source": [
    "import numpy as np\n",
    "import pandas as pd\n",
    "import seaborn as sea \n",
    "import matplotlib.pyplot as plt"
   ]
  },
  {
   "cell_type": "code",
   "execution_count": 2,
   "metadata": {},
   "outputs": [
    {
     "data": {
      "text/html": [
       "<style>.container { width:98% !important; }</style>"
      ],
      "text/plain": [
       "<IPython.core.display.HTML object>"
      ]
     },
     "metadata": {},
     "output_type": "display_data"
    }
   ],
   "source": [
    "# https://stackoverflow.com/questions/21971449/how-do-i-increase-the-cell-width-of-the-jupyter-ipython-notebook-in-my-browser\n",
    "\n",
    "from IPython.core.display import display, HTML\n",
    "display(HTML(\"<style>.container { width:98% !important; }</style>\"))"
   ]
  },
  {
   "cell_type": "code",
   "execution_count": 3,
   "metadata": {},
   "outputs": [],
   "source": [
    "sea.set_style(\"whitegrid\")\n",
    "%matplotlib inline\n",
    "%load_ext autoreload\n",
    "%autoreload 2"
   ]
  },
  {
   "cell_type": "code",
   "execution_count": 4,
   "metadata": {},
   "outputs": [],
   "source": [
    "import warnings\n",
    "warnings.simplefilter('ignore')"
   ]
  },
  {
   "cell_type": "code",
   "execution_count": 5,
   "metadata": {},
   "outputs": [],
   "source": [
    "import os\n",
    "import time\n",
    "import copy\n",
    "\n",
    "import meth_model_utils as u\n",
    "import meth_model_classes as c\n",
    "\n",
    "import torch\n",
    "import torch.nn as nn\n",
    "from torchvision import utils\n",
    "import torch.nn.functional as F\n",
    "from torch.utils.data import Dataset, DataLoader"
   ]
  },
  {
   "cell_type": "code",
   "execution_count": 6,
   "metadata": {},
   "outputs": [],
   "source": [
    "torch.use_deterministic_algorithms(True)\n",
    "os.environ[\"CUBLAS_WORKSPACE_CONFIG\"]=\":16:8\""
   ]
  },
  {
   "cell_type": "code",
   "execution_count": 7,
   "metadata": {},
   "outputs": [],
   "source": [
    "device = torch.device('cuda' if torch.cuda.is_available() else 'cpu')\n",
    "# device = torch.device('cpu' if torch.cuda.is_available() else 'cuda')"
   ]
  },
  {
   "cell_type": "code",
   "execution_count": 8,
   "metadata": {},
   "outputs": [
    {
     "name": "stdout",
     "output_type": "stream",
     "text": [
      "Seed =  324\n"
     ]
    }
   ],
   "source": [
    "# https://pytorch.org/docs/stable/notes/randomness.html\n",
    "seed = u.get_seed()\n",
    "print('Seed = ', seed)\n",
    "u.set_all_seeds(seed)"
   ]
  },
  {
   "cell_type": "markdown",
   "metadata": {},
   "source": [
    "---\n",
    "---\n",
    "---"
   ]
  },
  {
   "cell_type": "code",
   "execution_count": 9,
   "metadata": {},
   "outputs": [],
   "source": [
    "PATH = \"D:/CANCER BIOLOGY/DATASET/TCGA/FROM Xena/\""
   ]
  },
  {
   "cell_type": "code",
   "execution_count": 10,
   "metadata": {},
   "outputs": [],
   "source": [
    "df_luad = pd.read_csv(PATH+\"meth_luad.csv\", index_col=0)\n",
    "df_lusu = pd.read_csv(PATH+\"meth_lusu.csv\", index_col=0)\n",
    "df_lusu.drop(index=['MBD3L2'], axis=0, inplace=True)\n",
    "df_final = u.meth_data_preprocess(df_luad, df_lusu)"
   ]
  },
  {
   "cell_type": "code",
   "execution_count": 11,
   "metadata": {},
   "outputs": [],
   "source": [
    "df_final = df_final.sample(frac=1, random_state=seed).reset_index(drop=True)\n",
    "labels = list(df_final['label'])\n",
    "df_final.drop(columns=['label'], axis=1, inplace=True) ## drop column sample_id and label\n",
    "columns = list(df_final.columns)"
   ]
  },
  {
   "cell_type": "code",
   "execution_count": 12,
   "metadata": {},
   "outputs": [],
   "source": [
    "xtrain = df_final.to_numpy()\n",
    "ytrain = labels"
   ]
  },
  {
   "cell_type": "markdown",
   "metadata": {},
   "source": [
    "---\n",
    "---\n",
    "---"
   ]
  },
  {
   "cell_type": "code",
   "execution_count": 13,
   "metadata": {},
   "outputs": [],
   "source": [
    "u.set_all_seeds(seed)"
   ]
  },
  {
   "cell_type": "code",
   "execution_count": 14,
   "metadata": {},
   "outputs": [],
   "source": [
    "input_dim = xtrain.shape[1] \n",
    "output_dim = 2048"
   ]
  },
  {
   "cell_type": "code",
   "execution_count": 15,
   "metadata": {},
   "outputs": [],
   "source": [
    "only_encoder = c.METH_AutoEncoder(input_dim, output_dim).to(device)\n",
    "# only_encoder.load_state_dict(torch.load(PATH+\"models/LUNG_METH_Autoencoder.kd\", map_location=torch.device('cpu')))\n",
    "only_encoder.load_state_dict(torch.load(PATH+\"models/LUNG_METH_Autoencoder.kd\"))\n",
    "only_encoder = nn.Sequential(*list(only_encoder.children())[:-1])"
   ]
  },
  {
   "cell_type": "code",
   "execution_count": 16,
   "metadata": {},
   "outputs": [],
   "source": [
    "classifier = c.METH_Classifier(only_encoder, output_dim).to(device)\n",
    "# classifier.load_state_dict(torch.load(PATH+\"models/LUNG_METH_Classifier.kd\", map_location=torch.device('cpu')))\n",
    "classifier.load_state_dict(torch.load(PATH+\"models/LUNG_METH_Classifier.kd\"))\n",
    "del only_encoder"
   ]
  },
  {
   "cell_type": "markdown",
   "metadata": {},
   "source": [
    "---\n",
    "---\n",
    "---"
   ]
  },
  {
   "cell_type": "code",
   "execution_count": 17,
   "metadata": {},
   "outputs": [],
   "source": [
    "from captum.attr import IntegratedGradients, GradientShap, DeepLift"
   ]
  },
  {
   "cell_type": "code",
   "execution_count": 18,
   "metadata": {},
   "outputs": [],
   "source": [
    "\"\"\"\n",
    "In this method, we will select  top 150 genes that are highly correlated, positive as well as negative.\n",
    "Therefore, for each class (0, 1), we will return 300 genes in total: 150 most positively correlated, 150 most negatively correlated.\n",
    "\"\"\"\n",
    "\n",
    "def get_top_genes_from_attributions(attr1, attr0, columns):\n",
    "    attr0 = torch.abs(attr1)\n",
    "    attr1 = torch.abs(attr0)\n",
    "    attr = torch.add(attr0, attr1)\n",
    "    mean_attr = torch.mean(attr, axis=0)\n",
    "    temp_df = pd.DataFrame(mean_attr.cpu().detach().numpy(), columns=['mean_score']) ## when using gpu\n",
    "#     temp_df = pd.DataFrame(mean_attr, columns=['mean_score'])\n",
    "    temp_df.insert(0, 'genes', columns)\n",
    "#     temp_df.sort_values(by=['mean_score'], ascending=False, inplace=True)\n",
    "    return temp_df ## returns the entire curated attr dataset\n",
    "#     return temp_df.genes[0:300], temp_df.genes[0:500], temp_df.genes[0:1000] ## only returns genes"
   ]
  },
  {
   "cell_type": "code",
   "execution_count": 19,
   "metadata": {},
   "outputs": [],
   "source": [
    "inputs = torch.from_numpy(xtrain).type(torch.FloatTensor).to(device)"
   ]
  },
  {
   "cell_type": "code",
   "execution_count": 20,
   "metadata": {},
   "outputs": [
    {
     "data": {
      "text/plain": [
       "tensor([[-0.2409, -0.1083,  0.2395,  ...,  0.0487,  0.0487, -0.3371],\n",
       "        [-0.3149, -0.0382,  0.1613,  ..., -0.1330, -0.1330, -0.3876],\n",
       "        [ 0.0038, -0.0716,  0.1159,  ..., -0.0513, -0.0513, -0.3075],\n",
       "        ...,\n",
       "        [-0.4203, -0.4794,  0.2244,  ...,  0.0016,  0.0016, -0.4379],\n",
       "        [-0.4551, -0.4582,  0.1067,  ..., -0.1569, -0.1569, -0.2953],\n",
       "        [-0.4541, -0.4749, -0.0786,  ...,  0.0435,  0.0435, -0.3795]],\n",
       "       device='cuda:0', requires_grad=True)"
      ]
     },
     "execution_count": 20,
     "metadata": {},
     "output_type": "execute_result"
    }
   ],
   "source": [
    "inputs.requires_grad_()"
   ]
  },
  {
   "cell_type": "code",
   "execution_count": 21,
   "metadata": {},
   "outputs": [],
   "source": [
    "targets = torch.from_numpy(np.array(ytrain)).type(torch.IntTensor).to(device)"
   ]
  },
  {
   "cell_type": "code",
   "execution_count": 22,
   "metadata": {},
   "outputs": [],
   "source": [
    "baselines = torch.Tensor(np.zeros(xtrain.shape)).to(device)"
   ]
  },
  {
   "cell_type": "markdown",
   "metadata": {},
   "source": [
    "---\n",
    "---\n",
    "---"
   ]
  },
  {
   "cell_type": "markdown",
   "metadata": {},
   "source": [
    "# Start Interpreting"
   ]
  },
  {
   "cell_type": "code",
   "execution_count": 23,
   "metadata": {},
   "outputs": [],
   "source": [
    "full_path = PATH+\"project_summary_seed_wise_meth/seed=\"+str(seed)+\"/\""
   ]
  },
  {
   "cell_type": "code",
   "execution_count": 24,
   "metadata": {
    "scrolled": false
   },
   "outputs": [
    {
     "name": "stdout",
     "output_type": "stream",
     "text": [
      "Delta_1, Delta_0 = -0.023582284281848366, -0.021287477985436103\n"
     ]
    }
   ],
   "source": [
    "## IntegratedGradients (baselines)\n",
    "\n",
    "u.set_all_seeds(seed)\n",
    "classifier.eval()\n",
    "ig_algo = IntegratedGradients(classifier)\n",
    "ig_algo_attr1, d1 = ig_algo.attribute(inputs, target=0, baselines=baselines, n_steps=5, return_convergence_delta=True)\n",
    "ig_algo_attr0, d0 = ig_algo.attribute(inputs, target=1, baselines=baselines, n_steps=5, return_convergence_delta=True)\n",
    "print(\"Delta_1, Delta_0 = {}, {}\".format(torch.mean(d1), torch.mean(d0)))"
   ]
  },
  {
   "cell_type": "code",
   "execution_count": 25,
   "metadata": {
    "scrolled": false
   },
   "outputs": [],
   "source": [
    "## run this line when only gene names needed\n",
    "# ig_top_genes_300, ig_top_genes_500, ig_top_genes_1000 = get_top_genes_from_attributions(ig_algo_attr1, ig_algo_attr0, columns)\n",
    "\n",
    "## run this line when attr dataset needed\n",
    "ig_top_genes = get_top_genes_from_attributions(ig_algo_attr1, ig_algo_attr0, columns)"
   ]
  },
  {
   "cell_type": "code",
   "execution_count": 73,
   "metadata": {},
   "outputs": [
    {
     "data": {
      "text/html": [
       "<div>\n",
       "<style scoped>\n",
       "    .dataframe tbody tr th:only-of-type {\n",
       "        vertical-align: middle;\n",
       "    }\n",
       "\n",
       "    .dataframe tbody tr th {\n",
       "        vertical-align: top;\n",
       "    }\n",
       "\n",
       "    .dataframe thead th {\n",
       "        text-align: right;\n",
       "    }\n",
       "</style>\n",
       "<table border=\"1\" class=\"dataframe\">\n",
       "  <thead>\n",
       "    <tr style=\"text-align: right;\">\n",
       "      <th></th>\n",
       "      <th>genes</th>\n",
       "      <th>mean_score</th>\n",
       "    </tr>\n",
       "  </thead>\n",
       "  <tbody>\n",
       "    <tr>\n",
       "      <th>10</th>\n",
       "      <td>DDX55</td>\n",
       "      <td>0.000898</td>\n",
       "    </tr>\n",
       "    <tr>\n",
       "      <th>11</th>\n",
       "      <td>FAM81A</td>\n",
       "      <td>0.000647</td>\n",
       "    </tr>\n",
       "    <tr>\n",
       "      <th>12</th>\n",
       "      <td>NPHP4</td>\n",
       "      <td>0.001959</td>\n",
       "    </tr>\n",
       "    <tr>\n",
       "      <th>13</th>\n",
       "      <td>MRPS25</td>\n",
       "      <td>0.000432</td>\n",
       "    </tr>\n",
       "    <tr>\n",
       "      <th>14</th>\n",
       "      <td>MAEL</td>\n",
       "      <td>0.000419</td>\n",
       "    </tr>\n",
       "    <tr>\n",
       "      <th>15</th>\n",
       "      <td>PROX1</td>\n",
       "      <td>0.000867</td>\n",
       "    </tr>\n",
       "    <tr>\n",
       "      <th>16</th>\n",
       "      <td>ELOVL1</td>\n",
       "      <td>0.000543</td>\n",
       "    </tr>\n",
       "    <tr>\n",
       "      <th>17</th>\n",
       "      <td>LILRA6</td>\n",
       "      <td>0.000417</td>\n",
       "    </tr>\n",
       "    <tr>\n",
       "      <th>18</th>\n",
       "      <td>NR5A2</td>\n",
       "      <td>0.000243</td>\n",
       "    </tr>\n",
       "    <tr>\n",
       "      <th>19</th>\n",
       "      <td>CDK10</td>\n",
       "      <td>0.000733</td>\n",
       "    </tr>\n",
       "    <tr>\n",
       "      <th>20</th>\n",
       "      <td>TMEM182</td>\n",
       "      <td>0.000329</td>\n",
       "    </tr>\n",
       "    <tr>\n",
       "      <th>21</th>\n",
       "      <td>ETV6</td>\n",
       "      <td>0.000688</td>\n",
       "    </tr>\n",
       "    <tr>\n",
       "      <th>22</th>\n",
       "      <td>DNAJA2</td>\n",
       "      <td>0.001290</td>\n",
       "    </tr>\n",
       "    <tr>\n",
       "      <th>23</th>\n",
       "      <td>ATOH7</td>\n",
       "      <td>0.002275</td>\n",
       "    </tr>\n",
       "    <tr>\n",
       "      <th>24</th>\n",
       "      <td>LRFN1</td>\n",
       "      <td>0.000281</td>\n",
       "    </tr>\n",
       "    <tr>\n",
       "      <th>25</th>\n",
       "      <td>MRPL12</td>\n",
       "      <td>0.001131</td>\n",
       "    </tr>\n",
       "    <tr>\n",
       "      <th>26</th>\n",
       "      <td>COL6A3</td>\n",
       "      <td>0.000909</td>\n",
       "    </tr>\n",
       "    <tr>\n",
       "      <th>27</th>\n",
       "      <td>C8orf31</td>\n",
       "      <td>0.000473</td>\n",
       "    </tr>\n",
       "    <tr>\n",
       "      <th>28</th>\n",
       "      <td>RTTN</td>\n",
       "      <td>0.000892</td>\n",
       "    </tr>\n",
       "    <tr>\n",
       "      <th>29</th>\n",
       "      <td>CD2BP2</td>\n",
       "      <td>0.000237</td>\n",
       "    </tr>\n",
       "  </tbody>\n",
       "</table>\n",
       "</div>"
      ],
      "text/plain": [
       "      genes  mean_score\n",
       "10    DDX55    0.000898\n",
       "11   FAM81A    0.000647\n",
       "12    NPHP4    0.001959\n",
       "13   MRPS25    0.000432\n",
       "14     MAEL    0.000419\n",
       "15    PROX1    0.000867\n",
       "16   ELOVL1    0.000543\n",
       "17   LILRA6    0.000417\n",
       "18    NR5A2    0.000243\n",
       "19    CDK10    0.000733\n",
       "20  TMEM182    0.000329\n",
       "21     ETV6    0.000688\n",
       "22   DNAJA2    0.001290\n",
       "23    ATOH7    0.002275\n",
       "24    LRFN1    0.000281\n",
       "25   MRPL12    0.001131\n",
       "26   COL6A3    0.000909\n",
       "27  C8orf31    0.000473\n",
       "28     RTTN    0.000892\n",
       "29   CD2BP2    0.000237"
      ]
     },
     "execution_count": 73,
     "metadata": {},
     "output_type": "execute_result"
    }
   ],
   "source": [
    "ig_top_genes[10:30]"
   ]
  },
  {
   "cell_type": "code",
   "execution_count": 27,
   "metadata": {},
   "outputs": [
    {
     "data": {
      "text/plain": [
       "<matplotlib.axes._subplots.AxesSubplot at 0x265a00eeac8>"
      ]
     },
     "execution_count": 27,
     "metadata": {},
     "output_type": "execute_result"
    },
    {
     "data": {
      "image/png": "[encoded data removed]",
      "text/plain": [
       "<Figure size 576x396 with 1 Axes>"
      ]
     },
     "metadata": {},
     "output_type": "display_data"
    }
   ],
   "source": [
    "sea.lineplot(\n",
    "    data=ig_top_genes[10:30],\n",
    "    x=\"genes\", y=\"mean_score\",\n",
    "    markers=True, dashes=True\n",
    ")"
   ]
  },
  {
   "cell_type": "code",
   "execution_count": 38,
   "metadata": {},
   "outputs": [],
   "source": [
    "h=list(ig_top_genes.mean_score[0:20])"
   ]
  },
  {
   "cell_type": "code",
   "execution_count": 39,
   "metadata": {},
   "outputs": [],
   "source": [
    "h.sort()"
   ]
  },
  {
   "cell_type": "code",
   "execution_count": 43,
   "metadata": {},
   "outputs": [
    {
     "data": {
      "text/plain": [
       "0.00024288423726412798"
      ]
     },
     "execution_count": 43,
     "metadata": {},
     "output_type": "execute_result"
    }
   ],
   "source": [
    "min(h)"
   ]
  },
  {
   "cell_type": "code",
   "execution_count": 72,
   "metadata": {},
   "outputs": [
    {
     "data": {
      "text/plain": [
       "<matplotlib.axes._subplots.AxesSubplot at 0x266c6740cc8>"
      ]
     },
     "execution_count": 72,
     "metadata": {},
     "output_type": "execute_result"
    },
    {
     "data": {
      "image/png": "[encoded data removed]",
      "text/plain": [
       "<Figure size 576x396 with 1 Axes>"
      ]
     },
     "metadata": {},
     "output_type": "display_data"
    }
   ],
   "source": [
    "plt.ylim(min(h), max(h))\n",
    "sea.barplot(\n",
    "    data=ig_top_genes[0:20],\n",
    "    x=\"genes\",\n",
    "    y='mean_score'\n",
    ")"
   ]
  },
  {
   "cell_type": "markdown",
   "metadata": {},
   "source": [
    "---"
   ]
  },
  {
   "cell_type": "code",
   "execution_count": 74,
   "metadata": {},
   "outputs": [],
   "source": [
    "torch.cuda.empty_cache()"
   ]
  },
  {
   "cell_type": "code",
   "execution_count": 75,
   "metadata": {},
   "outputs": [
    {
     "name": "stdout",
     "output_type": "stream",
     "text": [
      "Delta_1, Delta_0 = -0.00249549001455307, 0.00028240898973308504\n"
     ]
    }
   ],
   "source": [
    "## GradientShap (baselines)\n",
    "\n",
    "u.set_all_seeds(seed)\n",
    "classifier.eval()\n",
    "gradshap_algo = GradientShap(classifier)\n",
    "gradshap_attr1, d1 = gradshap_algo.attribute(inputs, target=0, baselines=baselines, return_convergence_delta=True)\n",
    "gradshap_attr0, d0 = gradshap_algo.attribute(inputs, target=1, baselines=baselines, return_convergence_delta=True)\n",
    "print(\"Delta_1, Delta_0 = {}, {}\".format(torch.mean(d1), torch.mean(d0)))"
   ]
  },
  {
   "cell_type": "code",
   "execution_count": 76,
   "metadata": {},
   "outputs": [],
   "source": [
    "gradshap_top_genes = get_top_genes_from_attributions(gradshap_attr1, gradshap_attr0, columns)"
   ]
  },
  {
   "cell_type": "code",
   "execution_count": 77,
   "metadata": {},
   "outputs": [
    {
     "data": {
      "text/html": [
       "<div>\n",
       "<style scoped>\n",
       "    .dataframe tbody tr th:only-of-type {\n",
       "        vertical-align: middle;\n",
       "    }\n",
       "\n",
       "    .dataframe tbody tr th {\n",
       "        vertical-align: top;\n",
       "    }\n",
       "\n",
       "    .dataframe thead th {\n",
       "        text-align: right;\n",
       "    }\n",
       "</style>\n",
       "<table border=\"1\" class=\"dataframe\">\n",
       "  <thead>\n",
       "    <tr style=\"text-align: right;\">\n",
       "      <th></th>\n",
       "      <th>genes</th>\n",
       "      <th>mean_score</th>\n",
       "    </tr>\n",
       "  </thead>\n",
       "  <tbody>\n",
       "    <tr>\n",
       "      <th>50</th>\n",
       "      <td>MEOX2</td>\n",
       "      <td>0.000332</td>\n",
       "    </tr>\n",
       "    <tr>\n",
       "      <th>51</th>\n",
       "      <td>CKLF</td>\n",
       "      <td>0.001882</td>\n",
       "    </tr>\n",
       "    <tr>\n",
       "      <th>52</th>\n",
       "      <td>TRANK1</td>\n",
       "      <td>0.001522</td>\n",
       "    </tr>\n",
       "    <tr>\n",
       "      <th>53</th>\n",
       "      <td>ZFP36</td>\n",
       "      <td>0.000703</td>\n",
       "    </tr>\n",
       "    <tr>\n",
       "      <th>54</th>\n",
       "      <td>SLC2A9</td>\n",
       "      <td>0.000207</td>\n",
       "    </tr>\n",
       "    <tr>\n",
       "      <th>55</th>\n",
       "      <td>MXRA7</td>\n",
       "      <td>0.000699</td>\n",
       "    </tr>\n",
       "    <tr>\n",
       "      <th>56</th>\n",
       "      <td>LOXL4</td>\n",
       "      <td>0.000394</td>\n",
       "    </tr>\n",
       "    <tr>\n",
       "      <th>57</th>\n",
       "      <td>P2RX6P</td>\n",
       "      <td>0.001064</td>\n",
       "    </tr>\n",
       "    <tr>\n",
       "      <th>58</th>\n",
       "      <td>SFRS7</td>\n",
       "      <td>0.000388</td>\n",
       "    </tr>\n",
       "    <tr>\n",
       "      <th>59</th>\n",
       "      <td>CSMD2</td>\n",
       "      <td>0.000996</td>\n",
       "    </tr>\n",
       "    <tr>\n",
       "      <th>60</th>\n",
       "      <td>EHMT1</td>\n",
       "      <td>0.000975</td>\n",
       "    </tr>\n",
       "    <tr>\n",
       "      <th>61</th>\n",
       "      <td>AGPAT3</td>\n",
       "      <td>0.001223</td>\n",
       "    </tr>\n",
       "    <tr>\n",
       "      <th>62</th>\n",
       "      <td>AGA</td>\n",
       "      <td>0.000339</td>\n",
       "    </tr>\n",
       "    <tr>\n",
       "      <th>63</th>\n",
       "      <td>LDHD</td>\n",
       "      <td>0.000312</td>\n",
       "    </tr>\n",
       "    <tr>\n",
       "      <th>64</th>\n",
       "      <td>C14orf181</td>\n",
       "      <td>0.002151</td>\n",
       "    </tr>\n",
       "    <tr>\n",
       "      <th>65</th>\n",
       "      <td>SH2B3</td>\n",
       "      <td>0.000501</td>\n",
       "    </tr>\n",
       "    <tr>\n",
       "      <th>66</th>\n",
       "      <td>MTMR7</td>\n",
       "      <td>0.000842</td>\n",
       "    </tr>\n",
       "    <tr>\n",
       "      <th>67</th>\n",
       "      <td>MT1F</td>\n",
       "      <td>0.001077</td>\n",
       "    </tr>\n",
       "    <tr>\n",
       "      <th>68</th>\n",
       "      <td>RSPO3</td>\n",
       "      <td>0.001296</td>\n",
       "    </tr>\n",
       "    <tr>\n",
       "      <th>69</th>\n",
       "      <td>ANKRD11</td>\n",
       "      <td>0.001012</td>\n",
       "    </tr>\n",
       "  </tbody>\n",
       "</table>\n",
       "</div>"
      ],
      "text/plain": [
       "        genes  mean_score\n",
       "50      MEOX2    0.000332\n",
       "51       CKLF    0.001882\n",
       "52     TRANK1    0.001522\n",
       "53      ZFP36    0.000703\n",
       "54     SLC2A9    0.000207\n",
       "55      MXRA7    0.000699\n",
       "56      LOXL4    0.000394\n",
       "57     P2RX6P    0.001064\n",
       "58      SFRS7    0.000388\n",
       "59      CSMD2    0.000996\n",
       "60      EHMT1    0.000975\n",
       "61     AGPAT3    0.001223\n",
       "62        AGA    0.000339\n",
       "63       LDHD    0.000312\n",
       "64  C14orf181    0.002151\n",
       "65      SH2B3    0.000501\n",
       "66      MTMR7    0.000842\n",
       "67       MT1F    0.001077\n",
       "68      RSPO3    0.001296\n",
       "69    ANKRD11    0.001012"
      ]
     },
     "execution_count": 77,
     "metadata": {},
     "output_type": "execute_result"
    }
   ],
   "source": [
    "gradshap_top_genes[50:70]"
   ]
  },
  {
   "cell_type": "code",
   "execution_count": 78,
   "metadata": {},
   "outputs": [
    {
     "data": {
      "text/plain": [
       "<matplotlib.axes._subplots.AxesSubplot at 0x2670ab2a588>"
      ]
     },
     "execution_count": 78,
     "metadata": {},
     "output_type": "execute_result"
    },
    {
     "data": {
      "image/png": "[encoded data removed]",
      "text/plain": [
       "<Figure size 576x396 with 1 Axes>"
      ]
     },
     "metadata": {},
     "output_type": "display_data"
    }
   ],
   "source": [
    "sea.lineplot(\n",
    "    data=gradshap_top_genes[0:20],\n",
    "    x=\"genes\", y=\"mean_score\",\n",
    "    markers=True, dashes=True\n",
    ")"
   ]
  },
  {
   "cell_type": "markdown",
   "metadata": {},
   "source": [
    "---"
   ]
  },
  {
   "cell_type": "code",
   "execution_count": 79,
   "metadata": {},
   "outputs": [],
   "source": [
    "torch.cuda.empty_cache()"
   ]
  },
  {
   "cell_type": "code",
   "execution_count": 80,
   "metadata": {},
   "outputs": [
    {
     "name": "stdout",
     "output_type": "stream",
     "text": [
      "Delta_1, Delta_0 = -1.6634455590747166e-08, 5.82571502150131e-08\n"
     ]
    }
   ],
   "source": [
    "## DeepLift (baselines)\n",
    "\n",
    "u.set_all_seeds(seed)\n",
    "classifier.eval()\n",
    "deeplift_algo = DeepLift(classifier)\n",
    "deeplift_attr1, d1 = deeplift_algo.attribute(inputs, target=0, baselines=baselines, return_convergence_delta=True)\n",
    "deeplift_attr0, d0 = deeplift_algo.attribute(inputs, target=1, baselines=baselines, return_convergence_delta=True)\n",
    "print(\"Delta_1, Delta_0 = {}, {}\".format(torch.mean(d1), torch.mean(d0)))"
   ]
  },
  {
   "cell_type": "code",
   "execution_count": 81,
   "metadata": {},
   "outputs": [],
   "source": [
    "deeplift_top_genes = get_top_genes_from_attributions(deeplift_attr1, deeplift_attr0, columns)"
   ]
  },
  {
   "cell_type": "code",
   "execution_count": 83,
   "metadata": {},
   "outputs": [
    {
     "data": {
      "text/html": [
       "<div>\n",
       "<style scoped>\n",
       "    .dataframe tbody tr th:only-of-type {\n",
       "        vertical-align: middle;\n",
       "    }\n",
       "\n",
       "    .dataframe tbody tr th {\n",
       "        vertical-align: top;\n",
       "    }\n",
       "\n",
       "    .dataframe thead th {\n",
       "        text-align: right;\n",
       "    }\n",
       "</style>\n",
       "<table border=\"1\" class=\"dataframe\">\n",
       "  <thead>\n",
       "    <tr style=\"text-align: right;\">\n",
       "      <th></th>\n",
       "      <th>genes</th>\n",
       "      <th>mean_score</th>\n",
       "    </tr>\n",
       "  </thead>\n",
       "  <tbody>\n",
       "    <tr>\n",
       "      <th>0</th>\n",
       "      <td>RBL2</td>\n",
       "      <td>0.000930</td>\n",
       "    </tr>\n",
       "    <tr>\n",
       "      <th>1</th>\n",
       "      <td>VDAC3</td>\n",
       "      <td>0.001256</td>\n",
       "    </tr>\n",
       "    <tr>\n",
       "      <th>2</th>\n",
       "      <td>ACTN1</td>\n",
       "      <td>0.000309</td>\n",
       "    </tr>\n",
       "    <tr>\n",
       "      <th>3</th>\n",
       "      <td>ATP2A1</td>\n",
       "      <td>0.001275</td>\n",
       "    </tr>\n",
       "    <tr>\n",
       "      <th>4</th>\n",
       "      <td>SFRP1</td>\n",
       "      <td>0.001120</td>\n",
       "    </tr>\n",
       "    <tr>\n",
       "      <th>5</th>\n",
       "      <td>NIPA2</td>\n",
       "      <td>0.001234</td>\n",
       "    </tr>\n",
       "    <tr>\n",
       "      <th>6</th>\n",
       "      <td>MAN1B1</td>\n",
       "      <td>0.002055</td>\n",
       "    </tr>\n",
       "    <tr>\n",
       "      <th>7</th>\n",
       "      <td>TSEN34</td>\n",
       "      <td>0.000851</td>\n",
       "    </tr>\n",
       "    <tr>\n",
       "      <th>8</th>\n",
       "      <td>LRRC16A</td>\n",
       "      <td>0.001038</td>\n",
       "    </tr>\n",
       "    <tr>\n",
       "      <th>9</th>\n",
       "      <td>CNBP</td>\n",
       "      <td>0.000765</td>\n",
       "    </tr>\n",
       "    <tr>\n",
       "      <th>10</th>\n",
       "      <td>DDX55</td>\n",
       "      <td>0.000686</td>\n",
       "    </tr>\n",
       "    <tr>\n",
       "      <th>11</th>\n",
       "      <td>FAM81A</td>\n",
       "      <td>0.000579</td>\n",
       "    </tr>\n",
       "    <tr>\n",
       "      <th>12</th>\n",
       "      <td>NPHP4</td>\n",
       "      <td>0.001624</td>\n",
       "    </tr>\n",
       "    <tr>\n",
       "      <th>13</th>\n",
       "      <td>MRPS25</td>\n",
       "      <td>0.000347</td>\n",
       "    </tr>\n",
       "    <tr>\n",
       "      <th>14</th>\n",
       "      <td>MAEL</td>\n",
       "      <td>0.000360</td>\n",
       "    </tr>\n",
       "    <tr>\n",
       "      <th>15</th>\n",
       "      <td>PROX1</td>\n",
       "      <td>0.000967</td>\n",
       "    </tr>\n",
       "    <tr>\n",
       "      <th>16</th>\n",
       "      <td>ELOVL1</td>\n",
       "      <td>0.000807</td>\n",
       "    </tr>\n",
       "    <tr>\n",
       "      <th>17</th>\n",
       "      <td>LILRA6</td>\n",
       "      <td>0.000381</td>\n",
       "    </tr>\n",
       "    <tr>\n",
       "      <th>18</th>\n",
       "      <td>NR5A2</td>\n",
       "      <td>0.000154</td>\n",
       "    </tr>\n",
       "    <tr>\n",
       "      <th>19</th>\n",
       "      <td>CDK10</td>\n",
       "      <td>0.000720</td>\n",
       "    </tr>\n",
       "  </tbody>\n",
       "</table>\n",
       "</div>"
      ],
      "text/plain": [
       "      genes  mean_score\n",
       "0      RBL2    0.000930\n",
       "1     VDAC3    0.001256\n",
       "2     ACTN1    0.000309\n",
       "3    ATP2A1    0.001275\n",
       "4     SFRP1    0.001120\n",
       "5     NIPA2    0.001234\n",
       "6    MAN1B1    0.002055\n",
       "7    TSEN34    0.000851\n",
       "8   LRRC16A    0.001038\n",
       "9      CNBP    0.000765\n",
       "10    DDX55    0.000686\n",
       "11   FAM81A    0.000579\n",
       "12    NPHP4    0.001624\n",
       "13   MRPS25    0.000347\n",
       "14     MAEL    0.000360\n",
       "15    PROX1    0.000967\n",
       "16   ELOVL1    0.000807\n",
       "17   LILRA6    0.000381\n",
       "18    NR5A2    0.000154\n",
       "19    CDK10    0.000720"
      ]
     },
     "execution_count": 83,
     "metadata": {},
     "output_type": "execute_result"
    }
   ],
   "source": [
    "deeplift_top_genes[0:20]"
   ]
  },
  {
   "cell_type": "code",
   "execution_count": 82,
   "metadata": {
    "scrolled": true
   },
   "outputs": [
    {
     "data": {
      "text/plain": [
       "<matplotlib.axes._subplots.AxesSubplot at 0x2670ab298c8>"
      ]
     },
     "execution_count": 82,
     "metadata": {},
     "output_type": "execute_result"
    },
    {
     "data": {
      "image/png": "[encoded data removed]",
      "text/plain": [
       "<Figure size 576x396 with 1 Axes>"
      ]
     },
     "metadata": {},
     "output_type": "display_data"
    }
   ],
   "source": [
    "sea.lineplot(\n",
    "    data=deeplift_top_genes[0:20],\n",
    "    x=\"genes\", y=\"mean_score\",\n",
    "    markers=True, dashes=True\n",
    ")"
   ]
  },
  {
   "cell_type": "code",
   "execution_count": null,
   "metadata": {},
   "outputs": [],
   "source": [
    "# visualize_importances(full_path, 'LUAD_DL', columns, torch.mean(deeplift_attr1, axis=0), title=\"Sample representation of Feature Importances computed by DeepLIFT on LUAD set\") ## LUAD genes visualisation\n",
    "# visualize_importances(full_path, 'LUSU_DL', columns, torch.mean(deeplift_attr0, axis=0), title=\"Sample representation of Feature Importances computed by DeepLIFT on LUSC set\") ## LUSU genes visualisation"
   ]
  },
  {
   "cell_type": "markdown",
   "metadata": {},
   "source": [
    "---\n",
    "---\n",
    "---"
   ]
  },
  {
   "cell_type": "code",
   "execution_count": null,
   "metadata": {},
   "outputs": [],
   "source": [
    "from venn import venn"
   ]
  },
  {
   "cell_type": "code",
   "execution_count": null,
   "metadata": {
    "scrolled": false
   },
   "outputs": [],
   "source": [
    "genes_dict = {\n",
    "    \n",
    "    'IntegratedGrad':set(ig_top_genes_300),\n",
    "    'GradShap': set(gradshap_top_genes_300),\n",
    "    'DeepLift': set(deeplift_top_genes_300),\n",
    "}\n",
    "venn(genes_dict, cmap='prism', hint_hidden=False, figsize=(11,11), legend_loc=\"upper left\")\n",
    "\n",
    "plt.title(\"Intersection of genes using IntegratedGradients, GradientSHAP and DeepLIFT\")\n",
    "plt.savefig(PATH+\"project_summary_seed_wise_meth/seed=\"+str(seed)+\"/genes_venn_300\", dpi=300, bbox_inches='tight')\n",
    "plt.show()"
   ]
  },
  {
   "cell_type": "code",
   "execution_count": null,
   "metadata": {},
   "outputs": [],
   "source": [
    "genes_dict = {\n",
    "    \n",
    "    'IntegratedGrad':set(ig_top_genes_500),\n",
    "    'GradShap': set(gradshap_top_genes_500),\n",
    "    'DeepLift': set(deeplift_top_genes_500),\n",
    "}\n",
    "venn(genes_dict, cmap='prism', hint_hidden=False, figsize=(11,11), legend_loc=\"upper left\")\n",
    "\n",
    "plt.title(\"Intersection of genes using IntegratedGradients, GradientSHAP and DeepLIFT\")\n",
    "plt.savefig(PATH+\"project_summary_seed_wise_meth/seed=\"+str(seed)+\"/genes_venn_500\", dpi=300, bbox_inches='tight')\n",
    "plt.show()"
   ]
  },
  {
   "cell_type": "code",
   "execution_count": null,
   "metadata": {},
   "outputs": [],
   "source": [
    "genes_dict = {\n",
    "    \n",
    "    'IntegratedGrad':set(ig_top_genes_1000),\n",
    "    'GradShap': set(gradshap_top_genes_1000),\n",
    "    'DeepLift': set(deeplift_top_genes_1000),\n",
    "}\n",
    "venn(genes_dict, cmap='prism', hint_hidden=False, figsize=(11,11), legend_loc=\"upper left\")\n",
    "\n",
    "plt.title(\"Intersection of genes using IntegratedGradients, GradientSHAP and DeepLIFT\")\n",
    "plt.savefig(PATH+\"project_summary_seed_wise_meth/seed=\"+str(seed)+\"/genes_venn_1000\", dpi=300, bbox_inches='tight')\n",
    "plt.show()"
   ]
  },
  {
   "cell_type": "markdown",
   "metadata": {},
   "source": [
    "---\n",
    "---\n",
    "---"
   ]
  },
  {
   "cell_type": "code",
   "execution_count": null,
   "metadata": {},
   "outputs": [],
   "source": [
    "## write common genes to separate files\n",
    "\n",
    "common_genes_300 =  set(deeplift_top_genes_300) & set(ig_top_genes_300) & set(gradshap_top_genes_300)\n",
    "common_genes_500 =  set(deeplift_top_genes_500) & set(ig_top_genes_500) & set(gradshap_top_genes_500)\n",
    "common_genes_1000 =  set(deeplift_top_genes_1000) & set(ig_top_genes_1000) & set(gradshap_top_genes_1000)"
   ]
  },
  {
   "cell_type": "code",
   "execution_count": null,
   "metadata": {},
   "outputs": [],
   "source": [
    "u.write_seed_genes(PATH, seed, common_genes_300, 300)\n",
    "u.write_seed_genes(PATH, seed, common_genes_500, 500)\n",
    "u.write_seed_genes(PATH, seed, common_genes_1000, 1000)"
   ]
  },
  {
   "cell_type": "code",
   "execution_count": null,
   "metadata": {},
   "outputs": [],
   "source": [
    "from scipy.io.wavfile import read\n",
    "\n",
    "fs, data = read('alert.wav', mmap=True)  # fs - sampling frequency\n",
    "data = data.reshape(-1, 1)\n",
    "import sounddevice as sd\n",
    "sd.play(data, 44100)"
   ]
  },
  {
   "cell_type": "markdown",
   "metadata": {},
   "source": [
    "---\n",
    "---\n",
    "---"
   ]
  },
  {
   "cell_type": "markdown",
   "metadata": {},
   "source": [
    "# LEVEL 3 complete !!!"
   ]
  }
 ],
 "metadata": {
  "kernelspec": {
   "display_name": "Python 3 (ipykernel)",
   "language": "python",
   "name": "python3"
  },
  "language_info": {
   "codemirror_mode": {
    "name": "ipython",
    "version": 3
   },
   "file_extension": ".py",
   "mimetype": "text/x-python",
   "name": "python",
   "nbconvert_exporter": "python",
   "pygments_lexer": "ipython3",
   "version": "3.7.13"
  }
 },
 "nbformat": 4,
 "nbformat_minor": 4
}
