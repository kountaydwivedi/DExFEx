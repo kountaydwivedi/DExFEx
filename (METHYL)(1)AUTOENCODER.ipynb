{
 "cells": [
  {
   "cell_type": "markdown",
   "metadata": {},
   "source": [
    "# START THE EXPERIMENT !!"
   ]
  },
  {
   "cell_type": "code",
   "execution_count": 1,
   "metadata": {},
   "outputs": [],
   "source": [
    "import numpy as np\n",
    "import pandas as pd\n",
    "import seaborn as sea\n",
    "import matplotlib.pyplot as plt\n",
    "\n",
    "plt.style.use('ggplot')\n",
    "sea.set_style('whitegrid')\n",
    "%matplotlib inline\n",
    "%load_ext autoreload\n",
    "%autoreload 2"
   ]
  },
  {
   "cell_type": "code",
   "execution_count": 2,
   "metadata": {},
   "outputs": [
    {
     "data": {
      "text/html": [
       "<style>.container { width:95% !important; }</style>"
      ],
      "text/plain": [
       "<IPython.core.display.HTML object>"
      ]
     },
     "metadata": {},
     "output_type": "display_data"
    }
   ],
   "source": [
    "# https://stackoverflow.com/questions/21971449/how-do-i-increase-the-cell-width-of-the-jupyter-ipython-notebook-in-my-browser\n",
    "\n",
    "from IPython.core.display import display, HTML\n",
    "display(HTML(\"<style>.container { width:95% !important; }</style>\"))"
   ]
  },
  {
   "cell_type": "code",
   "execution_count": 3,
   "metadata": {},
   "outputs": [],
   "source": [
    "from sklearn.model_selection import cross_val_score, StratifiedKFold\n",
    "\n",
    "import os\n",
    "import time\n",
    "import copy\n",
    "import random\n",
    "import shutil\n",
    "import meth_model_utils as u\n",
    "import meth_model_classes as c"
   ]
  },
  {
   "cell_type": "code",
   "execution_count": 4,
   "metadata": {},
   "outputs": [],
   "source": [
    "import warnings\n",
    "warnings.simplefilter('ignore')"
   ]
  },
  {
   "cell_type": "code",
   "execution_count": 5,
   "metadata": {},
   "outputs": [],
   "source": [
    "import os\n",
    "import time\n",
    "import copy\n",
    "import shutil\n",
    "\n",
    "import torch\n",
    "import torch.nn as nn\n",
    "import torch.nn.functional as F\n",
    "\n",
    "from torchvision import utils\n",
    "from torch.utils.data import Dataset, DataLoader"
   ]
  },
  {
   "cell_type": "code",
   "execution_count": 6,
   "metadata": {},
   "outputs": [],
   "source": [
    "torch.use_deterministic_algorithms(True)\n",
    "os.environ[\"CUBLAS_WORKSPACE_CONFIG\"]=\":16:8\""
   ]
  },
  {
   "cell_type": "markdown",
   "metadata": {},
   "source": [
    "# Setup device and seed"
   ]
  },
  {
   "cell_type": "code",
   "execution_count": 7,
   "metadata": {},
   "outputs": [],
   "source": [
    "device = torch.device('cuda' if  torch.cuda.is_available() else 'cpu')"
   ]
  },
  {
   "cell_type": "code",
   "execution_count": 8,
   "metadata": {
    "scrolled": true
   },
   "outputs": [
    {
     "data": {
      "text/plain": [
       "device(type='cuda')"
      ]
     },
     "execution_count": 8,
     "metadata": {},
     "output_type": "execute_result"
    }
   ],
   "source": [
    "device"
   ]
  },
  {
   "cell_type": "code",
   "execution_count": 9,
   "metadata": {
    "scrolled": false
   },
   "outputs": [
    {
     "name": "stdout",
     "output_type": "stream",
     "text": [
      "Seed =  324\n"
     ]
    }
   ],
   "source": [
    "seed = u.get_seed()\n",
    "print('Seed = ', seed)\n",
    "u.set_all_seeds(seed)"
   ]
  },
  {
   "cell_type": "markdown",
   "metadata": {},
   "source": [
    "---\n",
    "---\n",
    "---"
   ]
  },
  {
   "cell_type": "markdown",
   "metadata": {},
   "source": [
    "# Setup dataframe"
   ]
  },
  {
   "cell_type": "code",
   "execution_count": 10,
   "metadata": {},
   "outputs": [],
   "source": [
    "PATH = \"D:/CANCER BIOLOGY/DATASET/TCGA/FROM Xena/\""
   ]
  },
  {
   "cell_type": "code",
   "execution_count": 11,
   "metadata": {},
   "outputs": [],
   "source": [
    "df_luad = pd.read_csv(PATH+\"meth_luad.csv\", index_col=0)\n",
    "df_lusu = pd.read_csv(PATH+\"meth_lusu.csv\", index_col=0)\n",
    "df_lusu.drop(index=['MBD3L2'], axis=0, inplace=True)\n",
    "df_final = u.meth_data_preprocess(df_luad, df_lusu)"
   ]
  },
  {
   "cell_type": "code",
   "execution_count": 12,
   "metadata": {},
   "outputs": [],
   "source": [
    "df_final = df_final.sample(frac=1, random_state=seed).reset_index(drop=True)\n",
    "labels = list(df_final['label'])\n",
    "df_final.drop(columns=['label'], axis=1, inplace=True) ## drop column sample_id and label\n",
    "columns = list(df_final.columns)"
   ]
  },
  {
   "cell_type": "code",
   "execution_count": 13,
   "metadata": {},
   "outputs": [],
   "source": [
    "xtrain = df_final.to_numpy()\n",
    "ytrain = labels"
   ]
  },
  {
   "cell_type": "code",
   "execution_count": 14,
   "metadata": {},
   "outputs": [
    {
     "data": {
      "text/plain": [
       "(828, 20115)"
      ]
     },
     "execution_count": 14,
     "metadata": {},
     "output_type": "execute_result"
    }
   ],
   "source": [
    "xtrain.shape"
   ]
  },
  {
   "cell_type": "code",
   "execution_count": 15,
   "metadata": {},
   "outputs": [
    {
     "data": {
      "text/plain": [
       "array([[-0.2409, -0.1083,  0.2395, ...,  0.0487,  0.0487, -0.3371],\n",
       "       [-0.3149, -0.0382,  0.1613, ..., -0.133 , -0.133 , -0.3876],\n",
       "       [ 0.0038, -0.0716,  0.1159, ..., -0.0513, -0.0513, -0.3075],\n",
       "       ...,\n",
       "       [-0.4203, -0.4794,  0.2244, ...,  0.0016,  0.0016, -0.4379],\n",
       "       [-0.4551, -0.4582,  0.1067, ..., -0.1569, -0.1569, -0.2953],\n",
       "       [-0.4541, -0.4749, -0.0786, ...,  0.0435,  0.0435, -0.3795]])"
      ]
     },
     "execution_count": 15,
     "metadata": {},
     "output_type": "execute_result"
    }
   ],
   "source": [
    "xtrain"
   ]
  },
  {
   "cell_type": "code",
   "execution_count": 16,
   "metadata": {},
   "outputs": [
    {
     "data": {
      "text/html": [
       "<div>\n",
       "<style scoped>\n",
       "    .dataframe tbody tr th:only-of-type {\n",
       "        vertical-align: middle;\n",
       "    }\n",
       "\n",
       "    .dataframe tbody tr th {\n",
       "        vertical-align: top;\n",
       "    }\n",
       "\n",
       "    .dataframe thead th {\n",
       "        text-align: right;\n",
       "    }\n",
       "</style>\n",
       "<table border=\"1\" class=\"dataframe\">\n",
       "  <thead>\n",
       "    <tr style=\"text-align: right;\">\n",
       "      <th></th>\n",
       "      <th>RBL2</th>\n",
       "      <th>VDAC3</th>\n",
       "      <th>ACTN1</th>\n",
       "      <th>ATP2A1</th>\n",
       "      <th>SFRP1</th>\n",
       "      <th>NIPA2</th>\n",
       "      <th>MAN1B1</th>\n",
       "      <th>TSEN34</th>\n",
       "      <th>LRRC16A</th>\n",
       "      <th>CNBP</th>\n",
       "      <th>...</th>\n",
       "      <th>BAGE5</th>\n",
       "      <th>BAGE</th>\n",
       "      <th>BAGE2</th>\n",
       "      <th>BAGE4</th>\n",
       "      <th>BAGE3</th>\n",
       "      <th>MIR637</th>\n",
       "      <th>LOC100130932</th>\n",
       "      <th>GOLGA8F</th>\n",
       "      <th>GOLGA8G</th>\n",
       "      <th>MIR7-1</th>\n",
       "    </tr>\n",
       "  </thead>\n",
       "  <tbody>\n",
       "    <tr>\n",
       "      <th>0</th>\n",
       "      <td>-0.2409</td>\n",
       "      <td>-0.1083</td>\n",
       "      <td>0.2395</td>\n",
       "      <td>0.3893</td>\n",
       "      <td>-0.0479</td>\n",
       "      <td>0.3245</td>\n",
       "      <td>-0.4213</td>\n",
       "      <td>-0.3727</td>\n",
       "      <td>-0.3146</td>\n",
       "      <td>-0.4176</td>\n",
       "      <td>...</td>\n",
       "      <td>0.1955</td>\n",
       "      <td>0.1955</td>\n",
       "      <td>0.1955</td>\n",
       "      <td>0.1955</td>\n",
       "      <td>0.1955</td>\n",
       "      <td>0.3568</td>\n",
       "      <td>0.4044</td>\n",
       "      <td>0.0487</td>\n",
       "      <td>0.0487</td>\n",
       "      <td>-0.3371</td>\n",
       "    </tr>\n",
       "    <tr>\n",
       "      <th>1</th>\n",
       "      <td>-0.3149</td>\n",
       "      <td>-0.0382</td>\n",
       "      <td>0.1613</td>\n",
       "      <td>0.3379</td>\n",
       "      <td>0.0013</td>\n",
       "      <td>0.3428</td>\n",
       "      <td>-0.4294</td>\n",
       "      <td>-0.3522</td>\n",
       "      <td>-0.3440</td>\n",
       "      <td>-0.4229</td>\n",
       "      <td>...</td>\n",
       "      <td>0.0527</td>\n",
       "      <td>0.0527</td>\n",
       "      <td>0.0527</td>\n",
       "      <td>0.0527</td>\n",
       "      <td>0.0527</td>\n",
       "      <td>0.3562</td>\n",
       "      <td>0.4002</td>\n",
       "      <td>-0.1330</td>\n",
       "      <td>-0.1330</td>\n",
       "      <td>-0.3876</td>\n",
       "    </tr>\n",
       "    <tr>\n",
       "      <th>2</th>\n",
       "      <td>0.0038</td>\n",
       "      <td>-0.0716</td>\n",
       "      <td>0.1159</td>\n",
       "      <td>0.1238</td>\n",
       "      <td>-0.1988</td>\n",
       "      <td>0.3203</td>\n",
       "      <td>-0.4264</td>\n",
       "      <td>-0.3297</td>\n",
       "      <td>-0.3182</td>\n",
       "      <td>-0.3750</td>\n",
       "      <td>...</td>\n",
       "      <td>0.0774</td>\n",
       "      <td>0.0774</td>\n",
       "      <td>0.0774</td>\n",
       "      <td>0.0774</td>\n",
       "      <td>0.0774</td>\n",
       "      <td>0.3618</td>\n",
       "      <td>0.3936</td>\n",
       "      <td>-0.0513</td>\n",
       "      <td>-0.0513</td>\n",
       "      <td>-0.3075</td>\n",
       "    </tr>\n",
       "    <tr>\n",
       "      <th>3</th>\n",
       "      <td>-0.1457</td>\n",
       "      <td>-0.1677</td>\n",
       "      <td>0.1674</td>\n",
       "      <td>0.3513</td>\n",
       "      <td>-0.4500</td>\n",
       "      <td>0.3623</td>\n",
       "      <td>-0.4344</td>\n",
       "      <td>-0.3153</td>\n",
       "      <td>-0.3492</td>\n",
       "      <td>-0.3263</td>\n",
       "      <td>...</td>\n",
       "      <td>0.0343</td>\n",
       "      <td>0.0343</td>\n",
       "      <td>0.0343</td>\n",
       "      <td>0.0343</td>\n",
       "      <td>0.0343</td>\n",
       "      <td>0.3538</td>\n",
       "      <td>0.3837</td>\n",
       "      <td>-0.0495</td>\n",
       "      <td>-0.0495</td>\n",
       "      <td>-0.4226</td>\n",
       "    </tr>\n",
       "    <tr>\n",
       "      <th>4</th>\n",
       "      <td>-0.0836</td>\n",
       "      <td>-0.0579</td>\n",
       "      <td>0.0985</td>\n",
       "      <td>0.3155</td>\n",
       "      <td>-0.1373</td>\n",
       "      <td>0.3005</td>\n",
       "      <td>-0.4475</td>\n",
       "      <td>-0.2967</td>\n",
       "      <td>-0.3646</td>\n",
       "      <td>-0.4396</td>\n",
       "      <td>...</td>\n",
       "      <td>0.1695</td>\n",
       "      <td>0.1695</td>\n",
       "      <td>0.1695</td>\n",
       "      <td>0.1695</td>\n",
       "      <td>0.1695</td>\n",
       "      <td>0.3471</td>\n",
       "      <td>0.4030</td>\n",
       "      <td>-0.0526</td>\n",
       "      <td>-0.0526</td>\n",
       "      <td>-0.4085</td>\n",
       "    </tr>\n",
       "    <tr>\n",
       "      <th>...</th>\n",
       "      <td>...</td>\n",
       "      <td>...</td>\n",
       "      <td>...</td>\n",
       "      <td>...</td>\n",
       "      <td>...</td>\n",
       "      <td>...</td>\n",
       "      <td>...</td>\n",
       "      <td>...</td>\n",
       "      <td>...</td>\n",
       "      <td>...</td>\n",
       "      <td>...</td>\n",
       "      <td>...</td>\n",
       "      <td>...</td>\n",
       "      <td>...</td>\n",
       "      <td>...</td>\n",
       "      <td>...</td>\n",
       "      <td>...</td>\n",
       "      <td>...</td>\n",
       "      <td>...</td>\n",
       "      <td>...</td>\n",
       "      <td>...</td>\n",
       "    </tr>\n",
       "    <tr>\n",
       "      <th>823</th>\n",
       "      <td>-0.1859</td>\n",
       "      <td>0.0367</td>\n",
       "      <td>0.0753</td>\n",
       "      <td>0.3212</td>\n",
       "      <td>-0.1880</td>\n",
       "      <td>0.3145</td>\n",
       "      <td>-0.4332</td>\n",
       "      <td>-0.3189</td>\n",
       "      <td>-0.3267</td>\n",
       "      <td>-0.4030</td>\n",
       "      <td>...</td>\n",
       "      <td>0.1584</td>\n",
       "      <td>0.1584</td>\n",
       "      <td>0.1584</td>\n",
       "      <td>0.1584</td>\n",
       "      <td>0.1584</td>\n",
       "      <td>0.3179</td>\n",
       "      <td>0.3801</td>\n",
       "      <td>-0.0272</td>\n",
       "      <td>-0.0272</td>\n",
       "      <td>-0.3877</td>\n",
       "    </tr>\n",
       "    <tr>\n",
       "      <th>824</th>\n",
       "      <td>-0.4289</td>\n",
       "      <td>-0.4730</td>\n",
       "      <td>0.1825</td>\n",
       "      <td>-0.4401</td>\n",
       "      <td>-0.3812</td>\n",
       "      <td>-0.4896</td>\n",
       "      <td>-0.4896</td>\n",
       "      <td>-0.4319</td>\n",
       "      <td>-0.4663</td>\n",
       "      <td>-0.1633</td>\n",
       "      <td>...</td>\n",
       "      <td>0.1005</td>\n",
       "      <td>0.1005</td>\n",
       "      <td>0.1005</td>\n",
       "      <td>0.1005</td>\n",
       "      <td>0.1005</td>\n",
       "      <td>0.3420</td>\n",
       "      <td>0.3871</td>\n",
       "      <td>-0.2103</td>\n",
       "      <td>-0.2103</td>\n",
       "      <td>-0.1958</td>\n",
       "    </tr>\n",
       "    <tr>\n",
       "      <th>825</th>\n",
       "      <td>-0.4203</td>\n",
       "      <td>-0.4794</td>\n",
       "      <td>0.2244</td>\n",
       "      <td>-0.2298</td>\n",
       "      <td>-0.1448</td>\n",
       "      <td>-0.4858</td>\n",
       "      <td>-0.4867</td>\n",
       "      <td>-0.4549</td>\n",
       "      <td>-0.4691</td>\n",
       "      <td>0.1942</td>\n",
       "      <td>...</td>\n",
       "      <td>0.2590</td>\n",
       "      <td>0.2590</td>\n",
       "      <td>0.2590</td>\n",
       "      <td>0.2590</td>\n",
       "      <td>0.2590</td>\n",
       "      <td>0.4169</td>\n",
       "      <td>0.4268</td>\n",
       "      <td>0.0016</td>\n",
       "      <td>0.0016</td>\n",
       "      <td>-0.4379</td>\n",
       "    </tr>\n",
       "    <tr>\n",
       "      <th>826</th>\n",
       "      <td>-0.4551</td>\n",
       "      <td>-0.4582</td>\n",
       "      <td>0.1067</td>\n",
       "      <td>-0.3967</td>\n",
       "      <td>-0.3489</td>\n",
       "      <td>-0.4888</td>\n",
       "      <td>-0.4867</td>\n",
       "      <td>-0.4645</td>\n",
       "      <td>-0.4709</td>\n",
       "      <td>0.2420</td>\n",
       "      <td>...</td>\n",
       "      <td>-0.0901</td>\n",
       "      <td>-0.0901</td>\n",
       "      <td>-0.0901</td>\n",
       "      <td>-0.0901</td>\n",
       "      <td>-0.0901</td>\n",
       "      <td>0.3944</td>\n",
       "      <td>0.3996</td>\n",
       "      <td>-0.1569</td>\n",
       "      <td>-0.1569</td>\n",
       "      <td>-0.2953</td>\n",
       "    </tr>\n",
       "    <tr>\n",
       "      <th>827</th>\n",
       "      <td>-0.4541</td>\n",
       "      <td>-0.4749</td>\n",
       "      <td>-0.0786</td>\n",
       "      <td>-0.2605</td>\n",
       "      <td>-0.3929</td>\n",
       "      <td>-0.4882</td>\n",
       "      <td>-0.4895</td>\n",
       "      <td>-0.4466</td>\n",
       "      <td>-0.4696</td>\n",
       "      <td>-0.0637</td>\n",
       "      <td>...</td>\n",
       "      <td>0.2673</td>\n",
       "      <td>0.2673</td>\n",
       "      <td>0.2673</td>\n",
       "      <td>0.2673</td>\n",
       "      <td>0.2673</td>\n",
       "      <td>0.3936</td>\n",
       "      <td>0.4298</td>\n",
       "      <td>0.0435</td>\n",
       "      <td>0.0435</td>\n",
       "      <td>-0.3795</td>\n",
       "    </tr>\n",
       "  </tbody>\n",
       "</table>\n",
       "<p>828 rows × 20115 columns</p>\n",
       "</div>"
      ],
      "text/plain": [
       "       RBL2   VDAC3   ACTN1  ATP2A1   SFRP1   NIPA2  MAN1B1  TSEN34  LRRC16A  \\\n",
       "0   -0.2409 -0.1083  0.2395  0.3893 -0.0479  0.3245 -0.4213 -0.3727  -0.3146   \n",
       "1   -0.3149 -0.0382  0.1613  0.3379  0.0013  0.3428 -0.4294 -0.3522  -0.3440   \n",
       "2    0.0038 -0.0716  0.1159  0.1238 -0.1988  0.3203 -0.4264 -0.3297  -0.3182   \n",
       "3   -0.1457 -0.1677  0.1674  0.3513 -0.4500  0.3623 -0.4344 -0.3153  -0.3492   \n",
       "4   -0.0836 -0.0579  0.0985  0.3155 -0.1373  0.3005 -0.4475 -0.2967  -0.3646   \n",
       "..      ...     ...     ...     ...     ...     ...     ...     ...      ...   \n",
       "823 -0.1859  0.0367  0.0753  0.3212 -0.1880  0.3145 -0.4332 -0.3189  -0.3267   \n",
       "824 -0.4289 -0.4730  0.1825 -0.4401 -0.3812 -0.4896 -0.4896 -0.4319  -0.4663   \n",
       "825 -0.4203 -0.4794  0.2244 -0.2298 -0.1448 -0.4858 -0.4867 -0.4549  -0.4691   \n",
       "826 -0.4551 -0.4582  0.1067 -0.3967 -0.3489 -0.4888 -0.4867 -0.4645  -0.4709   \n",
       "827 -0.4541 -0.4749 -0.0786 -0.2605 -0.3929 -0.4882 -0.4895 -0.4466  -0.4696   \n",
       "\n",
       "       CNBP  ...   BAGE5    BAGE   BAGE2   BAGE4   BAGE3  MIR637  \\\n",
       "0   -0.4176  ...  0.1955  0.1955  0.1955  0.1955  0.1955  0.3568   \n",
       "1   -0.4229  ...  0.0527  0.0527  0.0527  0.0527  0.0527  0.3562   \n",
       "2   -0.3750  ...  0.0774  0.0774  0.0774  0.0774  0.0774  0.3618   \n",
       "3   -0.3263  ...  0.0343  0.0343  0.0343  0.0343  0.0343  0.3538   \n",
       "4   -0.4396  ...  0.1695  0.1695  0.1695  0.1695  0.1695  0.3471   \n",
       "..      ...  ...     ...     ...     ...     ...     ...     ...   \n",
       "823 -0.4030  ...  0.1584  0.1584  0.1584  0.1584  0.1584  0.3179   \n",
       "824 -0.1633  ...  0.1005  0.1005  0.1005  0.1005  0.1005  0.3420   \n",
       "825  0.1942  ...  0.2590  0.2590  0.2590  0.2590  0.2590  0.4169   \n",
       "826  0.2420  ... -0.0901 -0.0901 -0.0901 -0.0901 -0.0901  0.3944   \n",
       "827 -0.0637  ...  0.2673  0.2673  0.2673  0.2673  0.2673  0.3936   \n",
       "\n",
       "     LOC100130932  GOLGA8F  GOLGA8G  MIR7-1  \n",
       "0          0.4044   0.0487   0.0487 -0.3371  \n",
       "1          0.4002  -0.1330  -0.1330 -0.3876  \n",
       "2          0.3936  -0.0513  -0.0513 -0.3075  \n",
       "3          0.3837  -0.0495  -0.0495 -0.4226  \n",
       "4          0.4030  -0.0526  -0.0526 -0.4085  \n",
       "..            ...      ...      ...     ...  \n",
       "823        0.3801  -0.0272  -0.0272 -0.3877  \n",
       "824        0.3871  -0.2103  -0.2103 -0.1958  \n",
       "825        0.4268   0.0016   0.0016 -0.4379  \n",
       "826        0.3996  -0.1569  -0.1569 -0.2953  \n",
       "827        0.4298   0.0435   0.0435 -0.3795  \n",
       "\n",
       "[828 rows x 20115 columns]"
      ]
     },
     "execution_count": 16,
     "metadata": {},
     "output_type": "execute_result"
    }
   ],
   "source": [
    "df_final"
   ]
  },
  {
   "cell_type": "markdown",
   "metadata": {},
   "source": [
    "---\n",
    "---\n",
    "---\n",
    "---"
   ]
  },
  {
   "cell_type": "markdown",
   "metadata": {},
   "source": [
    "# Start training autoencoder"
   ]
  },
  {
   "cell_type": "code",
   "execution_count": 17,
   "metadata": {},
   "outputs": [],
   "source": [
    "input_dim = xtrain.shape[1]\n",
    "epochs = 20\n",
    "batch_size = 32\n",
    "learning_rate = 0.000005\n",
    "output_dim = 2048"
   ]
  },
  {
   "cell_type": "code",
   "execution_count": 18,
   "metadata": {},
   "outputs": [],
   "source": [
    "train_dataset = c.LUNG_Meth(ytrain, xtrain)"
   ]
  },
  {
   "cell_type": "code",
   "execution_count": 19,
   "metadata": {},
   "outputs": [],
   "source": [
    "train_loader = DataLoader(train_dataset, batch_size, shuffle=True)"
   ]
  },
  {
   "cell_type": "markdown",
   "metadata": {},
   "source": [
    "# Train and plot"
   ]
  },
  {
   "cell_type": "code",
   "execution_count": 20,
   "metadata": {},
   "outputs": [],
   "source": [
    "u.set_all_seeds(seed)"
   ]
  },
  {
   "cell_type": "code",
   "execution_count": 21,
   "metadata": {
    "scrolled": true
   },
   "outputs": [],
   "source": [
    "model = c.METH_AutoEncoder(input_dim, output_dim)\n",
    "model.to(device)\n",
    "optimizer = torch.optim.AdamW(model.parameters(), lr=learning_rate)"
   ]
  },
  {
   "cell_type": "code",
   "execution_count": 22,
   "metadata": {
    "scrolled": false
   },
   "outputs": [
    {
     "data": {
      "application/vnd.jupyter.widget-view+json": {
       "model_id": "6dd840bb96ed43f29abde1f3556363bb",
       "version_major": 2,
       "version_minor": 0
      },
      "text/plain": [
       "  0%|          | 0/26 [00:00<?, ?it/s]"
      ]
     },
     "metadata": {},
     "output_type": "display_data"
    },
    {
     "name": "stdout",
     "output_type": "stream",
     "text": [
      "Epoch: 001/020 | Loss: 0.1312\n"
     ]
    },
    {
     "data": {
      "application/vnd.jupyter.widget-view+json": {
       "model_id": "ffec9cb3dabf4c25a76e97282a428d2a",
       "version_major": 2,
       "version_minor": 0
      },
      "text/plain": [
       "  0%|          | 0/26 [00:00<?, ?it/s]"
      ]
     },
     "metadata": {},
     "output_type": "display_data"
    },
    {
     "name": "stdout",
     "output_type": "stream",
     "text": [
      "Epoch: 002/020 | Loss: 0.0555\n"
     ]
    },
    {
     "data": {
      "application/vnd.jupyter.widget-view+json": {
       "model_id": "3af0c7c072ee4e308e28b192955d2b8d",
       "version_major": 2,
       "version_minor": 0
      },
      "text/plain": [
       "  0%|          | 0/26 [00:00<?, ?it/s]"
      ]
     },
     "metadata": {},
     "output_type": "display_data"
    },
    {
     "ename": "KeyboardInterrupt",
     "evalue": "",
     "output_type": "error",
     "traceback": [
      "\u001b[1;31m---------------------------------------------------------------------------\u001b[0m",
      "\u001b[1;31mKeyboardInterrupt\u001b[0m                         Traceback (most recent call last)",
      "\u001b[1;32m~\\AppData\\Local\\Temp\\ipykernel_18372\\3594501643.py\u001b[0m in \u001b[0;36m<module>\u001b[1;34m\u001b[0m\n\u001b[0;32m      7\u001b[0m     \u001b[0mskip_epoch_stats\u001b[0m \u001b[1;33m=\u001b[0m \u001b[1;32mFalse\u001b[0m\u001b[1;33m,\u001b[0m\u001b[1;33m\u001b[0m\u001b[1;33m\u001b[0m\u001b[0m\n\u001b[0;32m      8\u001b[0m     \u001b[0mlogging_interval\u001b[0m \u001b[1;33m=\u001b[0m \u001b[1;36m500\u001b[0m\u001b[1;33m,\u001b[0m\u001b[1;33m\u001b[0m\u001b[1;33m\u001b[0m\u001b[0m\n\u001b[1;32m----> 9\u001b[1;33m     \u001b[0mpatience\u001b[0m\u001b[1;33m=\u001b[0m\u001b[1;36m5\u001b[0m\u001b[1;33m\u001b[0m\u001b[1;33m\u001b[0m\u001b[0m\n\u001b[0m\u001b[0;32m     10\u001b[0m )\n",
      "\u001b[1;32m~\\PHD\\meth_model_utils.py\u001b[0m in \u001b[0;36mtrain_encoder\u001b[1;34m(num_epochs, model, optimizer, device, train_loader, valid_loader, loss_fn, logging_interval, skip_epoch_stats, patience)\u001b[0m\n\u001b[0;32m    147\u001b[0m \u001b[1;33m\u001b[0m\u001b[0m\n\u001b[0;32m    148\u001b[0m             \u001b[1;31m# LOGGING\u001b[0m\u001b[1;33m\u001b[0m\u001b[1;33m\u001b[0m\u001b[1;33m\u001b[0m\u001b[0m\n\u001b[1;32m--> 149\u001b[1;33m             \u001b[0mlog_dict\u001b[0m\u001b[1;33m[\u001b[0m\u001b[1;34m'train_loss_per_batch'\u001b[0m\u001b[1;33m]\u001b[0m\u001b[1;33m.\u001b[0m\u001b[0mappend\u001b[0m\u001b[1;33m(\u001b[0m\u001b[0mloss\u001b[0m\u001b[1;33m.\u001b[0m\u001b[0mitem\u001b[0m\u001b[1;33m(\u001b[0m\u001b[1;33m)\u001b[0m\u001b[1;33m)\u001b[0m\u001b[1;33m\u001b[0m\u001b[1;33m\u001b[0m\u001b[0m\n\u001b[0m\u001b[0;32m    150\u001b[0m         \u001b[0mprint\u001b[0m\u001b[1;33m(\u001b[0m\u001b[1;34m'Epoch: %03d/%03d | Loss: %.4f'\u001b[0m\u001b[1;33m%\u001b[0m \u001b[1;33m(\u001b[0m\u001b[0mepoch\u001b[0m\u001b[1;33m+\u001b[0m\u001b[1;36m1\u001b[0m\u001b[1;33m,\u001b[0m \u001b[0mnum_epochs\u001b[0m\u001b[1;33m,\u001b[0m \u001b[0mloss\u001b[0m\u001b[1;33m.\u001b[0m\u001b[0mitem\u001b[0m\u001b[1;33m(\u001b[0m\u001b[1;33m)\u001b[0m\u001b[1;33m)\u001b[0m\u001b[1;33m)\u001b[0m\u001b[1;33m\u001b[0m\u001b[1;33m\u001b[0m\u001b[0m\n\u001b[0;32m    151\u001b[0m         \u001b[1;32mif\u001b[0m\u001b[1;33m(\u001b[0m\u001b[0minit_loss\u001b[0m \u001b[1;33m>\u001b[0m \u001b[0mloss\u001b[0m\u001b[1;33m.\u001b[0m\u001b[0mitem\u001b[0m\u001b[1;33m(\u001b[0m\u001b[1;33m)\u001b[0m\u001b[1;33m)\u001b[0m\u001b[1;33m:\u001b[0m\u001b[1;33m\u001b[0m\u001b[1;33m\u001b[0m\u001b[0m\n",
      "\u001b[1;31mKeyboardInterrupt\u001b[0m: "
     ]
    }
   ],
   "source": [
    "log_dict = u.train_encoder(\n",
    "    num_epochs = epochs,\n",
    "    model = model,\n",
    "    optimizer = optimizer,\n",
    "    device = device,\n",
    "    train_loader = train_loader,\n",
    "    skip_epoch_stats = False,\n",
    "    logging_interval = 500,\n",
    "    patience=5\n",
    ")"
   ]
  },
  {
   "cell_type": "code",
   "execution_count": null,
   "metadata": {
    "scrolled": false
   },
   "outputs": [],
   "source": [
    "u.plot_training_loss(log_dict['train_loss_per_batch'], epochs)\n",
    "plt.title(\"Autoencoder: Min loss={:.4f}\".format(log_dict['final_loss']))\n",
    "plt.savefig(PATH+\"project_summary_seed_wise_meth/seed=\"+str(seed)+\"/autoencoder\", dpi=300, bbox_inches='tight')\n",
    "plt.show()"
   ]
  },
  {
   "cell_type": "code",
   "execution_count": null,
   "metadata": {},
   "outputs": [],
   "source": [
    "torch.save(model.state_dict(), PATH+\"models/LUNG_METH_Autoencoder.kd\")"
   ]
  },
  {
   "cell_type": "markdown",
   "metadata": {},
   "source": [
    "## Compute pearson correlation b/w True_Dataset and Generated_Dataset"
   ]
  },
  {
   "cell_type": "code",
   "execution_count": null,
   "metadata": {},
   "outputs": [],
   "source": [
    "u.set_all_seeds(seed)"
   ]
  },
  {
   "cell_type": "code",
   "execution_count": null,
   "metadata": {
    "scrolled": true
   },
   "outputs": [],
   "source": [
    "pearson_loader = DataLoader(train_dataset, len(train_dataset), shuffle=True)\n",
    "pearson_correlation_coeff = u.pearson_correlation(model, pearson_loader, device)\n",
    "print(\"Pearson Correlation Coefficient = \", pearson_correlation_coeff)\n",
    "\n",
    "with open(r'D:/CANCER BIOLOGY/DATASET/TCGA/FROM Xena/project_summary_seed_wise_meth/seed=%s/pearson.corr'%str(seed), 'w') as fp:\n",
    "    fp.write(\"%s\\n\" % pearson_correlation_coeff)"
   ]
  },
  {
   "cell_type": "code",
   "execution_count": null,
   "metadata": {
    "scrolled": true
   },
   "outputs": [],
   "source": [
    "from scipy.io.wavfile import read\n",
    "\n",
    "fs, data = read('alert.wav', mmap=True)  # fs - sampling frequency\n",
    "data = data.reshape(-1, 1)\n",
    "import sounddevice as sd\n",
    "sd.play(data, 44100)"
   ]
  },
  {
   "cell_type": "markdown",
   "metadata": {},
   "source": [
    "---\n",
    "---\n",
    "---"
   ]
  },
  {
   "cell_type": "markdown",
   "metadata": {},
   "source": [
    "# LEVEL 1  complete !"
   ]
  }
 ],
 "metadata": {
  "kernelspec": {
   "display_name": "Python 3 (ipykernel)",
   "language": "python",
   "name": "python3"
  },
  "language_info": {
   "codemirror_mode": {
    "name": "ipython",
    "version": 3
   },
   "file_extension": ".py",
   "mimetype": "text/x-python",
   "name": "python",
   "nbconvert_exporter": "python",
   "pygments_lexer": "ipython3",
   "version": "3.7.13"
  }
 },
 "nbformat": 4,
 "nbformat_minor": 4
}
