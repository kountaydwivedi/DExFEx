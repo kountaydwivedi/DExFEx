{
 "cells": [
  {
   "cell_type": "code",
   "execution_count": 1,
   "metadata": {},
   "outputs": [],
   "source": [
    "import numpy as np\n",
    "import pandas as pd"
   ]
  },
  {
   "cell_type": "code",
   "execution_count": 2,
   "metadata": {},
   "outputs": [
    {
     "data": {
      "text/html": [
       "<style>.container { width:95% !important; }</style>"
      ],
      "text/plain": [
       "<IPython.core.display.HTML object>"
      ]
     },
     "metadata": {},
     "output_type": "display_data"
    }
   ],
   "source": [
    "# https://stackoverflow.com/questions/21971449/how-do-i-increase-the-cell-width-of-the-jupyter-ipython-notebook-in-my-browser\n",
    "\n",
    "from IPython.core.display import display, HTML\n",
    "display(HTML(\"<style>.container { width:95% !important; }</style>\"))"
   ]
  },
  {
   "cell_type": "code",
   "execution_count": 3,
   "metadata": {},
   "outputs": [],
   "source": [
    "import warnings\n",
    "warnings.simplefilter('ignore')"
   ]
  },
  {
   "cell_type": "code",
   "execution_count": 4,
   "metadata": {},
   "outputs": [],
   "source": [
    "import os\n",
    "import time\n",
    "import copy\n",
    "import shutil\n",
    "import cnv_model_utils as u\n",
    "import cnv_model_classes as c"
   ]
  },
  {
   "cell_type": "code",
   "execution_count": 5,
   "metadata": {},
   "outputs": [],
   "source": [
    "PATH = \"D:/CANCER BIOLOGY/DATASET/TCGA/FROM Xena/\""
   ]
  },
  {
   "cell_type": "code",
   "execution_count": 6,
   "metadata": {},
   "outputs": [],
   "source": [
    "df_luad = pd.read_csv(PATH+\"km_plot_data_meth_luad.csv\")\n",
    "df_lusu = pd.read_csv(PATH+\"km_plot_data_meth_lusu.csv\")"
   ]
  },
  {
   "cell_type": "code",
   "execution_count": 7,
   "metadata": {
    "scrolled": false
   },
   "outputs": [],
   "source": [
    "## drop columns from df_luad\n",
    "df_luad.drop(columns=['years_to_birth', 'pathologic_stage', 'gender', 'ethnicity'], axis=1, inplace=True)"
   ]
  },
  {
   "cell_type": "code",
   "execution_count": 8,
   "metadata": {},
   "outputs": [],
   "source": [
    "## drop columns from df_lusu\n",
    "df_lusu.drop(columns=['years_to_birth', 'pathologic_stage', 'gender', 'ethnicity'], axis=1, inplace=True)"
   ]
  },
  {
   "cell_type": "code",
   "execution_count": 9,
   "metadata": {},
   "outputs": [],
   "source": [
    "df_luad_data = pd.read_csv(PATH+\"meth_luad.csv\", index_col=0)\n",
    "df_lusu_data = pd.read_csv(PATH+\"meth_lusu.csv\", index_col=0)\n",
    "df_lusu_data.drop(index=['MBD3L2'], axis=0, inplace=True)"
   ]
  },
  {
   "cell_type": "code",
   "execution_count": 10,
   "metadata": {},
   "outputs": [],
   "source": [
    "genee = ['C18orf18', 'CCDC15', 'CCNT2', 'EXOC6', 'SNORA9', 'THOP1', 'TNPO2']"
   ]
  },
  {
   "cell_type": "code",
   "execution_count": 11,
   "metadata": {},
   "outputs": [],
   "source": [
    "df_luad_data = df_luad_data.T\n",
    "df_lusu_data = df_lusu_data.T"
   ]
  },
  {
   "cell_type": "code",
   "execution_count": 12,
   "metadata": {
    "scrolled": true
   },
   "outputs": [],
   "source": [
    "df_final_select_luad = df_luad_data[df_luad_data.columns.intersection(genee)]\n",
    "df_final_select_lusu = df_lusu_data[df_lusu_data.columns.intersection(genee)]"
   ]
  },
  {
   "cell_type": "code",
   "execution_count": 13,
   "metadata": {},
   "outputs": [],
   "source": [
    "df_luad.set_index(list(df_luad)[0], inplace=True)\n",
    "df_lusu.set_index(list(df_lusu)[0], inplace=True)"
   ]
  },
  {
   "cell_type": "code",
   "execution_count": 14,
   "metadata": {},
   "outputs": [
    {
     "data": {
      "text/html": [
       "<div>\n",
       "<style scoped>\n",
       "    .dataframe tbody tr th:only-of-type {\n",
       "        vertical-align: middle;\n",
       "    }\n",
       "\n",
       "    .dataframe tbody tr th {\n",
       "        vertical-align: top;\n",
       "    }\n",
       "\n",
       "    .dataframe thead th {\n",
       "        text-align: right;\n",
       "    }\n",
       "</style>\n",
       "<table border=\"1\" class=\"dataframe\">\n",
       "  <thead>\n",
       "    <tr style=\"text-align: right;\">\n",
       "      <th></th>\n",
       "      <th>overall_survival</th>\n",
       "      <th>status</th>\n",
       "    </tr>\n",
       "    <tr>\n",
       "      <th>attrib_name</th>\n",
       "      <th></th>\n",
       "      <th></th>\n",
       "    </tr>\n",
       "  </thead>\n",
       "  <tbody>\n",
       "    <tr>\n",
       "      <th>TCGA.05.4384</th>\n",
       "      <td>426.0</td>\n",
       "      <td>0.0</td>\n",
       "    </tr>\n",
       "    <tr>\n",
       "      <th>TCGA.05.4390</th>\n",
       "      <td>1126.0</td>\n",
       "      <td>0.0</td>\n",
       "    </tr>\n",
       "    <tr>\n",
       "      <th>TCGA.05.4396</th>\n",
       "      <td>303.0</td>\n",
       "      <td>1.0</td>\n",
       "    </tr>\n",
       "    <tr>\n",
       "      <th>TCGA.05.4405</th>\n",
       "      <td>610.0</td>\n",
       "      <td>0.0</td>\n",
       "    </tr>\n",
       "    <tr>\n",
       "      <th>TCGA.05.4410</th>\n",
       "      <td>NaN</td>\n",
       "      <td>NaN</td>\n",
       "    </tr>\n",
       "    <tr>\n",
       "      <th>...</th>\n",
       "      <td>...</td>\n",
       "      <td>...</td>\n",
       "    </tr>\n",
       "    <tr>\n",
       "      <th>TCGA.NJ.A55O</th>\n",
       "      <td>NaN</td>\n",
       "      <td>NaN</td>\n",
       "    </tr>\n",
       "    <tr>\n",
       "      <th>TCGA.NJ.A55R</th>\n",
       "      <td>603.0</td>\n",
       "      <td>0.0</td>\n",
       "    </tr>\n",
       "    <tr>\n",
       "      <th>TCGA.NJ.A7XG</th>\n",
       "      <td>617.0</td>\n",
       "      <td>0.0</td>\n",
       "    </tr>\n",
       "    <tr>\n",
       "      <th>TCGA.O1.A52J</th>\n",
       "      <td>1798.0</td>\n",
       "      <td>1.0</td>\n",
       "    </tr>\n",
       "    <tr>\n",
       "      <th>TCGA.S2.AA1A</th>\n",
       "      <td>513.0</td>\n",
       "      <td>0.0</td>\n",
       "    </tr>\n",
       "  </tbody>\n",
       "</table>\n",
       "<p>458 rows × 2 columns</p>\n",
       "</div>"
      ],
      "text/plain": [
       "              overall_survival  status\n",
       "attrib_name                           \n",
       "TCGA.05.4384             426.0     0.0\n",
       "TCGA.05.4390            1126.0     0.0\n",
       "TCGA.05.4396             303.0     1.0\n",
       "TCGA.05.4405             610.0     0.0\n",
       "TCGA.05.4410               NaN     NaN\n",
       "...                        ...     ...\n",
       "TCGA.NJ.A55O               NaN     NaN\n",
       "TCGA.NJ.A55R             603.0     0.0\n",
       "TCGA.NJ.A7XG             617.0     0.0\n",
       "TCGA.O1.A52J            1798.0     1.0\n",
       "TCGA.S2.AA1A             513.0     0.0\n",
       "\n",
       "[458 rows x 2 columns]"
      ]
     },
     "execution_count": 14,
     "metadata": {},
     "output_type": "execute_result"
    }
   ],
   "source": [
    "df_luad"
   ]
  },
  {
   "cell_type": "code",
   "execution_count": 15,
   "metadata": {},
   "outputs": [
    {
     "data": {
      "text/html": [
       "<div>\n",
       "<style scoped>\n",
       "    .dataframe tbody tr th:only-of-type {\n",
       "        vertical-align: middle;\n",
       "    }\n",
       "\n",
       "    .dataframe tbody tr th {\n",
       "        vertical-align: top;\n",
       "    }\n",
       "\n",
       "    .dataframe thead th {\n",
       "        text-align: right;\n",
       "    }\n",
       "</style>\n",
       "<table border=\"1\" class=\"dataframe\">\n",
       "  <thead>\n",
       "    <tr style=\"text-align: right;\">\n",
       "      <th>attrib_name</th>\n",
       "      <th>THOP1</th>\n",
       "      <th>EXOC6</th>\n",
       "      <th>CCNT2</th>\n",
       "      <th>CCDC15</th>\n",
       "      <th>TNPO2</th>\n",
       "      <th>SNORA9</th>\n",
       "      <th>C18orf18</th>\n",
       "    </tr>\n",
       "  </thead>\n",
       "  <tbody>\n",
       "    <tr>\n",
       "      <th>TCGA.05.4384</th>\n",
       "      <td>-0.4807</td>\n",
       "      <td>-0.3753</td>\n",
       "      <td>-0.4673</td>\n",
       "      <td>-0.4783</td>\n",
       "      <td>-0.4582</td>\n",
       "      <td>-0.4635</td>\n",
       "      <td>-0.4711</td>\n",
       "    </tr>\n",
       "    <tr>\n",
       "      <th>TCGA.05.4390</th>\n",
       "      <td>-0.4846</td>\n",
       "      <td>-0.3965</td>\n",
       "      <td>-0.4820</td>\n",
       "      <td>-0.4877</td>\n",
       "      <td>-0.4844</td>\n",
       "      <td>-0.4611</td>\n",
       "      <td>-0.4768</td>\n",
       "    </tr>\n",
       "    <tr>\n",
       "      <th>TCGA.05.4396</th>\n",
       "      <td>-0.4862</td>\n",
       "      <td>-0.3857</td>\n",
       "      <td>-0.4684</td>\n",
       "      <td>-0.4761</td>\n",
       "      <td>-0.4603</td>\n",
       "      <td>-0.4620</td>\n",
       "      <td>-0.4665</td>\n",
       "    </tr>\n",
       "    <tr>\n",
       "      <th>TCGA.05.4405</th>\n",
       "      <td>-0.4892</td>\n",
       "      <td>-0.3956</td>\n",
       "      <td>-0.4779</td>\n",
       "      <td>-0.4843</td>\n",
       "      <td>-0.4860</td>\n",
       "      <td>-0.4567</td>\n",
       "      <td>-0.4667</td>\n",
       "    </tr>\n",
       "    <tr>\n",
       "      <th>TCGA.05.4410</th>\n",
       "      <td>-0.4853</td>\n",
       "      <td>-0.3916</td>\n",
       "      <td>-0.4778</td>\n",
       "      <td>-0.4843</td>\n",
       "      <td>-0.4763</td>\n",
       "      <td>-0.4521</td>\n",
       "      <td>-0.4693</td>\n",
       "    </tr>\n",
       "    <tr>\n",
       "      <th>...</th>\n",
       "      <td>...</td>\n",
       "      <td>...</td>\n",
       "      <td>...</td>\n",
       "      <td>...</td>\n",
       "      <td>...</td>\n",
       "      <td>...</td>\n",
       "      <td>...</td>\n",
       "    </tr>\n",
       "    <tr>\n",
       "      <th>TCGA.NJ.A55O</th>\n",
       "      <td>-0.4705</td>\n",
       "      <td>-0.3911</td>\n",
       "      <td>-0.4391</td>\n",
       "      <td>-0.4659</td>\n",
       "      <td>-0.4612</td>\n",
       "      <td>-0.4638</td>\n",
       "      <td>-0.4487</td>\n",
       "    </tr>\n",
       "    <tr>\n",
       "      <th>TCGA.NJ.A55R</th>\n",
       "      <td>-0.4746</td>\n",
       "      <td>-0.3823</td>\n",
       "      <td>-0.4383</td>\n",
       "      <td>-0.4741</td>\n",
       "      <td>-0.4555</td>\n",
       "      <td>-0.4366</td>\n",
       "      <td>-0.4513</td>\n",
       "    </tr>\n",
       "    <tr>\n",
       "      <th>TCGA.NJ.A7XG</th>\n",
       "      <td>-0.4841</td>\n",
       "      <td>-0.4122</td>\n",
       "      <td>-0.4865</td>\n",
       "      <td>-0.4797</td>\n",
       "      <td>-0.4826</td>\n",
       "      <td>-0.4643</td>\n",
       "      <td>-0.4791</td>\n",
       "    </tr>\n",
       "    <tr>\n",
       "      <th>TCGA.O1.A52J</th>\n",
       "      <td>-0.4776</td>\n",
       "      <td>-0.4105</td>\n",
       "      <td>-0.4626</td>\n",
       "      <td>-0.4680</td>\n",
       "      <td>-0.4666</td>\n",
       "      <td>-0.4297</td>\n",
       "      <td>-0.4531</td>\n",
       "    </tr>\n",
       "    <tr>\n",
       "      <th>TCGA.S2.AA1A</th>\n",
       "      <td>-0.4907</td>\n",
       "      <td>-0.4113</td>\n",
       "      <td>-0.4838</td>\n",
       "      <td>-0.4911</td>\n",
       "      <td>-0.4885</td>\n",
       "      <td>-0.4689</td>\n",
       "      <td>-0.4782</td>\n",
       "    </tr>\n",
       "  </tbody>\n",
       "</table>\n",
       "<p>458 rows × 7 columns</p>\n",
       "</div>"
      ],
      "text/plain": [
       "attrib_name    THOP1   EXOC6   CCNT2  CCDC15   TNPO2  SNORA9  C18orf18\n",
       "TCGA.05.4384 -0.4807 -0.3753 -0.4673 -0.4783 -0.4582 -0.4635   -0.4711\n",
       "TCGA.05.4390 -0.4846 -0.3965 -0.4820 -0.4877 -0.4844 -0.4611   -0.4768\n",
       "TCGA.05.4396 -0.4862 -0.3857 -0.4684 -0.4761 -0.4603 -0.4620   -0.4665\n",
       "TCGA.05.4405 -0.4892 -0.3956 -0.4779 -0.4843 -0.4860 -0.4567   -0.4667\n",
       "TCGA.05.4410 -0.4853 -0.3916 -0.4778 -0.4843 -0.4763 -0.4521   -0.4693\n",
       "...              ...     ...     ...     ...     ...     ...       ...\n",
       "TCGA.NJ.A55O -0.4705 -0.3911 -0.4391 -0.4659 -0.4612 -0.4638   -0.4487\n",
       "TCGA.NJ.A55R -0.4746 -0.3823 -0.4383 -0.4741 -0.4555 -0.4366   -0.4513\n",
       "TCGA.NJ.A7XG -0.4841 -0.4122 -0.4865 -0.4797 -0.4826 -0.4643   -0.4791\n",
       "TCGA.O1.A52J -0.4776 -0.4105 -0.4626 -0.4680 -0.4666 -0.4297   -0.4531\n",
       "TCGA.S2.AA1A -0.4907 -0.4113 -0.4838 -0.4911 -0.4885 -0.4689   -0.4782\n",
       "\n",
       "[458 rows x 7 columns]"
      ]
     },
     "execution_count": 15,
     "metadata": {},
     "output_type": "execute_result"
    }
   ],
   "source": [
    "df_final_select_luad"
   ]
  },
  {
   "cell_type": "code",
   "execution_count": 16,
   "metadata": {},
   "outputs": [],
   "source": [
    "km_df_luad = pd.concat([df_luad, df_final_select_luad], axis=1, join='inner')\n",
    "km_df_lusu = pd.concat([df_lusu, df_final_select_lusu], axis=1, join='inner')"
   ]
  },
  {
   "cell_type": "code",
   "execution_count": 18,
   "metadata": {},
   "outputs": [],
   "source": [
    "km_dataset_meth = pd.concat([km_df_luad, km_df_lusu])"
   ]
  },
  {
   "cell_type": "code",
   "execution_count": 19,
   "metadata": {},
   "outputs": [
    {
     "data": {
      "text/html": [
       "<div>\n",
       "<style scoped>\n",
       "    .dataframe tbody tr th:only-of-type {\n",
       "        vertical-align: middle;\n",
       "    }\n",
       "\n",
       "    .dataframe tbody tr th {\n",
       "        vertical-align: top;\n",
       "    }\n",
       "\n",
       "    .dataframe thead th {\n",
       "        text-align: right;\n",
       "    }\n",
       "</style>\n",
       "<table border=\"1\" class=\"dataframe\">\n",
       "  <thead>\n",
       "    <tr style=\"text-align: right;\">\n",
       "      <th></th>\n",
       "      <th>overall_survival</th>\n",
       "      <th>status</th>\n",
       "      <th>THOP1</th>\n",
       "      <th>EXOC6</th>\n",
       "      <th>CCNT2</th>\n",
       "      <th>CCDC15</th>\n",
       "      <th>TNPO2</th>\n",
       "      <th>SNORA9</th>\n",
       "      <th>C18orf18</th>\n",
       "    </tr>\n",
       "  </thead>\n",
       "  <tbody>\n",
       "    <tr>\n",
       "      <th>TCGA.05.4384</th>\n",
       "      <td>426.0</td>\n",
       "      <td>0.0</td>\n",
       "      <td>-0.4807</td>\n",
       "      <td>-0.3753</td>\n",
       "      <td>-0.4673</td>\n",
       "      <td>-0.4783</td>\n",
       "      <td>-0.4582</td>\n",
       "      <td>-0.4635</td>\n",
       "      <td>-0.4711</td>\n",
       "    </tr>\n",
       "    <tr>\n",
       "      <th>TCGA.05.4390</th>\n",
       "      <td>1126.0</td>\n",
       "      <td>0.0</td>\n",
       "      <td>-0.4846</td>\n",
       "      <td>-0.3965</td>\n",
       "      <td>-0.4820</td>\n",
       "      <td>-0.4877</td>\n",
       "      <td>-0.4844</td>\n",
       "      <td>-0.4611</td>\n",
       "      <td>-0.4768</td>\n",
       "    </tr>\n",
       "    <tr>\n",
       "      <th>TCGA.05.4396</th>\n",
       "      <td>303.0</td>\n",
       "      <td>1.0</td>\n",
       "      <td>-0.4862</td>\n",
       "      <td>-0.3857</td>\n",
       "      <td>-0.4684</td>\n",
       "      <td>-0.4761</td>\n",
       "      <td>-0.4603</td>\n",
       "      <td>-0.4620</td>\n",
       "      <td>-0.4665</td>\n",
       "    </tr>\n",
       "    <tr>\n",
       "      <th>TCGA.05.4405</th>\n",
       "      <td>610.0</td>\n",
       "      <td>0.0</td>\n",
       "      <td>-0.4892</td>\n",
       "      <td>-0.3956</td>\n",
       "      <td>-0.4779</td>\n",
       "      <td>-0.4843</td>\n",
       "      <td>-0.4860</td>\n",
       "      <td>-0.4567</td>\n",
       "      <td>-0.4667</td>\n",
       "    </tr>\n",
       "    <tr>\n",
       "      <th>TCGA.05.4410</th>\n",
       "      <td>NaN</td>\n",
       "      <td>NaN</td>\n",
       "      <td>-0.4853</td>\n",
       "      <td>-0.3916</td>\n",
       "      <td>-0.4778</td>\n",
       "      <td>-0.4843</td>\n",
       "      <td>-0.4763</td>\n",
       "      <td>-0.4521</td>\n",
       "      <td>-0.4693</td>\n",
       "    </tr>\n",
       "    <tr>\n",
       "      <th>...</th>\n",
       "      <td>...</td>\n",
       "      <td>...</td>\n",
       "      <td>...</td>\n",
       "      <td>...</td>\n",
       "      <td>...</td>\n",
       "      <td>...</td>\n",
       "      <td>...</td>\n",
       "      <td>...</td>\n",
       "      <td>...</td>\n",
       "    </tr>\n",
       "    <tr>\n",
       "      <th>TCGA.O2.A52S</th>\n",
       "      <td>387.0</td>\n",
       "      <td>1.0</td>\n",
       "      <td>-0.4845</td>\n",
       "      <td>-0.4883</td>\n",
       "      <td>-0.4628</td>\n",
       "      <td>0.2107</td>\n",
       "      <td>0.4278</td>\n",
       "      <td>-0.4423</td>\n",
       "      <td>-0.4563</td>\n",
       "    </tr>\n",
       "    <tr>\n",
       "      <th>TCGA.O2.A52V</th>\n",
       "      <td>1335.0</td>\n",
       "      <td>1.0</td>\n",
       "      <td>-0.4824</td>\n",
       "      <td>-0.4808</td>\n",
       "      <td>-0.4695</td>\n",
       "      <td>0.1433</td>\n",
       "      <td>0.4321</td>\n",
       "      <td>-0.4444</td>\n",
       "      <td>-0.4726</td>\n",
       "    </tr>\n",
       "    <tr>\n",
       "      <th>TCGA.O2.A52W</th>\n",
       "      <td>261.0</td>\n",
       "      <td>1.0</td>\n",
       "      <td>-0.4845</td>\n",
       "      <td>-0.4836</td>\n",
       "      <td>-0.4817</td>\n",
       "      <td>0.0449</td>\n",
       "      <td>0.4087</td>\n",
       "      <td>-0.4445</td>\n",
       "      <td>-0.4781</td>\n",
       "    </tr>\n",
       "    <tr>\n",
       "      <th>TCGA.O2.A5IB</th>\n",
       "      <td>340.0</td>\n",
       "      <td>1.0</td>\n",
       "      <td>-0.4854</td>\n",
       "      <td>-0.4843</td>\n",
       "      <td>-0.4758</td>\n",
       "      <td>0.2843</td>\n",
       "      <td>0.4106</td>\n",
       "      <td>-0.4448</td>\n",
       "      <td>-0.4752</td>\n",
       "    </tr>\n",
       "    <tr>\n",
       "      <th>TCGA.XC.AA0X</th>\n",
       "      <td>NaN</td>\n",
       "      <td>NaN</td>\n",
       "      <td>-0.4893</td>\n",
       "      <td>-0.4880</td>\n",
       "      <td>-0.4481</td>\n",
       "      <td>0.0305</td>\n",
       "      <td>0.4389</td>\n",
       "      <td>-0.4368</td>\n",
       "      <td>-0.4744</td>\n",
       "    </tr>\n",
       "  </tbody>\n",
       "</table>\n",
       "<p>828 rows × 9 columns</p>\n",
       "</div>"
      ],
      "text/plain": [
       "              overall_survival  status   THOP1   EXOC6   CCNT2  CCDC15  \\\n",
       "TCGA.05.4384             426.0     0.0 -0.4807 -0.3753 -0.4673 -0.4783   \n",
       "TCGA.05.4390            1126.0     0.0 -0.4846 -0.3965 -0.4820 -0.4877   \n",
       "TCGA.05.4396             303.0     1.0 -0.4862 -0.3857 -0.4684 -0.4761   \n",
       "TCGA.05.4405             610.0     0.0 -0.4892 -0.3956 -0.4779 -0.4843   \n",
       "TCGA.05.4410               NaN     NaN -0.4853 -0.3916 -0.4778 -0.4843   \n",
       "...                        ...     ...     ...     ...     ...     ...   \n",
       "TCGA.O2.A52S             387.0     1.0 -0.4845 -0.4883 -0.4628  0.2107   \n",
       "TCGA.O2.A52V            1335.0     1.0 -0.4824 -0.4808 -0.4695  0.1433   \n",
       "TCGA.O2.A52W             261.0     1.0 -0.4845 -0.4836 -0.4817  0.0449   \n",
       "TCGA.O2.A5IB             340.0     1.0 -0.4854 -0.4843 -0.4758  0.2843   \n",
       "TCGA.XC.AA0X               NaN     NaN -0.4893 -0.4880 -0.4481  0.0305   \n",
       "\n",
       "               TNPO2  SNORA9  C18orf18  \n",
       "TCGA.05.4384 -0.4582 -0.4635   -0.4711  \n",
       "TCGA.05.4390 -0.4844 -0.4611   -0.4768  \n",
       "TCGA.05.4396 -0.4603 -0.4620   -0.4665  \n",
       "TCGA.05.4405 -0.4860 -0.4567   -0.4667  \n",
       "TCGA.05.4410 -0.4763 -0.4521   -0.4693  \n",
       "...              ...     ...       ...  \n",
       "TCGA.O2.A52S  0.4278 -0.4423   -0.4563  \n",
       "TCGA.O2.A52V  0.4321 -0.4444   -0.4726  \n",
       "TCGA.O2.A52W  0.4087 -0.4445   -0.4781  \n",
       "TCGA.O2.A5IB  0.4106 -0.4448   -0.4752  \n",
       "TCGA.XC.AA0X  0.4389 -0.4368   -0.4744  \n",
       "\n",
       "[828 rows x 9 columns]"
      ]
     },
     "execution_count": 19,
     "metadata": {},
     "output_type": "execute_result"
    }
   ],
   "source": [
    "km_dataset_meth"
   ]
  },
  {
   "cell_type": "code",
   "execution_count": 20,
   "metadata": {},
   "outputs": [],
   "source": [
    "km_dataset_meth.to_csv(PATH+'curated_km_dataset_meth.csv')"
   ]
  },
  {
   "cell_type": "code",
   "execution_count": null,
   "metadata": {},
   "outputs": [],
   "source": []
  },
  {
   "cell_type": "code",
   "execution_count": null,
   "metadata": {},
   "outputs": [],
   "source": []
  },
  {
   "cell_type": "code",
   "execution_count": null,
   "metadata": {},
   "outputs": [],
   "source": [
    "# ## shuffle the dataset\n",
    "# df_final = df_final.sample(frac=1, random_state=43)"
   ]
  },
  {
   "cell_type": "code",
   "execution_count": null,
   "metadata": {},
   "outputs": [],
   "source": [
    "## finally, save the dataset 'df_final' to a csv file\n",
    "## https://pandas.pydata.org/docs/reference/api/pandas.DataFrame.to_csv.html\n",
    "\n",
    "\n",
    "PATH = \"D:/CANCER BIOLOGY/DATASET/TCGA/FROM Xena/\"\n",
    "df_final.to_csv(PATH+'METHYL_DATASET_PREPROCESSED.csv', index=False)"
   ]
  },
  {
   "cell_type": "code",
   "execution_count": null,
   "metadata": {},
   "outputs": [],
   "source": [
    "## check if its being read properly\n",
    "\n",
    "df_read = pd.read_csv(PATH+'METHYL_DATASET_PREPROCESSED.gz', sep='\\t')"
   ]
  },
  {
   "cell_type": "code",
   "execution_count": null,
   "metadata": {
    "scrolled": false
   },
   "outputs": [],
   "source": [
    "df_read"
   ]
  },
  {
   "cell_type": "code",
   "execution_count": null,
   "metadata": {},
   "outputs": [],
   "source": [
    "from scipy.io.wavfile import read\n",
    "\n",
    "fs, data = read('alert.wav', mmap=True)  # fs - sampling frequency\n",
    "data = data.reshape(-1, 1)\n",
    "import sounddevice as sd\n",
    "sd.play(data, 44100)"
   ]
  },
  {
   "cell_type": "markdown",
   "metadata": {},
   "source": [
    "# PREPROCESSING DONE !!"
   ]
  }
 ],
 "metadata": {
  "kernelspec": {
   "display_name": "Python 3 (ipykernel)",
   "language": "python",
   "name": "python3"
  },
  "language_info": {
   "codemirror_mode": {
    "name": "ipython",
    "version": 3
   },
   "file_extension": ".py",
   "mimetype": "text/x-python",
   "name": "python",
   "nbconvert_exporter": "python",
   "pygments_lexer": "ipython3",
   "version": "3.7.13"
  }
 },
 "nbformat": 4,
 "nbformat_minor": 4
}
