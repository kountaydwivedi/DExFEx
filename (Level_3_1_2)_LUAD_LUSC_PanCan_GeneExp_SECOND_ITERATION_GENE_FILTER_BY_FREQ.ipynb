{
 "cells": [
  {
   "cell_type": "code",
   "execution_count": 1,
   "metadata": {},
   "outputs": [
    {
     "data": {
      "text/html": [
       "<style>.container { width:98% !important; }</style>"
      ],
      "text/plain": [
       "<IPython.core.display.HTML object>"
      ]
     },
     "metadata": {},
     "output_type": "display_data"
    }
   ],
   "source": [
    "# https://stackoverflow.com/questions/21971449/how-do-i-increase-the-cell-width-of-the-jupyter-ipython-notebook-in-my-browser\n",
    "\n",
    "from IPython.core.display import display, HTML\n",
    "display(HTML(\"<style>.container { width:98% !important; }</style>\"))"
   ]
  },
  {
   "cell_type": "code",
   "execution_count": 2,
   "metadata": {},
   "outputs": [],
   "source": [
    "import numpy as np\n",
    "import pandas as pd\n",
    "import matplotlib.pyplot as plt\n",
    "\n",
    "from sklearn.preprocessing import StandardScaler\n",
    "from sklearn.model_selection import StratifiedKFold, train_test_split, LeaveOneOut\n",
    "from sklearn.metrics import roc_curve, auc, plot_confusion_matrix, plot_precision_recall_curve, classification_report\n",
    "\n",
    "from sklearn.svm import SVC\n",
    "from sklearn.neural_network import MLPClassifier\n",
    "from sklearn.linear_model import LogisticRegression\n",
    "from sklearn.ensemble import RandomForestClassifier\n",
    "\n",
    "from tqdm.notebook import tqdm\n",
    "\n",
    "plt.style.use('seaborn-whitegrid')\n",
    "\n",
    "%matplotlib inline\n",
    "%load_ext autoreload\n",
    "%autoreload 2"
   ]
  },
  {
   "cell_type": "code",
   "execution_count": 3,
   "metadata": {},
   "outputs": [],
   "source": [
    "import os\n",
    "import gc\n",
    "import time\n",
    "import copy\n",
    "import torch\n",
    "import model_utils as u\n",
    "import model_evaluation as me"
   ]
  },
  {
   "cell_type": "code",
   "execution_count": 4,
   "metadata": {},
   "outputs": [],
   "source": [
    "torch.use_deterministic_algorithms(True)\n",
    "os.environ[\"CUBLAS_WORKSPACE_CONFIG\"]=\":16:8\""
   ]
  },
  {
   "cell_type": "code",
   "execution_count": 5,
   "metadata": {},
   "outputs": [],
   "source": [
    "import warnings\n",
    "warnings.simplefilter('ignore')"
   ]
  },
  {
   "cell_type": "code",
   "execution_count": 6,
   "metadata": {},
   "outputs": [],
   "source": [
    "# https://pytorch.org/docs/stable/notes/randomness.html\n",
    "seed = 322\n",
    "u.set_all_seeds(seed)"
   ]
  },
  {
   "cell_type": "code",
   "execution_count": 7,
   "metadata": {},
   "outputs": [],
   "source": [
    "device = torch.device('cuda' if torch.cuda.is_available() else 'cpu')"
   ]
  },
  {
   "cell_type": "markdown",
   "metadata": {},
   "source": [
    "---\n",
    "---\n",
    "---"
   ]
  },
  {
   "cell_type": "markdown",
   "metadata": {},
   "source": [
    "## get the names of all files in folder D:\\CANCER BIOLOGY\\DATASET\\TCGA\\FROM Xena\\SECOND_ITERATION\\cumulative_lists"
   ]
  },
  {
   "cell_type": "markdown",
   "metadata": {},
   "source": [
    "The process is simple:\n",
    "\n",
    "1. Take one file\n",
    "\n",
    "2. Collect all the genes mentioned in that file\n",
    "\n",
    "3. Compute the frequency of each genes\n",
    "\n",
    "4. Filter out the genes that  have a frequency  >= 5. That is, they appeared more than or equal to 50% of iteration."
   ]
  },
  {
   "cell_type": "code",
   "execution_count": 8,
   "metadata": {},
   "outputs": [],
   "source": [
    "second_iter_path = 'D:/CANCER BIOLOGY/DATASET/TCGA/FROM Xena/SECOND_ITERATION/'"
   ]
  },
  {
   "cell_type": "code",
   "execution_count": 9,
   "metadata": {},
   "outputs": [],
   "source": [
    "cumulative_lists = os.listdir(second_iter_path+\"cumulative_lists\")"
   ]
  },
  {
   "cell_type": "code",
   "execution_count": 10,
   "metadata": {},
   "outputs": [
    {
     "data": {
      "text/plain": [
       "['dl_100.kd',\n",
       " 'dl_150.kd',\n",
       " 'dl_50.kd',\n",
       " 'gs_100.kd',\n",
       " 'gs_150.kd',\n",
       " 'gs_50.kd',\n",
       " 'gs_dl_100.kd',\n",
       " 'gs_dl_150.kd',\n",
       " 'gs_dl_50.kd',\n",
       " 'gs_ig_100.kd',\n",
       " 'gs_ig_150.kd',\n",
       " 'gs_ig_50.kd',\n",
       " 'ig_100.kd',\n",
       " 'ig_150.kd',\n",
       " 'ig_50.kd',\n",
       " 'ig_dl_100.kd',\n",
       " 'ig_dl_150.kd',\n",
       " 'ig_dl_50.kd',\n",
       " 'ig_dl_gs_100.kd',\n",
       " 'ig_dl_gs_150.kd',\n",
       " 'ig_dl_gs_50.kd',\n",
       " 'prod_gs_dl_100.kd',\n",
       " 'prod_gs_dl_150.kd',\n",
       " 'prod_gs_dl_50.kd',\n",
       " 'prod_gs_ig_100.kd',\n",
       " 'prod_gs_ig_150.kd',\n",
       " 'prod_gs_ig_50.kd',\n",
       " 'prod_ig_dl_100.kd',\n",
       " 'prod_ig_dl_150.kd',\n",
       " 'prod_ig_dl_50.kd',\n",
       " 'prod_ig_dl_gs_100.kd',\n",
       " 'prod_ig_dl_gs_150.kd',\n",
       " 'prod_ig_dl_gs_50.kd']"
      ]
     },
     "execution_count": 10,
     "metadata": {},
     "output_type": "execute_result"
    }
   ],
   "source": [
    "cumulative_lists"
   ]
  },
  {
   "cell_type": "code",
   "execution_count": 11,
   "metadata": {},
   "outputs": [],
   "source": [
    "for ls in cumulative_lists:\n",
    "    gene_list=[]\n",
    "    with open(second_iter_path+'cumulative_lists/'+ls, \"r\") as file:\n",
    "        for gene in file:\n",
    "            gene=gene.strip()\n",
    "            gene_list.append(gene)\n",
    "            \n",
    "            \n",
    "    gene_list.sort()\n",
    "    df_gene_list = pd.Series(gene_list).value_counts().reset_index()\n",
    "    df_gene_list.rename(columns={'index':'Gene Names', 0:'Frequency'}, inplace=True)\n",
    "    genes_freq_5_or_above = list(df_gene_list.loc[df_gene_list['Frequency']>=5, 'Gene Names'])\n",
    "    genes_freq_5_or_above.sort()\n",
    "    with open(second_iter_path+'cumulative_lists_results/freq_geq_5/'+ls, \"w\") as file:\n",
    "        for gene in list(genes_freq_5_or_above):\n",
    "            file.write(\"%s\\n\" % gene)"
   ]
  },
  {
   "cell_type": "code",
   "execution_count": null,
   "metadata": {},
   "outputs": [],
   "source": []
  },
  {
   "cell_type": "code",
   "execution_count": null,
   "metadata": {},
   "outputs": [],
   "source": []
  },
  {
   "cell_type": "code",
   "execution_count": null,
   "metadata": {},
   "outputs": [],
   "source": []
  }
 ],
 "metadata": {
  "kernelspec": {
   "display_name": "Python 3",
   "language": "python",
   "name": "python3"
  },
  "language_info": {
   "codemirror_mode": {
    "name": "ipython",
    "version": 3
   },
   "file_extension": ".py",
   "mimetype": "text/x-python",
   "name": "python",
   "nbconvert_exporter": "python",
   "pygments_lexer": "ipython3",
   "version": "3.7.7"
  }
 },
 "nbformat": 4,
 "nbformat_minor": 4
}
