{
 "cells": [
  {
   "cell_type": "markdown",
   "metadata": {},
   "source": [
    "# Note: Execute Lvl 4.1 only after PROMO Analysis, as it uses the promo_genes for evaluation"
   ]
  },
  {
   "cell_type": "code",
   "execution_count": 1,
   "metadata": {
    "scrolled": true
   },
   "outputs": [
    {
     "data": {
      "text/html": [
       "<style>.container { width:98% !important; }</style>"
      ],
      "text/plain": [
       "<IPython.core.display.HTML object>"
      ]
     },
     "metadata": {},
     "output_type": "display_data"
    }
   ],
   "source": [
    "# https://stackoverflow.com/questions/21971449/how-do-i-increase-the-cell-width-of-the-jupyter-ipython-notebook-in-my-browser\n",
    "\n",
    "from IPython.core.display import display, HTML\n",
    "display(HTML(\"<style>.container { width:98% !important; }</style>\"))"
   ]
  },
  {
   "cell_type": "code",
   "execution_count": 4,
   "metadata": {
    "scrolled": true
   },
   "outputs": [
    {
     "name": "stdout",
     "output_type": "stream",
     "text": [
      "The autoreload extension is already loaded. To reload it, use:\n",
      "  %reload_ext autoreload\n"
     ]
    }
   ],
   "source": [
    "import numpy as np\n",
    "import pandas as pd\n",
    "import matplotlib.pyplot as plt\n",
    "\n",
    "from sklearn.preprocessing import StandardScaler\n",
    "from sklearn.model_selection import StratifiedKFold, train_test_split, LeaveOneOut\n",
    "from sklearn.metrics import roc_curve, auc, plot_confusion_matrix, plot_precision_recall_curve, classification_report\n",
    "\n",
    "from sklearn.decomposition import KernelPCA\n",
    "from sklearn.discriminant_analysis import LinearDiscriminantAnalysis\n",
    "\n",
    "from sklearn.svm import SVC\n",
    "from sklearn.neural_network import MLPClassifier\n",
    "from sklearn.linear_model import LogisticRegression\n",
    "from sklearn.ensemble import RandomForestClassifier\n",
    "\n",
    "from tqdm.notebook import tqdm\n",
    "\n",
    "plt.style.use('seaborn-whitegrid')\n",
    "\n",
    "%matplotlib inline\n",
    "%load_ext autoreload\n",
    "%autoreload 2"
   ]
  },
  {
   "cell_type": "code",
   "execution_count": 5,
   "metadata": {
    "scrolled": false
   },
   "outputs": [],
   "source": [
    "import os\n",
    "import gc\n",
    "import time\n",
    "import copy\n",
    "import torch\n",
    "import model_utils as u\n",
    "import model_evaluation as me"
   ]
  },
  {
   "cell_type": "code",
   "execution_count": 6,
   "metadata": {},
   "outputs": [],
   "source": [
    "torch.use_deterministic_algorithms(True)\n",
    "os.environ[\"CUBLAS_WORKSPACE_CONFIG\"]=\":16:8\""
   ]
  },
  {
   "cell_type": "code",
   "execution_count": 7,
   "metadata": {},
   "outputs": [],
   "source": [
    "import warnings\n",
    "warnings.simplefilter('ignore')"
   ]
  },
  {
   "cell_type": "code",
   "execution_count": 8,
   "metadata": {},
   "outputs": [],
   "source": [
    "# https://pytorch.org/docs/stable/notes/randomness.html\n",
    "seed = 322\n",
    "u.set_all_seeds(seed)"
   ]
  },
  {
   "cell_type": "code",
   "execution_count": 9,
   "metadata": {},
   "outputs": [],
   "source": [
    "device = torch.device('cuda' if torch.cuda.is_available() else 'cpu')"
   ]
  },
  {
   "cell_type": "markdown",
   "metadata": {},
   "source": [
    "---\n",
    "---\n",
    "---"
   ]
  },
  {
   "cell_type": "code",
   "execution_count": 10,
   "metadata": {},
   "outputs": [],
   "source": [
    "PATH = \"D:/CANCER BIOLOGY/DATASET/TCGA/FROM Xena/\""
   ]
  },
  {
   "cell_type": "code",
   "execution_count": 11,
   "metadata": {},
   "outputs": [],
   "source": [
    "# https://stackoverflow.com/questions/18885175/read-a-zipped-file-as-a-pandas-dataframe\n",
    "# https://www.analyticsvidhya.com/blog/2021/04/delimiters-in-pandas-read_csv-function/\n",
    "\n",
    "df_luad = pd.read_csv(PATH+\"TCGA.LUAD.sampleMap_HiSeqV2_PANCAN.gz\", compression = \"gzip\", sep = \"\\t\")\n",
    "df_lusu = pd.read_csv(PATH+\"TCGA.LUSC.sampleMap_HiSeqV2_PANCAN.gz\", compression = \"gzip\", sep = \"\\t\")"
   ]
  },
  {
   "cell_type": "code",
   "execution_count": 12,
   "metadata": {},
   "outputs": [
    {
     "data": {
      "text/html": [
       "<div>\n",
       "<style scoped>\n",
       "    .dataframe tbody tr th:only-of-type {\n",
       "        vertical-align: middle;\n",
       "    }\n",
       "\n",
       "    .dataframe tbody tr th {\n",
       "        vertical-align: top;\n",
       "    }\n",
       "\n",
       "    .dataframe thead th {\n",
       "        text-align: right;\n",
       "    }\n",
       "</style>\n",
       "<table border=\"1\" class=\"dataframe\">\n",
       "  <thead>\n",
       "    <tr style=\"text-align: right;\">\n",
       "      <th></th>\n",
       "      <th>sample</th>\n",
       "      <th>TCGA-69-7978-01</th>\n",
       "      <th>TCGA-62-8399-01</th>\n",
       "      <th>TCGA-78-7539-01</th>\n",
       "      <th>TCGA-50-5931-11</th>\n",
       "      <th>TCGA-73-4658-01</th>\n",
       "      <th>TCGA-44-6775-01</th>\n",
       "      <th>TCGA-44-2655-01</th>\n",
       "      <th>TCGA-44-3398-01</th>\n",
       "      <th>TCGA-62-8397-01</th>\n",
       "      <th>...</th>\n",
       "      <th>TCGA-75-7025-01</th>\n",
       "      <th>TCGA-55-7726-01</th>\n",
       "      <th>TCGA-L9-A743-01</th>\n",
       "      <th>TCGA-86-8358-01</th>\n",
       "      <th>TCGA-55-6972-01</th>\n",
       "      <th>TCGA-55-7727-01</th>\n",
       "      <th>TCGA-91-6831-01</th>\n",
       "      <th>TCGA-MN-A4N4-01</th>\n",
       "      <th>TCGA-55-8302-01</th>\n",
       "      <th>TCGA-MP-A4TK-01</th>\n",
       "    </tr>\n",
       "  </thead>\n",
       "  <tbody>\n",
       "    <tr>\n",
       "      <th>0</th>\n",
       "      <td>ARHGEF10L</td>\n",
       "      <td>0.125808</td>\n",
       "      <td>0.561708</td>\n",
       "      <td>-0.237592</td>\n",
       "      <td>-1.180492</td>\n",
       "      <td>-0.656192</td>\n",
       "      <td>0.139908</td>\n",
       "      <td>-0.537692</td>\n",
       "      <td>-0.839092</td>\n",
       "      <td>0.677108</td>\n",
       "      <td>...</td>\n",
       "      <td>0.226508</td>\n",
       "      <td>-2.342092</td>\n",
       "      <td>-0.207692</td>\n",
       "      <td>-0.659792</td>\n",
       "      <td>-1.651292</td>\n",
       "      <td>-2.621192</td>\n",
       "      <td>-1.025192</td>\n",
       "      <td>0.070108</td>\n",
       "      <td>0.305608</td>\n",
       "      <td>0.263208</td>\n",
       "    </tr>\n",
       "    <tr>\n",
       "      <th>1</th>\n",
       "      <td>HIF3A</td>\n",
       "      <td>-1.294926</td>\n",
       "      <td>6.069174</td>\n",
       "      <td>3.581474</td>\n",
       "      <td>3.927674</td>\n",
       "      <td>-0.525926</td>\n",
       "      <td>-1.497426</td>\n",
       "      <td>-0.021226</td>\n",
       "      <td>0.179974</td>\n",
       "      <td>1.092974</td>\n",
       "      <td>...</td>\n",
       "      <td>2.539674</td>\n",
       "      <td>-1.259526</td>\n",
       "      <td>-0.387226</td>\n",
       "      <td>3.689474</td>\n",
       "      <td>3.509374</td>\n",
       "      <td>1.986874</td>\n",
       "      <td>-1.993426</td>\n",
       "      <td>2.790974</td>\n",
       "      <td>-0.018326</td>\n",
       "      <td>4.657474</td>\n",
       "    </tr>\n",
       "    <tr>\n",
       "      <th>2</th>\n",
       "      <td>RNF17</td>\n",
       "      <td>-0.112935</td>\n",
       "      <td>-0.531035</td>\n",
       "      <td>0.592065</td>\n",
       "      <td>0.291065</td>\n",
       "      <td>-0.531035</td>\n",
       "      <td>0.475865</td>\n",
       "      <td>0.071065</td>\n",
       "      <td>-0.531035</td>\n",
       "      <td>-0.531035</td>\n",
       "      <td>...</td>\n",
       "      <td>-0.068235</td>\n",
       "      <td>-0.531035</td>\n",
       "      <td>0.428265</td>\n",
       "      <td>0.202865</td>\n",
       "      <td>0.567665</td>\n",
       "      <td>0.408165</td>\n",
       "      <td>-0.531035</td>\n",
       "      <td>0.440465</td>\n",
       "      <td>-0.531035</td>\n",
       "      <td>0.049365</td>\n",
       "    </tr>\n",
       "    <tr>\n",
       "      <th>3</th>\n",
       "      <td>RNF10</td>\n",
       "      <td>-1.411872</td>\n",
       "      <td>-0.228672</td>\n",
       "      <td>-0.108372</td>\n",
       "      <td>-0.043472</td>\n",
       "      <td>-0.156672</td>\n",
       "      <td>-0.605472</td>\n",
       "      <td>0.139328</td>\n",
       "      <td>-0.450172</td>\n",
       "      <td>0.583528</td>\n",
       "      <td>...</td>\n",
       "      <td>-0.451572</td>\n",
       "      <td>0.261228</td>\n",
       "      <td>-0.331772</td>\n",
       "      <td>-0.213372</td>\n",
       "      <td>-0.189472</td>\n",
       "      <td>0.091028</td>\n",
       "      <td>0.492828</td>\n",
       "      <td>0.037428</td>\n",
       "      <td>0.003728</td>\n",
       "      <td>-0.334572</td>\n",
       "    </tr>\n",
       "    <tr>\n",
       "      <th>4</th>\n",
       "      <td>RNF11</td>\n",
       "      <td>0.203922</td>\n",
       "      <td>0.052122</td>\n",
       "      <td>-0.499978</td>\n",
       "      <td>0.710822</td>\n",
       "      <td>0.373522</td>\n",
       "      <td>0.129022</td>\n",
       "      <td>0.436522</td>\n",
       "      <td>0.529622</td>\n",
       "      <td>0.314922</td>\n",
       "      <td>...</td>\n",
       "      <td>-0.155778</td>\n",
       "      <td>0.362522</td>\n",
       "      <td>-0.520578</td>\n",
       "      <td>0.031222</td>\n",
       "      <td>-0.966478</td>\n",
       "      <td>0.318322</td>\n",
       "      <td>0.150822</td>\n",
       "      <td>-0.357778</td>\n",
       "      <td>-0.451578</td>\n",
       "      <td>0.156422</td>\n",
       "    </tr>\n",
       "    <tr>\n",
       "      <th>...</th>\n",
       "      <td>...</td>\n",
       "      <td>...</td>\n",
       "      <td>...</td>\n",
       "      <td>...</td>\n",
       "      <td>...</td>\n",
       "      <td>...</td>\n",
       "      <td>...</td>\n",
       "      <td>...</td>\n",
       "      <td>...</td>\n",
       "      <td>...</td>\n",
       "      <td>...</td>\n",
       "      <td>...</td>\n",
       "      <td>...</td>\n",
       "      <td>...</td>\n",
       "      <td>...</td>\n",
       "      <td>...</td>\n",
       "      <td>...</td>\n",
       "      <td>...</td>\n",
       "      <td>...</td>\n",
       "      <td>...</td>\n",
       "      <td>...</td>\n",
       "    </tr>\n",
       "    <tr>\n",
       "      <th>20525</th>\n",
       "      <td>PTRF</td>\n",
       "      <td>0.863614</td>\n",
       "      <td>0.317114</td>\n",
       "      <td>-1.243086</td>\n",
       "      <td>2.802714</td>\n",
       "      <td>1.110714</td>\n",
       "      <td>0.879814</td>\n",
       "      <td>-0.028286</td>\n",
       "      <td>0.008714</td>\n",
       "      <td>-0.005186</td>\n",
       "      <td>...</td>\n",
       "      <td>0.544614</td>\n",
       "      <td>1.638214</td>\n",
       "      <td>0.381814</td>\n",
       "      <td>-1.080186</td>\n",
       "      <td>-2.139886</td>\n",
       "      <td>-1.495486</td>\n",
       "      <td>0.472314</td>\n",
       "      <td>0.993014</td>\n",
       "      <td>0.634014</td>\n",
       "      <td>1.222714</td>\n",
       "    </tr>\n",
       "    <tr>\n",
       "      <th>20526</th>\n",
       "      <td>BCL6B</td>\n",
       "      <td>0.802173</td>\n",
       "      <td>1.079073</td>\n",
       "      <td>-1.283227</td>\n",
       "      <td>2.250473</td>\n",
       "      <td>1.513973</td>\n",
       "      <td>0.126473</td>\n",
       "      <td>0.576073</td>\n",
       "      <td>0.643573</td>\n",
       "      <td>-0.735227</td>\n",
       "      <td>...</td>\n",
       "      <td>0.842873</td>\n",
       "      <td>0.680873</td>\n",
       "      <td>0.642773</td>\n",
       "      <td>0.154673</td>\n",
       "      <td>-0.849427</td>\n",
       "      <td>-0.359227</td>\n",
       "      <td>0.332973</td>\n",
       "      <td>0.570873</td>\n",
       "      <td>-0.909527</td>\n",
       "      <td>0.671573</td>\n",
       "    </tr>\n",
       "    <tr>\n",
       "      <th>20527</th>\n",
       "      <td>GSTK1</td>\n",
       "      <td>0.108205</td>\n",
       "      <td>-0.782695</td>\n",
       "      <td>0.034105</td>\n",
       "      <td>-0.540795</td>\n",
       "      <td>-0.454095</td>\n",
       "      <td>-0.797795</td>\n",
       "      <td>0.531305</td>\n",
       "      <td>0.310605</td>\n",
       "      <td>0.204105</td>\n",
       "      <td>...</td>\n",
       "      <td>-0.454195</td>\n",
       "      <td>-0.466595</td>\n",
       "      <td>-0.011995</td>\n",
       "      <td>-0.503195</td>\n",
       "      <td>0.512405</td>\n",
       "      <td>-0.584495</td>\n",
       "      <td>-1.756895</td>\n",
       "      <td>0.506805</td>\n",
       "      <td>-0.114895</td>\n",
       "      <td>-0.189095</td>\n",
       "    </tr>\n",
       "    <tr>\n",
       "      <th>20528</th>\n",
       "      <td>SELP</td>\n",
       "      <td>0.595367</td>\n",
       "      <td>3.114267</td>\n",
       "      <td>0.571467</td>\n",
       "      <td>3.985967</td>\n",
       "      <td>2.893167</td>\n",
       "      <td>1.805567</td>\n",
       "      <td>2.445467</td>\n",
       "      <td>2.575967</td>\n",
       "      <td>1.336567</td>\n",
       "      <td>...</td>\n",
       "      <td>2.817667</td>\n",
       "      <td>-0.301333</td>\n",
       "      <td>2.508367</td>\n",
       "      <td>-0.518033</td>\n",
       "      <td>-1.540033</td>\n",
       "      <td>1.663867</td>\n",
       "      <td>-0.275933</td>\n",
       "      <td>-0.073933</td>\n",
       "      <td>0.848867</td>\n",
       "      <td>1.195667</td>\n",
       "    </tr>\n",
       "    <tr>\n",
       "      <th>20529</th>\n",
       "      <td>SELS</td>\n",
       "      <td>-0.222712</td>\n",
       "      <td>-0.388912</td>\n",
       "      <td>0.233588</td>\n",
       "      <td>0.370988</td>\n",
       "      <td>0.193788</td>\n",
       "      <td>-0.116512</td>\n",
       "      <td>0.798088</td>\n",
       "      <td>0.590388</td>\n",
       "      <td>-0.598212</td>\n",
       "      <td>...</td>\n",
       "      <td>-0.259512</td>\n",
       "      <td>0.673688</td>\n",
       "      <td>0.362988</td>\n",
       "      <td>0.310288</td>\n",
       "      <td>1.140588</td>\n",
       "      <td>0.188988</td>\n",
       "      <td>0.732388</td>\n",
       "      <td>-0.243412</td>\n",
       "      <td>0.195588</td>\n",
       "      <td>0.272688</td>\n",
       "    </tr>\n",
       "  </tbody>\n",
       "</table>\n",
       "<p>20530 rows × 577 columns</p>\n",
       "</div>"
      ],
      "text/plain": [
       "          sample  TCGA-69-7978-01  TCGA-62-8399-01  TCGA-78-7539-01  \\\n",
       "0      ARHGEF10L         0.125808         0.561708        -0.237592   \n",
       "1          HIF3A        -1.294926         6.069174         3.581474   \n",
       "2          RNF17        -0.112935        -0.531035         0.592065   \n",
       "3          RNF10        -1.411872        -0.228672        -0.108372   \n",
       "4          RNF11         0.203922         0.052122        -0.499978   \n",
       "...          ...              ...              ...              ...   \n",
       "20525       PTRF         0.863614         0.317114        -1.243086   \n",
       "20526      BCL6B         0.802173         1.079073        -1.283227   \n",
       "20527      GSTK1         0.108205        -0.782695         0.034105   \n",
       "20528       SELP         0.595367         3.114267         0.571467   \n",
       "20529       SELS        -0.222712        -0.388912         0.233588   \n",
       "\n",
       "       TCGA-50-5931-11  TCGA-73-4658-01  TCGA-44-6775-01  TCGA-44-2655-01  \\\n",
       "0            -1.180492        -0.656192         0.139908        -0.537692   \n",
       "1             3.927674        -0.525926        -1.497426        -0.021226   \n",
       "2             0.291065        -0.531035         0.475865         0.071065   \n",
       "3            -0.043472        -0.156672        -0.605472         0.139328   \n",
       "4             0.710822         0.373522         0.129022         0.436522   \n",
       "...                ...              ...              ...              ...   \n",
       "20525         2.802714         1.110714         0.879814        -0.028286   \n",
       "20526         2.250473         1.513973         0.126473         0.576073   \n",
       "20527        -0.540795        -0.454095        -0.797795         0.531305   \n",
       "20528         3.985967         2.893167         1.805567         2.445467   \n",
       "20529         0.370988         0.193788        -0.116512         0.798088   \n",
       "\n",
       "       TCGA-44-3398-01  TCGA-62-8397-01  ...  TCGA-75-7025-01  \\\n",
       "0            -0.839092         0.677108  ...         0.226508   \n",
       "1             0.179974         1.092974  ...         2.539674   \n",
       "2            -0.531035        -0.531035  ...        -0.068235   \n",
       "3            -0.450172         0.583528  ...        -0.451572   \n",
       "4             0.529622         0.314922  ...        -0.155778   \n",
       "...                ...              ...  ...              ...   \n",
       "20525         0.008714        -0.005186  ...         0.544614   \n",
       "20526         0.643573        -0.735227  ...         0.842873   \n",
       "20527         0.310605         0.204105  ...        -0.454195   \n",
       "20528         2.575967         1.336567  ...         2.817667   \n",
       "20529         0.590388        -0.598212  ...        -0.259512   \n",
       "\n",
       "       TCGA-55-7726-01  TCGA-L9-A743-01  TCGA-86-8358-01  TCGA-55-6972-01  \\\n",
       "0            -2.342092        -0.207692        -0.659792        -1.651292   \n",
       "1            -1.259526        -0.387226         3.689474         3.509374   \n",
       "2            -0.531035         0.428265         0.202865         0.567665   \n",
       "3             0.261228        -0.331772        -0.213372        -0.189472   \n",
       "4             0.362522        -0.520578         0.031222        -0.966478   \n",
       "...                ...              ...              ...              ...   \n",
       "20525         1.638214         0.381814        -1.080186        -2.139886   \n",
       "20526         0.680873         0.642773         0.154673        -0.849427   \n",
       "20527        -0.466595        -0.011995        -0.503195         0.512405   \n",
       "20528        -0.301333         2.508367        -0.518033        -1.540033   \n",
       "20529         0.673688         0.362988         0.310288         1.140588   \n",
       "\n",
       "       TCGA-55-7727-01  TCGA-91-6831-01  TCGA-MN-A4N4-01  TCGA-55-8302-01  \\\n",
       "0            -2.621192        -1.025192         0.070108         0.305608   \n",
       "1             1.986874        -1.993426         2.790974        -0.018326   \n",
       "2             0.408165        -0.531035         0.440465        -0.531035   \n",
       "3             0.091028         0.492828         0.037428         0.003728   \n",
       "4             0.318322         0.150822        -0.357778        -0.451578   \n",
       "...                ...              ...              ...              ...   \n",
       "20525        -1.495486         0.472314         0.993014         0.634014   \n",
       "20526        -0.359227         0.332973         0.570873        -0.909527   \n",
       "20527        -0.584495        -1.756895         0.506805        -0.114895   \n",
       "20528         1.663867        -0.275933        -0.073933         0.848867   \n",
       "20529         0.188988         0.732388        -0.243412         0.195588   \n",
       "\n",
       "       TCGA-MP-A4TK-01  \n",
       "0             0.263208  \n",
       "1             4.657474  \n",
       "2             0.049365  \n",
       "3            -0.334572  \n",
       "4             0.156422  \n",
       "...                ...  \n",
       "20525         1.222714  \n",
       "20526         0.671573  \n",
       "20527        -0.189095  \n",
       "20528         1.195667  \n",
       "20529         0.272688  \n",
       "\n",
       "[20530 rows x 577 columns]"
      ]
     },
     "execution_count": 12,
     "metadata": {},
     "output_type": "execute_result"
    }
   ],
   "source": [
    "df_luad"
   ]
  },
  {
   "cell_type": "markdown",
   "metadata": {},
   "source": [
    "---\n",
    "---"
   ]
  },
  {
   "cell_type": "code",
   "execution_count": 13,
   "metadata": {},
   "outputs": [],
   "source": [
    "# ## prepare km plotter dataset\n",
    "\n",
    "# # df_plotter = u.prepare_km_plotter_dataset(df_luad, df_lusu)\n",
    "# df_luad.set_index('sample', inplace=True)\n",
    "# df_lusu.set_index('sample', inplace=True)"
   ]
  },
  {
   "cell_type": "code",
   "execution_count": 14,
   "metadata": {},
   "outputs": [],
   "source": [
    "# df_luad = df_luad.T\n",
    "# df_lusu = df_lusu.T"
   ]
  },
  {
   "cell_type": "code",
   "execution_count": 15,
   "metadata": {
    "scrolled": false
   },
   "outputs": [],
   "source": [
    "# df_luad"
   ]
  },
  {
   "cell_type": "code",
   "execution_count": 16,
   "metadata": {},
   "outputs": [],
   "source": [
    "# promo_genes = u.read_promo_genes(PATH)"
   ]
  },
  {
   "cell_type": "code",
   "execution_count": 17,
   "metadata": {},
   "outputs": [],
   "source": [
    "# survival_luad = pd.read_csv(PATH+'survival_LUAD_survival.txt', sep='\\t')\n",
    "# survival_lusu = pd.read_csv(PATH+'survival_LUSC_survival.txt', sep='\\t')"
   ]
  },
  {
   "cell_type": "code",
   "execution_count": 18,
   "metadata": {},
   "outputs": [],
   "source": [
    "# survival_luad"
   ]
  },
  {
   "cell_type": "code",
   "execution_count": 19,
   "metadata": {},
   "outputs": [],
   "source": [
    "# survival_lusu"
   ]
  },
  {
   "cell_type": "code",
   "execution_count": 20,
   "metadata": {},
   "outputs": [],
   "source": [
    "# survival_lusu.rename(columns={'xena_sample':'sample'}, inplace=True)"
   ]
  },
  {
   "cell_type": "code",
   "execution_count": 21,
   "metadata": {},
   "outputs": [],
   "source": [
    "# survival_lusu"
   ]
  },
  {
   "cell_type": "code",
   "execution_count": 22,
   "metadata": {},
   "outputs": [],
   "source": [
    "# survival_luad.drop(columns=['_PATIENT','DSS', 'DFI', 'DFI.time', 'PFI', 'PFI.time', 'Redaction'], inplace=True)\n",
    "# survival_lusu.drop(columns=['_PATIENT','DSS', 'DFI', 'DFI.time', 'PFI', 'PFI.time', 'Redaction'], inplace=True)"
   ]
  },
  {
   "cell_type": "code",
   "execution_count": 23,
   "metadata": {},
   "outputs": [],
   "source": [
    "# survival_luad"
   ]
  },
  {
   "cell_type": "code",
   "execution_count": 24,
   "metadata": {},
   "outputs": [],
   "source": [
    "# survival_lusu"
   ]
  },
  {
   "cell_type": "code",
   "execution_count": 25,
   "metadata": {},
   "outputs": [],
   "source": [
    "# df_luad = df_luad[df_luad.columns.intersection(promo_genes)]"
   ]
  },
  {
   "cell_type": "code",
   "execution_count": 26,
   "metadata": {},
   "outputs": [],
   "source": [
    "# df_lusu = df_lusu[df_lusu.columns.intersection(promo_genes)]"
   ]
  },
  {
   "cell_type": "code",
   "execution_count": 27,
   "metadata": {},
   "outputs": [],
   "source": [
    "# df_luad"
   ]
  },
  {
   "cell_type": "code",
   "execution_count": 28,
   "metadata": {},
   "outputs": [],
   "source": [
    "# df_lusu"
   ]
  },
  {
   "cell_type": "code",
   "execution_count": 29,
   "metadata": {},
   "outputs": [],
   "source": [
    "# df_luad.reset_index(inplace=True)\n",
    "# df_lusu.reset_index(inplace=True)"
   ]
  },
  {
   "cell_type": "code",
   "execution_count": 30,
   "metadata": {
    "scrolled": true
   },
   "outputs": [],
   "source": [
    "# df_luad.rename(columns={'index':'sample'}, inplace=True)\n",
    "# df_lusu.rename(columns={'index':'sample'}, inplace=True)"
   ]
  },
  {
   "cell_type": "code",
   "execution_count": 31,
   "metadata": {},
   "outputs": [],
   "source": [
    "# final_df_luad = pd.merge(df_luad, survival_luad, how='inner', on=['sample'])"
   ]
  },
  {
   "cell_type": "code",
   "execution_count": 32,
   "metadata": {},
   "outputs": [],
   "source": [
    "# final_df_luad"
   ]
  },
  {
   "cell_type": "code",
   "execution_count": 33,
   "metadata": {},
   "outputs": [],
   "source": [
    "# final_df_lusu = pd.merge(df_lusu, survival_lusu, how='inner', on=['sample'])"
   ]
  },
  {
   "cell_type": "code",
   "execution_count": 34,
   "metadata": {},
   "outputs": [],
   "source": [
    "# final_df_lusu"
   ]
  },
  {
   "cell_type": "code",
   "execution_count": 35,
   "metadata": {},
   "outputs": [],
   "source": [
    "# plotter_df = pd.concat([final_df_luad, final_df_lusu])"
   ]
  },
  {
   "cell_type": "code",
   "execution_count": 36,
   "metadata": {},
   "outputs": [],
   "source": [
    "# plotter_df"
   ]
  },
  {
   "cell_type": "code",
   "execution_count": 37,
   "metadata": {},
   "outputs": [],
   "source": [
    "# from sklearn.utils import shuffle\n",
    "# shuffle(plotter_df)"
   ]
  },
  {
   "cell_type": "code",
   "execution_count": 38,
   "metadata": {},
   "outputs": [],
   "source": [
    "# plotter_df.rename(columns={'sample':'Sample ID'}, inplace=True)"
   ]
  },
  {
   "cell_type": "code",
   "execution_count": 39,
   "metadata": {},
   "outputs": [],
   "source": [
    "# plotter_df.reset_index(drop=True, inplace=True)"
   ]
  },
  {
   "cell_type": "code",
   "execution_count": 40,
   "metadata": {},
   "outputs": [],
   "source": [
    "# plotter_df.to_csv(PATH+'kmplotter_dataset.csv')\n",
    "## note: after this, please change the position of the OS and OS.time via xls file"
   ]
  },
  {
   "cell_type": "markdown",
   "metadata": {},
   "source": [
    "---\n",
    "---"
   ]
  },
  {
   "cell_type": "code",
   "execution_count": null,
   "metadata": {},
   "outputs": [],
   "source": []
  },
  {
   "cell_type": "code",
   "execution_count": null,
   "metadata": {},
   "outputs": [],
   "source": []
  },
  {
   "cell_type": "code",
   "execution_count": null,
   "metadata": {},
   "outputs": [],
   "source": []
  },
  {
   "cell_type": "code",
   "execution_count": null,
   "metadata": {},
   "outputs": [],
   "source": []
  },
  {
   "cell_type": "code",
   "execution_count": null,
   "metadata": {},
   "outputs": [],
   "source": []
  },
  {
   "cell_type": "code",
   "execution_count": 41,
   "metadata": {
    "scrolled": false
   },
   "outputs": [
    {
     "data": {
      "text/html": [
       "Rows containing all 0s removed."
      ],
      "text/plain": [
       "<IPython.core.display.HTML object>"
      ]
     },
     "metadata": {},
     "output_type": "display_data"
    },
    {
     "data": {
      "text/html": [
       "Gene names saved in list 'columns'."
      ],
      "text/plain": [
       "<IPython.core.display.HTML object>"
      ]
     },
     "metadata": {},
     "output_type": "display_data"
    },
    {
     "data": {
      "text/html": [
       "Dataset transposed (rows to column and columns to rows)."
      ],
      "text/plain": [
       "<IPython.core.display.HTML object>"
      ]
     },
     "metadata": {},
     "output_type": "display_data"
    },
    {
     "data": {
      "text/html": [
       "Gene name column removed."
      ],
      "text/plain": [
       "<IPython.core.display.HTML object>"
      ]
     },
     "metadata": {},
     "output_type": "display_data"
    },
    {
     "data": {
      "text/html": [
       "Samples' ground truth values (0, 1) inserted."
      ],
      "text/plain": [
       "<IPython.core.display.HTML object>"
      ]
     },
     "metadata": {},
     "output_type": "display_data"
    },
    {
     "data": {
      "text/html": [
       "DF_LUAD and DF_LUSU dataframes combined to one."
      ],
      "text/plain": [
       "<IPython.core.display.HTML object>"
      ]
     },
     "metadata": {},
     "output_type": "display_data"
    },
    {
     "data": {
      "text/html": [
       "Columns containing same value across all samples removed."
      ],
      "text/plain": [
       "<IPython.core.display.HTML object>"
      ]
     },
     "metadata": {},
     "output_type": "display_data"
    },
    {
     "data": {
      "text/html": [
       "Dataframe with labels ====>"
      ],
      "text/plain": [
       "<IPython.core.display.HTML object>"
      ]
     },
     "metadata": {},
     "output_type": "display_data"
    },
    {
     "data": {
      "text/html": [
       "<div>\n",
       "<style scoped>\n",
       "    .dataframe tbody tr th:only-of-type {\n",
       "        vertical-align: middle;\n",
       "    }\n",
       "\n",
       "    .dataframe tbody tr th {\n",
       "        vertical-align: top;\n",
       "    }\n",
       "\n",
       "    .dataframe thead th {\n",
       "        text-align: right;\n",
       "    }\n",
       "</style>\n",
       "<table border=\"1\" class=\"dataframe\">\n",
       "  <thead>\n",
       "    <tr style=\"text-align: right;\">\n",
       "      <th></th>\n",
       "      <th>label</th>\n",
       "      <th>ARHGEF10L</th>\n",
       "      <th>HIF3A</th>\n",
       "      <th>RNF17</th>\n",
       "      <th>RNF10</th>\n",
       "      <th>RNF11</th>\n",
       "      <th>RNF13</th>\n",
       "      <th>GTF2IP1</th>\n",
       "      <th>REM1</th>\n",
       "      <th>MTVR2</th>\n",
       "      <th>...</th>\n",
       "      <th>TULP2</th>\n",
       "      <th>NPY5R</th>\n",
       "      <th>GNGT2</th>\n",
       "      <th>GNGT1</th>\n",
       "      <th>TULP3</th>\n",
       "      <th>PTRF</th>\n",
       "      <th>BCL6B</th>\n",
       "      <th>GSTK1</th>\n",
       "      <th>SELP</th>\n",
       "      <th>SELS</th>\n",
       "    </tr>\n",
       "  </thead>\n",
       "  <tbody>\n",
       "    <tr>\n",
       "      <th>TCGA-69-7978-01</th>\n",
       "      <td>1</td>\n",
       "      <td>0.125808</td>\n",
       "      <td>-1.29493</td>\n",
       "      <td>-0.112935</td>\n",
       "      <td>-1.41187</td>\n",
       "      <td>0.203922</td>\n",
       "      <td>0.0993901</td>\n",
       "      <td>-0.222094</td>\n",
       "      <td>0.504354</td>\n",
       "      <td>-0.423399</td>\n",
       "      <td>...</td>\n",
       "      <td>1.13472</td>\n",
       "      <td>-0.845117</td>\n",
       "      <td>1.76017</td>\n",
       "      <td>-1.28139</td>\n",
       "      <td>0.224623</td>\n",
       "      <td>0.863614</td>\n",
       "      <td>0.802173</td>\n",
       "      <td>0.108205</td>\n",
       "      <td>0.595367</td>\n",
       "      <td>-0.222712</td>\n",
       "    </tr>\n",
       "    <tr>\n",
       "      <th>TCGA-62-8399-01</th>\n",
       "      <td>1</td>\n",
       "      <td>0.561708</td>\n",
       "      <td>6.06917</td>\n",
       "      <td>-0.531035</td>\n",
       "      <td>-0.228672</td>\n",
       "      <td>0.0521219</td>\n",
       "      <td>-1.20601</td>\n",
       "      <td>-0.338894</td>\n",
       "      <td>1.44985</td>\n",
       "      <td>0.0394006</td>\n",
       "      <td>...</td>\n",
       "      <td>-0.286078</td>\n",
       "      <td>-0.055517</td>\n",
       "      <td>-0.0282335</td>\n",
       "      <td>0.0480102</td>\n",
       "      <td>0.295223</td>\n",
       "      <td>0.317114</td>\n",
       "      <td>1.07907</td>\n",
       "      <td>-0.782695</td>\n",
       "      <td>3.11427</td>\n",
       "      <td>-0.388912</td>\n",
       "    </tr>\n",
       "    <tr>\n",
       "      <th>TCGA-78-7539-01</th>\n",
       "      <td>1</td>\n",
       "      <td>-0.237592</td>\n",
       "      <td>3.58147</td>\n",
       "      <td>0.592065</td>\n",
       "      <td>-0.108372</td>\n",
       "      <td>-0.499978</td>\n",
       "      <td>-0.0254099</td>\n",
       "      <td>0.163006</td>\n",
       "      <td>0.131654</td>\n",
       "      <td>-0.0508994</td>\n",
       "      <td>...</td>\n",
       "      <td>2.20992</td>\n",
       "      <td>-1.58712</td>\n",
       "      <td>1.56537</td>\n",
       "      <td>2.63871</td>\n",
       "      <td>0.0491232</td>\n",
       "      <td>-1.24309</td>\n",
       "      <td>-1.28323</td>\n",
       "      <td>0.0341054</td>\n",
       "      <td>0.571467</td>\n",
       "      <td>0.233588</td>\n",
       "    </tr>\n",
       "    <tr>\n",
       "      <th>TCGA-50-5931-11</th>\n",
       "      <td>1</td>\n",
       "      <td>-1.18049</td>\n",
       "      <td>3.92767</td>\n",
       "      <td>0.291065</td>\n",
       "      <td>-0.043472</td>\n",
       "      <td>0.710822</td>\n",
       "      <td>1.05089</td>\n",
       "      <td>-0.564394</td>\n",
       "      <td>1.68395</td>\n",
       "      <td>0.398701</td>\n",
       "      <td>...</td>\n",
       "      <td>-0.748878</td>\n",
       "      <td>0.900483</td>\n",
       "      <td>1.90357</td>\n",
       "      <td>-1.28139</td>\n",
       "      <td>-0.549277</td>\n",
       "      <td>2.80271</td>\n",
       "      <td>2.25047</td>\n",
       "      <td>-0.540795</td>\n",
       "      <td>3.98597</td>\n",
       "      <td>0.370988</td>\n",
       "    </tr>\n",
       "    <tr>\n",
       "      <th>TCGA-73-4658-01</th>\n",
       "      <td>1</td>\n",
       "      <td>-0.656192</td>\n",
       "      <td>-0.525926</td>\n",
       "      <td>-0.531035</td>\n",
       "      <td>-0.156672</td>\n",
       "      <td>0.373522</td>\n",
       "      <td>0.44729</td>\n",
       "      <td>-0.438994</td>\n",
       "      <td>1.83155</td>\n",
       "      <td>-0.423399</td>\n",
       "      <td>...</td>\n",
       "      <td>-0.748878</td>\n",
       "      <td>-0.931417</td>\n",
       "      <td>1.91517</td>\n",
       "      <td>-0.17659</td>\n",
       "      <td>0.0423232</td>\n",
       "      <td>1.11071</td>\n",
       "      <td>1.51397</td>\n",
       "      <td>-0.454095</td>\n",
       "      <td>2.89317</td>\n",
       "      <td>0.193788</td>\n",
       "    </tr>\n",
       "    <tr>\n",
       "      <th>...</th>\n",
       "      <td>...</td>\n",
       "      <td>...</td>\n",
       "      <td>...</td>\n",
       "      <td>...</td>\n",
       "      <td>...</td>\n",
       "      <td>...</td>\n",
       "      <td>...</td>\n",
       "      <td>...</td>\n",
       "      <td>...</td>\n",
       "      <td>...</td>\n",
       "      <td>...</td>\n",
       "      <td>...</td>\n",
       "      <td>...</td>\n",
       "      <td>...</td>\n",
       "      <td>...</td>\n",
       "      <td>...</td>\n",
       "      <td>...</td>\n",
       "      <td>...</td>\n",
       "      <td>...</td>\n",
       "      <td>...</td>\n",
       "      <td>...</td>\n",
       "    </tr>\n",
       "    <tr>\n",
       "      <th>TCGA-85-A512-01</th>\n",
       "      <td>0</td>\n",
       "      <td>-1.28699</td>\n",
       "      <td>-1.86343</td>\n",
       "      <td>-0.531035</td>\n",
       "      <td>0.020328</td>\n",
       "      <td>-0.560978</td>\n",
       "      <td>0.51729</td>\n",
       "      <td>0.519806</td>\n",
       "      <td>-0.748146</td>\n",
       "      <td>-0.423399</td>\n",
       "      <td>...</td>\n",
       "      <td>-0.748878</td>\n",
       "      <td>-1.58712</td>\n",
       "      <td>-0.236033</td>\n",
       "      <td>1.41071</td>\n",
       "      <td>1.65372</td>\n",
       "      <td>0.434414</td>\n",
       "      <td>-0.491427</td>\n",
       "      <td>0.318305</td>\n",
       "      <td>-1.01143</td>\n",
       "      <td>0.392288</td>\n",
       "    </tr>\n",
       "    <tr>\n",
       "      <th>TCGA-85-8354-01</th>\n",
       "      <td>0</td>\n",
       "      <td>-1.84779</td>\n",
       "      <td>-1.29733</td>\n",
       "      <td>-0.531035</td>\n",
       "      <td>-0.280072</td>\n",
       "      <td>-0.560278</td>\n",
       "      <td>0.85009</td>\n",
       "      <td>-0.166294</td>\n",
       "      <td>-1.51925</td>\n",
       "      <td>0.602101</td>\n",
       "      <td>...</td>\n",
       "      <td>0.276622</td>\n",
       "      <td>-1.58712</td>\n",
       "      <td>-0.784133</td>\n",
       "      <td>1.46201</td>\n",
       "      <td>0.765023</td>\n",
       "      <td>1.24691</td>\n",
       "      <td>-0.0700266</td>\n",
       "      <td>-0.620695</td>\n",
       "      <td>-1.39033</td>\n",
       "      <td>0.918888</td>\n",
       "    </tr>\n",
       "    <tr>\n",
       "      <th>TCGA-O2-A5IB-01</th>\n",
       "      <td>0</td>\n",
       "      <td>0.568508</td>\n",
       "      <td>0.0259737</td>\n",
       "      <td>0.084865</td>\n",
       "      <td>-0.00937199</td>\n",
       "      <td>-0.136278</td>\n",
       "      <td>-1.41811</td>\n",
       "      <td>0.173506</td>\n",
       "      <td>-2.19405</td>\n",
       "      <td>0.622701</td>\n",
       "      <td>...</td>\n",
       "      <td>-0.408378</td>\n",
       "      <td>-1.24662</td>\n",
       "      <td>-1.94053</td>\n",
       "      <td>-1.28139</td>\n",
       "      <td>1.28172</td>\n",
       "      <td>-2.42559</td>\n",
       "      <td>-0.734427</td>\n",
       "      <td>-1.92679</td>\n",
       "      <td>-2.12163</td>\n",
       "      <td>-0.637412</td>\n",
       "    </tr>\n",
       "    <tr>\n",
       "      <th>TCGA-77-7335-01</th>\n",
       "      <td>0</td>\n",
       "      <td>-0.849892</td>\n",
       "      <td>-2.41413</td>\n",
       "      <td>0.192865</td>\n",
       "      <td>0.197228</td>\n",
       "      <td>0.443922</td>\n",
       "      <td>0.54789</td>\n",
       "      <td>0.0844055</td>\n",
       "      <td>1.01505</td>\n",
       "      <td>-0.423399</td>\n",
       "      <td>...</td>\n",
       "      <td>-0.748878</td>\n",
       "      <td>-1.58712</td>\n",
       "      <td>2.16037</td>\n",
       "      <td>1.19391</td>\n",
       "      <td>0.197023</td>\n",
       "      <td>1.55011</td>\n",
       "      <td>0.294773</td>\n",
       "      <td>0.369005</td>\n",
       "      <td>1.90927</td>\n",
       "      <td>0.117688</td>\n",
       "    </tr>\n",
       "    <tr>\n",
       "      <th>TCGA-56-7731-11</th>\n",
       "      <td>0</td>\n",
       "      <td>-0.888992</td>\n",
       "      <td>4.22947</td>\n",
       "      <td>-0.531035</td>\n",
       "      <td>0.162228</td>\n",
       "      <td>0.344522</td>\n",
       "      <td>0.42709</td>\n",
       "      <td>-0.910394</td>\n",
       "      <td>0.194154</td>\n",
       "      <td>0.468401</td>\n",
       "      <td>...</td>\n",
       "      <td>-0.748878</td>\n",
       "      <td>-0.396017</td>\n",
       "      <td>2.03047</td>\n",
       "      <td>-1.28139</td>\n",
       "      <td>-0.790077</td>\n",
       "      <td>2.46851</td>\n",
       "      <td>2.66797</td>\n",
       "      <td>-0.264695</td>\n",
       "      <td>3.93087</td>\n",
       "      <td>0.842588</td>\n",
       "    </tr>\n",
       "  </tbody>\n",
       "</table>\n",
       "<p>1129 rows × 20259 columns</p>\n",
       "</div>"
      ],
      "text/plain": [
       "                 label ARHGEF10L      HIF3A     RNF17       RNF10      RNF11  \\\n",
       "TCGA-69-7978-01      1  0.125808   -1.29493 -0.112935    -1.41187   0.203922   \n",
       "TCGA-62-8399-01      1  0.561708    6.06917 -0.531035   -0.228672  0.0521219   \n",
       "TCGA-78-7539-01      1 -0.237592    3.58147  0.592065   -0.108372  -0.499978   \n",
       "TCGA-50-5931-11      1  -1.18049    3.92767  0.291065   -0.043472   0.710822   \n",
       "TCGA-73-4658-01      1 -0.656192  -0.525926 -0.531035   -0.156672   0.373522   \n",
       "...                ...       ...        ...       ...         ...        ...   \n",
       "TCGA-85-A512-01      0  -1.28699   -1.86343 -0.531035    0.020328  -0.560978   \n",
       "TCGA-85-8354-01      0  -1.84779   -1.29733 -0.531035   -0.280072  -0.560278   \n",
       "TCGA-O2-A5IB-01      0  0.568508  0.0259737  0.084865 -0.00937199  -0.136278   \n",
       "TCGA-77-7335-01      0 -0.849892   -2.41413  0.192865    0.197228   0.443922   \n",
       "TCGA-56-7731-11      0 -0.888992    4.22947 -0.531035    0.162228   0.344522   \n",
       "\n",
       "                     RNF13    GTF2IP1      REM1      MTVR2  ...     TULP2  \\\n",
       "TCGA-69-7978-01  0.0993901  -0.222094  0.504354  -0.423399  ...   1.13472   \n",
       "TCGA-62-8399-01   -1.20601  -0.338894   1.44985  0.0394006  ... -0.286078   \n",
       "TCGA-78-7539-01 -0.0254099   0.163006  0.131654 -0.0508994  ...   2.20992   \n",
       "TCGA-50-5931-11    1.05089  -0.564394   1.68395   0.398701  ... -0.748878   \n",
       "TCGA-73-4658-01    0.44729  -0.438994   1.83155  -0.423399  ... -0.748878   \n",
       "...                    ...        ...       ...        ...  ...       ...   \n",
       "TCGA-85-A512-01    0.51729   0.519806 -0.748146  -0.423399  ... -0.748878   \n",
       "TCGA-85-8354-01    0.85009  -0.166294  -1.51925   0.602101  ...  0.276622   \n",
       "TCGA-O2-A5IB-01   -1.41811   0.173506  -2.19405   0.622701  ... -0.408378   \n",
       "TCGA-77-7335-01    0.54789  0.0844055   1.01505  -0.423399  ... -0.748878   \n",
       "TCGA-56-7731-11    0.42709  -0.910394  0.194154   0.468401  ... -0.748878   \n",
       "\n",
       "                    NPY5R      GNGT2      GNGT1      TULP3      PTRF  \\\n",
       "TCGA-69-7978-01 -0.845117    1.76017   -1.28139   0.224623  0.863614   \n",
       "TCGA-62-8399-01 -0.055517 -0.0282335  0.0480102   0.295223  0.317114   \n",
       "TCGA-78-7539-01  -1.58712    1.56537    2.63871  0.0491232  -1.24309   \n",
       "TCGA-50-5931-11  0.900483    1.90357   -1.28139  -0.549277   2.80271   \n",
       "TCGA-73-4658-01 -0.931417    1.91517   -0.17659  0.0423232   1.11071   \n",
       "...                   ...        ...        ...        ...       ...   \n",
       "TCGA-85-A512-01  -1.58712  -0.236033    1.41071    1.65372  0.434414   \n",
       "TCGA-85-8354-01  -1.58712  -0.784133    1.46201   0.765023   1.24691   \n",
       "TCGA-O2-A5IB-01  -1.24662   -1.94053   -1.28139    1.28172  -2.42559   \n",
       "TCGA-77-7335-01  -1.58712    2.16037    1.19391   0.197023   1.55011   \n",
       "TCGA-56-7731-11 -0.396017    2.03047   -1.28139  -0.790077   2.46851   \n",
       "\n",
       "                     BCL6B      GSTK1      SELP      SELS  \n",
       "TCGA-69-7978-01   0.802173   0.108205  0.595367 -0.222712  \n",
       "TCGA-62-8399-01    1.07907  -0.782695   3.11427 -0.388912  \n",
       "TCGA-78-7539-01   -1.28323  0.0341054  0.571467  0.233588  \n",
       "TCGA-50-5931-11    2.25047  -0.540795   3.98597  0.370988  \n",
       "TCGA-73-4658-01    1.51397  -0.454095   2.89317  0.193788  \n",
       "...                    ...        ...       ...       ...  \n",
       "TCGA-85-A512-01  -0.491427   0.318305  -1.01143  0.392288  \n",
       "TCGA-85-8354-01 -0.0700266  -0.620695  -1.39033  0.918888  \n",
       "TCGA-O2-A5IB-01  -0.734427   -1.92679  -2.12163 -0.637412  \n",
       "TCGA-77-7335-01   0.294773   0.369005   1.90927  0.117688  \n",
       "TCGA-56-7731-11    2.66797  -0.264695   3.93087  0.842588  \n",
       "\n",
       "[1129 rows x 20259 columns]"
      ]
     },
     "metadata": {},
     "output_type": "display_data"
    },
    {
     "data": {
      "text/html": [
       "Data preprocessing done. Returning processed dataframe as 'df_final', sample labels as 'labels', gene names as 'columns'."
      ],
      "text/plain": [
       "<IPython.core.display.HTML object>"
      ]
     },
     "metadata": {},
     "output_type": "display_data"
    },
    {
     "data": {
      "text/html": [
       "Done."
      ],
      "text/plain": [
       "<IPython.core.display.HTML object>"
      ]
     },
     "metadata": {},
     "output_type": "display_data"
    }
   ],
   "source": [
    "df, labels, columns = u.dataset_preprocess(df_luad, df_lusu)"
   ]
  },
  {
   "cell_type": "markdown",
   "metadata": {},
   "source": [
    "---\n"
   ]
  },
  {
   "cell_type": "markdown",
   "metadata": {},
   "source": [
    "---"
   ]
  },
  {
   "cell_type": "code",
   "execution_count": 42,
   "metadata": {},
   "outputs": [],
   "source": [
    "# df_xtrain, df_xtest, df_ytrain, df_ytest = train_test_split(df, labels, train_size=0.9, random_state=seed, stratify=labels)"
   ]
  },
  {
   "cell_type": "code",
   "execution_count": 43,
   "metadata": {},
   "outputs": [],
   "source": [
    "# df = df_xtrain.copy(deep=True)\n",
    "# labels = df_ytrain\n",
    "# df.reset_index(drop=True, inplace=True)\n",
    "# df_xtest.reset_index(drop=True, inplace=True)"
   ]
  },
  {
   "cell_type": "code",
   "execution_count": 44,
   "metadata": {},
   "outputs": [],
   "source": [
    "promo_genes = u.read_promo_genes(PATH)"
   ]
  },
  {
   "cell_type": "markdown",
   "metadata": {},
   "source": [
    "---\n",
    "---\n",
    "---"
   ]
  },
  {
   "cell_type": "code",
   "execution_count": null,
   "metadata": {},
   "outputs": [],
   "source": []
  },
  {
   "cell_type": "code",
   "execution_count": 45,
   "metadata": {},
   "outputs": [],
   "source": [
    "## https://stackoverflow.com/questions/40636514/selecting-columns-by-list-and-columns-are-subset-of-list\n",
    "\n",
    "df.reset_index(drop=True, inplace=True)\n",
    "X_train = df[df.columns.intersection(promo_genes)]\n",
    "# X_train = df\n",
    "y_train = labels"
   ]
  },
  {
   "cell_type": "code",
   "execution_count": 46,
   "metadata": {
    "scrolled": false
   },
   "outputs": [
    {
     "data": {
      "text/html": [
       "<div>\n",
       "<style scoped>\n",
       "    .dataframe tbody tr th:only-of-type {\n",
       "        vertical-align: middle;\n",
       "    }\n",
       "\n",
       "    .dataframe tbody tr th {\n",
       "        vertical-align: top;\n",
       "    }\n",
       "\n",
       "    .dataframe thead th {\n",
       "        text-align: right;\n",
       "    }\n",
       "</style>\n",
       "<table border=\"1\" class=\"dataframe\">\n",
       "  <thead>\n",
       "    <tr style=\"text-align: right;\">\n",
       "      <th></th>\n",
       "      <th>TMPRSS11D</th>\n",
       "      <th>FLJ44635</th>\n",
       "      <th>C10orf99</th>\n",
       "      <th>NACA2</th>\n",
       "      <th>TMEM40</th>\n",
       "      <th>SPRR1B</th>\n",
       "      <th>LASS3</th>\n",
       "      <th>TMPRSS11A</th>\n",
       "      <th>PTTG3P</th>\n",
       "      <th>KRT14</th>\n",
       "      <th>...</th>\n",
       "      <th>S100A2</th>\n",
       "      <th>SPRR2A</th>\n",
       "      <th>RNASE7</th>\n",
       "      <th>SPRR2D</th>\n",
       "      <th>HEY1</th>\n",
       "      <th>RHCG</th>\n",
       "      <th>BNC1</th>\n",
       "      <th>SERPINB13</th>\n",
       "      <th>C14orf19</th>\n",
       "      <th>S100A7A</th>\n",
       "    </tr>\n",
       "  </thead>\n",
       "  <tbody>\n",
       "    <tr>\n",
       "      <th>0</th>\n",
       "      <td>-0.845109</td>\n",
       "      <td>-0.998144</td>\n",
       "      <td>-2.7577</td>\n",
       "      <td>-0.256212</td>\n",
       "      <td>-0.159503</td>\n",
       "      <td>5.37031</td>\n",
       "      <td>-2.5496</td>\n",
       "      <td>-1.33597</td>\n",
       "      <td>-0.734992</td>\n",
       "      <td>0.543442</td>\n",
       "      <td>...</td>\n",
       "      <td>1.50406</td>\n",
       "      <td>-0.280343</td>\n",
       "      <td>-1.73515</td>\n",
       "      <td>5.74156</td>\n",
       "      <td>-0.600271</td>\n",
       "      <td>-4.1308</td>\n",
       "      <td>-1.33005</td>\n",
       "      <td>-1.68125</td>\n",
       "      <td>-0.32905</td>\n",
       "      <td>-0.446876</td>\n",
       "    </tr>\n",
       "    <tr>\n",
       "      <th>1</th>\n",
       "      <td>-1.85141</td>\n",
       "      <td>-0.992544</td>\n",
       "      <td>-2.7577</td>\n",
       "      <td>-0.768012</td>\n",
       "      <td>-0.0107027</td>\n",
       "      <td>-2.94299</td>\n",
       "      <td>3.5763</td>\n",
       "      <td>-0.873174</td>\n",
       "      <td>-0.870592</td>\n",
       "      <td>-2.14946</td>\n",
       "      <td>...</td>\n",
       "      <td>-0.576137</td>\n",
       "      <td>-2.40554</td>\n",
       "      <td>-2.15325</td>\n",
       "      <td>-1.93574</td>\n",
       "      <td>-1.64277</td>\n",
       "      <td>-3.668</td>\n",
       "      <td>-1.65285</td>\n",
       "      <td>-1.63655</td>\n",
       "      <td>-1.64165</td>\n",
       "      <td>-1.45318</td>\n",
       "    </tr>\n",
       "    <tr>\n",
       "      <th>2</th>\n",
       "      <td>-1.47891</td>\n",
       "      <td>-0.458644</td>\n",
       "      <td>-2.7577</td>\n",
       "      <td>-0.247612</td>\n",
       "      <td>-0.837203</td>\n",
       "      <td>-2.94299</td>\n",
       "      <td>-2.1771</td>\n",
       "      <td>-1.33597</td>\n",
       "      <td>-1.59209</td>\n",
       "      <td>-4.93766</td>\n",
       "      <td>...</td>\n",
       "      <td>-1.12504</td>\n",
       "      <td>-2.40554</td>\n",
       "      <td>-1.48505</td>\n",
       "      <td>-2.39854</td>\n",
       "      <td>-1.99837</td>\n",
       "      <td>-1.1184</td>\n",
       "      <td>-2.99385</td>\n",
       "      <td>-2.09935</td>\n",
       "      <td>0.13245</td>\n",
       "      <td>-1.45318</td>\n",
       "    </tr>\n",
       "    <tr>\n",
       "      <th>3</th>\n",
       "      <td>-1.85141</td>\n",
       "      <td>3.23656</td>\n",
       "      <td>-2.7577</td>\n",
       "      <td>0.992388</td>\n",
       "      <td>-1.3847</td>\n",
       "      <td>-2.94299</td>\n",
       "      <td>-1.7275</td>\n",
       "      <td>-1.33597</td>\n",
       "      <td>-1.14249</td>\n",
       "      <td>-5.31016</td>\n",
       "      <td>...</td>\n",
       "      <td>-2.77374</td>\n",
       "      <td>-1.06294</td>\n",
       "      <td>-2.15325</td>\n",
       "      <td>-1.05594</td>\n",
       "      <td>1.03963</td>\n",
       "      <td>2.1652</td>\n",
       "      <td>-2.83995</td>\n",
       "      <td>-2.09935</td>\n",
       "      <td>1.00315</td>\n",
       "      <td>-1.45318</td>\n",
       "    </tr>\n",
       "    <tr>\n",
       "      <th>4</th>\n",
       "      <td>-0.746609</td>\n",
       "      <td>-0.234244</td>\n",
       "      <td>-2.7577</td>\n",
       "      <td>0.601888</td>\n",
       "      <td>0.987797</td>\n",
       "      <td>5.18661</td>\n",
       "      <td>-2.5496</td>\n",
       "      <td>-1.33597</td>\n",
       "      <td>-1.30889</td>\n",
       "      <td>-2.98026</td>\n",
       "      <td>...</td>\n",
       "      <td>3.80246</td>\n",
       "      <td>1.59086</td>\n",
       "      <td>2.08225</td>\n",
       "      <td>4.55716</td>\n",
       "      <td>0.296929</td>\n",
       "      <td>-3.026</td>\n",
       "      <td>-1.70715</td>\n",
       "      <td>-2.09935</td>\n",
       "      <td>-0.29975</td>\n",
       "      <td>-0.00637567</td>\n",
       "    </tr>\n",
       "    <tr>\n",
       "      <th>...</th>\n",
       "      <td>...</td>\n",
       "      <td>...</td>\n",
       "      <td>...</td>\n",
       "      <td>...</td>\n",
       "      <td>...</td>\n",
       "      <td>...</td>\n",
       "      <td>...</td>\n",
       "      <td>...</td>\n",
       "      <td>...</td>\n",
       "      <td>...</td>\n",
       "      <td>...</td>\n",
       "      <td>...</td>\n",
       "      <td>...</td>\n",
       "      <td>...</td>\n",
       "      <td>...</td>\n",
       "      <td>...</td>\n",
       "      <td>...</td>\n",
       "      <td>...</td>\n",
       "      <td>...</td>\n",
       "      <td>...</td>\n",
       "      <td>...</td>\n",
       "    </tr>\n",
       "    <tr>\n",
       "      <th>1124</th>\n",
       "      <td>7.52139</td>\n",
       "      <td>-0.102744</td>\n",
       "      <td>6.1288</td>\n",
       "      <td>0.420088</td>\n",
       "      <td>5.194</td>\n",
       "      <td>10.6855</td>\n",
       "      <td>5.8307</td>\n",
       "      <td>5.03793</td>\n",
       "      <td>1.72671</td>\n",
       "      <td>5.31474</td>\n",
       "      <td>...</td>\n",
       "      <td>4.59366</td>\n",
       "      <td>9.65216</td>\n",
       "      <td>5.74975</td>\n",
       "      <td>9.98326</td>\n",
       "      <td>3.23653</td>\n",
       "      <td>-0.817796</td>\n",
       "      <td>5.47785</td>\n",
       "      <td>7.65565</td>\n",
       "      <td>-0.29205</td>\n",
       "      <td>7.61642</td>\n",
       "    </tr>\n",
       "    <tr>\n",
       "      <th>1125</th>\n",
       "      <td>4.17569</td>\n",
       "      <td>-1.24654</td>\n",
       "      <td>2.6493</td>\n",
       "      <td>0.270088</td>\n",
       "      <td>5.1918</td>\n",
       "      <td>6.64191</td>\n",
       "      <td>5.854</td>\n",
       "      <td>5.89423</td>\n",
       "      <td>0.778808</td>\n",
       "      <td>10.9679</td>\n",
       "      <td>...</td>\n",
       "      <td>6.48686</td>\n",
       "      <td>5.01116</td>\n",
       "      <td>-1.12775</td>\n",
       "      <td>5.57076</td>\n",
       "      <td>2.48463</td>\n",
       "      <td>4.7158</td>\n",
       "      <td>5.98285</td>\n",
       "      <td>6.46485</td>\n",
       "      <td>-1.85215</td>\n",
       "      <td>-0.427676</td>\n",
       "    </tr>\n",
       "    <tr>\n",
       "      <th>1126</th>\n",
       "      <td>-1.00441</td>\n",
       "      <td>-1.71774</td>\n",
       "      <td>-2.7577</td>\n",
       "      <td>-0.157312</td>\n",
       "      <td>0.433197</td>\n",
       "      <td>-0.408895</td>\n",
       "      <td>0.1709</td>\n",
       "      <td>-0.995474</td>\n",
       "      <td>0.00940847</td>\n",
       "      <td>-1.98076</td>\n",
       "      <td>...</td>\n",
       "      <td>2.56396</td>\n",
       "      <td>2.12416</td>\n",
       "      <td>0.880348</td>\n",
       "      <td>-0.00353874</td>\n",
       "      <td>2.89833</td>\n",
       "      <td>0.125004</td>\n",
       "      <td>-1.59345</td>\n",
       "      <td>-1.25235</td>\n",
       "      <td>-1.40815</td>\n",
       "      <td>1.75682</td>\n",
       "    </tr>\n",
       "    <tr>\n",
       "      <th>1127</th>\n",
       "      <td>10.8078</td>\n",
       "      <td>0.922956</td>\n",
       "      <td>7.7021</td>\n",
       "      <td>0.826388</td>\n",
       "      <td>4.9753</td>\n",
       "      <td>8.25861</td>\n",
       "      <td>7.8454</td>\n",
       "      <td>8.90213</td>\n",
       "      <td>1.46481</td>\n",
       "      <td>7.79084</td>\n",
       "      <td>...</td>\n",
       "      <td>5.24126</td>\n",
       "      <td>6.54546</td>\n",
       "      <td>2.29635</td>\n",
       "      <td>6.42956</td>\n",
       "      <td>1.02593</td>\n",
       "      <td>7.0034</td>\n",
       "      <td>4.45305</td>\n",
       "      <td>9.63895</td>\n",
       "      <td>-0.89125</td>\n",
       "      <td>-0.729276</td>\n",
       "    </tr>\n",
       "    <tr>\n",
       "      <th>1128</th>\n",
       "      <td>-1.85141</td>\n",
       "      <td>0.592656</td>\n",
       "      <td>-2.7577</td>\n",
       "      <td>0.00368803</td>\n",
       "      <td>0.210497</td>\n",
       "      <td>0.656505</td>\n",
       "      <td>-2.5496</td>\n",
       "      <td>-1.33597</td>\n",
       "      <td>-0.773492</td>\n",
       "      <td>-3.65996</td>\n",
       "      <td>...</td>\n",
       "      <td>0.631363</td>\n",
       "      <td>2.33136</td>\n",
       "      <td>-0.714452</td>\n",
       "      <td>3.73686</td>\n",
       "      <td>-0.768171</td>\n",
       "      <td>-2.1329</td>\n",
       "      <td>-0.28205</td>\n",
       "      <td>0.30055</td>\n",
       "      <td>-0.30955</td>\n",
       "      <td>-0.939376</td>\n",
       "    </tr>\n",
       "  </tbody>\n",
       "</table>\n",
       "<p>1129 rows × 52 columns</p>\n",
       "</div>"
      ],
      "text/plain": [
       "     TMPRSS11D  FLJ44635 C10orf99       NACA2     TMEM40    SPRR1B   LASS3  \\\n",
       "0    -0.845109 -0.998144  -2.7577   -0.256212  -0.159503   5.37031 -2.5496   \n",
       "1     -1.85141 -0.992544  -2.7577   -0.768012 -0.0107027  -2.94299  3.5763   \n",
       "2     -1.47891 -0.458644  -2.7577   -0.247612  -0.837203  -2.94299 -2.1771   \n",
       "3     -1.85141   3.23656  -2.7577    0.992388    -1.3847  -2.94299 -1.7275   \n",
       "4    -0.746609 -0.234244  -2.7577    0.601888   0.987797   5.18661 -2.5496   \n",
       "...        ...       ...      ...         ...        ...       ...     ...   \n",
       "1124   7.52139 -0.102744   6.1288    0.420088      5.194   10.6855  5.8307   \n",
       "1125   4.17569  -1.24654   2.6493    0.270088     5.1918   6.64191   5.854   \n",
       "1126  -1.00441  -1.71774  -2.7577   -0.157312   0.433197 -0.408895  0.1709   \n",
       "1127   10.8078  0.922956   7.7021    0.826388     4.9753   8.25861  7.8454   \n",
       "1128  -1.85141  0.592656  -2.7577  0.00368803   0.210497  0.656505 -2.5496   \n",
       "\n",
       "     TMPRSS11A      PTTG3P     KRT14  ...    S100A2    SPRR2A    RNASE7  \\\n",
       "0     -1.33597   -0.734992  0.543442  ...   1.50406 -0.280343  -1.73515   \n",
       "1    -0.873174   -0.870592  -2.14946  ... -0.576137  -2.40554  -2.15325   \n",
       "2     -1.33597    -1.59209  -4.93766  ...  -1.12504  -2.40554  -1.48505   \n",
       "3     -1.33597    -1.14249  -5.31016  ...  -2.77374  -1.06294  -2.15325   \n",
       "4     -1.33597    -1.30889  -2.98026  ...   3.80246   1.59086   2.08225   \n",
       "...        ...         ...       ...  ...       ...       ...       ...   \n",
       "1124   5.03793     1.72671   5.31474  ...   4.59366   9.65216   5.74975   \n",
       "1125   5.89423    0.778808   10.9679  ...   6.48686   5.01116  -1.12775   \n",
       "1126 -0.995474  0.00940847  -1.98076  ...   2.56396   2.12416  0.880348   \n",
       "1127   8.90213     1.46481   7.79084  ...   5.24126   6.54546   2.29635   \n",
       "1128  -1.33597   -0.773492  -3.65996  ...  0.631363   2.33136 -0.714452   \n",
       "\n",
       "          SPRR2D      HEY1      RHCG     BNC1 SERPINB13 C14orf19     S100A7A  \n",
       "0        5.74156 -0.600271   -4.1308 -1.33005  -1.68125 -0.32905   -0.446876  \n",
       "1       -1.93574  -1.64277    -3.668 -1.65285  -1.63655 -1.64165    -1.45318  \n",
       "2       -2.39854  -1.99837   -1.1184 -2.99385  -2.09935  0.13245    -1.45318  \n",
       "3       -1.05594   1.03963    2.1652 -2.83995  -2.09935  1.00315    -1.45318  \n",
       "4        4.55716  0.296929    -3.026 -1.70715  -2.09935 -0.29975 -0.00637567  \n",
       "...          ...       ...       ...      ...       ...      ...         ...  \n",
       "1124     9.98326   3.23653 -0.817796  5.47785   7.65565 -0.29205     7.61642  \n",
       "1125     5.57076   2.48463    4.7158  5.98285   6.46485 -1.85215   -0.427676  \n",
       "1126 -0.00353874   2.89833  0.125004 -1.59345  -1.25235 -1.40815     1.75682  \n",
       "1127     6.42956   1.02593    7.0034  4.45305   9.63895 -0.89125   -0.729276  \n",
       "1128     3.73686 -0.768171   -2.1329 -0.28205   0.30055 -0.30955   -0.939376  \n",
       "\n",
       "[1129 rows x 52 columns]"
      ]
     },
     "execution_count": 46,
     "metadata": {},
     "output_type": "execute_result"
    }
   ],
   "source": [
    "X_train"
   ]
  },
  {
   "cell_type": "code",
   "execution_count": 47,
   "metadata": {
    "scrolled": false
   },
   "outputs": [],
   "source": [
    "# me.k_fold(X_train, y_train, colors=['lightcoral', 'gold', 'paleturquoise'], seed=seed, PATH=PATH+\"essential_genes_set/XENA_Analysis/seed=\"+str(seed))"
   ]
  },
  {
   "cell_type": "markdown",
   "metadata": {},
   "source": [
    "---\n",
    "---\n",
    "---"
   ]
  },
  {
   "cell_type": "markdown",
   "metadata": {},
   "source": [
    "# CHECKING PCA"
   ]
  },
  {
   "cell_type": "code",
   "execution_count": 48,
   "metadata": {},
   "outputs": [],
   "source": [
    "X_train = df"
   ]
  },
  {
   "cell_type": "code",
   "execution_count": 49,
   "metadata": {},
   "outputs": [
    {
     "data": {
      "text/html": [
       "<div>\n",
       "<style scoped>\n",
       "    .dataframe tbody tr th:only-of-type {\n",
       "        vertical-align: middle;\n",
       "    }\n",
       "\n",
       "    .dataframe tbody tr th {\n",
       "        vertical-align: top;\n",
       "    }\n",
       "\n",
       "    .dataframe thead th {\n",
       "        text-align: right;\n",
       "    }\n",
       "</style>\n",
       "<table border=\"1\" class=\"dataframe\">\n",
       "  <thead>\n",
       "    <tr style=\"text-align: right;\">\n",
       "      <th></th>\n",
       "      <th>ARHGEF10L</th>\n",
       "      <th>HIF3A</th>\n",
       "      <th>RNF17</th>\n",
       "      <th>RNF10</th>\n",
       "      <th>RNF11</th>\n",
       "      <th>RNF13</th>\n",
       "      <th>GTF2IP1</th>\n",
       "      <th>REM1</th>\n",
       "      <th>MTVR2</th>\n",
       "      <th>RTN4RL2</th>\n",
       "      <th>...</th>\n",
       "      <th>TULP2</th>\n",
       "      <th>NPY5R</th>\n",
       "      <th>GNGT2</th>\n",
       "      <th>GNGT1</th>\n",
       "      <th>TULP3</th>\n",
       "      <th>PTRF</th>\n",
       "      <th>BCL6B</th>\n",
       "      <th>GSTK1</th>\n",
       "      <th>SELP</th>\n",
       "      <th>SELS</th>\n",
       "    </tr>\n",
       "  </thead>\n",
       "  <tbody>\n",
       "    <tr>\n",
       "      <th>0</th>\n",
       "      <td>0.125808</td>\n",
       "      <td>-1.29493</td>\n",
       "      <td>-0.112935</td>\n",
       "      <td>-1.41187</td>\n",
       "      <td>0.203922</td>\n",
       "      <td>0.0993901</td>\n",
       "      <td>-0.222094</td>\n",
       "      <td>0.504354</td>\n",
       "      <td>-0.423399</td>\n",
       "      <td>2.89503</td>\n",
       "      <td>...</td>\n",
       "      <td>1.13472</td>\n",
       "      <td>-0.845117</td>\n",
       "      <td>1.76017</td>\n",
       "      <td>-1.28139</td>\n",
       "      <td>0.224623</td>\n",
       "      <td>0.863614</td>\n",
       "      <td>0.802173</td>\n",
       "      <td>0.108205</td>\n",
       "      <td>0.595367</td>\n",
       "      <td>-0.222712</td>\n",
       "    </tr>\n",
       "    <tr>\n",
       "      <th>1</th>\n",
       "      <td>0.561708</td>\n",
       "      <td>6.06917</td>\n",
       "      <td>-0.531035</td>\n",
       "      <td>-0.228672</td>\n",
       "      <td>0.0521219</td>\n",
       "      <td>-1.20601</td>\n",
       "      <td>-0.338894</td>\n",
       "      <td>1.44985</td>\n",
       "      <td>0.0394006</td>\n",
       "      <td>0.274628</td>\n",
       "      <td>...</td>\n",
       "      <td>-0.286078</td>\n",
       "      <td>-0.055517</td>\n",
       "      <td>-0.0282335</td>\n",
       "      <td>0.0480102</td>\n",
       "      <td>0.295223</td>\n",
       "      <td>0.317114</td>\n",
       "      <td>1.07907</td>\n",
       "      <td>-0.782695</td>\n",
       "      <td>3.11427</td>\n",
       "      <td>-0.388912</td>\n",
       "    </tr>\n",
       "    <tr>\n",
       "      <th>2</th>\n",
       "      <td>-0.237592</td>\n",
       "      <td>3.58147</td>\n",
       "      <td>0.592065</td>\n",
       "      <td>-0.108372</td>\n",
       "      <td>-0.499978</td>\n",
       "      <td>-0.0254099</td>\n",
       "      <td>0.163006</td>\n",
       "      <td>0.131654</td>\n",
       "      <td>-0.0508994</td>\n",
       "      <td>-1.77077</td>\n",
       "      <td>...</td>\n",
       "      <td>2.20992</td>\n",
       "      <td>-1.58712</td>\n",
       "      <td>1.56537</td>\n",
       "      <td>2.63871</td>\n",
       "      <td>0.0491232</td>\n",
       "      <td>-1.24309</td>\n",
       "      <td>-1.28323</td>\n",
       "      <td>0.0341054</td>\n",
       "      <td>0.571467</td>\n",
       "      <td>0.233588</td>\n",
       "    </tr>\n",
       "    <tr>\n",
       "      <th>3</th>\n",
       "      <td>-1.18049</td>\n",
       "      <td>3.92767</td>\n",
       "      <td>0.291065</td>\n",
       "      <td>-0.043472</td>\n",
       "      <td>0.710822</td>\n",
       "      <td>1.05089</td>\n",
       "      <td>-0.564394</td>\n",
       "      <td>1.68395</td>\n",
       "      <td>0.398701</td>\n",
       "      <td>-1.95447</td>\n",
       "      <td>...</td>\n",
       "      <td>-0.748878</td>\n",
       "      <td>0.900483</td>\n",
       "      <td>1.90357</td>\n",
       "      <td>-1.28139</td>\n",
       "      <td>-0.549277</td>\n",
       "      <td>2.80271</td>\n",
       "      <td>2.25047</td>\n",
       "      <td>-0.540795</td>\n",
       "      <td>3.98597</td>\n",
       "      <td>0.370988</td>\n",
       "    </tr>\n",
       "    <tr>\n",
       "      <th>4</th>\n",
       "      <td>-0.656192</td>\n",
       "      <td>-0.525926</td>\n",
       "      <td>-0.531035</td>\n",
       "      <td>-0.156672</td>\n",
       "      <td>0.373522</td>\n",
       "      <td>0.44729</td>\n",
       "      <td>-0.438994</td>\n",
       "      <td>1.83155</td>\n",
       "      <td>-0.423399</td>\n",
       "      <td>2.10833</td>\n",
       "      <td>...</td>\n",
       "      <td>-0.748878</td>\n",
       "      <td>-0.931417</td>\n",
       "      <td>1.91517</td>\n",
       "      <td>-0.17659</td>\n",
       "      <td>0.0423232</td>\n",
       "      <td>1.11071</td>\n",
       "      <td>1.51397</td>\n",
       "      <td>-0.454095</td>\n",
       "      <td>2.89317</td>\n",
       "      <td>0.193788</td>\n",
       "    </tr>\n",
       "    <tr>\n",
       "      <th>...</th>\n",
       "      <td>...</td>\n",
       "      <td>...</td>\n",
       "      <td>...</td>\n",
       "      <td>...</td>\n",
       "      <td>...</td>\n",
       "      <td>...</td>\n",
       "      <td>...</td>\n",
       "      <td>...</td>\n",
       "      <td>...</td>\n",
       "      <td>...</td>\n",
       "      <td>...</td>\n",
       "      <td>...</td>\n",
       "      <td>...</td>\n",
       "      <td>...</td>\n",
       "      <td>...</td>\n",
       "      <td>...</td>\n",
       "      <td>...</td>\n",
       "      <td>...</td>\n",
       "      <td>...</td>\n",
       "      <td>...</td>\n",
       "      <td>...</td>\n",
       "    </tr>\n",
       "    <tr>\n",
       "      <th>1124</th>\n",
       "      <td>-1.28699</td>\n",
       "      <td>-1.86343</td>\n",
       "      <td>-0.531035</td>\n",
       "      <td>0.020328</td>\n",
       "      <td>-0.560978</td>\n",
       "      <td>0.51729</td>\n",
       "      <td>0.519806</td>\n",
       "      <td>-0.748146</td>\n",
       "      <td>-0.423399</td>\n",
       "      <td>-2.22857</td>\n",
       "      <td>...</td>\n",
       "      <td>-0.748878</td>\n",
       "      <td>-1.58712</td>\n",
       "      <td>-0.236033</td>\n",
       "      <td>1.41071</td>\n",
       "      <td>1.65372</td>\n",
       "      <td>0.434414</td>\n",
       "      <td>-0.491427</td>\n",
       "      <td>0.318305</td>\n",
       "      <td>-1.01143</td>\n",
       "      <td>0.392288</td>\n",
       "    </tr>\n",
       "    <tr>\n",
       "      <th>1125</th>\n",
       "      <td>-1.84779</td>\n",
       "      <td>-1.29733</td>\n",
       "      <td>-0.531035</td>\n",
       "      <td>-0.280072</td>\n",
       "      <td>-0.560278</td>\n",
       "      <td>0.85009</td>\n",
       "      <td>-0.166294</td>\n",
       "      <td>-1.51925</td>\n",
       "      <td>0.602101</td>\n",
       "      <td>-2.01397</td>\n",
       "      <td>...</td>\n",
       "      <td>0.276622</td>\n",
       "      <td>-1.58712</td>\n",
       "      <td>-0.784133</td>\n",
       "      <td>1.46201</td>\n",
       "      <td>0.765023</td>\n",
       "      <td>1.24691</td>\n",
       "      <td>-0.0700266</td>\n",
       "      <td>-0.620695</td>\n",
       "      <td>-1.39033</td>\n",
       "      <td>0.918888</td>\n",
       "    </tr>\n",
       "    <tr>\n",
       "      <th>1126</th>\n",
       "      <td>0.568508</td>\n",
       "      <td>0.0259737</td>\n",
       "      <td>0.084865</td>\n",
       "      <td>-0.00937199</td>\n",
       "      <td>-0.136278</td>\n",
       "      <td>-1.41811</td>\n",
       "      <td>0.173506</td>\n",
       "      <td>-2.19405</td>\n",
       "      <td>0.622701</td>\n",
       "      <td>2.91383</td>\n",
       "      <td>...</td>\n",
       "      <td>-0.408378</td>\n",
       "      <td>-1.24662</td>\n",
       "      <td>-1.94053</td>\n",
       "      <td>-1.28139</td>\n",
       "      <td>1.28172</td>\n",
       "      <td>-2.42559</td>\n",
       "      <td>-0.734427</td>\n",
       "      <td>-1.92679</td>\n",
       "      <td>-2.12163</td>\n",
       "      <td>-0.637412</td>\n",
       "    </tr>\n",
       "    <tr>\n",
       "      <th>1127</th>\n",
       "      <td>-0.849892</td>\n",
       "      <td>-2.41413</td>\n",
       "      <td>0.192865</td>\n",
       "      <td>0.197228</td>\n",
       "      <td>0.443922</td>\n",
       "      <td>0.54789</td>\n",
       "      <td>0.0844055</td>\n",
       "      <td>1.01505</td>\n",
       "      <td>-0.423399</td>\n",
       "      <td>0.130728</td>\n",
       "      <td>...</td>\n",
       "      <td>-0.748878</td>\n",
       "      <td>-1.58712</td>\n",
       "      <td>2.16037</td>\n",
       "      <td>1.19391</td>\n",
       "      <td>0.197023</td>\n",
       "      <td>1.55011</td>\n",
       "      <td>0.294773</td>\n",
       "      <td>0.369005</td>\n",
       "      <td>1.90927</td>\n",
       "      <td>0.117688</td>\n",
       "    </tr>\n",
       "    <tr>\n",
       "      <th>1128</th>\n",
       "      <td>-0.888992</td>\n",
       "      <td>4.22947</td>\n",
       "      <td>-0.531035</td>\n",
       "      <td>0.162228</td>\n",
       "      <td>0.344522</td>\n",
       "      <td>0.42709</td>\n",
       "      <td>-0.910394</td>\n",
       "      <td>0.194154</td>\n",
       "      <td>0.468401</td>\n",
       "      <td>-1.12847</td>\n",
       "      <td>...</td>\n",
       "      <td>-0.748878</td>\n",
       "      <td>-0.396017</td>\n",
       "      <td>2.03047</td>\n",
       "      <td>-1.28139</td>\n",
       "      <td>-0.790077</td>\n",
       "      <td>2.46851</td>\n",
       "      <td>2.66797</td>\n",
       "      <td>-0.264695</td>\n",
       "      <td>3.93087</td>\n",
       "      <td>0.842588</td>\n",
       "    </tr>\n",
       "  </tbody>\n",
       "</table>\n",
       "<p>1129 rows × 20258 columns</p>\n",
       "</div>"
      ],
      "text/plain": [
       "     ARHGEF10L      HIF3A     RNF17       RNF10      RNF11      RNF13  \\\n",
       "0     0.125808   -1.29493 -0.112935    -1.41187   0.203922  0.0993901   \n",
       "1     0.561708    6.06917 -0.531035   -0.228672  0.0521219   -1.20601   \n",
       "2    -0.237592    3.58147  0.592065   -0.108372  -0.499978 -0.0254099   \n",
       "3     -1.18049    3.92767  0.291065   -0.043472   0.710822    1.05089   \n",
       "4    -0.656192  -0.525926 -0.531035   -0.156672   0.373522    0.44729   \n",
       "...        ...        ...       ...         ...        ...        ...   \n",
       "1124  -1.28699   -1.86343 -0.531035    0.020328  -0.560978    0.51729   \n",
       "1125  -1.84779   -1.29733 -0.531035   -0.280072  -0.560278    0.85009   \n",
       "1126  0.568508  0.0259737  0.084865 -0.00937199  -0.136278   -1.41811   \n",
       "1127 -0.849892   -2.41413  0.192865    0.197228   0.443922    0.54789   \n",
       "1128 -0.888992    4.22947 -0.531035    0.162228   0.344522    0.42709   \n",
       "\n",
       "        GTF2IP1      REM1      MTVR2   RTN4RL2  ...     TULP2     NPY5R  \\\n",
       "0     -0.222094  0.504354  -0.423399   2.89503  ...   1.13472 -0.845117   \n",
       "1     -0.338894   1.44985  0.0394006  0.274628  ... -0.286078 -0.055517   \n",
       "2      0.163006  0.131654 -0.0508994  -1.77077  ...   2.20992  -1.58712   \n",
       "3     -0.564394   1.68395   0.398701  -1.95447  ... -0.748878  0.900483   \n",
       "4     -0.438994   1.83155  -0.423399   2.10833  ... -0.748878 -0.931417   \n",
       "...         ...       ...        ...       ...  ...       ...       ...   \n",
       "1124   0.519806 -0.748146  -0.423399  -2.22857  ... -0.748878  -1.58712   \n",
       "1125  -0.166294  -1.51925   0.602101  -2.01397  ...  0.276622  -1.58712   \n",
       "1126   0.173506  -2.19405   0.622701   2.91383  ... -0.408378  -1.24662   \n",
       "1127  0.0844055   1.01505  -0.423399  0.130728  ... -0.748878  -1.58712   \n",
       "1128  -0.910394  0.194154   0.468401  -1.12847  ... -0.748878 -0.396017   \n",
       "\n",
       "          GNGT2      GNGT1      TULP3      PTRF      BCL6B      GSTK1  \\\n",
       "0       1.76017   -1.28139   0.224623  0.863614   0.802173   0.108205   \n",
       "1    -0.0282335  0.0480102   0.295223  0.317114    1.07907  -0.782695   \n",
       "2       1.56537    2.63871  0.0491232  -1.24309   -1.28323  0.0341054   \n",
       "3       1.90357   -1.28139  -0.549277   2.80271    2.25047  -0.540795   \n",
       "4       1.91517   -0.17659  0.0423232   1.11071    1.51397  -0.454095   \n",
       "...         ...        ...        ...       ...        ...        ...   \n",
       "1124  -0.236033    1.41071    1.65372  0.434414  -0.491427   0.318305   \n",
       "1125  -0.784133    1.46201   0.765023   1.24691 -0.0700266  -0.620695   \n",
       "1126   -1.94053   -1.28139    1.28172  -2.42559  -0.734427   -1.92679   \n",
       "1127    2.16037    1.19391   0.197023   1.55011   0.294773   0.369005   \n",
       "1128    2.03047   -1.28139  -0.790077   2.46851    2.66797  -0.264695   \n",
       "\n",
       "          SELP      SELS  \n",
       "0     0.595367 -0.222712  \n",
       "1      3.11427 -0.388912  \n",
       "2     0.571467  0.233588  \n",
       "3      3.98597  0.370988  \n",
       "4      2.89317  0.193788  \n",
       "...        ...       ...  \n",
       "1124  -1.01143  0.392288  \n",
       "1125  -1.39033  0.918888  \n",
       "1126  -2.12163 -0.637412  \n",
       "1127   1.90927  0.117688  \n",
       "1128   3.93087  0.842588  \n",
       "\n",
       "[1129 rows x 20258 columns]"
      ]
     },
     "execution_count": 49,
     "metadata": {},
     "output_type": "execute_result"
    }
   ],
   "source": [
    "X_train"
   ]
  },
  {
   "cell_type": "code",
   "execution_count": 50,
   "metadata": {},
   "outputs": [],
   "source": [
    "epochs = 100\n",
    "learning_rate = 1e-5\n",
    "batch_size_df = 32"
   ]
  },
  {
   "cell_type": "markdown",
   "metadata": {},
   "source": [
    "### check PCA using 512 dimensions (so as to compare with the autoencoder)"
   ]
  },
  {
   "cell_type": "code",
   "execution_count": null,
   "metadata": {},
   "outputs": [],
   "source": [
    "pca_512 = KernelPCA(n_components = 512, kernel='linear')"
   ]
  },
  {
   "cell_type": "code",
   "execution_count": null,
   "metadata": {},
   "outputs": [],
   "source": [
    "pca_fit_X_train_512 = pca_512.fit_transform(X_train)"
   ]
  },
  {
   "cell_type": "code",
   "execution_count": null,
   "metadata": {},
   "outputs": [],
   "source": [
    "pca_fit_X_train_512.shape"
   ]
  },
  {
   "cell_type": "code",
   "execution_count": null,
   "metadata": {},
   "outputs": [],
   "source": [
    "'''\n",
    "perform k-fold cross validation on pca fitted dataset: pca_fit_X_train.\n",
    "No need to convert it into numpy array, as after applying pca, it automatically gets converted.\n",
    "'''\n",
    "\n",
    "pca_test_score_512 = 0.\n",
    "pca_train_score_512 = 0.\n",
    "\n",
    "k = 10\n",
    "kfold = StratifiedKFold(n_splits=k, shuffle=False)\n",
    "\n",
    "for fold, (train_index, test_index) in enumerate(kfold.split(pca_fit_X_train_512, y_train)):\n",
    "\n",
    "    xtrain, xtest = pca_fit_X_train_512[train_index], pca_fit_X_train_512[test_index]\n",
    "    ytrain, ytest = np.array(y_train)[train_index], np.array(y_train)[test_index]\n",
    "\n",
    "    scaler = StandardScaler()\n",
    "    xtrain_scaled = scaler.fit_transform(xtrain)\n",
    "    xtest_scaled = scaler.transform(xtest)\n",
    "\n",
    "\n",
    "    heading = HTML(\"<b>Fold: {}</b>\".format(fold+1))\n",
    "    display(heading)\n",
    "    \n",
    "    mlp_512 = MLPClassifier(\n",
    "        hidden_layer_sizes=(512, 256, 128), \n",
    "        random_state=seed,\n",
    "        batch_size=batch_size_df,\n",
    "        verbose=False,\n",
    "        learning_rate_init=learning_rate,\n",
    "        max_iter=epochs,\n",
    "        alpha=0.02)\n",
    "    \n",
    "    mlp_512.fit(xtrain_scaled, ytrain)\n",
    "\n",
    "    ## store train_acc and test_acc in temp lists\n",
    "    pca_train_score_512 += (mlp_512.score(xtrain_scaled, ytrain))\n",
    "    pca_test_score_512 += (mlp_512.score(xtest_scaled, ytest))\n",
    "    print(mlp_512.score(xtest_scaled, ytest))\n"
   ]
  },
  {
   "cell_type": "code",
   "execution_count": null,
   "metadata": {},
   "outputs": [],
   "source": [
    "(pca_train_score_512)/10"
   ]
  },
  {
   "cell_type": "code",
   "execution_count": null,
   "metadata": {},
   "outputs": [],
   "source": [
    "(pca_test_score_512)/10"
   ]
  },
  {
   "cell_type": "markdown",
   "metadata": {},
   "source": [
    "### check using 1024 dimensions"
   ]
  },
  {
   "cell_type": "code",
   "execution_count": null,
   "metadata": {},
   "outputs": [],
   "source": [
    "X_train = df"
   ]
  },
  {
   "cell_type": "code",
   "execution_count": null,
   "metadata": {},
   "outputs": [],
   "source": [
    "X_train"
   ]
  },
  {
   "cell_type": "code",
   "execution_count": null,
   "metadata": {},
   "outputs": [],
   "source": [
    "pca_1024 = KernelPCA(n_components = 1024, kernel='linear')"
   ]
  },
  {
   "cell_type": "code",
   "execution_count": null,
   "metadata": {},
   "outputs": [],
   "source": [
    "pca_fit_X_train_1024 = pca_1024.fit_transform(X_train)"
   ]
  },
  {
   "cell_type": "code",
   "execution_count": null,
   "metadata": {},
   "outputs": [],
   "source": [
    "pca_fit_X_train_1024.shape"
   ]
  },
  {
   "cell_type": "code",
   "execution_count": null,
   "metadata": {},
   "outputs": [],
   "source": [
    "'''\n",
    "perform k-fold cross validation on pca fitted dataset: pca_fit_X_train.\n",
    "No need to convert it into numpy array, as after applying pca, it automatically gets converted.\n",
    "'''\n",
    "\n",
    "pca_test_score_1024 = 0.\n",
    "pca_train_score_1024 = 0.\n",
    "\n",
    "k = 10\n",
    "kfold = StratifiedKFold(n_splits=k, shuffle=False)\n",
    "\n",
    "for fold, (train_index, test_index) in enumerate(kfold.split(pca_fit_X_train_1024, y_train)):\n",
    "\n",
    "    xtrain, xtest = pca_fit_X_train_1024[train_index], pca_fit_X_train_1024[test_index]\n",
    "    ytrain, ytest = np.array(y_train)[train_index], np.array(y_train)[test_index]\n",
    "\n",
    "    scaler = StandardScaler()\n",
    "    xtrain_scaled = scaler.fit_transform(xtrain)\n",
    "    xtest_scaled = scaler.transform(xtest)\n",
    "\n",
    "\n",
    "    heading = HTML(\"<b>Fold: {}</b>\".format(fold+1))\n",
    "    display(heading)\n",
    "    \n",
    "    mlp_1024 = MLPClassifier(\n",
    "        hidden_layer_sizes=(512, 256, 128), \n",
    "        random_state=seed,\n",
    "        batch_size=batch_size_df,\n",
    "        verbose=False,\n",
    "        learning_rate_init=learning_rate,\n",
    "        max_iter=epochs,\n",
    "        alpha=0.02)\n",
    "    \n",
    "    mlp_1024.fit(xtrain_scaled, ytrain)\n",
    "\n",
    "    ## store train_acc and test_acc in temp lists\n",
    "    pca_train_score_1024 += (mlp_1024.score(xtrain_scaled, ytrain))\n",
    "    pca_test_score_1024 += (mlp_1024.score(xtest_scaled, ytest))\n",
    "    print(mlp_1024.score(xtest_scaled, ytest))\n"
   ]
  },
  {
   "cell_type": "code",
   "execution_count": null,
   "metadata": {},
   "outputs": [],
   "source": [
    "(pca_train_score_1024)/10"
   ]
  },
  {
   "cell_type": "code",
   "execution_count": null,
   "metadata": {},
   "outputs": [],
   "source": [
    "(pca_test_score_1024)/10"
   ]
  },
  {
   "cell_type": "markdown",
   "metadata": {},
   "source": [
    "### check using 10 params"
   ]
  },
  {
   "cell_type": "code",
   "execution_count": null,
   "metadata": {},
   "outputs": [],
   "source": [
    "X_train = df"
   ]
  },
  {
   "cell_type": "code",
   "execution_count": null,
   "metadata": {},
   "outputs": [],
   "source": [
    "X_train"
   ]
  },
  {
   "cell_type": "code",
   "execution_count": null,
   "metadata": {},
   "outputs": [],
   "source": [
    "pca_10 = KernelPCA(n_components = 10, kernel='linear')"
   ]
  },
  {
   "cell_type": "code",
   "execution_count": null,
   "metadata": {},
   "outputs": [],
   "source": [
    "pca_fit_X_train_10 = pca_10.fit_transform(X_train)"
   ]
  },
  {
   "cell_type": "code",
   "execution_count": null,
   "metadata": {},
   "outputs": [],
   "source": [
    "pca_fit_X_train_10.shape"
   ]
  },
  {
   "cell_type": "code",
   "execution_count": null,
   "metadata": {},
   "outputs": [],
   "source": [
    "'''\n",
    "perform k-fold cross validation on pca fitted dataset: pca_fit_X_train.\n",
    "No need to convert it into numpy array, as after applying pca, it automatically gets converted.\n",
    "'''\n",
    "\n",
    "pca_test_score_10 = 0.\n",
    "pca_train_score_10 = 0.\n",
    "\n",
    "k = 10\n",
    "kfold = StratifiedKFold(n_splits=k, shuffle=False)\n",
    "\n",
    "for fold, (train_index, test_index) in enumerate(kfold.split(pca_fit_X_train_10, y_train)):\n",
    "\n",
    "    xtrain, xtest = pca_fit_X_train_10[train_index], pca_fit_X_train_10[test_index]\n",
    "    ytrain, ytest = np.array(y_train)[train_index], np.array(y_train)[test_index]\n",
    "\n",
    "    scaler = StandardScaler()\n",
    "    xtrain_scaled = scaler.fit_transform(xtrain)\n",
    "    xtest_scaled = scaler.transform(xtest)\n",
    "\n",
    "\n",
    "    heading = HTML(\"<b>Fold: {}</b>\".format(fold+1))\n",
    "    display(heading)\n",
    "    \n",
    "    mlp_10 = MLPClassifier(\n",
    "        hidden_layer_sizes=(512, 256, 128), \n",
    "        random_state=seed,\n",
    "        batch_size=batch_size_df,\n",
    "        verbose=False,\n",
    "        learning_rate_init=learning_rate,\n",
    "        max_iter=epochs,\n",
    "        alpha=0.02)\n",
    "    \n",
    "    mlp_10.fit(xtrain_scaled, ytrain)\n",
    "\n",
    "    ## store train_acc and test_acc in temp lists\n",
    "    pca_train_score_10 += (mlp_10.score(xtrain_scaled, ytrain))\n",
    "    pca_test_score_10 += (mlp_10.score(xtest_scaled, ytest))\n",
    "    print(mlp_10.score(xtest_scaled, ytest))\n"
   ]
  },
  {
   "cell_type": "code",
   "execution_count": null,
   "metadata": {},
   "outputs": [],
   "source": [
    "(pca_train_score_10)/10"
   ]
  },
  {
   "cell_type": "code",
   "execution_count": null,
   "metadata": {},
   "outputs": [],
   "source": [
    "(pca_test_score_10)/10"
   ]
  },
  {
   "cell_type": "markdown",
   "metadata": {},
   "source": [
    "# CHECK LINEAR DISCRIMINANT ANALYSIS"
   ]
  },
  {
   "cell_type": "code",
   "execution_count": 69,
   "metadata": {},
   "outputs": [],
   "source": [
    "X_train = df"
   ]
  },
  {
   "cell_type": "code",
   "execution_count": 70,
   "metadata": {},
   "outputs": [
    {
     "data": {
      "text/html": [
       "<div>\n",
       "<style scoped>\n",
       "    .dataframe tbody tr th:only-of-type {\n",
       "        vertical-align: middle;\n",
       "    }\n",
       "\n",
       "    .dataframe tbody tr th {\n",
       "        vertical-align: top;\n",
       "    }\n",
       "\n",
       "    .dataframe thead th {\n",
       "        text-align: right;\n",
       "    }\n",
       "</style>\n",
       "<table border=\"1\" class=\"dataframe\">\n",
       "  <thead>\n",
       "    <tr style=\"text-align: right;\">\n",
       "      <th></th>\n",
       "      <th>ARHGEF10L</th>\n",
       "      <th>HIF3A</th>\n",
       "      <th>RNF17</th>\n",
       "      <th>RNF10</th>\n",
       "      <th>RNF11</th>\n",
       "      <th>RNF13</th>\n",
       "      <th>GTF2IP1</th>\n",
       "      <th>REM1</th>\n",
       "      <th>MTVR2</th>\n",
       "      <th>RTN4RL2</th>\n",
       "      <th>...</th>\n",
       "      <th>TULP2</th>\n",
       "      <th>NPY5R</th>\n",
       "      <th>GNGT2</th>\n",
       "      <th>GNGT1</th>\n",
       "      <th>TULP3</th>\n",
       "      <th>PTRF</th>\n",
       "      <th>BCL6B</th>\n",
       "      <th>GSTK1</th>\n",
       "      <th>SELP</th>\n",
       "      <th>SELS</th>\n",
       "    </tr>\n",
       "  </thead>\n",
       "  <tbody>\n",
       "    <tr>\n",
       "      <th>0</th>\n",
       "      <td>0.125808</td>\n",
       "      <td>-1.29493</td>\n",
       "      <td>-0.112935</td>\n",
       "      <td>-1.41187</td>\n",
       "      <td>0.203922</td>\n",
       "      <td>0.0993901</td>\n",
       "      <td>-0.222094</td>\n",
       "      <td>0.504354</td>\n",
       "      <td>-0.423399</td>\n",
       "      <td>2.89503</td>\n",
       "      <td>...</td>\n",
       "      <td>1.13472</td>\n",
       "      <td>-0.845117</td>\n",
       "      <td>1.76017</td>\n",
       "      <td>-1.28139</td>\n",
       "      <td>0.224623</td>\n",
       "      <td>0.863614</td>\n",
       "      <td>0.802173</td>\n",
       "      <td>0.108205</td>\n",
       "      <td>0.595367</td>\n",
       "      <td>-0.222712</td>\n",
       "    </tr>\n",
       "    <tr>\n",
       "      <th>1</th>\n",
       "      <td>0.561708</td>\n",
       "      <td>6.06917</td>\n",
       "      <td>-0.531035</td>\n",
       "      <td>-0.228672</td>\n",
       "      <td>0.0521219</td>\n",
       "      <td>-1.20601</td>\n",
       "      <td>-0.338894</td>\n",
       "      <td>1.44985</td>\n",
       "      <td>0.0394006</td>\n",
       "      <td>0.274628</td>\n",
       "      <td>...</td>\n",
       "      <td>-0.286078</td>\n",
       "      <td>-0.055517</td>\n",
       "      <td>-0.0282335</td>\n",
       "      <td>0.0480102</td>\n",
       "      <td>0.295223</td>\n",
       "      <td>0.317114</td>\n",
       "      <td>1.07907</td>\n",
       "      <td>-0.782695</td>\n",
       "      <td>3.11427</td>\n",
       "      <td>-0.388912</td>\n",
       "    </tr>\n",
       "    <tr>\n",
       "      <th>2</th>\n",
       "      <td>-0.237592</td>\n",
       "      <td>3.58147</td>\n",
       "      <td>0.592065</td>\n",
       "      <td>-0.108372</td>\n",
       "      <td>-0.499978</td>\n",
       "      <td>-0.0254099</td>\n",
       "      <td>0.163006</td>\n",
       "      <td>0.131654</td>\n",
       "      <td>-0.0508994</td>\n",
       "      <td>-1.77077</td>\n",
       "      <td>...</td>\n",
       "      <td>2.20992</td>\n",
       "      <td>-1.58712</td>\n",
       "      <td>1.56537</td>\n",
       "      <td>2.63871</td>\n",
       "      <td>0.0491232</td>\n",
       "      <td>-1.24309</td>\n",
       "      <td>-1.28323</td>\n",
       "      <td>0.0341054</td>\n",
       "      <td>0.571467</td>\n",
       "      <td>0.233588</td>\n",
       "    </tr>\n",
       "    <tr>\n",
       "      <th>3</th>\n",
       "      <td>-1.18049</td>\n",
       "      <td>3.92767</td>\n",
       "      <td>0.291065</td>\n",
       "      <td>-0.043472</td>\n",
       "      <td>0.710822</td>\n",
       "      <td>1.05089</td>\n",
       "      <td>-0.564394</td>\n",
       "      <td>1.68395</td>\n",
       "      <td>0.398701</td>\n",
       "      <td>-1.95447</td>\n",
       "      <td>...</td>\n",
       "      <td>-0.748878</td>\n",
       "      <td>0.900483</td>\n",
       "      <td>1.90357</td>\n",
       "      <td>-1.28139</td>\n",
       "      <td>-0.549277</td>\n",
       "      <td>2.80271</td>\n",
       "      <td>2.25047</td>\n",
       "      <td>-0.540795</td>\n",
       "      <td>3.98597</td>\n",
       "      <td>0.370988</td>\n",
       "    </tr>\n",
       "    <tr>\n",
       "      <th>4</th>\n",
       "      <td>-0.656192</td>\n",
       "      <td>-0.525926</td>\n",
       "      <td>-0.531035</td>\n",
       "      <td>-0.156672</td>\n",
       "      <td>0.373522</td>\n",
       "      <td>0.44729</td>\n",
       "      <td>-0.438994</td>\n",
       "      <td>1.83155</td>\n",
       "      <td>-0.423399</td>\n",
       "      <td>2.10833</td>\n",
       "      <td>...</td>\n",
       "      <td>-0.748878</td>\n",
       "      <td>-0.931417</td>\n",
       "      <td>1.91517</td>\n",
       "      <td>-0.17659</td>\n",
       "      <td>0.0423232</td>\n",
       "      <td>1.11071</td>\n",
       "      <td>1.51397</td>\n",
       "      <td>-0.454095</td>\n",
       "      <td>2.89317</td>\n",
       "      <td>0.193788</td>\n",
       "    </tr>\n",
       "    <tr>\n",
       "      <th>...</th>\n",
       "      <td>...</td>\n",
       "      <td>...</td>\n",
       "      <td>...</td>\n",
       "      <td>...</td>\n",
       "      <td>...</td>\n",
       "      <td>...</td>\n",
       "      <td>...</td>\n",
       "      <td>...</td>\n",
       "      <td>...</td>\n",
       "      <td>...</td>\n",
       "      <td>...</td>\n",
       "      <td>...</td>\n",
       "      <td>...</td>\n",
       "      <td>...</td>\n",
       "      <td>...</td>\n",
       "      <td>...</td>\n",
       "      <td>...</td>\n",
       "      <td>...</td>\n",
       "      <td>...</td>\n",
       "      <td>...</td>\n",
       "      <td>...</td>\n",
       "    </tr>\n",
       "    <tr>\n",
       "      <th>1124</th>\n",
       "      <td>-1.28699</td>\n",
       "      <td>-1.86343</td>\n",
       "      <td>-0.531035</td>\n",
       "      <td>0.020328</td>\n",
       "      <td>-0.560978</td>\n",
       "      <td>0.51729</td>\n",
       "      <td>0.519806</td>\n",
       "      <td>-0.748146</td>\n",
       "      <td>-0.423399</td>\n",
       "      <td>-2.22857</td>\n",
       "      <td>...</td>\n",
       "      <td>-0.748878</td>\n",
       "      <td>-1.58712</td>\n",
       "      <td>-0.236033</td>\n",
       "      <td>1.41071</td>\n",
       "      <td>1.65372</td>\n",
       "      <td>0.434414</td>\n",
       "      <td>-0.491427</td>\n",
       "      <td>0.318305</td>\n",
       "      <td>-1.01143</td>\n",
       "      <td>0.392288</td>\n",
       "    </tr>\n",
       "    <tr>\n",
       "      <th>1125</th>\n",
       "      <td>-1.84779</td>\n",
       "      <td>-1.29733</td>\n",
       "      <td>-0.531035</td>\n",
       "      <td>-0.280072</td>\n",
       "      <td>-0.560278</td>\n",
       "      <td>0.85009</td>\n",
       "      <td>-0.166294</td>\n",
       "      <td>-1.51925</td>\n",
       "      <td>0.602101</td>\n",
       "      <td>-2.01397</td>\n",
       "      <td>...</td>\n",
       "      <td>0.276622</td>\n",
       "      <td>-1.58712</td>\n",
       "      <td>-0.784133</td>\n",
       "      <td>1.46201</td>\n",
       "      <td>0.765023</td>\n",
       "      <td>1.24691</td>\n",
       "      <td>-0.0700266</td>\n",
       "      <td>-0.620695</td>\n",
       "      <td>-1.39033</td>\n",
       "      <td>0.918888</td>\n",
       "    </tr>\n",
       "    <tr>\n",
       "      <th>1126</th>\n",
       "      <td>0.568508</td>\n",
       "      <td>0.0259737</td>\n",
       "      <td>0.084865</td>\n",
       "      <td>-0.00937199</td>\n",
       "      <td>-0.136278</td>\n",
       "      <td>-1.41811</td>\n",
       "      <td>0.173506</td>\n",
       "      <td>-2.19405</td>\n",
       "      <td>0.622701</td>\n",
       "      <td>2.91383</td>\n",
       "      <td>...</td>\n",
       "      <td>-0.408378</td>\n",
       "      <td>-1.24662</td>\n",
       "      <td>-1.94053</td>\n",
       "      <td>-1.28139</td>\n",
       "      <td>1.28172</td>\n",
       "      <td>-2.42559</td>\n",
       "      <td>-0.734427</td>\n",
       "      <td>-1.92679</td>\n",
       "      <td>-2.12163</td>\n",
       "      <td>-0.637412</td>\n",
       "    </tr>\n",
       "    <tr>\n",
       "      <th>1127</th>\n",
       "      <td>-0.849892</td>\n",
       "      <td>-2.41413</td>\n",
       "      <td>0.192865</td>\n",
       "      <td>0.197228</td>\n",
       "      <td>0.443922</td>\n",
       "      <td>0.54789</td>\n",
       "      <td>0.0844055</td>\n",
       "      <td>1.01505</td>\n",
       "      <td>-0.423399</td>\n",
       "      <td>0.130728</td>\n",
       "      <td>...</td>\n",
       "      <td>-0.748878</td>\n",
       "      <td>-1.58712</td>\n",
       "      <td>2.16037</td>\n",
       "      <td>1.19391</td>\n",
       "      <td>0.197023</td>\n",
       "      <td>1.55011</td>\n",
       "      <td>0.294773</td>\n",
       "      <td>0.369005</td>\n",
       "      <td>1.90927</td>\n",
       "      <td>0.117688</td>\n",
       "    </tr>\n",
       "    <tr>\n",
       "      <th>1128</th>\n",
       "      <td>-0.888992</td>\n",
       "      <td>4.22947</td>\n",
       "      <td>-0.531035</td>\n",
       "      <td>0.162228</td>\n",
       "      <td>0.344522</td>\n",
       "      <td>0.42709</td>\n",
       "      <td>-0.910394</td>\n",
       "      <td>0.194154</td>\n",
       "      <td>0.468401</td>\n",
       "      <td>-1.12847</td>\n",
       "      <td>...</td>\n",
       "      <td>-0.748878</td>\n",
       "      <td>-0.396017</td>\n",
       "      <td>2.03047</td>\n",
       "      <td>-1.28139</td>\n",
       "      <td>-0.790077</td>\n",
       "      <td>2.46851</td>\n",
       "      <td>2.66797</td>\n",
       "      <td>-0.264695</td>\n",
       "      <td>3.93087</td>\n",
       "      <td>0.842588</td>\n",
       "    </tr>\n",
       "  </tbody>\n",
       "</table>\n",
       "<p>1129 rows × 20258 columns</p>\n",
       "</div>"
      ],
      "text/plain": [
       "     ARHGEF10L      HIF3A     RNF17       RNF10      RNF11      RNF13  \\\n",
       "0     0.125808   -1.29493 -0.112935    -1.41187   0.203922  0.0993901   \n",
       "1     0.561708    6.06917 -0.531035   -0.228672  0.0521219   -1.20601   \n",
       "2    -0.237592    3.58147  0.592065   -0.108372  -0.499978 -0.0254099   \n",
       "3     -1.18049    3.92767  0.291065   -0.043472   0.710822    1.05089   \n",
       "4    -0.656192  -0.525926 -0.531035   -0.156672   0.373522    0.44729   \n",
       "...        ...        ...       ...         ...        ...        ...   \n",
       "1124  -1.28699   -1.86343 -0.531035    0.020328  -0.560978    0.51729   \n",
       "1125  -1.84779   -1.29733 -0.531035   -0.280072  -0.560278    0.85009   \n",
       "1126  0.568508  0.0259737  0.084865 -0.00937199  -0.136278   -1.41811   \n",
       "1127 -0.849892   -2.41413  0.192865    0.197228   0.443922    0.54789   \n",
       "1128 -0.888992    4.22947 -0.531035    0.162228   0.344522    0.42709   \n",
       "\n",
       "        GTF2IP1      REM1      MTVR2   RTN4RL2  ...     TULP2     NPY5R  \\\n",
       "0     -0.222094  0.504354  -0.423399   2.89503  ...   1.13472 -0.845117   \n",
       "1     -0.338894   1.44985  0.0394006  0.274628  ... -0.286078 -0.055517   \n",
       "2      0.163006  0.131654 -0.0508994  -1.77077  ...   2.20992  -1.58712   \n",
       "3     -0.564394   1.68395   0.398701  -1.95447  ... -0.748878  0.900483   \n",
       "4     -0.438994   1.83155  -0.423399   2.10833  ... -0.748878 -0.931417   \n",
       "...         ...       ...        ...       ...  ...       ...       ...   \n",
       "1124   0.519806 -0.748146  -0.423399  -2.22857  ... -0.748878  -1.58712   \n",
       "1125  -0.166294  -1.51925   0.602101  -2.01397  ...  0.276622  -1.58712   \n",
       "1126   0.173506  -2.19405   0.622701   2.91383  ... -0.408378  -1.24662   \n",
       "1127  0.0844055   1.01505  -0.423399  0.130728  ... -0.748878  -1.58712   \n",
       "1128  -0.910394  0.194154   0.468401  -1.12847  ... -0.748878 -0.396017   \n",
       "\n",
       "          GNGT2      GNGT1      TULP3      PTRF      BCL6B      GSTK1  \\\n",
       "0       1.76017   -1.28139   0.224623  0.863614   0.802173   0.108205   \n",
       "1    -0.0282335  0.0480102   0.295223  0.317114    1.07907  -0.782695   \n",
       "2       1.56537    2.63871  0.0491232  -1.24309   -1.28323  0.0341054   \n",
       "3       1.90357   -1.28139  -0.549277   2.80271    2.25047  -0.540795   \n",
       "4       1.91517   -0.17659  0.0423232   1.11071    1.51397  -0.454095   \n",
       "...         ...        ...        ...       ...        ...        ...   \n",
       "1124  -0.236033    1.41071    1.65372  0.434414  -0.491427   0.318305   \n",
       "1125  -0.784133    1.46201   0.765023   1.24691 -0.0700266  -0.620695   \n",
       "1126   -1.94053   -1.28139    1.28172  -2.42559  -0.734427   -1.92679   \n",
       "1127    2.16037    1.19391   0.197023   1.55011   0.294773   0.369005   \n",
       "1128    2.03047   -1.28139  -0.790077   2.46851    2.66797  -0.264695   \n",
       "\n",
       "          SELP      SELS  \n",
       "0     0.595367 -0.222712  \n",
       "1      3.11427 -0.388912  \n",
       "2     0.571467  0.233588  \n",
       "3      3.98597  0.370988  \n",
       "4      2.89317  0.193788  \n",
       "...        ...       ...  \n",
       "1124  -1.01143  0.392288  \n",
       "1125  -1.39033  0.918888  \n",
       "1126  -2.12163 -0.637412  \n",
       "1127   1.90927  0.117688  \n",
       "1128   3.93087  0.842588  \n",
       "\n",
       "[1129 rows x 20258 columns]"
      ]
     },
     "execution_count": 70,
     "metadata": {},
     "output_type": "execute_result"
    }
   ],
   "source": [
    "X_train"
   ]
  },
  {
   "cell_type": "code",
   "execution_count": 71,
   "metadata": {},
   "outputs": [],
   "source": [
    "lda_512 = LinearDiscriminantAnalysis()"
   ]
  },
  {
   "cell_type": "code",
   "execution_count": 72,
   "metadata": {
    "scrolled": false
   },
   "outputs": [],
   "source": [
    "lda_fit_X_train_512 = lda_512.fit_transform(X_train, y_train)"
   ]
  },
  {
   "cell_type": "code",
   "execution_count": 73,
   "metadata": {},
   "outputs": [
    {
     "data": {
      "text/plain": [
       "(1129, 1)"
      ]
     },
     "execution_count": 73,
     "metadata": {},
     "output_type": "execute_result"
    }
   ],
   "source": [
    "lda_fit_X_train_512.shape"
   ]
  },
  {
   "cell_type": "code",
   "execution_count": 74,
   "metadata": {},
   "outputs": [
    {
     "data": {
      "text/html": [
       "<b>Fold: 1</b>"
      ],
      "text/plain": [
       "<IPython.core.display.HTML object>"
      ]
     },
     "metadata": {},
     "output_type": "display_data"
    },
    {
     "name": "stdout",
     "output_type": "stream",
     "text": [
      "0.9734513274336283\n"
     ]
    },
    {
     "data": {
      "text/html": [
       "<b>Fold: 2</b>"
      ],
      "text/plain": [
       "<IPython.core.display.HTML object>"
      ]
     },
     "metadata": {},
     "output_type": "display_data"
    },
    {
     "name": "stdout",
     "output_type": "stream",
     "text": [
      "0.9911504424778761\n"
     ]
    },
    {
     "data": {
      "text/html": [
       "<b>Fold: 3</b>"
      ],
      "text/plain": [
       "<IPython.core.display.HTML object>"
      ]
     },
     "metadata": {},
     "output_type": "display_data"
    },
    {
     "name": "stdout",
     "output_type": "stream",
     "text": [
      "0.9646017699115044\n"
     ]
    },
    {
     "data": {
      "text/html": [
       "<b>Fold: 4</b>"
      ],
      "text/plain": [
       "<IPython.core.display.HTML object>"
      ]
     },
     "metadata": {},
     "output_type": "display_data"
    },
    {
     "name": "stdout",
     "output_type": "stream",
     "text": [
      "0.9734513274336283\n"
     ]
    },
    {
     "data": {
      "text/html": [
       "<b>Fold: 5</b>"
      ],
      "text/plain": [
       "<IPython.core.display.HTML object>"
      ]
     },
     "metadata": {},
     "output_type": "display_data"
    },
    {
     "name": "stdout",
     "output_type": "stream",
     "text": [
      "0.9557522123893806\n"
     ]
    },
    {
     "data": {
      "text/html": [
       "<b>Fold: 6</b>"
      ],
      "text/plain": [
       "<IPython.core.display.HTML object>"
      ]
     },
     "metadata": {},
     "output_type": "display_data"
    },
    {
     "name": "stdout",
     "output_type": "stream",
     "text": [
      "0.9469026548672567\n"
     ]
    },
    {
     "data": {
      "text/html": [
       "<b>Fold: 7</b>"
      ],
      "text/plain": [
       "<IPython.core.display.HTML object>"
      ]
     },
     "metadata": {},
     "output_type": "display_data"
    },
    {
     "name": "stdout",
     "output_type": "stream",
     "text": [
      "0.9646017699115044\n"
     ]
    },
    {
     "data": {
      "text/html": [
       "<b>Fold: 8</b>"
      ],
      "text/plain": [
       "<IPython.core.display.HTML object>"
      ]
     },
     "metadata": {},
     "output_type": "display_data"
    },
    {
     "name": "stdout",
     "output_type": "stream",
     "text": [
      "0.9557522123893806\n"
     ]
    },
    {
     "data": {
      "text/html": [
       "<b>Fold: 9</b>"
      ],
      "text/plain": [
       "<IPython.core.display.HTML object>"
      ]
     },
     "metadata": {},
     "output_type": "display_data"
    },
    {
     "name": "stdout",
     "output_type": "stream",
     "text": [
      "0.9292035398230089\n"
     ]
    },
    {
     "data": {
      "text/html": [
       "<b>Fold: 10</b>"
      ],
      "text/plain": [
       "<IPython.core.display.HTML object>"
      ]
     },
     "metadata": {},
     "output_type": "display_data"
    },
    {
     "name": "stdout",
     "output_type": "stream",
     "text": [
      "0.9732142857142857\n"
     ]
    }
   ],
   "source": [
    "'''\n",
    "perform k-fold cross validation on pca fitted dataset: pca_fit_X_train.\n",
    "No need to convert it into numpy array, as after applying pca, it automatically gets converted.\n",
    "'''\n",
    "\n",
    "lda_512_test_score = 0.\n",
    "lda_512_train_score = 0.\n",
    "\n",
    "k = 10\n",
    "kfold = StratifiedKFold(n_splits=k, shuffle=False)\n",
    "\n",
    "for fold, (train_index, test_index) in enumerate(kfold.split(lda_fit_X_train_512, y_train)):\n",
    "\n",
    "    xtrain, xtest = lda_fit_X_train_512[train_index], lda_fit_X_train_512[test_index]\n",
    "    ytrain, ytest = np.array(y_train)[train_index], np.array(y_train)[test_index]\n",
    "\n",
    "    scaler = StandardScaler()\n",
    "    xtrain_scaled = scaler.fit_transform(xtrain)\n",
    "    xtest_scaled = scaler.transform(xtest)\n",
    "\n",
    "    heading = HTML(\"<b>Fold: {}</b>\".format(fold+1))\n",
    "    display(heading)\n",
    "    \n",
    "    mlp_lda = MLPClassifier(\n",
    "        hidden_layer_sizes=(512, 256, 128), \n",
    "        random_state=seed,\n",
    "        batch_size=batch_size_df,\n",
    "        verbose=False,\n",
    "        learning_rate_init=learning_rate,\n",
    "        max_iter=epochs,\n",
    "        alpha=0.02)\n",
    "    \n",
    "    mlp_lda.fit(xtrain_scaled, ytrain)\n",
    "\n",
    "    ## store train_acc and test_acc in temp lists\n",
    "    lda_512_train_score += (mlp_lda.score(xtrain_scaled, ytrain))\n",
    "    lda_512_test_score += (mlp_lda.score(xtest_scaled, ytest))\n",
    "    print(mlp_lda.score(xtest_scaled, ytest))\n"
   ]
  },
  {
   "cell_type": "code",
   "execution_count": 75,
   "metadata": {},
   "outputs": [
    {
     "data": {
      "text/plain": [
       "0.9655546651801267"
      ]
     },
     "execution_count": 75,
     "metadata": {},
     "output_type": "execute_result"
    }
   ],
   "source": [
    "lda_512_train_score/10"
   ]
  },
  {
   "cell_type": "code",
   "execution_count": 76,
   "metadata": {},
   "outputs": [
    {
     "data": {
      "text/plain": [
       "0.9628081542351454"
      ]
     },
     "execution_count": 76,
     "metadata": {},
     "output_type": "execute_result"
    }
   ],
   "source": [
    "lda_512_test_score/10"
   ]
  },
  {
   "cell_type": "code",
   "execution_count": null,
   "metadata": {},
   "outputs": [],
   "source": []
  },
  {
   "cell_type": "code",
   "execution_count": null,
   "metadata": {},
   "outputs": [],
   "source": []
  },
  {
   "cell_type": "code",
   "execution_count": null,
   "metadata": {},
   "outputs": [],
   "source": []
  },
  {
   "cell_type": "code",
   "execution_count": null,
   "metadata": {},
   "outputs": [],
   "source": []
  },
  {
   "cell_type": "code",
   "execution_count": null,
   "metadata": {},
   "outputs": [],
   "source": []
  },
  {
   "cell_type": "code",
   "execution_count": null,
   "metadata": {},
   "outputs": [],
   "source": []
  },
  {
   "cell_type": "code",
   "execution_count": null,
   "metadata": {},
   "outputs": [],
   "source": []
  },
  {
   "cell_type": "code",
   "execution_count": null,
   "metadata": {},
   "outputs": [],
   "source": []
  },
  {
   "cell_type": "code",
   "execution_count": null,
   "metadata": {},
   "outputs": [],
   "source": []
  },
  {
   "cell_type": "code",
   "execution_count": null,
   "metadata": {},
   "outputs": [],
   "source": []
  },
  {
   "cell_type": "code",
   "execution_count": null,
   "metadata": {},
   "outputs": [],
   "source": []
  },
  {
   "cell_type": "code",
   "execution_count": null,
   "metadata": {},
   "outputs": [],
   "source": []
  },
  {
   "cell_type": "code",
   "execution_count": null,
   "metadata": {},
   "outputs": [],
   "source": []
  },
  {
   "cell_type": "code",
   "execution_count": null,
   "metadata": {},
   "outputs": [],
   "source": []
  },
  {
   "cell_type": "code",
   "execution_count": null,
   "metadata": {},
   "outputs": [],
   "source": []
  },
  {
   "cell_type": "code",
   "execution_count": null,
   "metadata": {},
   "outputs": [],
   "source": []
  },
  {
   "cell_type": "code",
   "execution_count": null,
   "metadata": {},
   "outputs": [],
   "source": []
  },
  {
   "cell_type": "code",
   "execution_count": null,
   "metadata": {},
   "outputs": [],
   "source": []
  },
  {
   "cell_type": "code",
   "execution_count": null,
   "metadata": {},
   "outputs": [],
   "source": []
  },
  {
   "cell_type": "code",
   "execution_count": null,
   "metadata": {},
   "outputs": [],
   "source": []
  },
  {
   "cell_type": "code",
   "execution_count": null,
   "metadata": {},
   "outputs": [],
   "source": []
  },
  {
   "cell_type": "markdown",
   "metadata": {},
   "source": [
    "---\n",
    "---\n",
    "---"
   ]
  },
  {
   "cell_type": "markdown",
   "metadata": {},
   "source": [
    "computing 95% and 99% confidence interval for mlp <br>\n",
    "z-values : https://www.google.com/search?q=z+value+of+99+confidence+interval&rlz=1C1JZAP_enIN912IN912&oq=z+value+of+99&aqs=chrome.1.69i57j0i512l3j0i22i30l6.3920j0j7&sourceid=chrome&ie=UTF-8 <br>\n",
    "formula for confidence interval: https://www.google.com/search?q=formula+for+confidence+interval&rlz=1C1JZAP_enIN912IN912&oq=formula+for+confidence&aqs=chrome.0.0i512j69i57j0i512l8.3142j0j7&sourceid=chrome&ie=UTF-8"
   ]
  },
  {
   "cell_type": "markdown",
   "metadata": {},
   "source": [
    "# 10_fold_accuracies = [.9464, .938, .9911, .9292, .9469, .9823, .938, .9557, .9646, .9823]\n"
   ]
  },
  {
   "cell_type": "code",
   "execution_count": null,
   "metadata": {},
   "outputs": [],
   "source": [
    "aaa = [0.9823   ,   0.9646   ,   0.9557   ,   0.938   ,   0.9823   ,   0.9469   ,   0.9292   ,   0.9911   ,   0.938   ,   0.9464]"
   ]
  },
  {
   "cell_type": "code",
   "execution_count": null,
   "metadata": {},
   "outputs": [],
   "source": [
    "std_mlp = np.std(aaa)"
   ]
  },
  {
   "cell_type": "code",
   "execution_count": null,
   "metadata": {},
   "outputs": [],
   "source": [
    "std_mlp"
   ]
  },
  {
   "cell_type": "code",
   "execution_count": null,
   "metadata": {},
   "outputs": [],
   "source": [
    "std_mlp = std_mlp*1.96 ## 95% confidence interval"
   ]
  },
  {
   "cell_type": "code",
   "execution_count": null,
   "metadata": {},
   "outputs": [],
   "source": [
    "std_mlp"
   ]
  },
  {
   "cell_type": "code",
   "execution_count": null,
   "metadata": {},
   "outputs": [],
   "source": [
    "np.sqrt(10)"
   ]
  },
  {
   "cell_type": "code",
   "execution_count": null,
   "metadata": {},
   "outputs": [],
   "source": [
    "std_mlp/np.sqrt(10)"
   ]
  },
  {
   "cell_type": "code",
   "execution_count": null,
   "metadata": {},
   "outputs": [],
   "source": [
    "aaa = [0.970588235,\n",
    "0.950980392,\n",
    "0.950980392,\n",
    "0.950980392,\n",
    "0.911764706,\n",
    "0.980392157,\n",
    "0.99009901,\n",
    "0.930693069,\n",
    "0.95049505,\n",
    "0.99009901,\n",
    "]"
   ]
  },
  {
   "cell_type": "code",
   "execution_count": null,
   "metadata": {},
   "outputs": [],
   "source": [
    "std_mlp = np.std(aaa)\n",
    "std_mlp = std_mlp*2.576 ## 99% confidence interval\n",
    "std_mlp/np.sqrt(10)"
   ]
  },
  {
   "cell_type": "code",
   "execution_count": null,
   "metadata": {},
   "outputs": [],
   "source": [
    "aaa = [0.99303675,\n",
    "0.983752418,\n",
    "0.995357834,\n",
    "0.979166667,\n",
    "0.975308642,\n",
    "0.996141975,\n",
    "0.997635934,\n",
    "0.982269504,\n",
    "0.987391647,\n",
    "0.998817967,\n",
    "]"
   ]
  },
  {
   "cell_type": "code",
   "execution_count": null,
   "metadata": {},
   "outputs": [],
   "source": [
    "std_mlp = np.std(aaa)\n",
    "std_mlp = std_mlp*1.96 ## 95% confidence interval\n",
    "std_mlp/np.sqrt(10)"
   ]
  },
  {
   "cell_type": "code",
   "execution_count": null,
   "metadata": {},
   "outputs": [],
   "source": []
  },
  {
   "cell_type": "code",
   "execution_count": null,
   "metadata": {},
   "outputs": [],
   "source": []
  },
  {
   "cell_type": "code",
   "execution_count": null,
   "metadata": {},
   "outputs": [],
   "source": []
  },
  {
   "cell_type": "code",
   "execution_count": null,
   "metadata": {},
   "outputs": [],
   "source": []
  },
  {
   "cell_type": "markdown",
   "metadata": {},
   "source": [
    "---\n",
    "---\n",
    "---"
   ]
  },
  {
   "cell_type": "markdown",
   "metadata": {},
   "source": [
    "# Box-and-Whisker plots"
   ]
  },
  {
   "cell_type": "code",
   "execution_count": 14,
   "metadata": {},
   "outputs": [],
   "source": [
    "import numpy as np\n",
    "import seaborn as sns\n",
    "import pandas as pd\n",
    "import matplotlib.pyplot as plt\n",
    "sns.set(style=\"whitegrid\")"
   ]
  },
  {
   "cell_type": "code",
   "execution_count": 15,
   "metadata": {},
   "outputs": [],
   "source": [
    "box_plot_file = \"D:/CANCER BIOLOGY/DATASET/TCGA/boxplots/auroc and accuracy 10 fold UPDATED LATEST.csv\"\n",
    "box_plot = pd.read_csv(box_plot_file)"
   ]
  },
  {
   "cell_type": "code",
   "execution_count": 16,
   "metadata": {},
   "outputs": [
    {
     "data": {
      "text/html": [
       "<div>\n",
       "<style scoped>\n",
       "    .dataframe tbody tr th:only-of-type {\n",
       "        vertical-align: middle;\n",
       "    }\n",
       "\n",
       "    .dataframe tbody tr th {\n",
       "        vertical-align: top;\n",
       "    }\n",
       "\n",
       "    .dataframe thead th {\n",
       "        text-align: right;\n",
       "    }\n",
       "</style>\n",
       "<table border=\"1\" class=\"dataframe\">\n",
       "  <thead>\n",
       "    <tr style=\"text-align: right;\">\n",
       "      <th></th>\n",
       "      <th>MLP</th>\n",
       "      <th>LR</th>\n",
       "      <th>XGB</th>\n",
       "      <th>SVC</th>\n",
       "      <th>AUMLP</th>\n",
       "      <th>AULR</th>\n",
       "      <th>AUXGB</th>\n",
       "      <th>AUSVC</th>\n",
       "    </tr>\n",
       "  </thead>\n",
       "  <tbody>\n",
       "    <tr>\n",
       "      <th>0</th>\n",
       "      <td>0.982301</td>\n",
       "      <td>0.973451</td>\n",
       "      <td>0.982301</td>\n",
       "      <td>0.982301</td>\n",
       "      <td>0.999373</td>\n",
       "      <td>0.999060</td>\n",
       "      <td>0.998119</td>\n",
       "      <td>0.999687</td>\n",
       "    </tr>\n",
       "    <tr>\n",
       "      <th>1</th>\n",
       "      <td>0.964602</td>\n",
       "      <td>0.946903</td>\n",
       "      <td>0.955752</td>\n",
       "      <td>0.973451</td>\n",
       "      <td>0.994984</td>\n",
       "      <td>0.994044</td>\n",
       "      <td>0.997179</td>\n",
       "      <td>0.995611</td>\n",
       "    </tr>\n",
       "    <tr>\n",
       "      <th>2</th>\n",
       "      <td>0.955752</td>\n",
       "      <td>0.946903</td>\n",
       "      <td>0.955752</td>\n",
       "      <td>0.955752</td>\n",
       "      <td>0.993417</td>\n",
       "      <td>0.993730</td>\n",
       "      <td>0.991223</td>\n",
       "      <td>0.995298</td>\n",
       "    </tr>\n",
       "    <tr>\n",
       "      <th>3</th>\n",
       "      <td>0.938053</td>\n",
       "      <td>0.946903</td>\n",
       "      <td>0.920354</td>\n",
       "      <td>0.938053</td>\n",
       "      <td>0.967398</td>\n",
       "      <td>0.965517</td>\n",
       "      <td>0.962696</td>\n",
       "      <td>0.962696</td>\n",
       "    </tr>\n",
       "    <tr>\n",
       "      <th>4</th>\n",
       "      <td>0.982301</td>\n",
       "      <td>0.973451</td>\n",
       "      <td>0.973451</td>\n",
       "      <td>0.982301</td>\n",
       "      <td>0.999373</td>\n",
       "      <td>0.997492</td>\n",
       "      <td>0.997806</td>\n",
       "      <td>0.998746</td>\n",
       "    </tr>\n",
       "    <tr>\n",
       "      <th>5</th>\n",
       "      <td>0.946903</td>\n",
       "      <td>0.955752</td>\n",
       "      <td>0.938053</td>\n",
       "      <td>0.955752</td>\n",
       "      <td>0.990282</td>\n",
       "      <td>0.992163</td>\n",
       "      <td>0.981505</td>\n",
       "      <td>0.991223</td>\n",
       "    </tr>\n",
       "    <tr>\n",
       "      <th>6</th>\n",
       "      <td>0.929204</td>\n",
       "      <td>0.911504</td>\n",
       "      <td>0.938053</td>\n",
       "      <td>0.920354</td>\n",
       "      <td>0.979637</td>\n",
       "      <td>0.973684</td>\n",
       "      <td>0.971491</td>\n",
       "      <td>0.973371</td>\n",
       "    </tr>\n",
       "    <tr>\n",
       "      <th>7</th>\n",
       "      <td>0.991150</td>\n",
       "      <td>0.991150</td>\n",
       "      <td>0.991150</td>\n",
       "      <td>0.982301</td>\n",
       "      <td>0.997494</td>\n",
       "      <td>0.997180</td>\n",
       "      <td>0.992481</td>\n",
       "      <td>0.997807</td>\n",
       "    </tr>\n",
       "    <tr>\n",
       "      <th>8</th>\n",
       "      <td>0.938053</td>\n",
       "      <td>0.911504</td>\n",
       "      <td>0.938053</td>\n",
       "      <td>0.920354</td>\n",
       "      <td>0.975251</td>\n",
       "      <td>0.971178</td>\n",
       "      <td>0.977444</td>\n",
       "      <td>0.977757</td>\n",
       "    </tr>\n",
       "    <tr>\n",
       "      <th>9</th>\n",
       "      <td>0.946429</td>\n",
       "      <td>0.937500</td>\n",
       "      <td>0.928571</td>\n",
       "      <td>0.946429</td>\n",
       "      <td>0.991069</td>\n",
       "      <td>0.982137</td>\n",
       "      <td>0.977033</td>\n",
       "      <td>0.983413</td>\n",
       "    </tr>\n",
       "  </tbody>\n",
       "</table>\n",
       "</div>"
      ],
      "text/plain": [
       "        MLP        LR       XGB       SVC     AUMLP      AULR     AUXGB  \\\n",
       "0  0.982301  0.973451  0.982301  0.982301  0.999373  0.999060  0.998119   \n",
       "1  0.964602  0.946903  0.955752  0.973451  0.994984  0.994044  0.997179   \n",
       "2  0.955752  0.946903  0.955752  0.955752  0.993417  0.993730  0.991223   \n",
       "3  0.938053  0.946903  0.920354  0.938053  0.967398  0.965517  0.962696   \n",
       "4  0.982301  0.973451  0.973451  0.982301  0.999373  0.997492  0.997806   \n",
       "5  0.946903  0.955752  0.938053  0.955752  0.990282  0.992163  0.981505   \n",
       "6  0.929204  0.911504  0.938053  0.920354  0.979637  0.973684  0.971491   \n",
       "7  0.991150  0.991150  0.991150  0.982301  0.997494  0.997180  0.992481   \n",
       "8  0.938053  0.911504  0.938053  0.920354  0.975251  0.971178  0.977444   \n",
       "9  0.946429  0.937500  0.928571  0.946429  0.991069  0.982137  0.977033   \n",
       "\n",
       "      AUSVC  \n",
       "0  0.999687  \n",
       "1  0.995611  \n",
       "2  0.995298  \n",
       "3  0.962696  \n",
       "4  0.998746  \n",
       "5  0.991223  \n",
       "6  0.973371  \n",
       "7  0.997807  \n",
       "8  0.977757  \n",
       "9  0.983413  "
      ]
     },
     "execution_count": 16,
     "metadata": {},
     "output_type": "execute_result"
    }
   ],
   "source": [
    "box_plot"
   ]
  },
  {
   "cell_type": "code",
   "execution_count": 17,
   "metadata": {},
   "outputs": [],
   "source": [
    "box_plot_prime = box_plot.iloc[:, [0, 1, 2, 3]]\n",
    "# box_plot_indep = box_plot.iloc[:, [4, 5, 6, 7]]\n",
    "box_plot_prime_auc = box_plot.iloc[:, [4,5,6,7]]\n",
    "# box_plot_indep_auc = box_plot.iloc[:, [12, 13, 14, 15]]"
   ]
  },
  {
   "cell_type": "code",
   "execution_count": 18,
   "metadata": {},
   "outputs": [],
   "source": [
    "# box_plot_indep.rename(columns={'MLP.1':'MLP', 'LR.1':'LR', 'XGB.1':'XGB', 'SVC.1':'SVC'}, inplace=True)\n",
    "# box_plot_prime_auc.rename(columns={'AUMLP':'MLP', 'AULR':'LR', 'AUXGB':'XGB', 'AUSVC':'SVC'}, inplace=True)\n",
    "# box_plot_indep_auc.rename(columns={'MLP.3':'MLP', 'LR.3':'LR', 'XGB.3':'XGB', 'SVC.3':'SVC'}, inplace=True)"
   ]
  },
  {
   "cell_type": "code",
   "execution_count": 19,
   "metadata": {},
   "outputs": [],
   "source": [
    "PATH = \"D:/CANCER BIOLOGY/DATASET/TCGA/boxplots/\""
   ]
  },
  {
   "cell_type": "code",
   "execution_count": 24,
   "metadata": {
    "scrolled": false
   },
   "outputs": [
    {
     "name": "stderr",
     "output_type": "stream",
     "text": [
      "C:\\Users\\KD Bros\\anaconda3\\envs\\tf_gpu\\lib\\site-packages\\ipykernel_launcher.py:7: MatplotlibDeprecationWarning: The 'manage_xticks' parameter of boxplot() has been renamed 'manage_ticks' since Matplotlib 3.1; support for the old name will be dropped in 3.3.\n",
      "  import sys\n",
      "C:\\Users\\KD Bros\\anaconda3\\envs\\tf_gpu\\lib\\site-packages\\ipykernel_launcher.py:7: MatplotlibDeprecationWarning: The 'manage_xticks' parameter of boxplot() has been renamed 'manage_ticks' since Matplotlib 3.1; support for the old name will be dropped in 3.3.\n",
      "  import sys\n"
     ]
    },
    {
     "data": {
      "image/png": "[encoded data removed]",
      "text/plain": [
       "<Figure size 1008x720 with 1 Axes>"
      ]
     },
     "metadata": {},
     "output_type": "display_data"
    }
   ],
   "source": [
    "from matplotlib.patches import Patch\n",
    "\n",
    "def draw_plot(data, offset, color):\n",
    "    pos = np.arange(data.shape[1])+offset\n",
    "#     edge_color = ['orange', 'cyan', 'gold', 'pink']\n",
    "    edge_color = color\n",
    "    bp = ax.boxplot(np.asarray(data), positions= pos, widths=0.3, patch_artist=True, manage_xticks=False)\n",
    "    for i, patch in enumerate(bp['boxes']):\n",
    "        patch.set(facecolor=edge_color)\n",
    "    for i, patch in enumerate(bp['whiskers']):\n",
    "        patch.set(color='black')\n",
    "    for i, patch in enumerate(bp['medians']):\n",
    "        patch.set(color='black')\n",
    "\n",
    "# plt.figure(figsize=(14, 10))\n",
    "color1 = 'orange'\n",
    "color2 = 'cyan'\n",
    "fig, ax = plt.subplots(figsize=(14, 10))\n",
    "draw_plot(box_plot_prime, -0.2, color1)\n",
    "draw_plot(box_plot_prime_auc, +0.2, color2)\n",
    "\n",
    "legend_elements = [\n",
    "    Patch(facecolor=color1, edgecolor='black', label='Accuracy'),\n",
    "    Patch(facecolor=color2, edgecolor='black', label='AU-ROC')\n",
    "]\n",
    "ax.legend(handles=legend_elements, loc=3, fontsize='x-large')\n",
    "\n",
    "plt.title('Box-and-whisker plots of 10-fold CV and AU-ROC score ', fontsize='xx-large')\n",
    "plt.xticks([0, 1, 2, 3], ['MLPClassiier', 'LogisticRegression', 'XGBoost', 'SupportVectorClassifier'], fontsize='xx-large')\n",
    "plt.yticks(fontsize='xx-large')\n",
    "plt.savefig(PATH+\"/10_fold_accuracy_auroc_primary_dataset_UPDATED_LATEST\", dpi=300, bbox_inches='tight')\n",
    "plt.show()\n",
    "plt.close()"
   ]
  },
  {
   "cell_type": "code",
   "execution_count": null,
   "metadata": {},
   "outputs": [],
   "source": []
  },
  {
   "cell_type": "code",
   "execution_count": null,
   "metadata": {},
   "outputs": [],
   "source": [
    "from matplotlib.patches import Patch\n",
    "\n",
    "def draw_plot(data, offset, color):\n",
    "    pos = np.arange(data.shape[1])+offset\n",
    "#     edge_color = ['orange', 'cyan', 'gold', 'pink']\n",
    "    edge_color = color\n",
    "    bp = ax.boxplot(np.asarray(data), positions= pos, widths=0.3, patch_artist=True, manage_xticks=False)\n",
    "    for i, patch in enumerate(bp['boxes']):\n",
    "        patch.set(facecolor=edge_color)\n",
    "    for i, patch in enumerate(bp['whiskers']):\n",
    "        patch.set(color='black')\n",
    "    for i, patch in enumerate(bp['medians']):\n",
    "        patch.set(color='black')\n",
    "\n",
    "# plt.figure(figsize=(14, 10))\n",
    "color1 = 'lightgreen'\n",
    "color2 = 'pink'\n",
    "fig, ax = plt.subplots(figsize=(14, 10))\n",
    "draw_plot(box_plot_indep, -0.2, color1)\n",
    "draw_plot(box_plot_indep_auc, +0.2, color2)\n",
    "\n",
    "legend_elements = [\n",
    "    Patch(facecolor=color1, edgecolor='black', label='Accuracy'),\n",
    "    Patch(facecolor=color2, edgecolor='black', label='AU-ROC')\n",
    "]\n",
    "\n",
    "#loc 3 is bottom left\n",
    "#loc 4 is bottom right\n",
    "ax.legend(handles=legend_elements, loc=4, fontsize='x-large')\n",
    "\n",
    "plt.title('10-fold CV Accuracy and AU-ROC score of the ML models on independent dataset', fontsize='xx-large')\n",
    "plt.xticks([0, 1, 2, 3], ['MLPClassiier', 'LogisticRegression', 'XGBoost', 'SupportVectorClassifier'], fontsize='xx-large')\n",
    "plt.yticks(fontsize='x-large')\n",
    "plt.savefig(PATH+\"/10_fold_accuracy_auroc_independent_dataset\", dpi=300, bbox_inches='tight')\n",
    "plt.show()\n",
    "plt.close()"
   ]
  },
  {
   "cell_type": "code",
   "execution_count": null,
   "metadata": {},
   "outputs": [],
   "source": []
  },
  {
   "cell_type": "code",
   "execution_count": null,
   "metadata": {},
   "outputs": [],
   "source": []
  },
  {
   "cell_type": "markdown",
   "metadata": {},
   "source": [
    "# PLOT confusion matrix\n"
   ]
  },
  {
   "cell_type": "code",
   "execution_count": null,
   "metadata": {},
   "outputs": [],
   "source": [
    "##  color: paired for mlp\n",
    "## color: tab20_r for lr, svc\n",
    "## color : viridis_r for xgb\n",
    "\n",
    "\n",
    "\n",
    "## decided to show confusion matrix of only mlp  for primary dataset and svc for independent dataset\n",
    "\n",
    "prime =[[445,  28],\n",
    " [22, 521]]"
   ]
  },
  {
   "cell_type": "code",
   "execution_count": null,
   "metadata": {
    "scrolled": false
   },
   "outputs": [],
   "source": [
    "sns.set(font_scale = 2)\n",
    "sns.heatmap(prime, annot=True, fmt='d', center=0, cmap='tab20_r', xticklabels=['LUSC', 'LUAD'], yticklabels=['LUSC', 'LUAD'])\n",
    "sns.set(font_scale = 1.5)\n",
    "plt.xlabel('Predicted')\n",
    "plt.ylabel('True')\n",
    "plt.title(\"Confusion Matrix of MLP on independent dataset using 10-Fold CV\")\n",
    "plt.savefig(PATH+\"/confusion_mlp_indep\", dpi=300, bbox_inches='tight')"
   ]
  },
  {
   "cell_type": "code",
   "execution_count": null,
   "metadata": {},
   "outputs": [],
   "source": []
  }
 ],
 "metadata": {
  "kernelspec": {
   "display_name": "Python 3 (ipykernel)",
   "language": "python",
   "name": "python3"
  },
  "language_info": {
   "codemirror_mode": {
    "name": "ipython",
    "version": 3
   },
   "file_extension": ".py",
   "mimetype": "text/x-python",
   "name": "python",
   "nbconvert_exporter": "python",
   "pygments_lexer": "ipython3",
   "version": "3.7.13"
  }
 },
 "nbformat": 4,
 "nbformat_minor": 4
}
