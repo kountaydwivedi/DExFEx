{
 "cells": [
  {
   "cell_type": "code",
   "execution_count": null,
   "metadata": {},
   "outputs": [],
   "source": [
    "import numpy as np\n",
    "import pandas as pd\n",
    "import seaborn as sea\n",
    "import matplotlib.pyplot as plt\n",
    "\n",
    "from sklearn.model_selection import StratifiedKFold\n",
    "\n",
    "sea.set_style(\"whitegrid\")\n",
    "%matplotlib inline\n",
    "%load_ext autoreload\n",
    "%autoreload 2"
   ]
  },
  {
   "cell_type": "code",
   "execution_count": null,
   "metadata": {},
   "outputs": [],
   "source": [
    "# https://stackoverflow.com/questions/21971449/how-do-i-increase-the-cell-width-of-the-jupyter-ipython-notebook-in-my-browser\n",
    "\n",
    "from IPython.core.display import display, HTML\n",
    "display(HTML(\"<style>.container { width:90% !important; }</style>\"))"
   ]
  },
  {
   "cell_type": "code",
   "execution_count": null,
   "metadata": {},
   "outputs": [],
   "source": [
    "import warnings\n",
    "warnings.simplefilter('ignore')"
   ]
  },
  {
   "cell_type": "code",
   "execution_count": null,
   "metadata": {},
   "outputs": [],
   "source": [
    "import os\n",
    "import gc\n",
    "import time\n",
    "import copy\n",
    "import shutil\n",
    "\n",
    "import torch\n",
    "import torch.nn as nn\n",
    "import meth_model_utils as u\n",
    "import meth_model_classes as c\n",
    "import torch.nn.functional as F\n",
    "\n",
    "from torchvision import utils\n",
    "from torch.utils.data import Dataset, DataLoader"
   ]
  },
  {
   "cell_type": "code",
   "execution_count": null,
   "metadata": {},
   "outputs": [],
   "source": [
    "torch.use_deterministic_algorithms(True)\n",
    "os.environ[\"CUBLAS_WORKSPACE_CONFIG\"]=\":16:8\""
   ]
  },
  {
   "cell_type": "code",
   "execution_count": null,
   "metadata": {},
   "outputs": [],
   "source": [
    "device = torch.device('cuda' if torch.cuda.is_available() else 'cpu')"
   ]
  },
  {
   "cell_type": "code",
   "execution_count": null,
   "metadata": {
    "scrolled": false
   },
   "outputs": [],
   "source": [
    "# https://pytorch.org/docs/stable/notes/randomness.html\n",
    "seed = u.get_seed()\n",
    "print('Seed = ', seed)\n",
    "u.set_all_seeds(seed)"
   ]
  },
  {
   "cell_type": "markdown",
   "metadata": {},
   "source": [
    "# Setup dataframe"
   ]
  },
  {
   "cell_type": "code",
   "execution_count": null,
   "metadata": {},
   "outputs": [],
   "source": [
    "PATH = \"D:/CANCER BIOLOGY/DATASET/TCGA/FROM Xena/\""
   ]
  },
  {
   "cell_type": "code",
   "execution_count": null,
   "metadata": {},
   "outputs": [],
   "source": [
    "df_luad = pd.read_csv(PATH+\"meth_luad.csv\", index_col=0)\n",
    "df_lusu = pd.read_csv(PATH+\"meth_lusu.csv\", index_col=0)\n",
    "df_lusu.drop(index=['MBD3L2'], axis=0, inplace=True)\n",
    "df_final = u.meth_data_preprocess(df_luad, df_lusu)"
   ]
  },
  {
   "cell_type": "code",
   "execution_count": null,
   "metadata": {},
   "outputs": [],
   "source": [
    "df_final = df_final.sample(frac=1, random_state=seed).reset_index(drop=True)\n",
    "labels = list(df_final['label'])\n",
    "df_final.drop(columns=['label'], axis=1, inplace=True) ## drop column sample_id and label\n",
    "columns = list(df_final.columns)"
   ]
  },
  {
   "cell_type": "code",
   "execution_count": null,
   "metadata": {},
   "outputs": [],
   "source": [
    "xtrain = df_final.to_numpy()\n",
    "ytrain = labels"
   ]
  },
  {
   "cell_type": "markdown",
   "metadata": {},
   "source": [
    "---\n",
    "---\n",
    "---"
   ]
  },
  {
   "cell_type": "code",
   "execution_count": null,
   "metadata": {},
   "outputs": [],
   "source": [
    "u.set_all_seeds(seed)"
   ]
  },
  {
   "cell_type": "code",
   "execution_count": null,
   "metadata": {},
   "outputs": [],
   "source": [
    "input_dim = xtrain.shape[1]\n",
    "epochs = 20\n",
    "batch_size = 32\n",
    "learning_rate = 0.0000005\n",
    "output_dim = 2048"
   ]
  },
  {
   "cell_type": "code",
   "execution_count": null,
   "metadata": {},
   "outputs": [],
   "source": [
    "# Load the saved model trained at: XENA_LUNG_METH_AutoEncoder\n",
    "# This will be reloaded after every K-Fold iteration. It will act as reset weights.\n",
    "\n",
    "saved_model = torch.load(PATH+\"models/LUNG_METH_Autoencoder.kd\")    ## when GPU is available"
   ]
  },
  {
   "cell_type": "code",
   "execution_count": null,
   "metadata": {},
   "outputs": [],
   "source": [
    "# Setup the Stratified K-Fold Cross Validation\n",
    "cumulative_train_acc, cumulative_test_acc = 0., 0.\n",
    "k = 10\n",
    "kfold = StratifiedKFold(n_splits=k, shuffle=True, random_state=seed)"
   ]
  },
  {
   "cell_type": "code",
   "execution_count": null,
   "metadata": {
    "scrolled": false
   },
   "outputs": [],
   "source": [
    "list_avg_train_acc_per_fold=[]\n",
    "list_avg_valid_acc_per_fold=[]\n",
    "\n",
    "for fold, (train_index, test_index) in enumerate(kfold.split(xtrain, ytrain)):\n",
    "    text=HTML(\"<h1>Fold: {}</h1>\".format(fold+1))\n",
    "    display(text)\n",
    "    ##------------------------------------------------------------------------------------##\n",
    "    \n",
    "    ## collect the rows for train and test\n",
    "    ## https://stackoverflow.com/questions/19155718/select-pandas-rows-based-on-list-index\n",
    "    k_xtrain, k_xtest = xtrain[train_index], xtrain[test_index]\n",
    "    k_ytrain, k_ytest = np.array(ytrain)[train_index], np.array(ytrain)[test_index]\n",
    "    \n",
    "    ## create train_dataset and test_dataset of class LUNG_METH\n",
    "    train_dataset = c.LUNG_Meth(k_ytrain, k_xtrain)\n",
    "    test_dataset = c.LUNG_Meth(k_ytest, k_xtest)\n",
    "    \n",
    "    \n",
    "    u.set_all_seeds(seed)\n",
    "    ## create dataloaders for train_dataset and test_dataset\n",
    "    train_loader = DataLoader(train_dataset, batch_size=batch_size, shuffle=True)\n",
    "    test_loader = DataLoader(test_dataset, batch_size=batch_size, shuffle=True)\n",
    "\n",
    "    ##------------------------------------------------------------------------------------##\n",
    "\n",
    "    torch.cuda.empty_cache()\n",
    "\n",
    "    # create an object of class AutoEncoder and load the saved model from LEVEL 1\n",
    "    only_encoder = c.METH_AutoEncoder(input_dim, output_dim)\n",
    "    only_encoder.load_state_dict(saved_model)\n",
    "\n",
    "    # detach the decoder part from the saved model\n",
    "    only_encoder = nn.Sequential(*list(only_encoder.children())[:-1])\n",
    "    \n",
    "\n",
    "    # create an object of class Classifier and pass the only_encoder object\n",
    "    classifier = c.METH_Classifier(only_encoder, output_dim)\n",
    "    for params in classifier.encoder.parameters():\n",
    "        params.requires_grad=False\n",
    "    classifier.to(device)\n",
    "\n",
    "    ##------------------------------------------------------------------------------------##\n",
    "\n",
    "    ## setup the optimizer\n",
    "    optimizer = torch.optim.AdamW(filter(lambda p: p.requires_grad, classifier.parameters()), lr=learning_rate)\n",
    "#     optimizer = torch.optim.SGD(filter(lambda p: p.requires_grad, classifier.parameters()), lr=learning_rate)\n",
    "\n",
    "    ## call the train function, print accuracy and plot !!!!!!!!\n",
    "    u.set_all_seeds(seed)\n",
    "    log_dict = u.train_classifier(\n",
    "        num_epochs = epochs,\n",
    "        model = classifier,\n",
    "        optimizer = optimizer,\n",
    "        device = device,\n",
    "        train_loader = train_loader,\n",
    "        valid_loader = test_loader,\n",
    "        patience = 20\n",
    "    )\n",
    "    \n",
    "    print(f\"Train accuracy avg: {np.mean(list(log_dict['train_acc']))}, Valid accuracy avg: {np.mean(list(log_dict['valid_acc']))}\")\n",
    "    list_avg_train_acc_per_fold.append(np.mean(list(log_dict['train_acc'])))\n",
    "    list_avg_valid_acc_per_fold.append(np.mean(list(log_dict['valid_acc'])))\n",
    "    \n",
    "    cumulative_train_acc += np.mean(list(log_dict['train_acc']))\n",
    "    cumulative_test_acc += np.mean(list(log_dict['valid_acc']))\n",
    "\n",
    "\n",
    "    ##------------------------------------------------------------------------------------##\n"
   ]
  },
  {
   "cell_type": "code",
   "execution_count": null,
   "metadata": {},
   "outputs": [],
   "source": [
    "torch.save(classifier.state_dict(), PATH+\"models/LUNG_METH_Classifier.kd\")"
   ]
  },
  {
   "cell_type": "code",
   "execution_count": null,
   "metadata": {
    "scrolled": false
   },
   "outputs": [],
   "source": [
    "u.plot_train_test_k_fold_accuracy(\n",
    "    list_avg_train_acc_per_fold,\n",
    "    list_avg_valid_acc_per_fold,\n",
    "    N=k, \n",
    "    width=0.45,\n",
    "    width_mult=1,\n",
    "    fig_size=(28, 8), \n",
    "    title='K-FOLD Accuracy Chart ===> Overall avg_train_acc: {:.4f}, Overall avg_valid_acc: {:.4f}'.format(cumulative_train_acc/k, cumulative_test_acc/k),\n",
    "    x_ticks=('Fold=1', 'Fold=2', 'Fold=3', 'Fold=4', 'Fold=5', 'Fold=6', 'Fold=7', 'Fold=8', 'Fold=9', 'Fold=10' ),\n",
    "    legends=('Train', 'Validation'),\n",
    "    file_path=PATH+\"project_summary_seed_wise_meth/seed=\"+str(seed)+\"/classifier_on_k_fold\",\n",
    ")"
   ]
  },
  {
   "cell_type": "code",
   "execution_count": null,
   "metadata": {},
   "outputs": [],
   "source": [
    "from scipy.io.wavfile import read\n",
    "\n",
    "fs, data = read('alert.wav', mmap=True)  # fs - sampling frequency\n",
    "data = data.reshape(-1, 1)\n",
    "import sounddevice as sd\n",
    "sd.play(data, 44100)"
   ]
  },
  {
   "cell_type": "markdown",
   "metadata": {},
   "source": [
    "---\n",
    "---\n",
    "---"
   ]
  },
  {
   "cell_type": "markdown",
   "metadata": {},
   "source": [
    "# LEVEL 2 complete !!"
   ]
  }
 ],
 "metadata": {
  "kernelspec": {
   "display_name": "Python 3 (ipykernel)",
   "language": "python",
   "name": "python3"
  },
  "language_info": {
   "codemirror_mode": {
    "name": "ipython",
    "version": 3
   },
   "file_extension": ".py",
   "mimetype": "text/x-python",
   "name": "python",
   "nbconvert_exporter": "python",
   "pygments_lexer": "ipython3",
   "version": "3.7.13"
  }
 },
 "nbformat": 4,
 "nbformat_minor": 4
}
