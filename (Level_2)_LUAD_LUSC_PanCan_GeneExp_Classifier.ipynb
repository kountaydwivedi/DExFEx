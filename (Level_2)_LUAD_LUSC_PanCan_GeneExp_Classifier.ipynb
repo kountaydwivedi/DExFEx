{
 "cells": [
  {
   "cell_type": "code",
   "execution_count": 1,
   "metadata": {
    "colab": {
     "base_uri": "https://localhost:8080/",
     "height": 17
    },
    "id": "ZwD0seWs5Bh0",
    "outputId": "ada82ebe-bb30-41ad-f1b8-c4390d3c0aaf",
    "scrolled": true
   },
   "outputs": [
    {
     "data": {
      "text/html": [
       "<style>.container { width:90% !important; }</style>"
      ],
      "text/plain": [
       "<IPython.core.display.HTML object>"
      ]
     },
     "metadata": {},
     "output_type": "display_data"
    }
   ],
   "source": [
    "# https://stackoverflow.com/questions/21971449/how-do-i-increase-the-cell-width-of-the-jupyter-ipython-notebook-in-my-browser\n",
    "\n",
    "from IPython.core.display import display, HTML\n",
    "display(HTML(\"<style>.container { width:90% !important; }</style>\"))"
   ]
  },
  {
   "cell_type": "code",
   "execution_count": 2,
   "metadata": {
    "id": "gCNNzyoT5R32"
   },
   "outputs": [],
   "source": [
    "import numpy as np\n",
    "import pandas as pd\n",
    "import seaborn as sea\n",
    "import matplotlib.pyplot as plt\n",
    "from sklearn.preprocessing import StandardScaler\n",
    "from sklearn.model_selection import StratifiedKFold\n",
    "from sklearn.model_selection import train_test_split\n",
    "\n",
    "sea.set_style(\"whitegrid\")\n",
    "%matplotlib inline\n",
    "%load_ext autoreload\n",
    "%autoreload 2"
   ]
  },
  {
   "cell_type": "code",
   "execution_count": 3,
   "metadata": {
    "id": "Ib_AdFiw5SV0"
   },
   "outputs": [],
   "source": [
    "import warnings\n",
    "warnings.simplefilter('ignore')"
   ]
  },
  {
   "cell_type": "code",
   "execution_count": 4,
   "metadata": {
    "id": "qzZ3n0Fo5UPO"
   },
   "outputs": [],
   "source": [
    "import os\n",
    "import gc\n",
    "import time\n",
    "import copy\n",
    "import shutil\n",
    "import torch\n",
    "import torch.nn as nn\n",
    "import model_utils as u\n",
    "import model_classes as c\n",
    "import torch.nn.functional as F\n",
    "from torch.autograd import Variable\n",
    "from torchvision import utils, transforms\n",
    "from torch.utils.data import Dataset, DataLoader"
   ]
  },
  {
   "cell_type": "code",
   "execution_count": 5,
   "metadata": {},
   "outputs": [],
   "source": [
    "torch.use_deterministic_algorithms(True)\n",
    "os.environ[\"CUBLAS_WORKSPACE_CONFIG\"]=\":16:8\""
   ]
  },
  {
   "cell_type": "code",
   "execution_count": 6,
   "metadata": {
    "id": "pfyhfbNe5VXV"
   },
   "outputs": [],
   "source": [
    "device = torch.device('cuda' if torch.cuda.is_available() else 'cpu')"
   ]
  },
  {
   "cell_type": "code",
   "execution_count": 7,
   "metadata": {
    "id": "vXPAYd0_5W9m"
   },
   "outputs": [],
   "source": [
    "# https://pytorch.org/docs/stable/notes/randomness.html\n",
    "seed = 325\n",
    "u.set_all_seeds(seed)"
   ]
  },
  {
   "cell_type": "markdown",
   "metadata": {
    "id": "o_5lwOh86vEL"
   },
   "source": [
    "# Load and clean dataset"
   ]
  },
  {
   "cell_type": "code",
   "execution_count": 8,
   "metadata": {
    "id": "wLiG9uHW5bOk"
   },
   "outputs": [],
   "source": [
    "# PATH = \"/content/drive/MyDrive/LUNG_PanCan/XENA Repository/\"\n",
    "PATH = \"D:/CANCER BIOLOGY/DATASET/TCGA/FROM Xena/\""
   ]
  },
  {
   "cell_type": "code",
   "execution_count": 9,
   "metadata": {
    "id": "E1Fy37OF5i2x"
   },
   "outputs": [],
   "source": [
    "# https://stackoverflow.com/questions/18885175/read-a-zipped-file-as-a-pandas-dataframe\n",
    "# https://www.analyticsvidhya.com/blog/2021/04/delimiters-in-pandas-read_csv-function/\n",
    "\n",
    "df_luad = pd.read_csv(PATH+\"TCGA.LUAD.sampleMap_HiSeqV2_PANCAN.gz\", compression = \"gzip\", sep = \"\\t\")\n",
    "df_lusu = pd.read_csv(PATH+\"TCGA.LUSC.sampleMap_HiSeqV2_PANCAN.gz\", compression = \"gzip\", sep = \"\\t\")"
   ]
  },
  {
   "cell_type": "code",
   "execution_count": 10,
   "metadata": {
    "scrolled": false
   },
   "outputs": [
    {
     "data": {
      "text/html": [
       "<div>\n",
       "<style scoped>\n",
       "    .dataframe tbody tr th:only-of-type {\n",
       "        vertical-align: middle;\n",
       "    }\n",
       "\n",
       "    .dataframe tbody tr th {\n",
       "        vertical-align: top;\n",
       "    }\n",
       "\n",
       "    .dataframe thead th {\n",
       "        text-align: right;\n",
       "    }\n",
       "</style>\n",
       "<table border=\"1\" class=\"dataframe\">\n",
       "  <thead>\n",
       "    <tr style=\"text-align: right;\">\n",
       "      <th></th>\n",
       "      <th>sample</th>\n",
       "      <th>TCGA-69-7978-01</th>\n",
       "      <th>TCGA-62-8399-01</th>\n",
       "      <th>TCGA-78-7539-01</th>\n",
       "      <th>TCGA-50-5931-11</th>\n",
       "      <th>TCGA-73-4658-01</th>\n",
       "      <th>TCGA-44-6775-01</th>\n",
       "      <th>TCGA-44-2655-01</th>\n",
       "      <th>TCGA-44-3398-01</th>\n",
       "      <th>TCGA-62-8397-01</th>\n",
       "      <th>...</th>\n",
       "      <th>TCGA-75-7025-01</th>\n",
       "      <th>TCGA-55-7726-01</th>\n",
       "      <th>TCGA-L9-A743-01</th>\n",
       "      <th>TCGA-86-8358-01</th>\n",
       "      <th>TCGA-55-6972-01</th>\n",
       "      <th>TCGA-55-7727-01</th>\n",
       "      <th>TCGA-91-6831-01</th>\n",
       "      <th>TCGA-MN-A4N4-01</th>\n",
       "      <th>TCGA-55-8302-01</th>\n",
       "      <th>TCGA-MP-A4TK-01</th>\n",
       "    </tr>\n",
       "  </thead>\n",
       "  <tbody>\n",
       "    <tr>\n",
       "      <th>0</th>\n",
       "      <td>ARHGEF10L</td>\n",
       "      <td>0.125808</td>\n",
       "      <td>0.561708</td>\n",
       "      <td>-0.237592</td>\n",
       "      <td>-1.180492</td>\n",
       "      <td>-0.656192</td>\n",
       "      <td>0.139908</td>\n",
       "      <td>-0.537692</td>\n",
       "      <td>-0.839092</td>\n",
       "      <td>0.677108</td>\n",
       "      <td>...</td>\n",
       "      <td>0.226508</td>\n",
       "      <td>-2.342092</td>\n",
       "      <td>-0.207692</td>\n",
       "      <td>-0.659792</td>\n",
       "      <td>-1.651292</td>\n",
       "      <td>-2.621192</td>\n",
       "      <td>-1.025192</td>\n",
       "      <td>0.070108</td>\n",
       "      <td>0.305608</td>\n",
       "      <td>0.263208</td>\n",
       "    </tr>\n",
       "    <tr>\n",
       "      <th>1</th>\n",
       "      <td>HIF3A</td>\n",
       "      <td>-1.294926</td>\n",
       "      <td>6.069174</td>\n",
       "      <td>3.581474</td>\n",
       "      <td>3.927674</td>\n",
       "      <td>-0.525926</td>\n",
       "      <td>-1.497426</td>\n",
       "      <td>-0.021226</td>\n",
       "      <td>0.179974</td>\n",
       "      <td>1.092974</td>\n",
       "      <td>...</td>\n",
       "      <td>2.539674</td>\n",
       "      <td>-1.259526</td>\n",
       "      <td>-0.387226</td>\n",
       "      <td>3.689474</td>\n",
       "      <td>3.509374</td>\n",
       "      <td>1.986874</td>\n",
       "      <td>-1.993426</td>\n",
       "      <td>2.790974</td>\n",
       "      <td>-0.018326</td>\n",
       "      <td>4.657474</td>\n",
       "    </tr>\n",
       "    <tr>\n",
       "      <th>2</th>\n",
       "      <td>RNF17</td>\n",
       "      <td>-0.112935</td>\n",
       "      <td>-0.531035</td>\n",
       "      <td>0.592065</td>\n",
       "      <td>0.291065</td>\n",
       "      <td>-0.531035</td>\n",
       "      <td>0.475865</td>\n",
       "      <td>0.071065</td>\n",
       "      <td>-0.531035</td>\n",
       "      <td>-0.531035</td>\n",
       "      <td>...</td>\n",
       "      <td>-0.068235</td>\n",
       "      <td>-0.531035</td>\n",
       "      <td>0.428265</td>\n",
       "      <td>0.202865</td>\n",
       "      <td>0.567665</td>\n",
       "      <td>0.408165</td>\n",
       "      <td>-0.531035</td>\n",
       "      <td>0.440465</td>\n",
       "      <td>-0.531035</td>\n",
       "      <td>0.049365</td>\n",
       "    </tr>\n",
       "    <tr>\n",
       "      <th>3</th>\n",
       "      <td>RNF10</td>\n",
       "      <td>-1.411872</td>\n",
       "      <td>-0.228672</td>\n",
       "      <td>-0.108372</td>\n",
       "      <td>-0.043472</td>\n",
       "      <td>-0.156672</td>\n",
       "      <td>-0.605472</td>\n",
       "      <td>0.139328</td>\n",
       "      <td>-0.450172</td>\n",
       "      <td>0.583528</td>\n",
       "      <td>...</td>\n",
       "      <td>-0.451572</td>\n",
       "      <td>0.261228</td>\n",
       "      <td>-0.331772</td>\n",
       "      <td>-0.213372</td>\n",
       "      <td>-0.189472</td>\n",
       "      <td>0.091028</td>\n",
       "      <td>0.492828</td>\n",
       "      <td>0.037428</td>\n",
       "      <td>0.003728</td>\n",
       "      <td>-0.334572</td>\n",
       "    </tr>\n",
       "    <tr>\n",
       "      <th>4</th>\n",
       "      <td>RNF11</td>\n",
       "      <td>0.203922</td>\n",
       "      <td>0.052122</td>\n",
       "      <td>-0.499978</td>\n",
       "      <td>0.710822</td>\n",
       "      <td>0.373522</td>\n",
       "      <td>0.129022</td>\n",
       "      <td>0.436522</td>\n",
       "      <td>0.529622</td>\n",
       "      <td>0.314922</td>\n",
       "      <td>...</td>\n",
       "      <td>-0.155778</td>\n",
       "      <td>0.362522</td>\n",
       "      <td>-0.520578</td>\n",
       "      <td>0.031222</td>\n",
       "      <td>-0.966478</td>\n",
       "      <td>0.318322</td>\n",
       "      <td>0.150822</td>\n",
       "      <td>-0.357778</td>\n",
       "      <td>-0.451578</td>\n",
       "      <td>0.156422</td>\n",
       "    </tr>\n",
       "    <tr>\n",
       "      <th>...</th>\n",
       "      <td>...</td>\n",
       "      <td>...</td>\n",
       "      <td>...</td>\n",
       "      <td>...</td>\n",
       "      <td>...</td>\n",
       "      <td>...</td>\n",
       "      <td>...</td>\n",
       "      <td>...</td>\n",
       "      <td>...</td>\n",
       "      <td>...</td>\n",
       "      <td>...</td>\n",
       "      <td>...</td>\n",
       "      <td>...</td>\n",
       "      <td>...</td>\n",
       "      <td>...</td>\n",
       "      <td>...</td>\n",
       "      <td>...</td>\n",
       "      <td>...</td>\n",
       "      <td>...</td>\n",
       "      <td>...</td>\n",
       "      <td>...</td>\n",
       "    </tr>\n",
       "    <tr>\n",
       "      <th>20525</th>\n",
       "      <td>PTRF</td>\n",
       "      <td>0.863614</td>\n",
       "      <td>0.317114</td>\n",
       "      <td>-1.243086</td>\n",
       "      <td>2.802714</td>\n",
       "      <td>1.110714</td>\n",
       "      <td>0.879814</td>\n",
       "      <td>-0.028286</td>\n",
       "      <td>0.008714</td>\n",
       "      <td>-0.005186</td>\n",
       "      <td>...</td>\n",
       "      <td>0.544614</td>\n",
       "      <td>1.638214</td>\n",
       "      <td>0.381814</td>\n",
       "      <td>-1.080186</td>\n",
       "      <td>-2.139886</td>\n",
       "      <td>-1.495486</td>\n",
       "      <td>0.472314</td>\n",
       "      <td>0.993014</td>\n",
       "      <td>0.634014</td>\n",
       "      <td>1.222714</td>\n",
       "    </tr>\n",
       "    <tr>\n",
       "      <th>20526</th>\n",
       "      <td>BCL6B</td>\n",
       "      <td>0.802173</td>\n",
       "      <td>1.079073</td>\n",
       "      <td>-1.283227</td>\n",
       "      <td>2.250473</td>\n",
       "      <td>1.513973</td>\n",
       "      <td>0.126473</td>\n",
       "      <td>0.576073</td>\n",
       "      <td>0.643573</td>\n",
       "      <td>-0.735227</td>\n",
       "      <td>...</td>\n",
       "      <td>0.842873</td>\n",
       "      <td>0.680873</td>\n",
       "      <td>0.642773</td>\n",
       "      <td>0.154673</td>\n",
       "      <td>-0.849427</td>\n",
       "      <td>-0.359227</td>\n",
       "      <td>0.332973</td>\n",
       "      <td>0.570873</td>\n",
       "      <td>-0.909527</td>\n",
       "      <td>0.671573</td>\n",
       "    </tr>\n",
       "    <tr>\n",
       "      <th>20527</th>\n",
       "      <td>GSTK1</td>\n",
       "      <td>0.108205</td>\n",
       "      <td>-0.782695</td>\n",
       "      <td>0.034105</td>\n",
       "      <td>-0.540795</td>\n",
       "      <td>-0.454095</td>\n",
       "      <td>-0.797795</td>\n",
       "      <td>0.531305</td>\n",
       "      <td>0.310605</td>\n",
       "      <td>0.204105</td>\n",
       "      <td>...</td>\n",
       "      <td>-0.454195</td>\n",
       "      <td>-0.466595</td>\n",
       "      <td>-0.011995</td>\n",
       "      <td>-0.503195</td>\n",
       "      <td>0.512405</td>\n",
       "      <td>-0.584495</td>\n",
       "      <td>-1.756895</td>\n",
       "      <td>0.506805</td>\n",
       "      <td>-0.114895</td>\n",
       "      <td>-0.189095</td>\n",
       "    </tr>\n",
       "    <tr>\n",
       "      <th>20528</th>\n",
       "      <td>SELP</td>\n",
       "      <td>0.595367</td>\n",
       "      <td>3.114267</td>\n",
       "      <td>0.571467</td>\n",
       "      <td>3.985967</td>\n",
       "      <td>2.893167</td>\n",
       "      <td>1.805567</td>\n",
       "      <td>2.445467</td>\n",
       "      <td>2.575967</td>\n",
       "      <td>1.336567</td>\n",
       "      <td>...</td>\n",
       "      <td>2.817667</td>\n",
       "      <td>-0.301333</td>\n",
       "      <td>2.508367</td>\n",
       "      <td>-0.518033</td>\n",
       "      <td>-1.540033</td>\n",
       "      <td>1.663867</td>\n",
       "      <td>-0.275933</td>\n",
       "      <td>-0.073933</td>\n",
       "      <td>0.848867</td>\n",
       "      <td>1.195667</td>\n",
       "    </tr>\n",
       "    <tr>\n",
       "      <th>20529</th>\n",
       "      <td>SELS</td>\n",
       "      <td>-0.222712</td>\n",
       "      <td>-0.388912</td>\n",
       "      <td>0.233588</td>\n",
       "      <td>0.370988</td>\n",
       "      <td>0.193788</td>\n",
       "      <td>-0.116512</td>\n",
       "      <td>0.798088</td>\n",
       "      <td>0.590388</td>\n",
       "      <td>-0.598212</td>\n",
       "      <td>...</td>\n",
       "      <td>-0.259512</td>\n",
       "      <td>0.673688</td>\n",
       "      <td>0.362988</td>\n",
       "      <td>0.310288</td>\n",
       "      <td>1.140588</td>\n",
       "      <td>0.188988</td>\n",
       "      <td>0.732388</td>\n",
       "      <td>-0.243412</td>\n",
       "      <td>0.195588</td>\n",
       "      <td>0.272688</td>\n",
       "    </tr>\n",
       "  </tbody>\n",
       "</table>\n",
       "<p>20530 rows × 577 columns</p>\n",
       "</div>"
      ],
      "text/plain": [
       "          sample  TCGA-69-7978-01  TCGA-62-8399-01  TCGA-78-7539-01  \\\n",
       "0      ARHGEF10L         0.125808         0.561708        -0.237592   \n",
       "1          HIF3A        -1.294926         6.069174         3.581474   \n",
       "2          RNF17        -0.112935        -0.531035         0.592065   \n",
       "3          RNF10        -1.411872        -0.228672        -0.108372   \n",
       "4          RNF11         0.203922         0.052122        -0.499978   \n",
       "...          ...              ...              ...              ...   \n",
       "20525       PTRF         0.863614         0.317114        -1.243086   \n",
       "20526      BCL6B         0.802173         1.079073        -1.283227   \n",
       "20527      GSTK1         0.108205        -0.782695         0.034105   \n",
       "20528       SELP         0.595367         3.114267         0.571467   \n",
       "20529       SELS        -0.222712        -0.388912         0.233588   \n",
       "\n",
       "       TCGA-50-5931-11  TCGA-73-4658-01  TCGA-44-6775-01  TCGA-44-2655-01  \\\n",
       "0            -1.180492        -0.656192         0.139908        -0.537692   \n",
       "1             3.927674        -0.525926        -1.497426        -0.021226   \n",
       "2             0.291065        -0.531035         0.475865         0.071065   \n",
       "3            -0.043472        -0.156672        -0.605472         0.139328   \n",
       "4             0.710822         0.373522         0.129022         0.436522   \n",
       "...                ...              ...              ...              ...   \n",
       "20525         2.802714         1.110714         0.879814        -0.028286   \n",
       "20526         2.250473         1.513973         0.126473         0.576073   \n",
       "20527        -0.540795        -0.454095        -0.797795         0.531305   \n",
       "20528         3.985967         2.893167         1.805567         2.445467   \n",
       "20529         0.370988         0.193788        -0.116512         0.798088   \n",
       "\n",
       "       TCGA-44-3398-01  TCGA-62-8397-01  ...  TCGA-75-7025-01  \\\n",
       "0            -0.839092         0.677108  ...         0.226508   \n",
       "1             0.179974         1.092974  ...         2.539674   \n",
       "2            -0.531035        -0.531035  ...        -0.068235   \n",
       "3            -0.450172         0.583528  ...        -0.451572   \n",
       "4             0.529622         0.314922  ...        -0.155778   \n",
       "...                ...              ...  ...              ...   \n",
       "20525         0.008714        -0.005186  ...         0.544614   \n",
       "20526         0.643573        -0.735227  ...         0.842873   \n",
       "20527         0.310605         0.204105  ...        -0.454195   \n",
       "20528         2.575967         1.336567  ...         2.817667   \n",
       "20529         0.590388        -0.598212  ...        -0.259512   \n",
       "\n",
       "       TCGA-55-7726-01  TCGA-L9-A743-01  TCGA-86-8358-01  TCGA-55-6972-01  \\\n",
       "0            -2.342092        -0.207692        -0.659792        -1.651292   \n",
       "1            -1.259526        -0.387226         3.689474         3.509374   \n",
       "2            -0.531035         0.428265         0.202865         0.567665   \n",
       "3             0.261228        -0.331772        -0.213372        -0.189472   \n",
       "4             0.362522        -0.520578         0.031222        -0.966478   \n",
       "...                ...              ...              ...              ...   \n",
       "20525         1.638214         0.381814        -1.080186        -2.139886   \n",
       "20526         0.680873         0.642773         0.154673        -0.849427   \n",
       "20527        -0.466595        -0.011995        -0.503195         0.512405   \n",
       "20528        -0.301333         2.508367        -0.518033        -1.540033   \n",
       "20529         0.673688         0.362988         0.310288         1.140588   \n",
       "\n",
       "       TCGA-55-7727-01  TCGA-91-6831-01  TCGA-MN-A4N4-01  TCGA-55-8302-01  \\\n",
       "0            -2.621192        -1.025192         0.070108         0.305608   \n",
       "1             1.986874        -1.993426         2.790974        -0.018326   \n",
       "2             0.408165        -0.531035         0.440465        -0.531035   \n",
       "3             0.091028         0.492828         0.037428         0.003728   \n",
       "4             0.318322         0.150822        -0.357778        -0.451578   \n",
       "...                ...              ...              ...              ...   \n",
       "20525        -1.495486         0.472314         0.993014         0.634014   \n",
       "20526        -0.359227         0.332973         0.570873        -0.909527   \n",
       "20527        -0.584495        -1.756895         0.506805        -0.114895   \n",
       "20528         1.663867        -0.275933        -0.073933         0.848867   \n",
       "20529         0.188988         0.732388        -0.243412         0.195588   \n",
       "\n",
       "       TCGA-MP-A4TK-01  \n",
       "0             0.263208  \n",
       "1             4.657474  \n",
       "2             0.049365  \n",
       "3            -0.334572  \n",
       "4             0.156422  \n",
       "...                ...  \n",
       "20525         1.222714  \n",
       "20526         0.671573  \n",
       "20527        -0.189095  \n",
       "20528         1.195667  \n",
       "20529         0.272688  \n",
       "\n",
       "[20530 rows x 577 columns]"
      ]
     },
     "execution_count": 10,
     "metadata": {},
     "output_type": "execute_result"
    }
   ],
   "source": [
    "df_luad"
   ]
  },
  {
   "cell_type": "code",
   "execution_count": 11,
   "metadata": {},
   "outputs": [
    {
     "data": {
      "text/html": [
       "<div>\n",
       "<style scoped>\n",
       "    .dataframe tbody tr th:only-of-type {\n",
       "        vertical-align: middle;\n",
       "    }\n",
       "\n",
       "    .dataframe tbody tr th {\n",
       "        vertical-align: top;\n",
       "    }\n",
       "\n",
       "    .dataframe thead th {\n",
       "        text-align: right;\n",
       "    }\n",
       "</style>\n",
       "<table border=\"1\" class=\"dataframe\">\n",
       "  <thead>\n",
       "    <tr style=\"text-align: right;\">\n",
       "      <th></th>\n",
       "      <th>sample</th>\n",
       "      <th>TCGA-18-3417-01</th>\n",
       "      <th>TCGA-22-4613-01</th>\n",
       "      <th>TCGA-90-7769-01</th>\n",
       "      <th>TCGA-77-A5G1-01</th>\n",
       "      <th>TCGA-77-A5G3-01</th>\n",
       "      <th>TCGA-66-2766-01</th>\n",
       "      <th>TCGA-37-4135-01</th>\n",
       "      <th>TCGA-56-8201-01</th>\n",
       "      <th>TCGA-56-7582-11</th>\n",
       "      <th>...</th>\n",
       "      <th>TCGA-77-8144-01</th>\n",
       "      <th>TCGA-J1-A4AH-01</th>\n",
       "      <th>TCGA-56-7580-01</th>\n",
       "      <th>TCGA-63-A5MY-01</th>\n",
       "      <th>TCGA-33-AASL-01</th>\n",
       "      <th>TCGA-85-A512-01</th>\n",
       "      <th>TCGA-85-8354-01</th>\n",
       "      <th>TCGA-O2-A5IB-01</th>\n",
       "      <th>TCGA-77-7335-01</th>\n",
       "      <th>TCGA-56-7731-11</th>\n",
       "    </tr>\n",
       "  </thead>\n",
       "  <tbody>\n",
       "    <tr>\n",
       "      <th>0</th>\n",
       "      <td>ARHGEF10L</td>\n",
       "      <td>-2.032992</td>\n",
       "      <td>-1.109192</td>\n",
       "      <td>-1.270392</td>\n",
       "      <td>0.054708</td>\n",
       "      <td>-1.344192</td>\n",
       "      <td>-1.145092</td>\n",
       "      <td>-0.737892</td>\n",
       "      <td>-0.619892</td>\n",
       "      <td>-0.050992</td>\n",
       "      <td>...</td>\n",
       "      <td>-2.237692</td>\n",
       "      <td>-1.395092</td>\n",
       "      <td>-1.926792</td>\n",
       "      <td>-1.335292</td>\n",
       "      <td>-0.762292</td>\n",
       "      <td>-1.286992</td>\n",
       "      <td>-1.847792</td>\n",
       "      <td>0.568508</td>\n",
       "      <td>-0.849892</td>\n",
       "      <td>-0.888992</td>\n",
       "    </tr>\n",
       "    <tr>\n",
       "      <th>1</th>\n",
       "      <td>HIF3A</td>\n",
       "      <td>-0.775126</td>\n",
       "      <td>-1.023426</td>\n",
       "      <td>-3.254826</td>\n",
       "      <td>0.075174</td>\n",
       "      <td>0.826174</td>\n",
       "      <td>1.306874</td>\n",
       "      <td>-2.036826</td>\n",
       "      <td>-0.015326</td>\n",
       "      <td>2.772874</td>\n",
       "      <td>...</td>\n",
       "      <td>-5.006326</td>\n",
       "      <td>3.974574</td>\n",
       "      <td>3.154774</td>\n",
       "      <td>4.021874</td>\n",
       "      <td>-0.831926</td>\n",
       "      <td>-1.863426</td>\n",
       "      <td>-1.297326</td>\n",
       "      <td>0.025974</td>\n",
       "      <td>-2.414126</td>\n",
       "      <td>4.229474</td>\n",
       "    </tr>\n",
       "    <tr>\n",
       "      <th>2</th>\n",
       "      <td>RNF17</td>\n",
       "      <td>0.573765</td>\n",
       "      <td>-0.531035</td>\n",
       "      <td>-0.090835</td>\n",
       "      <td>-0.531035</td>\n",
       "      <td>-0.531035</td>\n",
       "      <td>-0.049535</td>\n",
       "      <td>0.829765</td>\n",
       "      <td>-0.531035</td>\n",
       "      <td>3.204265</td>\n",
       "      <td>...</td>\n",
       "      <td>-0.531035</td>\n",
       "      <td>1.349965</td>\n",
       "      <td>4.157765</td>\n",
       "      <td>1.554065</td>\n",
       "      <td>0.984465</td>\n",
       "      <td>-0.531035</td>\n",
       "      <td>-0.531035</td>\n",
       "      <td>0.084865</td>\n",
       "      <td>0.192865</td>\n",
       "      <td>-0.531035</td>\n",
       "    </tr>\n",
       "    <tr>\n",
       "      <th>3</th>\n",
       "      <td>RNF10</td>\n",
       "      <td>0.365228</td>\n",
       "      <td>-0.326772</td>\n",
       "      <td>0.160728</td>\n",
       "      <td>-0.147472</td>\n",
       "      <td>-0.364672</td>\n",
       "      <td>-0.697672</td>\n",
       "      <td>-0.765472</td>\n",
       "      <td>0.068428</td>\n",
       "      <td>-0.010572</td>\n",
       "      <td>...</td>\n",
       "      <td>-0.381072</td>\n",
       "      <td>-0.527472</td>\n",
       "      <td>0.171028</td>\n",
       "      <td>-0.292972</td>\n",
       "      <td>-0.651572</td>\n",
       "      <td>0.020328</td>\n",
       "      <td>-0.280072</td>\n",
       "      <td>-0.009372</td>\n",
       "      <td>0.197228</td>\n",
       "      <td>0.162228</td>\n",
       "    </tr>\n",
       "    <tr>\n",
       "      <th>4</th>\n",
       "      <td>RNF11</td>\n",
       "      <td>0.364522</td>\n",
       "      <td>0.308122</td>\n",
       "      <td>0.368322</td>\n",
       "      <td>0.826222</td>\n",
       "      <td>-0.312978</td>\n",
       "      <td>-0.792078</td>\n",
       "      <td>0.583822</td>\n",
       "      <td>-0.573278</td>\n",
       "      <td>0.323522</td>\n",
       "      <td>...</td>\n",
       "      <td>0.075622</td>\n",
       "      <td>-0.513978</td>\n",
       "      <td>-0.604678</td>\n",
       "      <td>0.479122</td>\n",
       "      <td>-0.446678</td>\n",
       "      <td>-0.560978</td>\n",
       "      <td>-0.560278</td>\n",
       "      <td>-0.136278</td>\n",
       "      <td>0.443922</td>\n",
       "      <td>0.344522</td>\n",
       "    </tr>\n",
       "    <tr>\n",
       "      <th>...</th>\n",
       "      <td>...</td>\n",
       "      <td>...</td>\n",
       "      <td>...</td>\n",
       "      <td>...</td>\n",
       "      <td>...</td>\n",
       "      <td>...</td>\n",
       "      <td>...</td>\n",
       "      <td>...</td>\n",
       "      <td>...</td>\n",
       "      <td>...</td>\n",
       "      <td>...</td>\n",
       "      <td>...</td>\n",
       "      <td>...</td>\n",
       "      <td>...</td>\n",
       "      <td>...</td>\n",
       "      <td>...</td>\n",
       "      <td>...</td>\n",
       "      <td>...</td>\n",
       "      <td>...</td>\n",
       "      <td>...</td>\n",
       "      <td>...</td>\n",
       "    </tr>\n",
       "    <tr>\n",
       "      <th>20525</th>\n",
       "      <td>PTRF</td>\n",
       "      <td>1.025014</td>\n",
       "      <td>-0.396686</td>\n",
       "      <td>0.094714</td>\n",
       "      <td>1.569614</td>\n",
       "      <td>1.269914</td>\n",
       "      <td>-0.263486</td>\n",
       "      <td>-2.675286</td>\n",
       "      <td>1.638114</td>\n",
       "      <td>2.118814</td>\n",
       "      <td>...</td>\n",
       "      <td>1.972214</td>\n",
       "      <td>0.993014</td>\n",
       "      <td>-0.233586</td>\n",
       "      <td>-0.222586</td>\n",
       "      <td>0.774714</td>\n",
       "      <td>0.434414</td>\n",
       "      <td>1.246914</td>\n",
       "      <td>-2.425586</td>\n",
       "      <td>1.550114</td>\n",
       "      <td>2.468514</td>\n",
       "    </tr>\n",
       "    <tr>\n",
       "      <th>20526</th>\n",
       "      <td>BCL6B</td>\n",
       "      <td>-0.381027</td>\n",
       "      <td>-0.781327</td>\n",
       "      <td>-2.267827</td>\n",
       "      <td>-0.409227</td>\n",
       "      <td>-0.542127</td>\n",
       "      <td>-0.932927</td>\n",
       "      <td>-1.847227</td>\n",
       "      <td>0.972273</td>\n",
       "      <td>4.176973</td>\n",
       "      <td>...</td>\n",
       "      <td>-0.010327</td>\n",
       "      <td>-1.413827</td>\n",
       "      <td>-0.132027</td>\n",
       "      <td>-1.714727</td>\n",
       "      <td>-2.306727</td>\n",
       "      <td>-0.491427</td>\n",
       "      <td>-0.070027</td>\n",
       "      <td>-0.734427</td>\n",
       "      <td>0.294773</td>\n",
       "      <td>2.667973</td>\n",
       "    </tr>\n",
       "    <tr>\n",
       "      <th>20527</th>\n",
       "      <td>GSTK1</td>\n",
       "      <td>0.839305</td>\n",
       "      <td>-0.732495</td>\n",
       "      <td>-1.137095</td>\n",
       "      <td>-0.003395</td>\n",
       "      <td>-1.324995</td>\n",
       "      <td>-0.113095</td>\n",
       "      <td>0.841305</td>\n",
       "      <td>-0.320395</td>\n",
       "      <td>-0.376795</td>\n",
       "      <td>...</td>\n",
       "      <td>-1.539295</td>\n",
       "      <td>-1.318095</td>\n",
       "      <td>-0.900095</td>\n",
       "      <td>0.251605</td>\n",
       "      <td>0.406205</td>\n",
       "      <td>0.318305</td>\n",
       "      <td>-0.620695</td>\n",
       "      <td>-1.926795</td>\n",
       "      <td>0.369005</td>\n",
       "      <td>-0.264695</td>\n",
       "    </tr>\n",
       "    <tr>\n",
       "      <th>20528</th>\n",
       "      <td>SELP</td>\n",
       "      <td>-1.085033</td>\n",
       "      <td>1.733867</td>\n",
       "      <td>-1.210233</td>\n",
       "      <td>1.761467</td>\n",
       "      <td>-1.784433</td>\n",
       "      <td>-0.762733</td>\n",
       "      <td>-2.145733</td>\n",
       "      <td>0.812667</td>\n",
       "      <td>1.800567</td>\n",
       "      <td>...</td>\n",
       "      <td>-3.797533</td>\n",
       "      <td>0.044667</td>\n",
       "      <td>-1.761533</td>\n",
       "      <td>-0.018533</td>\n",
       "      <td>-2.346733</td>\n",
       "      <td>-1.011433</td>\n",
       "      <td>-1.390333</td>\n",
       "      <td>-2.121633</td>\n",
       "      <td>1.909267</td>\n",
       "      <td>3.930867</td>\n",
       "    </tr>\n",
       "    <tr>\n",
       "      <th>20529</th>\n",
       "      <td>SELS</td>\n",
       "      <td>0.533188</td>\n",
       "      <td>0.624488</td>\n",
       "      <td>0.153688</td>\n",
       "      <td>0.738688</td>\n",
       "      <td>0.881688</td>\n",
       "      <td>0.920388</td>\n",
       "      <td>1.270188</td>\n",
       "      <td>-0.077912</td>\n",
       "      <td>-0.033012</td>\n",
       "      <td>...</td>\n",
       "      <td>-0.203412</td>\n",
       "      <td>0.149288</td>\n",
       "      <td>-0.631012</td>\n",
       "      <td>0.511088</td>\n",
       "      <td>0.879388</td>\n",
       "      <td>0.392288</td>\n",
       "      <td>0.918888</td>\n",
       "      <td>-0.637412</td>\n",
       "      <td>0.117688</td>\n",
       "      <td>0.842588</td>\n",
       "    </tr>\n",
       "  </tbody>\n",
       "</table>\n",
       "<p>20530 rows × 554 columns</p>\n",
       "</div>"
      ],
      "text/plain": [
       "          sample  TCGA-18-3417-01  TCGA-22-4613-01  TCGA-90-7769-01  \\\n",
       "0      ARHGEF10L        -2.032992        -1.109192        -1.270392   \n",
       "1          HIF3A        -0.775126        -1.023426        -3.254826   \n",
       "2          RNF17         0.573765        -0.531035        -0.090835   \n",
       "3          RNF10         0.365228        -0.326772         0.160728   \n",
       "4          RNF11         0.364522         0.308122         0.368322   \n",
       "...          ...              ...              ...              ...   \n",
       "20525       PTRF         1.025014        -0.396686         0.094714   \n",
       "20526      BCL6B        -0.381027        -0.781327        -2.267827   \n",
       "20527      GSTK1         0.839305        -0.732495        -1.137095   \n",
       "20528       SELP        -1.085033         1.733867        -1.210233   \n",
       "20529       SELS         0.533188         0.624488         0.153688   \n",
       "\n",
       "       TCGA-77-A5G1-01  TCGA-77-A5G3-01  TCGA-66-2766-01  TCGA-37-4135-01  \\\n",
       "0             0.054708        -1.344192        -1.145092        -0.737892   \n",
       "1             0.075174         0.826174         1.306874        -2.036826   \n",
       "2            -0.531035        -0.531035        -0.049535         0.829765   \n",
       "3            -0.147472        -0.364672        -0.697672        -0.765472   \n",
       "4             0.826222        -0.312978        -0.792078         0.583822   \n",
       "...                ...              ...              ...              ...   \n",
       "20525         1.569614         1.269914        -0.263486        -2.675286   \n",
       "20526        -0.409227        -0.542127        -0.932927        -1.847227   \n",
       "20527        -0.003395        -1.324995        -0.113095         0.841305   \n",
       "20528         1.761467        -1.784433        -0.762733        -2.145733   \n",
       "20529         0.738688         0.881688         0.920388         1.270188   \n",
       "\n",
       "       TCGA-56-8201-01  TCGA-56-7582-11  ...  TCGA-77-8144-01  \\\n",
       "0            -0.619892        -0.050992  ...        -2.237692   \n",
       "1            -0.015326         2.772874  ...        -5.006326   \n",
       "2            -0.531035         3.204265  ...        -0.531035   \n",
       "3             0.068428        -0.010572  ...        -0.381072   \n",
       "4            -0.573278         0.323522  ...         0.075622   \n",
       "...                ...              ...  ...              ...   \n",
       "20525         1.638114         2.118814  ...         1.972214   \n",
       "20526         0.972273         4.176973  ...        -0.010327   \n",
       "20527        -0.320395        -0.376795  ...        -1.539295   \n",
       "20528         0.812667         1.800567  ...        -3.797533   \n",
       "20529        -0.077912        -0.033012  ...        -0.203412   \n",
       "\n",
       "       TCGA-J1-A4AH-01  TCGA-56-7580-01  TCGA-63-A5MY-01  TCGA-33-AASL-01  \\\n",
       "0            -1.395092        -1.926792        -1.335292        -0.762292   \n",
       "1             3.974574         3.154774         4.021874        -0.831926   \n",
       "2             1.349965         4.157765         1.554065         0.984465   \n",
       "3            -0.527472         0.171028        -0.292972        -0.651572   \n",
       "4            -0.513978        -0.604678         0.479122        -0.446678   \n",
       "...                ...              ...              ...              ...   \n",
       "20525         0.993014        -0.233586        -0.222586         0.774714   \n",
       "20526        -1.413827        -0.132027        -1.714727        -2.306727   \n",
       "20527        -1.318095        -0.900095         0.251605         0.406205   \n",
       "20528         0.044667        -1.761533        -0.018533        -2.346733   \n",
       "20529         0.149288        -0.631012         0.511088         0.879388   \n",
       "\n",
       "       TCGA-85-A512-01  TCGA-85-8354-01  TCGA-O2-A5IB-01  TCGA-77-7335-01  \\\n",
       "0            -1.286992        -1.847792         0.568508        -0.849892   \n",
       "1            -1.863426        -1.297326         0.025974        -2.414126   \n",
       "2            -0.531035        -0.531035         0.084865         0.192865   \n",
       "3             0.020328        -0.280072        -0.009372         0.197228   \n",
       "4            -0.560978        -0.560278        -0.136278         0.443922   \n",
       "...                ...              ...              ...              ...   \n",
       "20525         0.434414         1.246914        -2.425586         1.550114   \n",
       "20526        -0.491427        -0.070027        -0.734427         0.294773   \n",
       "20527         0.318305        -0.620695        -1.926795         0.369005   \n",
       "20528        -1.011433        -1.390333        -2.121633         1.909267   \n",
       "20529         0.392288         0.918888        -0.637412         0.117688   \n",
       "\n",
       "       TCGA-56-7731-11  \n",
       "0            -0.888992  \n",
       "1             4.229474  \n",
       "2            -0.531035  \n",
       "3             0.162228  \n",
       "4             0.344522  \n",
       "...                ...  \n",
       "20525         2.468514  \n",
       "20526         2.667973  \n",
       "20527        -0.264695  \n",
       "20528         3.930867  \n",
       "20529         0.842588  \n",
       "\n",
       "[20530 rows x 554 columns]"
      ]
     },
     "execution_count": 11,
     "metadata": {},
     "output_type": "execute_result"
    }
   ],
   "source": [
    "df_lusu"
   ]
  },
  {
   "cell_type": "markdown",
   "metadata": {},
   "source": [
    "# Dataset preprocessing "
   ]
  },
  {
   "cell_type": "code",
   "execution_count": 12,
   "metadata": {
    "scrolled": false
   },
   "outputs": [
    {
     "data": {
      "text/html": [
       "Rows containing all 0s removed."
      ],
      "text/plain": [
       "<IPython.core.display.HTML object>"
      ]
     },
     "metadata": {},
     "output_type": "display_data"
    },
    {
     "data": {
      "text/html": [
       "Gene names saved in list 'columns'."
      ],
      "text/plain": [
       "<IPython.core.display.HTML object>"
      ]
     },
     "metadata": {},
     "output_type": "display_data"
    },
    {
     "data": {
      "text/html": [
       "Dataset transposed (rows to column and columns to rows)."
      ],
      "text/plain": [
       "<IPython.core.display.HTML object>"
      ]
     },
     "metadata": {},
     "output_type": "display_data"
    },
    {
     "data": {
      "text/html": [
       "Gene name column removed."
      ],
      "text/plain": [
       "<IPython.core.display.HTML object>"
      ]
     },
     "metadata": {},
     "output_type": "display_data"
    },
    {
     "data": {
      "text/html": [
       "Samples' ground truth values (0, 1) inserted."
      ],
      "text/plain": [
       "<IPython.core.display.HTML object>"
      ]
     },
     "metadata": {},
     "output_type": "display_data"
    },
    {
     "data": {
      "text/html": [
       "DF_LUAD and DF_LUSU dataframes combined to one."
      ],
      "text/plain": [
       "<IPython.core.display.HTML object>"
      ]
     },
     "metadata": {},
     "output_type": "display_data"
    },
    {
     "data": {
      "text/html": [
       "Columns containing same value across all samples removed."
      ],
      "text/plain": [
       "<IPython.core.display.HTML object>"
      ]
     },
     "metadata": {},
     "output_type": "display_data"
    },
    {
     "data": {
      "text/html": [
       "Dataframe with labels ====>"
      ],
      "text/plain": [
       "<IPython.core.display.HTML object>"
      ]
     },
     "metadata": {},
     "output_type": "display_data"
    },
    {
     "data": {
      "text/html": [
       "<div>\n",
       "<style scoped>\n",
       "    .dataframe tbody tr th:only-of-type {\n",
       "        vertical-align: middle;\n",
       "    }\n",
       "\n",
       "    .dataframe tbody tr th {\n",
       "        vertical-align: top;\n",
       "    }\n",
       "\n",
       "    .dataframe thead th {\n",
       "        text-align: right;\n",
       "    }\n",
       "</style>\n",
       "<table border=\"1\" class=\"dataframe\">\n",
       "  <thead>\n",
       "    <tr style=\"text-align: right;\">\n",
       "      <th></th>\n",
       "      <th>label</th>\n",
       "      <th>ARHGEF10L</th>\n",
       "      <th>HIF3A</th>\n",
       "      <th>RNF17</th>\n",
       "      <th>RNF10</th>\n",
       "      <th>RNF11</th>\n",
       "      <th>RNF13</th>\n",
       "      <th>GTF2IP1</th>\n",
       "      <th>REM1</th>\n",
       "      <th>MTVR2</th>\n",
       "      <th>...</th>\n",
       "      <th>TULP2</th>\n",
       "      <th>NPY5R</th>\n",
       "      <th>GNGT2</th>\n",
       "      <th>GNGT1</th>\n",
       "      <th>TULP3</th>\n",
       "      <th>PTRF</th>\n",
       "      <th>BCL6B</th>\n",
       "      <th>GSTK1</th>\n",
       "      <th>SELP</th>\n",
       "      <th>SELS</th>\n",
       "    </tr>\n",
       "  </thead>\n",
       "  <tbody>\n",
       "    <tr>\n",
       "      <th>TCGA-69-7978-01</th>\n",
       "      <td>1</td>\n",
       "      <td>0.125808</td>\n",
       "      <td>-1.29493</td>\n",
       "      <td>-0.112935</td>\n",
       "      <td>-1.41187</td>\n",
       "      <td>0.203922</td>\n",
       "      <td>0.0993901</td>\n",
       "      <td>-0.222094</td>\n",
       "      <td>0.504354</td>\n",
       "      <td>-0.423399</td>\n",
       "      <td>...</td>\n",
       "      <td>1.13472</td>\n",
       "      <td>-0.845117</td>\n",
       "      <td>1.76017</td>\n",
       "      <td>-1.28139</td>\n",
       "      <td>0.224623</td>\n",
       "      <td>0.863614</td>\n",
       "      <td>0.802173</td>\n",
       "      <td>0.108205</td>\n",
       "      <td>0.595367</td>\n",
       "      <td>-0.222712</td>\n",
       "    </tr>\n",
       "    <tr>\n",
       "      <th>TCGA-62-8399-01</th>\n",
       "      <td>1</td>\n",
       "      <td>0.561708</td>\n",
       "      <td>6.06917</td>\n",
       "      <td>-0.531035</td>\n",
       "      <td>-0.228672</td>\n",
       "      <td>0.0521219</td>\n",
       "      <td>-1.20601</td>\n",
       "      <td>-0.338894</td>\n",
       "      <td>1.44985</td>\n",
       "      <td>0.0394006</td>\n",
       "      <td>...</td>\n",
       "      <td>-0.286078</td>\n",
       "      <td>-0.055517</td>\n",
       "      <td>-0.0282335</td>\n",
       "      <td>0.0480102</td>\n",
       "      <td>0.295223</td>\n",
       "      <td>0.317114</td>\n",
       "      <td>1.07907</td>\n",
       "      <td>-0.782695</td>\n",
       "      <td>3.11427</td>\n",
       "      <td>-0.388912</td>\n",
       "    </tr>\n",
       "    <tr>\n",
       "      <th>TCGA-78-7539-01</th>\n",
       "      <td>1</td>\n",
       "      <td>-0.237592</td>\n",
       "      <td>3.58147</td>\n",
       "      <td>0.592065</td>\n",
       "      <td>-0.108372</td>\n",
       "      <td>-0.499978</td>\n",
       "      <td>-0.0254099</td>\n",
       "      <td>0.163006</td>\n",
       "      <td>0.131654</td>\n",
       "      <td>-0.0508994</td>\n",
       "      <td>...</td>\n",
       "      <td>2.20992</td>\n",
       "      <td>-1.58712</td>\n",
       "      <td>1.56537</td>\n",
       "      <td>2.63871</td>\n",
       "      <td>0.0491232</td>\n",
       "      <td>-1.24309</td>\n",
       "      <td>-1.28323</td>\n",
       "      <td>0.0341054</td>\n",
       "      <td>0.571467</td>\n",
       "      <td>0.233588</td>\n",
       "    </tr>\n",
       "    <tr>\n",
       "      <th>TCGA-50-5931-11</th>\n",
       "      <td>1</td>\n",
       "      <td>-1.18049</td>\n",
       "      <td>3.92767</td>\n",
       "      <td>0.291065</td>\n",
       "      <td>-0.043472</td>\n",
       "      <td>0.710822</td>\n",
       "      <td>1.05089</td>\n",
       "      <td>-0.564394</td>\n",
       "      <td>1.68395</td>\n",
       "      <td>0.398701</td>\n",
       "      <td>...</td>\n",
       "      <td>-0.748878</td>\n",
       "      <td>0.900483</td>\n",
       "      <td>1.90357</td>\n",
       "      <td>-1.28139</td>\n",
       "      <td>-0.549277</td>\n",
       "      <td>2.80271</td>\n",
       "      <td>2.25047</td>\n",
       "      <td>-0.540795</td>\n",
       "      <td>3.98597</td>\n",
       "      <td>0.370988</td>\n",
       "    </tr>\n",
       "    <tr>\n",
       "      <th>TCGA-73-4658-01</th>\n",
       "      <td>1</td>\n",
       "      <td>-0.656192</td>\n",
       "      <td>-0.525926</td>\n",
       "      <td>-0.531035</td>\n",
       "      <td>-0.156672</td>\n",
       "      <td>0.373522</td>\n",
       "      <td>0.44729</td>\n",
       "      <td>-0.438994</td>\n",
       "      <td>1.83155</td>\n",
       "      <td>-0.423399</td>\n",
       "      <td>...</td>\n",
       "      <td>-0.748878</td>\n",
       "      <td>-0.931417</td>\n",
       "      <td>1.91517</td>\n",
       "      <td>-0.17659</td>\n",
       "      <td>0.0423232</td>\n",
       "      <td>1.11071</td>\n",
       "      <td>1.51397</td>\n",
       "      <td>-0.454095</td>\n",
       "      <td>2.89317</td>\n",
       "      <td>0.193788</td>\n",
       "    </tr>\n",
       "    <tr>\n",
       "      <th>...</th>\n",
       "      <td>...</td>\n",
       "      <td>...</td>\n",
       "      <td>...</td>\n",
       "      <td>...</td>\n",
       "      <td>...</td>\n",
       "      <td>...</td>\n",
       "      <td>...</td>\n",
       "      <td>...</td>\n",
       "      <td>...</td>\n",
       "      <td>...</td>\n",
       "      <td>...</td>\n",
       "      <td>...</td>\n",
       "      <td>...</td>\n",
       "      <td>...</td>\n",
       "      <td>...</td>\n",
       "      <td>...</td>\n",
       "      <td>...</td>\n",
       "      <td>...</td>\n",
       "      <td>...</td>\n",
       "      <td>...</td>\n",
       "      <td>...</td>\n",
       "    </tr>\n",
       "    <tr>\n",
       "      <th>TCGA-85-A512-01</th>\n",
       "      <td>0</td>\n",
       "      <td>-1.28699</td>\n",
       "      <td>-1.86343</td>\n",
       "      <td>-0.531035</td>\n",
       "      <td>0.020328</td>\n",
       "      <td>-0.560978</td>\n",
       "      <td>0.51729</td>\n",
       "      <td>0.519806</td>\n",
       "      <td>-0.748146</td>\n",
       "      <td>-0.423399</td>\n",
       "      <td>...</td>\n",
       "      <td>-0.748878</td>\n",
       "      <td>-1.58712</td>\n",
       "      <td>-0.236033</td>\n",
       "      <td>1.41071</td>\n",
       "      <td>1.65372</td>\n",
       "      <td>0.434414</td>\n",
       "      <td>-0.491427</td>\n",
       "      <td>0.318305</td>\n",
       "      <td>-1.01143</td>\n",
       "      <td>0.392288</td>\n",
       "    </tr>\n",
       "    <tr>\n",
       "      <th>TCGA-85-8354-01</th>\n",
       "      <td>0</td>\n",
       "      <td>-1.84779</td>\n",
       "      <td>-1.29733</td>\n",
       "      <td>-0.531035</td>\n",
       "      <td>-0.280072</td>\n",
       "      <td>-0.560278</td>\n",
       "      <td>0.85009</td>\n",
       "      <td>-0.166294</td>\n",
       "      <td>-1.51925</td>\n",
       "      <td>0.602101</td>\n",
       "      <td>...</td>\n",
       "      <td>0.276622</td>\n",
       "      <td>-1.58712</td>\n",
       "      <td>-0.784133</td>\n",
       "      <td>1.46201</td>\n",
       "      <td>0.765023</td>\n",
       "      <td>1.24691</td>\n",
       "      <td>-0.0700266</td>\n",
       "      <td>-0.620695</td>\n",
       "      <td>-1.39033</td>\n",
       "      <td>0.918888</td>\n",
       "    </tr>\n",
       "    <tr>\n",
       "      <th>TCGA-O2-A5IB-01</th>\n",
       "      <td>0</td>\n",
       "      <td>0.568508</td>\n",
       "      <td>0.0259737</td>\n",
       "      <td>0.084865</td>\n",
       "      <td>-0.00937199</td>\n",
       "      <td>-0.136278</td>\n",
       "      <td>-1.41811</td>\n",
       "      <td>0.173506</td>\n",
       "      <td>-2.19405</td>\n",
       "      <td>0.622701</td>\n",
       "      <td>...</td>\n",
       "      <td>-0.408378</td>\n",
       "      <td>-1.24662</td>\n",
       "      <td>-1.94053</td>\n",
       "      <td>-1.28139</td>\n",
       "      <td>1.28172</td>\n",
       "      <td>-2.42559</td>\n",
       "      <td>-0.734427</td>\n",
       "      <td>-1.92679</td>\n",
       "      <td>-2.12163</td>\n",
       "      <td>-0.637412</td>\n",
       "    </tr>\n",
       "    <tr>\n",
       "      <th>TCGA-77-7335-01</th>\n",
       "      <td>0</td>\n",
       "      <td>-0.849892</td>\n",
       "      <td>-2.41413</td>\n",
       "      <td>0.192865</td>\n",
       "      <td>0.197228</td>\n",
       "      <td>0.443922</td>\n",
       "      <td>0.54789</td>\n",
       "      <td>0.0844055</td>\n",
       "      <td>1.01505</td>\n",
       "      <td>-0.423399</td>\n",
       "      <td>...</td>\n",
       "      <td>-0.748878</td>\n",
       "      <td>-1.58712</td>\n",
       "      <td>2.16037</td>\n",
       "      <td>1.19391</td>\n",
       "      <td>0.197023</td>\n",
       "      <td>1.55011</td>\n",
       "      <td>0.294773</td>\n",
       "      <td>0.369005</td>\n",
       "      <td>1.90927</td>\n",
       "      <td>0.117688</td>\n",
       "    </tr>\n",
       "    <tr>\n",
       "      <th>TCGA-56-7731-11</th>\n",
       "      <td>0</td>\n",
       "      <td>-0.888992</td>\n",
       "      <td>4.22947</td>\n",
       "      <td>-0.531035</td>\n",
       "      <td>0.162228</td>\n",
       "      <td>0.344522</td>\n",
       "      <td>0.42709</td>\n",
       "      <td>-0.910394</td>\n",
       "      <td>0.194154</td>\n",
       "      <td>0.468401</td>\n",
       "      <td>...</td>\n",
       "      <td>-0.748878</td>\n",
       "      <td>-0.396017</td>\n",
       "      <td>2.03047</td>\n",
       "      <td>-1.28139</td>\n",
       "      <td>-0.790077</td>\n",
       "      <td>2.46851</td>\n",
       "      <td>2.66797</td>\n",
       "      <td>-0.264695</td>\n",
       "      <td>3.93087</td>\n",
       "      <td>0.842588</td>\n",
       "    </tr>\n",
       "  </tbody>\n",
       "</table>\n",
       "<p>1129 rows × 20259 columns</p>\n",
       "</div>"
      ],
      "text/plain": [
       "                 label ARHGEF10L      HIF3A     RNF17       RNF10      RNF11  \\\n",
       "TCGA-69-7978-01      1  0.125808   -1.29493 -0.112935    -1.41187   0.203922   \n",
       "TCGA-62-8399-01      1  0.561708    6.06917 -0.531035   -0.228672  0.0521219   \n",
       "TCGA-78-7539-01      1 -0.237592    3.58147  0.592065   -0.108372  -0.499978   \n",
       "TCGA-50-5931-11      1  -1.18049    3.92767  0.291065   -0.043472   0.710822   \n",
       "TCGA-73-4658-01      1 -0.656192  -0.525926 -0.531035   -0.156672   0.373522   \n",
       "...                ...       ...        ...       ...         ...        ...   \n",
       "TCGA-85-A512-01      0  -1.28699   -1.86343 -0.531035    0.020328  -0.560978   \n",
       "TCGA-85-8354-01      0  -1.84779   -1.29733 -0.531035   -0.280072  -0.560278   \n",
       "TCGA-O2-A5IB-01      0  0.568508  0.0259737  0.084865 -0.00937199  -0.136278   \n",
       "TCGA-77-7335-01      0 -0.849892   -2.41413  0.192865    0.197228   0.443922   \n",
       "TCGA-56-7731-11      0 -0.888992    4.22947 -0.531035    0.162228   0.344522   \n",
       "\n",
       "                     RNF13    GTF2IP1      REM1      MTVR2  ...     TULP2  \\\n",
       "TCGA-69-7978-01  0.0993901  -0.222094  0.504354  -0.423399  ...   1.13472   \n",
       "TCGA-62-8399-01   -1.20601  -0.338894   1.44985  0.0394006  ... -0.286078   \n",
       "TCGA-78-7539-01 -0.0254099   0.163006  0.131654 -0.0508994  ...   2.20992   \n",
       "TCGA-50-5931-11    1.05089  -0.564394   1.68395   0.398701  ... -0.748878   \n",
       "TCGA-73-4658-01    0.44729  -0.438994   1.83155  -0.423399  ... -0.748878   \n",
       "...                    ...        ...       ...        ...  ...       ...   \n",
       "TCGA-85-A512-01    0.51729   0.519806 -0.748146  -0.423399  ... -0.748878   \n",
       "TCGA-85-8354-01    0.85009  -0.166294  -1.51925   0.602101  ...  0.276622   \n",
       "TCGA-O2-A5IB-01   -1.41811   0.173506  -2.19405   0.622701  ... -0.408378   \n",
       "TCGA-77-7335-01    0.54789  0.0844055   1.01505  -0.423399  ... -0.748878   \n",
       "TCGA-56-7731-11    0.42709  -0.910394  0.194154   0.468401  ... -0.748878   \n",
       "\n",
       "                    NPY5R      GNGT2      GNGT1      TULP3      PTRF  \\\n",
       "TCGA-69-7978-01 -0.845117    1.76017   -1.28139   0.224623  0.863614   \n",
       "TCGA-62-8399-01 -0.055517 -0.0282335  0.0480102   0.295223  0.317114   \n",
       "TCGA-78-7539-01  -1.58712    1.56537    2.63871  0.0491232  -1.24309   \n",
       "TCGA-50-5931-11  0.900483    1.90357   -1.28139  -0.549277   2.80271   \n",
       "TCGA-73-4658-01 -0.931417    1.91517   -0.17659  0.0423232   1.11071   \n",
       "...                   ...        ...        ...        ...       ...   \n",
       "TCGA-85-A512-01  -1.58712  -0.236033    1.41071    1.65372  0.434414   \n",
       "TCGA-85-8354-01  -1.58712  -0.784133    1.46201   0.765023   1.24691   \n",
       "TCGA-O2-A5IB-01  -1.24662   -1.94053   -1.28139    1.28172  -2.42559   \n",
       "TCGA-77-7335-01  -1.58712    2.16037    1.19391   0.197023   1.55011   \n",
       "TCGA-56-7731-11 -0.396017    2.03047   -1.28139  -0.790077   2.46851   \n",
       "\n",
       "                     BCL6B      GSTK1      SELP      SELS  \n",
       "TCGA-69-7978-01   0.802173   0.108205  0.595367 -0.222712  \n",
       "TCGA-62-8399-01    1.07907  -0.782695   3.11427 -0.388912  \n",
       "TCGA-78-7539-01   -1.28323  0.0341054  0.571467  0.233588  \n",
       "TCGA-50-5931-11    2.25047  -0.540795   3.98597  0.370988  \n",
       "TCGA-73-4658-01    1.51397  -0.454095   2.89317  0.193788  \n",
       "...                    ...        ...       ...       ...  \n",
       "TCGA-85-A512-01  -0.491427   0.318305  -1.01143  0.392288  \n",
       "TCGA-85-8354-01 -0.0700266  -0.620695  -1.39033  0.918888  \n",
       "TCGA-O2-A5IB-01  -0.734427   -1.92679  -2.12163 -0.637412  \n",
       "TCGA-77-7335-01   0.294773   0.369005   1.90927  0.117688  \n",
       "TCGA-56-7731-11    2.66797  -0.264695   3.93087  0.842588  \n",
       "\n",
       "[1129 rows x 20259 columns]"
      ]
     },
     "metadata": {},
     "output_type": "display_data"
    },
    {
     "data": {
      "text/html": [
       "Data preprocessing done. Returning processed dataframe as 'df_final', sample labels as 'labels', gene names as 'columns'."
      ],
      "text/plain": [
       "<IPython.core.display.HTML object>"
      ]
     },
     "metadata": {},
     "output_type": "display_data"
    },
    {
     "data": {
      "text/html": [
       "Done."
      ],
      "text/plain": [
       "<IPython.core.display.HTML object>"
      ]
     },
     "metadata": {},
     "output_type": "display_data"
    }
   ],
   "source": [
    "df, labels, columns = u.dataset_preprocess(df_luad, df_lusu)"
   ]
  },
  {
   "cell_type": "code",
   "execution_count": 13,
   "metadata": {},
   "outputs": [],
   "source": [
    "df_xtrain, df_xtest, df_ytrain, df_ytest = train_test_split(df, labels, train_size=0.9, random_state=seed, stratify=labels)"
   ]
  },
  {
   "cell_type": "code",
   "execution_count": 14,
   "metadata": {},
   "outputs": [
    {
     "data": {
      "text/plain": [
       "((1016, 20258), (113, 20258))"
      ]
     },
     "execution_count": 14,
     "metadata": {},
     "output_type": "execute_result"
    }
   ],
   "source": [
    "df_xtrain.shape, df_xtest.shape"
   ]
  },
  {
   "cell_type": "code",
   "execution_count": 15,
   "metadata": {},
   "outputs": [],
   "source": [
    "df = df_xtrain.copy(deep=True)\n",
    "labels = df_ytrain\n",
    "df.reset_index(drop=True, inplace=True)\n",
    "df_xtest.reset_index(drop=True, inplace=True)"
   ]
  },
  {
   "cell_type": "markdown",
   "metadata": {
    "id": "a7IisaRUlvP6"
   },
   "source": [
    "# Setup hyperparameters"
   ]
  },
  {
   "cell_type": "code",
   "execution_count": 16,
   "metadata": {
    "id": "7mNDSl9-mCiX"
   },
   "outputs": [],
   "source": [
    "u.set_all_seeds(seed)"
   ]
  },
  {
   "cell_type": "code",
   "execution_count": 17,
   "metadata": {
    "id": "l1FWGI7R6jZO"
   },
   "outputs": [],
   "source": [
    "input_dim = df.shape[1]\n",
    "epochs = 100\n",
    "batch_size_train = 64\n",
    "batch_size_test = 32\n",
    "batch_size_df = 64\n",
    "learning_rate = 1e-4\n",
    "output_dim = 512"
   ]
  },
  {
   "cell_type": "markdown",
   "metadata": {
    "id": "eAbHPut1-tAN"
   },
   "source": [
    "# Start training and validation using K-Fold"
   ]
  },
  {
   "cell_type": "code",
   "execution_count": 18,
   "metadata": {
    "id": "6-MqSPSOsXWw"
   },
   "outputs": [],
   "source": [
    "## Load the saved model trained at: 1_XENA_LUNG_GeneExp_AutoEncoder\n",
    "## This will be reloaded after every K-Fold iteration. It will act as reset weights.\n",
    "\n",
    "saved_model = torch.load(PATH+\"SECOND_ITERATION/models/XENA_LUNG_GeneExp_Autoencoder.kd\")    ## when GPU is available"
   ]
  },
  {
   "cell_type": "code",
   "execution_count": 19,
   "metadata": {
    "id": "83GeRoHo6O6w"
   },
   "outputs": [],
   "source": [
    "# Setup the Stratified K-Fold Cross Validation\n",
    "cumulative_train_acc, cumulative_test_acc = 0., 0.\n",
    "k = 10\n",
    "kfold = StratifiedKFold(n_splits=k, shuffle=True, random_state=seed)"
   ]
  },
  {
   "cell_type": "code",
   "execution_count": 20,
   "metadata": {
    "colab": {
     "base_uri": "https://localhost:8080/",
     "height": 1000
    },
    "id": "jebMGJPnWA5g",
    "outputId": "2ef90db8-8064-41dd-8ff9-c4469b1977ad",
    "scrolled": false
   },
   "outputs": [
    {
     "data": {
      "text/html": [
       "<h1>Fold: 1</h1>"
      ],
      "text/plain": [
       "<IPython.core.display.HTML object>"
      ]
     },
     "metadata": {},
     "output_type": "display_data"
    },
    {
     "data": {
      "application/vnd.jupyter.widget-view+json": {
       "model_id": "32ac36a347024409ba08d82f500e7e59",
       "version_major": 2,
       "version_minor": 0
      },
      "text/plain": [
       "  0%|          | 0/100 [00:00<?, ?it/s]"
      ]
     },
     "metadata": {},
     "output_type": "display_data"
    },
    {
     "name": "stdout",
     "output_type": "stream",
     "text": [
      "Total Training Time: 2.07 min\n",
      "Train accuracy avg: 99.4737474822998, Valid accuracy avg: 94.91177070617675\n"
     ]
    },
    {
     "data": {
      "text/html": [
       "<h1>Fold: 2</h1>"
      ],
      "text/plain": [
       "<IPython.core.display.HTML object>"
      ]
     },
     "metadata": {},
     "output_type": "display_data"
    },
    {
     "data": {
      "application/vnd.jupyter.widget-view+json": {
       "model_id": "554a4b3a56c843c299a2c58f48d10d37",
       "version_major": 2,
       "version_minor": 0
      },
      "text/plain": [
       "  0%|          | 0/100 [00:00<?, ?it/s]"
      ]
     },
     "metadata": {},
     "output_type": "display_data"
    },
    {
     "name": "stdout",
     "output_type": "stream",
     "text": [
      "Total Training Time: 2.42 min\n",
      "Train accuracy avg: 99.50000610351563, Valid accuracy avg: 96.44118301391602\n"
     ]
    },
    {
     "data": {
      "text/html": [
       "<h1>Fold: 3</h1>"
      ],
      "text/plain": [
       "<IPython.core.display.HTML object>"
      ]
     },
     "metadata": {},
     "output_type": "display_data"
    },
    {
     "data": {
      "application/vnd.jupyter.widget-view+json": {
       "model_id": "71ce3e38a7cc40c790c2c3e4207e0c73",
       "version_major": 2,
       "version_minor": 0
      },
      "text/plain": [
       "  0%|          | 0/100 [00:00<?, ?it/s]"
      ]
     },
     "metadata": {},
     "output_type": "display_data"
    },
    {
     "name": "stdout",
     "output_type": "stream",
     "text": [
      "Total Training Time: 2.36 min\n",
      "Train accuracy avg: 99.36433563232421, Valid accuracy avg: 97.13726020812989\n"
     ]
    },
    {
     "data": {
      "text/html": [
       "<h1>Fold: 4</h1>"
      ],
      "text/plain": [
       "<IPython.core.display.HTML object>"
      ]
     },
     "metadata": {},
     "output_type": "display_data"
    },
    {
     "data": {
      "application/vnd.jupyter.widget-view+json": {
       "model_id": "d9562d65bb6145589db6d5adbd51fe28",
       "version_major": 2,
       "version_minor": 0
      },
      "text/plain": [
       "  0%|          | 0/100 [00:00<?, ?it/s]"
      ]
     },
     "metadata": {},
     "output_type": "display_data"
    },
    {
     "name": "stdout",
     "output_type": "stream",
     "text": [
      "Total Training Time: 2.42 min\n",
      "Train accuracy avg: 99.58643119812012, Valid accuracy avg: 92.62745376586913\n"
     ]
    },
    {
     "data": {
      "text/html": [
       "<h1>Fold: 5</h1>"
      ],
      "text/plain": [
       "<IPython.core.display.HTML object>"
      ]
     },
     "metadata": {},
     "output_type": "display_data"
    },
    {
     "data": {
      "application/vnd.jupyter.widget-view+json": {
       "model_id": "495b6f8ae66247f39a2bc5d550eba537",
       "version_major": 2,
       "version_minor": 0
      },
      "text/plain": [
       "  0%|          | 0/100 [00:00<?, ?it/s]"
      ]
     },
     "metadata": {},
     "output_type": "display_data"
    },
    {
     "name": "stdout",
     "output_type": "stream",
     "text": [
      "Total Training Time: 2.28 min\n",
      "Train accuracy avg: 99.4420182800293, Valid accuracy avg: 93.91176948547363\n"
     ]
    },
    {
     "data": {
      "text/html": [
       "<h1>Fold: 6</h1>"
      ],
      "text/plain": [
       "<IPython.core.display.HTML object>"
      ]
     },
     "metadata": {},
     "output_type": "display_data"
    },
    {
     "data": {
      "application/vnd.jupyter.widget-view+json": {
       "model_id": "8b8dc5d46d6149629387442706ab56db",
       "version_major": 2,
       "version_minor": 0
      },
      "text/plain": [
       "  0%|          | 0/100 [00:00<?, ?it/s]"
      ]
     },
     "metadata": {},
     "output_type": "display_data"
    },
    {
     "name": "stdout",
     "output_type": "stream",
     "text": [
      "Total Training Time: 2.37 min\n",
      "Train accuracy avg: 99.45295845031738, Valid accuracy avg: 94.78431968688965\n"
     ]
    },
    {
     "data": {
      "text/html": [
       "<h1>Fold: 7</h1>"
      ],
      "text/plain": [
       "<IPython.core.display.HTML object>"
      ]
     },
     "metadata": {},
     "output_type": "display_data"
    },
    {
     "data": {
      "application/vnd.jupyter.widget-view+json": {
       "model_id": "b630c407f9b8413a82b41a1ac5857683",
       "version_major": 2,
       "version_minor": 0
      },
      "text/plain": [
       "  0%|          | 0/100 [00:00<?, ?it/s]"
      ]
     },
     "metadata": {},
     "output_type": "display_data"
    },
    {
     "name": "stdout",
     "output_type": "stream",
     "text": [
      "Total Training Time: 2.28 min\n",
      "Train accuracy avg: 99.30492614746093, Valid accuracy avg: 91.53464851379394\n"
     ]
    },
    {
     "data": {
      "text/html": [
       "<h1>Fold: 8</h1>"
      ],
      "text/plain": [
       "<IPython.core.display.HTML object>"
      ]
     },
     "metadata": {},
     "output_type": "display_data"
    },
    {
     "data": {
      "application/vnd.jupyter.widget-view+json": {
       "model_id": "3de5722ce556492dbc4d28899d6237a9",
       "version_major": 2,
       "version_minor": 0
      },
      "text/plain": [
       "  0%|          | 0/100 [00:00<?, ?it/s]"
      ]
     },
     "metadata": {},
     "output_type": "display_data"
    },
    {
     "name": "stdout",
     "output_type": "stream",
     "text": [
      "Total Training Time: 2.34 min\n",
      "Train accuracy avg: 99.47869354248047, Valid accuracy avg: 95.67326522827149\n"
     ]
    },
    {
     "data": {
      "text/html": [
       "<h1>Fold: 9</h1>"
      ],
      "text/plain": [
       "<IPython.core.display.HTML object>"
      ]
     },
     "metadata": {},
     "output_type": "display_data"
    },
    {
     "data": {
      "application/vnd.jupyter.widget-view+json": {
       "model_id": "cfafd886fcff4c8b8358eccbb56bbbd8",
       "version_major": 2,
       "version_minor": 0
      },
      "text/plain": [
       "  0%|          | 0/100 [00:00<?, ?it/s]"
      ]
     },
     "metadata": {},
     "output_type": "display_data"
    },
    {
     "name": "stdout",
     "output_type": "stream",
     "text": [
      "Total Training Time: 2.30 min\n",
      "Train accuracy avg: 99.44372077941894, Valid accuracy avg: 96.32673179626465\n"
     ]
    },
    {
     "data": {
      "text/html": [
       "<h1>Fold: 10</h1>"
      ],
      "text/plain": [
       "<IPython.core.display.HTML object>"
      ]
     },
     "metadata": {},
     "output_type": "display_data"
    },
    {
     "data": {
      "application/vnd.jupyter.widget-view+json": {
       "model_id": "8d4cbc09049f42fe9911c7f5c29f38cc",
       "version_major": 2,
       "version_minor": 0
      },
      "text/plain": [
       "  0%|          | 0/100 [00:00<?, ?it/s]"
      ]
     },
     "metadata": {},
     "output_type": "display_data"
    },
    {
     "name": "stdout",
     "output_type": "stream",
     "text": [
      "Total Training Time: 2.37 min\n",
      "Train accuracy avg: 99.46995010375977, Valid accuracy avg: 95.8514835357666\n",
      "K-Fold Train and Validate accuracies written\n"
     ]
    }
   ],
   "source": [
    "list_avg_train_acc_per_fold=[]\n",
    "list_avg_valid_acc_per_fold=[]\n",
    "\n",
    "for fold, (train_index, test_index) in enumerate(kfold.split(df, labels)):\n",
    "\n",
    "    text=HTML(\"<h1>Fold: {}</h1>\".format(fold+1))\n",
    "    display(text)\n",
    "    ##------------------------------------------------------------------------------------##\n",
    "    \n",
    "    ## collect the rows for train and test\n",
    "    ## https://stackoverflow.com/questions/19155718/select-pandas-rows-based-on-list-index\n",
    "    xtrain, xtest = df.iloc[df.index[train_index]], df.iloc[df.index[test_index]]\n",
    "    ytrain, ytest = np.array(labels)[train_index], np.array(labels)[test_index]\n",
    "    \n",
    "    scaler = StandardScaler()\n",
    "\n",
    "    ## standardise  the datasets\n",
    "    ## https://towardsdatascience.com/feature-scaling-and-normalisation-in-a-nutshell-5319af86f89b\n",
    "    ## https://stackoverflow.com/questions/49444262/normalize-data-before-or-after-split-of-training-and-testing-data\n",
    "    xtrain_scaled = scaler.fit_transform(xtrain)\n",
    "    xtest_scaled = scaler.transform(xtest)\n",
    "\n",
    "\n",
    "    ## create train_dataset and test_dataset of class LUNG_GeneExp\n",
    "    train_dataset = c.LUNG_GeneExp(ytrain, xtrain_scaled)\n",
    "    test_dataset = c.LUNG_GeneExp(ytest, xtest_scaled)\n",
    "\n",
    "\n",
    "    ## create dataloaders for train_dataset and test_dataset\n",
    "    train_loader = DataLoader(train_dataset, batch_size=batch_size_train, shuffle=True)\n",
    "    test_loader = DataLoader(test_dataset, batch_size=batch_size_test, shuffle=True)\n",
    "\n",
    "    ##------------------------------------------------------------------------------------##\n",
    "\n",
    "#     u.set_all_seeds(seed)\n",
    "    torch.cuda.empty_cache()\n",
    "\n",
    "    ## create an object of class AutoEncoder and load the saved model from 1_XENA_LUNG_GeneExp_AutoEncoder\n",
    "    only_encoder = c.AutoEncoder(input_dim, output_dim)\n",
    "    only_encoder.load_state_dict(saved_model)\n",
    "    \n",
    "\n",
    "    ## detach the decoder part from the saved model\n",
    "    only_encoder = nn.Sequential(*list(only_encoder.children())[:-1])\n",
    "    \n",
    "\n",
    "    ## create an object of class Classifier and pass the only_encoder object\n",
    "    classifier = c.Classifier(only_encoder, output_dim)\n",
    "    # print(classifier)\n",
    "    for params in classifier.encoder.parameters():\n",
    "        params.requires_grad=False\n",
    "    classifier.to(device)\n",
    "\n",
    "    ##------------------------------------------------------------------------------------##\n",
    "\n",
    "    ## setup the optimizer and lr_scheduler\n",
    "    optimizer = torch.optim.AdamW(filter(lambda p: p.requires_grad, classifier.parameters()), lr=learning_rate, betas=(0.9, 0.999), weight_decay=0.001, amsgrad=False)\n",
    "    learn = torch.optim.lr_scheduler.ReduceLROnPlateau(optimizer, patience=2, verbose=True)\n",
    "\n",
    "    ## call the train function, print accuracy and plot !!!!!!!!\n",
    "    log_dict = u.train_classifier(\n",
    "        num_epochs = epochs,\n",
    "        model = classifier,\n",
    "        optimizer = optimizer,\n",
    "        scheduler = learn,\n",
    "        device = device,\n",
    "        train_loader = train_loader,\n",
    "        valid_loader = test_loader,\n",
    "        skip_epoch_stats = True,\n",
    "        logging_interval = 500\n",
    "    )\n",
    "    \n",
    "    print(f\"Train accuracy avg: {np.mean(list(log_dict['train_acc']))}, Valid accuracy avg: {np.mean(list(log_dict['valid_acc']))}\")\n",
    "    list_avg_train_acc_per_fold.append(np.mean(list(log_dict['train_acc'])))\n",
    "    list_avg_valid_acc_per_fold.append(np.mean(list(log_dict['valid_acc'])))\n",
    "    \n",
    "    cumulative_train_acc += np.mean(list(log_dict['train_acc']))\n",
    "    cumulative_test_acc += np.mean(list(log_dict['valid_acc']))\n",
    "\n",
    "\n",
    "    ##------------------------------------------------------------------------------------##\n",
    "\n",
    "    \n",
    "'''\n",
    "Write both train and test accuracy in a file and save it in the respective seed\n",
    "'''\n",
    "with open(r'D:/CANCER BIOLOGY/DATASET/TCGA/FROM Xena/SECOND_ITERATION/seed=%s/neural_classifier_train_acc_k_fold.txt'%str(seed), 'w') as fp:\n",
    "    for item in list_avg_train_acc_per_fold:\n",
    "        fp.write(\"%s\\n\" % item)\n",
    "with open(r'D:/CANCER BIOLOGY/DATASET/TCGA/FROM Xena/SECOND_ITERATION/seed=%s/neural_classifier_valid_acc_k_fold.txt'%str(seed), 'w') as fp:\n",
    "    for item in list_avg_valid_acc_per_fold:\n",
    "        fp.write(\"%s\\n\" % item)\n",
    "\n",
    "print('K-Fold Train and Validate accuracies written')"
   ]
  },
  {
   "cell_type": "markdown",
   "metadata": {},
   "source": [
    "---\n",
    "---\n",
    "---"
   ]
  },
  {
   "cell_type": "code",
   "execution_count": 21,
   "metadata": {},
   "outputs": [],
   "source": [
    "# u.plot_train_test_k_fold_accuracy(\n",
    "#     list_avg_train_acc_per_fold,\n",
    "#     list_avg_valid_acc_per_fold,\n",
    "#     N=k, \n",
    "#     width=0.45,\n",
    "#     width_mult=1,\n",
    "#     fig_size=(12, 6), \n",
    "#     title='K-FOLD Accuracy Chart ===> Overall avg_train_acc: {:.4f}, Overall avg_valid_acc: {:.4f}'.format(cumulative_train_acc/k, cumulative_test_acc/k),\n",
    "#     x_ticks=('Fold=1', 'Fold=2', 'Fold=3', 'Fold=4', 'Fold=5'),\n",
    "#     legends=('Train', 'Validation'),\n",
    "#     file_path=PATH+\"SECOND_ITERATION/seed=\"+str(seed)+\"/classifier_on_k_fold\",\n",
    "# )"
   ]
  },
  {
   "cell_type": "markdown",
   "metadata": {
    "id": "UODSbHRvm7cB"
   },
   "source": [
    "# 2nd last, train the classifier on complete Train Split (DO NOT DO ANYMORE)"
   ]
  },
  {
   "cell_type": "code",
   "execution_count": 22,
   "metadata": {},
   "outputs": [],
   "source": [
    "# learn = torch.optim.lr_scheduler.ReduceLROnPlateau(optimizer, patience=2, verbose=True)"
   ]
  },
  {
   "cell_type": "code",
   "execution_count": 23,
   "metadata": {
    "id": "66c8wVFEnjkb"
   },
   "outputs": [],
   "source": [
    "# df_scaler = StandardScaler()\n",
    "# df_scaled = df_scaler.fit_transform(df)\n",
    "# df_scaled_xtest = df_scaler.transform(df_xtest)"
   ]
  },
  {
   "cell_type": "code",
   "execution_count": 24,
   "metadata": {
    "id": "5odltrFknjiH"
   },
   "outputs": [],
   "source": [
    "# df_dataset = c.LUNG_GeneExp(labels, df_scaled)\n",
    "# df_loader = DataLoader(df_dataset, batch_size=batch_size_df, shuffle=True)"
   ]
  },
  {
   "cell_type": "code",
   "execution_count": 25,
   "metadata": {
    "id": "VdUrUQ_0njgJ"
   },
   "outputs": [],
   "source": [
    "# u.set_all_seeds(seed)\n",
    "# torch.cuda.empty_cache()"
   ]
  },
  {
   "cell_type": "code",
   "execution_count": 26,
   "metadata": {
    "id": "IQ9Ybw4Cnjdd"
   },
   "outputs": [],
   "source": [
    "# only_encoder = c.AutoEncoder(input_dim, output_dim)\n",
    "# only_encoder.load_state_dict(saved_model)\n",
    "# only_encoder = nn.Sequential(*list(only_encoder.children())[:-1])"
   ]
  },
  {
   "cell_type": "code",
   "execution_count": 27,
   "metadata": {
    "colab": {
     "base_uri": "https://localhost:8080/"
    },
    "id": "wd4kpl9gnjbI",
    "outputId": "1706bfc8-5b51-4292-9f3c-31b4ad1fbfb3"
   },
   "outputs": [],
   "source": [
    "# classifier = c.Classifier(only_encoder, output_dim)\n",
    "# for params in classifier.encoder.parameters():\n",
    "#         params.requires_grad=False\n",
    "# classifier.to(device)"
   ]
  },
  {
   "cell_type": "code",
   "execution_count": 28,
   "metadata": {
    "id": "boqciayKnjY0"
   },
   "outputs": [],
   "source": [
    "# optimizer = torch.optim.AdamW(filter(lambda p: p.requires_grad, classifier.parameters()), lr=learning_rate, betas=(0.9, 0.999), weight_decay=0.001, amsgrad=False)"
   ]
  },
  {
   "cell_type": "code",
   "execution_count": 29,
   "metadata": {
    "colab": {
     "base_uri": "https://localhost:8080/"
    },
    "id": "kbIbsuTonjNw",
    "outputId": "befbec6f-1a10-4cdc-be0b-63fba0c618d5"
   },
   "outputs": [],
   "source": [
    "# log_dict = u.train_classifier(\n",
    "#     num_epochs = epochs,\n",
    "#     model = classifier,\n",
    "#     optimizer = optimizer,\n",
    "#     scheduler = learn,\n",
    "#     device = device,\n",
    "#     train_loader = df_loader,\n",
    "#     skip_epoch_stats = True,\n",
    "#     logging_interval = 500\n",
    "# )"
   ]
  },
  {
   "cell_type": "markdown",
   "metadata": {},
   "source": [
    "# Lastly, test the classifier on the Test Split"
   ]
  },
  {
   "cell_type": "code",
   "execution_count": 30,
   "metadata": {},
   "outputs": [],
   "source": [
    "# avg_train_acc_final = np.mean(list(log_dict['train_acc']))\n",
    "\n",
    "# df_test_dataset = c.LUNG_GeneExp(df_ytest, df_scaled_xtest)\n",
    "# df_test_loader = DataLoader(df_test_dataset, batch_size=batch_size_test, shuffle=True)\n",
    "\n",
    "# avg_test_acc_final = u.compute_accuracy(classifier, df_test_loader, device)"
   ]
  },
  {
   "cell_type": "code",
   "execution_count": 31,
   "metadata": {},
   "outputs": [],
   "source": [
    "# u.plot_train_test_k_fold_accuracy(\n",
    "#     avg_train_acc_final,\n",
    "#     avg_test_acc_final,\n",
    "#     N=1, \n",
    "#     width=0.35,\n",
    "#     width_mult=1.5,\n",
    "#     fig_size=(8, 4), \n",
    "#     title='Accuracy score on Train/Test Split',\n",
    "#     x_ticks=(''),\n",
    "#     legends=('Train', 'Test'),\n",
    "#     file_path=PATH+\"project_summary_seed_wise/seed=\"+str(seed)+\"/classifier_on_train_test\",\n",
    "# )"
   ]
  },
  {
   "cell_type": "markdown",
   "metadata": {},
   "source": [
    "# Save the classifier model"
   ]
  },
  {
   "cell_type": "code",
   "execution_count": 32,
   "metadata": {
    "id": "FTXj69Zxor1Z"
   },
   "outputs": [],
   "source": [
    "torch.save(classifier.state_dict(), PATH+\"SECOND_ITERATION/models/XENA_LUNG_GeneExp_Classifier.kd\")"
   ]
  },
  {
   "cell_type": "markdown",
   "metadata": {},
   "source": [
    "---\n",
    "---\n",
    "---"
   ]
  },
  {
   "cell_type": "markdown",
   "metadata": {},
   "source": [
    "# Level 2 complete !!"
   ]
  },
  {
   "cell_type": "code",
   "execution_count": null,
   "metadata": {},
   "outputs": [],
   "source": []
  }
 ],
 "metadata": {
  "accelerator": "GPU",
  "colab": {
   "collapsed_sections": [],
   "name": "1_XENA_LUNG_GeneExp_Classifier",
   "provenance": []
  },
  "kernelspec": {
   "display_name": "Python 3 (ipykernel)",
   "language": "python",
   "name": "python3"
  },
  "language_info": {
   "codemirror_mode": {
    "name": "ipython",
    "version": 3
   },
   "file_extension": ".py",
   "mimetype": "text/x-python",
   "name": "python",
   "nbconvert_exporter": "python",
   "pygments_lexer": "ipython3",
   "version": "3.7.13"
  }
 },
 "nbformat": 4,
 "nbformat_minor": 1
}
