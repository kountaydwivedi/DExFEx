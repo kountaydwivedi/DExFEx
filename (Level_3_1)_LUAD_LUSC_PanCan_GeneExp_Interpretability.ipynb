{
 "cells": [
  {
   "cell_type": "code",
   "execution_count": 1,
   "metadata": {
    "colab": {
     "base_uri": "https://localhost:8080/",
     "height": 17
    },
    "id": "vLB2256i2B-r",
    "outputId": "533877f5-dab8-44e2-8a22-bdb77cbccdd2"
   },
   "outputs": [
    {
     "data": {
      "text/html": [
       "<style>.container { width:98% !important; }</style>"
      ],
      "text/plain": [
       "<IPython.core.display.HTML object>"
      ]
     },
     "metadata": {},
     "output_type": "display_data"
    }
   ],
   "source": [
    "# https://stackoverflow.com/questions/21971449/how-do-i-increase-the-cell-width-of-the-jupyter-ipython-notebook-in-my-browser\n",
    "\n",
    "from IPython.core.display import display, HTML\n",
    "display(HTML(\"<style>.container { width:98% !important; }</style>\"))"
   ]
  },
  {
   "cell_type": "code",
   "execution_count": 2,
   "metadata": {
    "id": "EMLoXNHV2PoJ"
   },
   "outputs": [],
   "source": [
    "import h5py\n",
    "import numpy as np\n",
    "import pandas as pd\n",
    "import seaborn as sea\n",
    "import matplotlib.pyplot as plt\n",
    "\n",
    "from sklearn.preprocessing import StandardScaler\n",
    "from sklearn.model_selection import train_test_split\n",
    "\n",
    "from sklearn.svm import SVC\n",
    "from sklearn.neural_network import MLPClassifier\n",
    "from sklearn.linear_model import LogisticRegression\n",
    "from sklearn.ensemble import RandomForestClassifier\n",
    "\n",
    "# plt.style.use('fivethirtyeight')\n",
    "sea.set_style(\"whitegrid\")\n",
    "%matplotlib inline\n",
    "%load_ext autoreload\n",
    "%autoreload 2"
   ]
  },
  {
   "cell_type": "code",
   "execution_count": 3,
   "metadata": {
    "id": "bWvcDig92RSK"
   },
   "outputs": [],
   "source": [
    "import warnings\n",
    "warnings.simplefilter('ignore')"
   ]
  },
  {
   "cell_type": "code",
   "execution_count": 4,
   "metadata": {
    "id": "ouhdbfDN2ZMf",
    "scrolled": true
   },
   "outputs": [],
   "source": [
    "import os\n",
    "import gc\n",
    "import time\n",
    "import copy\n",
    "import torch\n",
    "import torch.nn as nn\n",
    "import model_utils as u\n",
    "import model_classes as c\n",
    "import torch.nn.functional as F\n",
    "from torch.autograd import Variable\n",
    "from torchvision import utils, transforms\n",
    "from torch.utils.data import Dataset, DataLoader"
   ]
  },
  {
   "cell_type": "code",
   "execution_count": 5,
   "metadata": {},
   "outputs": [],
   "source": [
    "torch.use_deterministic_algorithms(True)\n",
    "os.environ[\"CUBLAS_WORKSPACE_CONFIG\"]=\":16:8\""
   ]
  },
  {
   "cell_type": "code",
   "execution_count": 6,
   "metadata": {
    "id": "mkxv0Al82a8c"
   },
   "outputs": [],
   "source": [
    "# device = torch.device('cuda' if torch.cuda.is_available() else 'cpu')\n",
    "device = torch.device('cpu' if torch.cuda.is_available() else 'cuda')"
   ]
  },
  {
   "cell_type": "code",
   "execution_count": 7,
   "metadata": {
    "id": "Kcxllb-v2eGC"
   },
   "outputs": [],
   "source": [
    "# https://pytorch.org/docs/stable/notes/randomness.html\n",
    "seed = 325\n",
    "u.set_all_seeds(seed)"
   ]
  },
  {
   "cell_type": "code",
   "execution_count": 8,
   "metadata": {
    "id": "gT6zgvnX2v3m"
   },
   "outputs": [],
   "source": [
    "PATH = \"D:/CANCER BIOLOGY/DATASET/TCGA/FROM Xena/\""
   ]
  },
  {
   "cell_type": "code",
   "execution_count": 9,
   "metadata": {
    "id": "59Ikc0qa2xZk"
   },
   "outputs": [],
   "source": [
    "# https://stackoverflow.com/questions/18885175/read-a-zipped-file-as-a-pandas-dataframe\n",
    "# https://www.analyticsvidhya.com/blog/2021/04/delimiters-in-pandas-read_csv-function/\n",
    "\n",
    "df_luad = pd.read_csv(PATH+\"TCGA.LUAD.sampleMap_HiSeqV2_PANCAN.gz\", compression = \"gzip\", sep = \"\\t\")\n",
    "df_lusu = pd.read_csv(PATH+\"TCGA.LUSC.sampleMap_HiSeqV2_PANCAN.gz\", compression = \"gzip\", sep = \"\\t\")"
   ]
  },
  {
   "cell_type": "code",
   "execution_count": 10,
   "metadata": {},
   "outputs": [
    {
     "data": {
      "text/html": [
       "<div>\n",
       "<style scoped>\n",
       "    .dataframe tbody tr th:only-of-type {\n",
       "        vertical-align: middle;\n",
       "    }\n",
       "\n",
       "    .dataframe tbody tr th {\n",
       "        vertical-align: top;\n",
       "    }\n",
       "\n",
       "    .dataframe thead th {\n",
       "        text-align: right;\n",
       "    }\n",
       "</style>\n",
       "<table border=\"1\" class=\"dataframe\">\n",
       "  <thead>\n",
       "    <tr style=\"text-align: right;\">\n",
       "      <th></th>\n",
       "      <th>sample</th>\n",
       "      <th>TCGA-69-7978-01</th>\n",
       "      <th>TCGA-62-8399-01</th>\n",
       "      <th>TCGA-78-7539-01</th>\n",
       "      <th>TCGA-50-5931-11</th>\n",
       "      <th>TCGA-73-4658-01</th>\n",
       "      <th>TCGA-44-6775-01</th>\n",
       "      <th>TCGA-44-2655-01</th>\n",
       "      <th>TCGA-44-3398-01</th>\n",
       "      <th>TCGA-62-8397-01</th>\n",
       "      <th>...</th>\n",
       "      <th>TCGA-75-7025-01</th>\n",
       "      <th>TCGA-55-7726-01</th>\n",
       "      <th>TCGA-L9-A743-01</th>\n",
       "      <th>TCGA-86-8358-01</th>\n",
       "      <th>TCGA-55-6972-01</th>\n",
       "      <th>TCGA-55-7727-01</th>\n",
       "      <th>TCGA-91-6831-01</th>\n",
       "      <th>TCGA-MN-A4N4-01</th>\n",
       "      <th>TCGA-55-8302-01</th>\n",
       "      <th>TCGA-MP-A4TK-01</th>\n",
       "    </tr>\n",
       "  </thead>\n",
       "  <tbody>\n",
       "    <tr>\n",
       "      <th>0</th>\n",
       "      <td>ARHGEF10L</td>\n",
       "      <td>0.125808</td>\n",
       "      <td>0.561708</td>\n",
       "      <td>-0.237592</td>\n",
       "      <td>-1.180492</td>\n",
       "      <td>-0.656192</td>\n",
       "      <td>0.139908</td>\n",
       "      <td>-0.537692</td>\n",
       "      <td>-0.839092</td>\n",
       "      <td>0.677108</td>\n",
       "      <td>...</td>\n",
       "      <td>0.226508</td>\n",
       "      <td>-2.342092</td>\n",
       "      <td>-0.207692</td>\n",
       "      <td>-0.659792</td>\n",
       "      <td>-1.651292</td>\n",
       "      <td>-2.621192</td>\n",
       "      <td>-1.025192</td>\n",
       "      <td>0.070108</td>\n",
       "      <td>0.305608</td>\n",
       "      <td>0.263208</td>\n",
       "    </tr>\n",
       "    <tr>\n",
       "      <th>1</th>\n",
       "      <td>HIF3A</td>\n",
       "      <td>-1.294926</td>\n",
       "      <td>6.069174</td>\n",
       "      <td>3.581474</td>\n",
       "      <td>3.927674</td>\n",
       "      <td>-0.525926</td>\n",
       "      <td>-1.497426</td>\n",
       "      <td>-0.021226</td>\n",
       "      <td>0.179974</td>\n",
       "      <td>1.092974</td>\n",
       "      <td>...</td>\n",
       "      <td>2.539674</td>\n",
       "      <td>-1.259526</td>\n",
       "      <td>-0.387226</td>\n",
       "      <td>3.689474</td>\n",
       "      <td>3.509374</td>\n",
       "      <td>1.986874</td>\n",
       "      <td>-1.993426</td>\n",
       "      <td>2.790974</td>\n",
       "      <td>-0.018326</td>\n",
       "      <td>4.657474</td>\n",
       "    </tr>\n",
       "    <tr>\n",
       "      <th>2</th>\n",
       "      <td>RNF17</td>\n",
       "      <td>-0.112935</td>\n",
       "      <td>-0.531035</td>\n",
       "      <td>0.592065</td>\n",
       "      <td>0.291065</td>\n",
       "      <td>-0.531035</td>\n",
       "      <td>0.475865</td>\n",
       "      <td>0.071065</td>\n",
       "      <td>-0.531035</td>\n",
       "      <td>-0.531035</td>\n",
       "      <td>...</td>\n",
       "      <td>-0.068235</td>\n",
       "      <td>-0.531035</td>\n",
       "      <td>0.428265</td>\n",
       "      <td>0.202865</td>\n",
       "      <td>0.567665</td>\n",
       "      <td>0.408165</td>\n",
       "      <td>-0.531035</td>\n",
       "      <td>0.440465</td>\n",
       "      <td>-0.531035</td>\n",
       "      <td>0.049365</td>\n",
       "    </tr>\n",
       "    <tr>\n",
       "      <th>3</th>\n",
       "      <td>RNF10</td>\n",
       "      <td>-1.411872</td>\n",
       "      <td>-0.228672</td>\n",
       "      <td>-0.108372</td>\n",
       "      <td>-0.043472</td>\n",
       "      <td>-0.156672</td>\n",
       "      <td>-0.605472</td>\n",
       "      <td>0.139328</td>\n",
       "      <td>-0.450172</td>\n",
       "      <td>0.583528</td>\n",
       "      <td>...</td>\n",
       "      <td>-0.451572</td>\n",
       "      <td>0.261228</td>\n",
       "      <td>-0.331772</td>\n",
       "      <td>-0.213372</td>\n",
       "      <td>-0.189472</td>\n",
       "      <td>0.091028</td>\n",
       "      <td>0.492828</td>\n",
       "      <td>0.037428</td>\n",
       "      <td>0.003728</td>\n",
       "      <td>-0.334572</td>\n",
       "    </tr>\n",
       "    <tr>\n",
       "      <th>4</th>\n",
       "      <td>RNF11</td>\n",
       "      <td>0.203922</td>\n",
       "      <td>0.052122</td>\n",
       "      <td>-0.499978</td>\n",
       "      <td>0.710822</td>\n",
       "      <td>0.373522</td>\n",
       "      <td>0.129022</td>\n",
       "      <td>0.436522</td>\n",
       "      <td>0.529622</td>\n",
       "      <td>0.314922</td>\n",
       "      <td>...</td>\n",
       "      <td>-0.155778</td>\n",
       "      <td>0.362522</td>\n",
       "      <td>-0.520578</td>\n",
       "      <td>0.031222</td>\n",
       "      <td>-0.966478</td>\n",
       "      <td>0.318322</td>\n",
       "      <td>0.150822</td>\n",
       "      <td>-0.357778</td>\n",
       "      <td>-0.451578</td>\n",
       "      <td>0.156422</td>\n",
       "    </tr>\n",
       "    <tr>\n",
       "      <th>...</th>\n",
       "      <td>...</td>\n",
       "      <td>...</td>\n",
       "      <td>...</td>\n",
       "      <td>...</td>\n",
       "      <td>...</td>\n",
       "      <td>...</td>\n",
       "      <td>...</td>\n",
       "      <td>...</td>\n",
       "      <td>...</td>\n",
       "      <td>...</td>\n",
       "      <td>...</td>\n",
       "      <td>...</td>\n",
       "      <td>...</td>\n",
       "      <td>...</td>\n",
       "      <td>...</td>\n",
       "      <td>...</td>\n",
       "      <td>...</td>\n",
       "      <td>...</td>\n",
       "      <td>...</td>\n",
       "      <td>...</td>\n",
       "      <td>...</td>\n",
       "    </tr>\n",
       "    <tr>\n",
       "      <th>20525</th>\n",
       "      <td>PTRF</td>\n",
       "      <td>0.863614</td>\n",
       "      <td>0.317114</td>\n",
       "      <td>-1.243086</td>\n",
       "      <td>2.802714</td>\n",
       "      <td>1.110714</td>\n",
       "      <td>0.879814</td>\n",
       "      <td>-0.028286</td>\n",
       "      <td>0.008714</td>\n",
       "      <td>-0.005186</td>\n",
       "      <td>...</td>\n",
       "      <td>0.544614</td>\n",
       "      <td>1.638214</td>\n",
       "      <td>0.381814</td>\n",
       "      <td>-1.080186</td>\n",
       "      <td>-2.139886</td>\n",
       "      <td>-1.495486</td>\n",
       "      <td>0.472314</td>\n",
       "      <td>0.993014</td>\n",
       "      <td>0.634014</td>\n",
       "      <td>1.222714</td>\n",
       "    </tr>\n",
       "    <tr>\n",
       "      <th>20526</th>\n",
       "      <td>BCL6B</td>\n",
       "      <td>0.802173</td>\n",
       "      <td>1.079073</td>\n",
       "      <td>-1.283227</td>\n",
       "      <td>2.250473</td>\n",
       "      <td>1.513973</td>\n",
       "      <td>0.126473</td>\n",
       "      <td>0.576073</td>\n",
       "      <td>0.643573</td>\n",
       "      <td>-0.735227</td>\n",
       "      <td>...</td>\n",
       "      <td>0.842873</td>\n",
       "      <td>0.680873</td>\n",
       "      <td>0.642773</td>\n",
       "      <td>0.154673</td>\n",
       "      <td>-0.849427</td>\n",
       "      <td>-0.359227</td>\n",
       "      <td>0.332973</td>\n",
       "      <td>0.570873</td>\n",
       "      <td>-0.909527</td>\n",
       "      <td>0.671573</td>\n",
       "    </tr>\n",
       "    <tr>\n",
       "      <th>20527</th>\n",
       "      <td>GSTK1</td>\n",
       "      <td>0.108205</td>\n",
       "      <td>-0.782695</td>\n",
       "      <td>0.034105</td>\n",
       "      <td>-0.540795</td>\n",
       "      <td>-0.454095</td>\n",
       "      <td>-0.797795</td>\n",
       "      <td>0.531305</td>\n",
       "      <td>0.310605</td>\n",
       "      <td>0.204105</td>\n",
       "      <td>...</td>\n",
       "      <td>-0.454195</td>\n",
       "      <td>-0.466595</td>\n",
       "      <td>-0.011995</td>\n",
       "      <td>-0.503195</td>\n",
       "      <td>0.512405</td>\n",
       "      <td>-0.584495</td>\n",
       "      <td>-1.756895</td>\n",
       "      <td>0.506805</td>\n",
       "      <td>-0.114895</td>\n",
       "      <td>-0.189095</td>\n",
       "    </tr>\n",
       "    <tr>\n",
       "      <th>20528</th>\n",
       "      <td>SELP</td>\n",
       "      <td>0.595367</td>\n",
       "      <td>3.114267</td>\n",
       "      <td>0.571467</td>\n",
       "      <td>3.985967</td>\n",
       "      <td>2.893167</td>\n",
       "      <td>1.805567</td>\n",
       "      <td>2.445467</td>\n",
       "      <td>2.575967</td>\n",
       "      <td>1.336567</td>\n",
       "      <td>...</td>\n",
       "      <td>2.817667</td>\n",
       "      <td>-0.301333</td>\n",
       "      <td>2.508367</td>\n",
       "      <td>-0.518033</td>\n",
       "      <td>-1.540033</td>\n",
       "      <td>1.663867</td>\n",
       "      <td>-0.275933</td>\n",
       "      <td>-0.073933</td>\n",
       "      <td>0.848867</td>\n",
       "      <td>1.195667</td>\n",
       "    </tr>\n",
       "    <tr>\n",
       "      <th>20529</th>\n",
       "      <td>SELS</td>\n",
       "      <td>-0.222712</td>\n",
       "      <td>-0.388912</td>\n",
       "      <td>0.233588</td>\n",
       "      <td>0.370988</td>\n",
       "      <td>0.193788</td>\n",
       "      <td>-0.116512</td>\n",
       "      <td>0.798088</td>\n",
       "      <td>0.590388</td>\n",
       "      <td>-0.598212</td>\n",
       "      <td>...</td>\n",
       "      <td>-0.259512</td>\n",
       "      <td>0.673688</td>\n",
       "      <td>0.362988</td>\n",
       "      <td>0.310288</td>\n",
       "      <td>1.140588</td>\n",
       "      <td>0.188988</td>\n",
       "      <td>0.732388</td>\n",
       "      <td>-0.243412</td>\n",
       "      <td>0.195588</td>\n",
       "      <td>0.272688</td>\n",
       "    </tr>\n",
       "  </tbody>\n",
       "</table>\n",
       "<p>20530 rows × 577 columns</p>\n",
       "</div>"
      ],
      "text/plain": [
       "          sample  TCGA-69-7978-01  TCGA-62-8399-01  TCGA-78-7539-01  \\\n",
       "0      ARHGEF10L         0.125808         0.561708        -0.237592   \n",
       "1          HIF3A        -1.294926         6.069174         3.581474   \n",
       "2          RNF17        -0.112935        -0.531035         0.592065   \n",
       "3          RNF10        -1.411872        -0.228672        -0.108372   \n",
       "4          RNF11         0.203922         0.052122        -0.499978   \n",
       "...          ...              ...              ...              ...   \n",
       "20525       PTRF         0.863614         0.317114        -1.243086   \n",
       "20526      BCL6B         0.802173         1.079073        -1.283227   \n",
       "20527      GSTK1         0.108205        -0.782695         0.034105   \n",
       "20528       SELP         0.595367         3.114267         0.571467   \n",
       "20529       SELS        -0.222712        -0.388912         0.233588   \n",
       "\n",
       "       TCGA-50-5931-11  TCGA-73-4658-01  TCGA-44-6775-01  TCGA-44-2655-01  \\\n",
       "0            -1.180492        -0.656192         0.139908        -0.537692   \n",
       "1             3.927674        -0.525926        -1.497426        -0.021226   \n",
       "2             0.291065        -0.531035         0.475865         0.071065   \n",
       "3            -0.043472        -0.156672        -0.605472         0.139328   \n",
       "4             0.710822         0.373522         0.129022         0.436522   \n",
       "...                ...              ...              ...              ...   \n",
       "20525         2.802714         1.110714         0.879814        -0.028286   \n",
       "20526         2.250473         1.513973         0.126473         0.576073   \n",
       "20527        -0.540795        -0.454095        -0.797795         0.531305   \n",
       "20528         3.985967         2.893167         1.805567         2.445467   \n",
       "20529         0.370988         0.193788        -0.116512         0.798088   \n",
       "\n",
       "       TCGA-44-3398-01  TCGA-62-8397-01  ...  TCGA-75-7025-01  \\\n",
       "0            -0.839092         0.677108  ...         0.226508   \n",
       "1             0.179974         1.092974  ...         2.539674   \n",
       "2            -0.531035        -0.531035  ...        -0.068235   \n",
       "3            -0.450172         0.583528  ...        -0.451572   \n",
       "4             0.529622         0.314922  ...        -0.155778   \n",
       "...                ...              ...  ...              ...   \n",
       "20525         0.008714        -0.005186  ...         0.544614   \n",
       "20526         0.643573        -0.735227  ...         0.842873   \n",
       "20527         0.310605         0.204105  ...        -0.454195   \n",
       "20528         2.575967         1.336567  ...         2.817667   \n",
       "20529         0.590388        -0.598212  ...        -0.259512   \n",
       "\n",
       "       TCGA-55-7726-01  TCGA-L9-A743-01  TCGA-86-8358-01  TCGA-55-6972-01  \\\n",
       "0            -2.342092        -0.207692        -0.659792        -1.651292   \n",
       "1            -1.259526        -0.387226         3.689474         3.509374   \n",
       "2            -0.531035         0.428265         0.202865         0.567665   \n",
       "3             0.261228        -0.331772        -0.213372        -0.189472   \n",
       "4             0.362522        -0.520578         0.031222        -0.966478   \n",
       "...                ...              ...              ...              ...   \n",
       "20525         1.638214         0.381814        -1.080186        -2.139886   \n",
       "20526         0.680873         0.642773         0.154673        -0.849427   \n",
       "20527        -0.466595        -0.011995        -0.503195         0.512405   \n",
       "20528        -0.301333         2.508367        -0.518033        -1.540033   \n",
       "20529         0.673688         0.362988         0.310288         1.140588   \n",
       "\n",
       "       TCGA-55-7727-01  TCGA-91-6831-01  TCGA-MN-A4N4-01  TCGA-55-8302-01  \\\n",
       "0            -2.621192        -1.025192         0.070108         0.305608   \n",
       "1             1.986874        -1.993426         2.790974        -0.018326   \n",
       "2             0.408165        -0.531035         0.440465        -0.531035   \n",
       "3             0.091028         0.492828         0.037428         0.003728   \n",
       "4             0.318322         0.150822        -0.357778        -0.451578   \n",
       "...                ...              ...              ...              ...   \n",
       "20525        -1.495486         0.472314         0.993014         0.634014   \n",
       "20526        -0.359227         0.332973         0.570873        -0.909527   \n",
       "20527        -0.584495        -1.756895         0.506805        -0.114895   \n",
       "20528         1.663867        -0.275933        -0.073933         0.848867   \n",
       "20529         0.188988         0.732388        -0.243412         0.195588   \n",
       "\n",
       "       TCGA-MP-A4TK-01  \n",
       "0             0.263208  \n",
       "1             4.657474  \n",
       "2             0.049365  \n",
       "3            -0.334572  \n",
       "4             0.156422  \n",
       "...                ...  \n",
       "20525         1.222714  \n",
       "20526         0.671573  \n",
       "20527        -0.189095  \n",
       "20528         1.195667  \n",
       "20529         0.272688  \n",
       "\n",
       "[20530 rows x 577 columns]"
      ]
     },
     "execution_count": 10,
     "metadata": {},
     "output_type": "execute_result"
    }
   ],
   "source": [
    "df_luad"
   ]
  },
  {
   "cell_type": "code",
   "execution_count": 11,
   "metadata": {},
   "outputs": [
    {
     "data": {
      "text/html": [
       "<div>\n",
       "<style scoped>\n",
       "    .dataframe tbody tr th:only-of-type {\n",
       "        vertical-align: middle;\n",
       "    }\n",
       "\n",
       "    .dataframe tbody tr th {\n",
       "        vertical-align: top;\n",
       "    }\n",
       "\n",
       "    .dataframe thead th {\n",
       "        text-align: right;\n",
       "    }\n",
       "</style>\n",
       "<table border=\"1\" class=\"dataframe\">\n",
       "  <thead>\n",
       "    <tr style=\"text-align: right;\">\n",
       "      <th></th>\n",
       "      <th>sample</th>\n",
       "      <th>TCGA-18-3417-01</th>\n",
       "      <th>TCGA-22-4613-01</th>\n",
       "      <th>TCGA-90-7769-01</th>\n",
       "      <th>TCGA-77-A5G1-01</th>\n",
       "      <th>TCGA-77-A5G3-01</th>\n",
       "      <th>TCGA-66-2766-01</th>\n",
       "      <th>TCGA-37-4135-01</th>\n",
       "      <th>TCGA-56-8201-01</th>\n",
       "      <th>TCGA-56-7582-11</th>\n",
       "      <th>...</th>\n",
       "      <th>TCGA-77-8144-01</th>\n",
       "      <th>TCGA-J1-A4AH-01</th>\n",
       "      <th>TCGA-56-7580-01</th>\n",
       "      <th>TCGA-63-A5MY-01</th>\n",
       "      <th>TCGA-33-AASL-01</th>\n",
       "      <th>TCGA-85-A512-01</th>\n",
       "      <th>TCGA-85-8354-01</th>\n",
       "      <th>TCGA-O2-A5IB-01</th>\n",
       "      <th>TCGA-77-7335-01</th>\n",
       "      <th>TCGA-56-7731-11</th>\n",
       "    </tr>\n",
       "  </thead>\n",
       "  <tbody>\n",
       "    <tr>\n",
       "      <th>0</th>\n",
       "      <td>ARHGEF10L</td>\n",
       "      <td>-2.032992</td>\n",
       "      <td>-1.109192</td>\n",
       "      <td>-1.270392</td>\n",
       "      <td>0.054708</td>\n",
       "      <td>-1.344192</td>\n",
       "      <td>-1.145092</td>\n",
       "      <td>-0.737892</td>\n",
       "      <td>-0.619892</td>\n",
       "      <td>-0.050992</td>\n",
       "      <td>...</td>\n",
       "      <td>-2.237692</td>\n",
       "      <td>-1.395092</td>\n",
       "      <td>-1.926792</td>\n",
       "      <td>-1.335292</td>\n",
       "      <td>-0.762292</td>\n",
       "      <td>-1.286992</td>\n",
       "      <td>-1.847792</td>\n",
       "      <td>0.568508</td>\n",
       "      <td>-0.849892</td>\n",
       "      <td>-0.888992</td>\n",
       "    </tr>\n",
       "    <tr>\n",
       "      <th>1</th>\n",
       "      <td>HIF3A</td>\n",
       "      <td>-0.775126</td>\n",
       "      <td>-1.023426</td>\n",
       "      <td>-3.254826</td>\n",
       "      <td>0.075174</td>\n",
       "      <td>0.826174</td>\n",
       "      <td>1.306874</td>\n",
       "      <td>-2.036826</td>\n",
       "      <td>-0.015326</td>\n",
       "      <td>2.772874</td>\n",
       "      <td>...</td>\n",
       "      <td>-5.006326</td>\n",
       "      <td>3.974574</td>\n",
       "      <td>3.154774</td>\n",
       "      <td>4.021874</td>\n",
       "      <td>-0.831926</td>\n",
       "      <td>-1.863426</td>\n",
       "      <td>-1.297326</td>\n",
       "      <td>0.025974</td>\n",
       "      <td>-2.414126</td>\n",
       "      <td>4.229474</td>\n",
       "    </tr>\n",
       "    <tr>\n",
       "      <th>2</th>\n",
       "      <td>RNF17</td>\n",
       "      <td>0.573765</td>\n",
       "      <td>-0.531035</td>\n",
       "      <td>-0.090835</td>\n",
       "      <td>-0.531035</td>\n",
       "      <td>-0.531035</td>\n",
       "      <td>-0.049535</td>\n",
       "      <td>0.829765</td>\n",
       "      <td>-0.531035</td>\n",
       "      <td>3.204265</td>\n",
       "      <td>...</td>\n",
       "      <td>-0.531035</td>\n",
       "      <td>1.349965</td>\n",
       "      <td>4.157765</td>\n",
       "      <td>1.554065</td>\n",
       "      <td>0.984465</td>\n",
       "      <td>-0.531035</td>\n",
       "      <td>-0.531035</td>\n",
       "      <td>0.084865</td>\n",
       "      <td>0.192865</td>\n",
       "      <td>-0.531035</td>\n",
       "    </tr>\n",
       "    <tr>\n",
       "      <th>3</th>\n",
       "      <td>RNF10</td>\n",
       "      <td>0.365228</td>\n",
       "      <td>-0.326772</td>\n",
       "      <td>0.160728</td>\n",
       "      <td>-0.147472</td>\n",
       "      <td>-0.364672</td>\n",
       "      <td>-0.697672</td>\n",
       "      <td>-0.765472</td>\n",
       "      <td>0.068428</td>\n",
       "      <td>-0.010572</td>\n",
       "      <td>...</td>\n",
       "      <td>-0.381072</td>\n",
       "      <td>-0.527472</td>\n",
       "      <td>0.171028</td>\n",
       "      <td>-0.292972</td>\n",
       "      <td>-0.651572</td>\n",
       "      <td>0.020328</td>\n",
       "      <td>-0.280072</td>\n",
       "      <td>-0.009372</td>\n",
       "      <td>0.197228</td>\n",
       "      <td>0.162228</td>\n",
       "    </tr>\n",
       "    <tr>\n",
       "      <th>4</th>\n",
       "      <td>RNF11</td>\n",
       "      <td>0.364522</td>\n",
       "      <td>0.308122</td>\n",
       "      <td>0.368322</td>\n",
       "      <td>0.826222</td>\n",
       "      <td>-0.312978</td>\n",
       "      <td>-0.792078</td>\n",
       "      <td>0.583822</td>\n",
       "      <td>-0.573278</td>\n",
       "      <td>0.323522</td>\n",
       "      <td>...</td>\n",
       "      <td>0.075622</td>\n",
       "      <td>-0.513978</td>\n",
       "      <td>-0.604678</td>\n",
       "      <td>0.479122</td>\n",
       "      <td>-0.446678</td>\n",
       "      <td>-0.560978</td>\n",
       "      <td>-0.560278</td>\n",
       "      <td>-0.136278</td>\n",
       "      <td>0.443922</td>\n",
       "      <td>0.344522</td>\n",
       "    </tr>\n",
       "    <tr>\n",
       "      <th>...</th>\n",
       "      <td>...</td>\n",
       "      <td>...</td>\n",
       "      <td>...</td>\n",
       "      <td>...</td>\n",
       "      <td>...</td>\n",
       "      <td>...</td>\n",
       "      <td>...</td>\n",
       "      <td>...</td>\n",
       "      <td>...</td>\n",
       "      <td>...</td>\n",
       "      <td>...</td>\n",
       "      <td>...</td>\n",
       "      <td>...</td>\n",
       "      <td>...</td>\n",
       "      <td>...</td>\n",
       "      <td>...</td>\n",
       "      <td>...</td>\n",
       "      <td>...</td>\n",
       "      <td>...</td>\n",
       "      <td>...</td>\n",
       "      <td>...</td>\n",
       "    </tr>\n",
       "    <tr>\n",
       "      <th>20525</th>\n",
       "      <td>PTRF</td>\n",
       "      <td>1.025014</td>\n",
       "      <td>-0.396686</td>\n",
       "      <td>0.094714</td>\n",
       "      <td>1.569614</td>\n",
       "      <td>1.269914</td>\n",
       "      <td>-0.263486</td>\n",
       "      <td>-2.675286</td>\n",
       "      <td>1.638114</td>\n",
       "      <td>2.118814</td>\n",
       "      <td>...</td>\n",
       "      <td>1.972214</td>\n",
       "      <td>0.993014</td>\n",
       "      <td>-0.233586</td>\n",
       "      <td>-0.222586</td>\n",
       "      <td>0.774714</td>\n",
       "      <td>0.434414</td>\n",
       "      <td>1.246914</td>\n",
       "      <td>-2.425586</td>\n",
       "      <td>1.550114</td>\n",
       "      <td>2.468514</td>\n",
       "    </tr>\n",
       "    <tr>\n",
       "      <th>20526</th>\n",
       "      <td>BCL6B</td>\n",
       "      <td>-0.381027</td>\n",
       "      <td>-0.781327</td>\n",
       "      <td>-2.267827</td>\n",
       "      <td>-0.409227</td>\n",
       "      <td>-0.542127</td>\n",
       "      <td>-0.932927</td>\n",
       "      <td>-1.847227</td>\n",
       "      <td>0.972273</td>\n",
       "      <td>4.176973</td>\n",
       "      <td>...</td>\n",
       "      <td>-0.010327</td>\n",
       "      <td>-1.413827</td>\n",
       "      <td>-0.132027</td>\n",
       "      <td>-1.714727</td>\n",
       "      <td>-2.306727</td>\n",
       "      <td>-0.491427</td>\n",
       "      <td>-0.070027</td>\n",
       "      <td>-0.734427</td>\n",
       "      <td>0.294773</td>\n",
       "      <td>2.667973</td>\n",
       "    </tr>\n",
       "    <tr>\n",
       "      <th>20527</th>\n",
       "      <td>GSTK1</td>\n",
       "      <td>0.839305</td>\n",
       "      <td>-0.732495</td>\n",
       "      <td>-1.137095</td>\n",
       "      <td>-0.003395</td>\n",
       "      <td>-1.324995</td>\n",
       "      <td>-0.113095</td>\n",
       "      <td>0.841305</td>\n",
       "      <td>-0.320395</td>\n",
       "      <td>-0.376795</td>\n",
       "      <td>...</td>\n",
       "      <td>-1.539295</td>\n",
       "      <td>-1.318095</td>\n",
       "      <td>-0.900095</td>\n",
       "      <td>0.251605</td>\n",
       "      <td>0.406205</td>\n",
       "      <td>0.318305</td>\n",
       "      <td>-0.620695</td>\n",
       "      <td>-1.926795</td>\n",
       "      <td>0.369005</td>\n",
       "      <td>-0.264695</td>\n",
       "    </tr>\n",
       "    <tr>\n",
       "      <th>20528</th>\n",
       "      <td>SELP</td>\n",
       "      <td>-1.085033</td>\n",
       "      <td>1.733867</td>\n",
       "      <td>-1.210233</td>\n",
       "      <td>1.761467</td>\n",
       "      <td>-1.784433</td>\n",
       "      <td>-0.762733</td>\n",
       "      <td>-2.145733</td>\n",
       "      <td>0.812667</td>\n",
       "      <td>1.800567</td>\n",
       "      <td>...</td>\n",
       "      <td>-3.797533</td>\n",
       "      <td>0.044667</td>\n",
       "      <td>-1.761533</td>\n",
       "      <td>-0.018533</td>\n",
       "      <td>-2.346733</td>\n",
       "      <td>-1.011433</td>\n",
       "      <td>-1.390333</td>\n",
       "      <td>-2.121633</td>\n",
       "      <td>1.909267</td>\n",
       "      <td>3.930867</td>\n",
       "    </tr>\n",
       "    <tr>\n",
       "      <th>20529</th>\n",
       "      <td>SELS</td>\n",
       "      <td>0.533188</td>\n",
       "      <td>0.624488</td>\n",
       "      <td>0.153688</td>\n",
       "      <td>0.738688</td>\n",
       "      <td>0.881688</td>\n",
       "      <td>0.920388</td>\n",
       "      <td>1.270188</td>\n",
       "      <td>-0.077912</td>\n",
       "      <td>-0.033012</td>\n",
       "      <td>...</td>\n",
       "      <td>-0.203412</td>\n",
       "      <td>0.149288</td>\n",
       "      <td>-0.631012</td>\n",
       "      <td>0.511088</td>\n",
       "      <td>0.879388</td>\n",
       "      <td>0.392288</td>\n",
       "      <td>0.918888</td>\n",
       "      <td>-0.637412</td>\n",
       "      <td>0.117688</td>\n",
       "      <td>0.842588</td>\n",
       "    </tr>\n",
       "  </tbody>\n",
       "</table>\n",
       "<p>20530 rows × 554 columns</p>\n",
       "</div>"
      ],
      "text/plain": [
       "          sample  TCGA-18-3417-01  TCGA-22-4613-01  TCGA-90-7769-01  \\\n",
       "0      ARHGEF10L        -2.032992        -1.109192        -1.270392   \n",
       "1          HIF3A        -0.775126        -1.023426        -3.254826   \n",
       "2          RNF17         0.573765        -0.531035        -0.090835   \n",
       "3          RNF10         0.365228        -0.326772         0.160728   \n",
       "4          RNF11         0.364522         0.308122         0.368322   \n",
       "...          ...              ...              ...              ...   \n",
       "20525       PTRF         1.025014        -0.396686         0.094714   \n",
       "20526      BCL6B        -0.381027        -0.781327        -2.267827   \n",
       "20527      GSTK1         0.839305        -0.732495        -1.137095   \n",
       "20528       SELP        -1.085033         1.733867        -1.210233   \n",
       "20529       SELS         0.533188         0.624488         0.153688   \n",
       "\n",
       "       TCGA-77-A5G1-01  TCGA-77-A5G3-01  TCGA-66-2766-01  TCGA-37-4135-01  \\\n",
       "0             0.054708        -1.344192        -1.145092        -0.737892   \n",
       "1             0.075174         0.826174         1.306874        -2.036826   \n",
       "2            -0.531035        -0.531035        -0.049535         0.829765   \n",
       "3            -0.147472        -0.364672        -0.697672        -0.765472   \n",
       "4             0.826222        -0.312978        -0.792078         0.583822   \n",
       "...                ...              ...              ...              ...   \n",
       "20525         1.569614         1.269914        -0.263486        -2.675286   \n",
       "20526        -0.409227        -0.542127        -0.932927        -1.847227   \n",
       "20527        -0.003395        -1.324995        -0.113095         0.841305   \n",
       "20528         1.761467        -1.784433        -0.762733        -2.145733   \n",
       "20529         0.738688         0.881688         0.920388         1.270188   \n",
       "\n",
       "       TCGA-56-8201-01  TCGA-56-7582-11  ...  TCGA-77-8144-01  \\\n",
       "0            -0.619892        -0.050992  ...        -2.237692   \n",
       "1            -0.015326         2.772874  ...        -5.006326   \n",
       "2            -0.531035         3.204265  ...        -0.531035   \n",
       "3             0.068428        -0.010572  ...        -0.381072   \n",
       "4            -0.573278         0.323522  ...         0.075622   \n",
       "...                ...              ...  ...              ...   \n",
       "20525         1.638114         2.118814  ...         1.972214   \n",
       "20526         0.972273         4.176973  ...        -0.010327   \n",
       "20527        -0.320395        -0.376795  ...        -1.539295   \n",
       "20528         0.812667         1.800567  ...        -3.797533   \n",
       "20529        -0.077912        -0.033012  ...        -0.203412   \n",
       "\n",
       "       TCGA-J1-A4AH-01  TCGA-56-7580-01  TCGA-63-A5MY-01  TCGA-33-AASL-01  \\\n",
       "0            -1.395092        -1.926792        -1.335292        -0.762292   \n",
       "1             3.974574         3.154774         4.021874        -0.831926   \n",
       "2             1.349965         4.157765         1.554065         0.984465   \n",
       "3            -0.527472         0.171028        -0.292972        -0.651572   \n",
       "4            -0.513978        -0.604678         0.479122        -0.446678   \n",
       "...                ...              ...              ...              ...   \n",
       "20525         0.993014        -0.233586        -0.222586         0.774714   \n",
       "20526        -1.413827        -0.132027        -1.714727        -2.306727   \n",
       "20527        -1.318095        -0.900095         0.251605         0.406205   \n",
       "20528         0.044667        -1.761533        -0.018533        -2.346733   \n",
       "20529         0.149288        -0.631012         0.511088         0.879388   \n",
       "\n",
       "       TCGA-85-A512-01  TCGA-85-8354-01  TCGA-O2-A5IB-01  TCGA-77-7335-01  \\\n",
       "0            -1.286992        -1.847792         0.568508        -0.849892   \n",
       "1            -1.863426        -1.297326         0.025974        -2.414126   \n",
       "2            -0.531035        -0.531035         0.084865         0.192865   \n",
       "3             0.020328        -0.280072        -0.009372         0.197228   \n",
       "4            -0.560978        -0.560278        -0.136278         0.443922   \n",
       "...                ...              ...              ...              ...   \n",
       "20525         0.434414         1.246914        -2.425586         1.550114   \n",
       "20526        -0.491427        -0.070027        -0.734427         0.294773   \n",
       "20527         0.318305        -0.620695        -1.926795         0.369005   \n",
       "20528        -1.011433        -1.390333        -2.121633         1.909267   \n",
       "20529         0.392288         0.918888        -0.637412         0.117688   \n",
       "\n",
       "       TCGA-56-7731-11  \n",
       "0            -0.888992  \n",
       "1             4.229474  \n",
       "2            -0.531035  \n",
       "3             0.162228  \n",
       "4             0.344522  \n",
       "...                ...  \n",
       "20525         2.468514  \n",
       "20526         2.667973  \n",
       "20527        -0.264695  \n",
       "20528         3.930867  \n",
       "20529         0.842588  \n",
       "\n",
       "[20530 rows x 554 columns]"
      ]
     },
     "execution_count": 11,
     "metadata": {},
     "output_type": "execute_result"
    }
   ],
   "source": [
    "df_lusu"
   ]
  },
  {
   "cell_type": "markdown",
   "metadata": {},
   "source": [
    "# Dataset preprocessing"
   ]
  },
  {
   "cell_type": "code",
   "execution_count": 12,
   "metadata": {},
   "outputs": [
    {
     "data": {
      "text/html": [
       "Rows containing all 0s removed."
      ],
      "text/plain": [
       "<IPython.core.display.HTML object>"
      ]
     },
     "metadata": {},
     "output_type": "display_data"
    },
    {
     "data": {
      "text/html": [
       "Gene names saved in list 'columns'."
      ],
      "text/plain": [
       "<IPython.core.display.HTML object>"
      ]
     },
     "metadata": {},
     "output_type": "display_data"
    },
    {
     "data": {
      "text/html": [
       "Dataset transposed (rows to column and columns to rows)."
      ],
      "text/plain": [
       "<IPython.core.display.HTML object>"
      ]
     },
     "metadata": {},
     "output_type": "display_data"
    },
    {
     "data": {
      "text/html": [
       "Gene name column removed."
      ],
      "text/plain": [
       "<IPython.core.display.HTML object>"
      ]
     },
     "metadata": {},
     "output_type": "display_data"
    },
    {
     "data": {
      "text/html": [
       "Samples' ground truth values (0, 1) inserted."
      ],
      "text/plain": [
       "<IPython.core.display.HTML object>"
      ]
     },
     "metadata": {},
     "output_type": "display_data"
    },
    {
     "data": {
      "text/html": [
       "DF_LUAD and DF_LUSU dataframes combined to one."
      ],
      "text/plain": [
       "<IPython.core.display.HTML object>"
      ]
     },
     "metadata": {},
     "output_type": "display_data"
    },
    {
     "data": {
      "text/html": [
       "Columns containing same value across all samples removed."
      ],
      "text/plain": [
       "<IPython.core.display.HTML object>"
      ]
     },
     "metadata": {},
     "output_type": "display_data"
    },
    {
     "data": {
      "text/html": [
       "Dataframe with labels ====>"
      ],
      "text/plain": [
       "<IPython.core.display.HTML object>"
      ]
     },
     "metadata": {},
     "output_type": "display_data"
    },
    {
     "data": {
      "text/html": [
       "<div>\n",
       "<style scoped>\n",
       "    .dataframe tbody tr th:only-of-type {\n",
       "        vertical-align: middle;\n",
       "    }\n",
       "\n",
       "    .dataframe tbody tr th {\n",
       "        vertical-align: top;\n",
       "    }\n",
       "\n",
       "    .dataframe thead th {\n",
       "        text-align: right;\n",
       "    }\n",
       "</style>\n",
       "<table border=\"1\" class=\"dataframe\">\n",
       "  <thead>\n",
       "    <tr style=\"text-align: right;\">\n",
       "      <th></th>\n",
       "      <th>label</th>\n",
       "      <th>ARHGEF10L</th>\n",
       "      <th>HIF3A</th>\n",
       "      <th>RNF17</th>\n",
       "      <th>RNF10</th>\n",
       "      <th>RNF11</th>\n",
       "      <th>RNF13</th>\n",
       "      <th>GTF2IP1</th>\n",
       "      <th>REM1</th>\n",
       "      <th>MTVR2</th>\n",
       "      <th>...</th>\n",
       "      <th>TULP2</th>\n",
       "      <th>NPY5R</th>\n",
       "      <th>GNGT2</th>\n",
       "      <th>GNGT1</th>\n",
       "      <th>TULP3</th>\n",
       "      <th>PTRF</th>\n",
       "      <th>BCL6B</th>\n",
       "      <th>GSTK1</th>\n",
       "      <th>SELP</th>\n",
       "      <th>SELS</th>\n",
       "    </tr>\n",
       "  </thead>\n",
       "  <tbody>\n",
       "    <tr>\n",
       "      <th>TCGA-69-7978-01</th>\n",
       "      <td>1</td>\n",
       "      <td>0.125808</td>\n",
       "      <td>-1.294926</td>\n",
       "      <td>-0.112935</td>\n",
       "      <td>-1.411872</td>\n",
       "      <td>0.203922</td>\n",
       "      <td>0.09939</td>\n",
       "      <td>-0.222094</td>\n",
       "      <td>0.504354</td>\n",
       "      <td>-0.423399</td>\n",
       "      <td>...</td>\n",
       "      <td>1.134722</td>\n",
       "      <td>-0.845117</td>\n",
       "      <td>1.760167</td>\n",
       "      <td>-1.28139</td>\n",
       "      <td>0.224623</td>\n",
       "      <td>0.863614</td>\n",
       "      <td>0.802173</td>\n",
       "      <td>0.108205</td>\n",
       "      <td>0.595367</td>\n",
       "      <td>-0.222712</td>\n",
       "    </tr>\n",
       "    <tr>\n",
       "      <th>TCGA-62-8399-01</th>\n",
       "      <td>1</td>\n",
       "      <td>0.561708</td>\n",
       "      <td>6.069174</td>\n",
       "      <td>-0.531035</td>\n",
       "      <td>-0.228672</td>\n",
       "      <td>0.052122</td>\n",
       "      <td>-1.20601</td>\n",
       "      <td>-0.338894</td>\n",
       "      <td>1.449854</td>\n",
       "      <td>0.039401</td>\n",
       "      <td>...</td>\n",
       "      <td>-0.286078</td>\n",
       "      <td>-0.055517</td>\n",
       "      <td>-0.028233</td>\n",
       "      <td>0.04801</td>\n",
       "      <td>0.295223</td>\n",
       "      <td>0.317114</td>\n",
       "      <td>1.079073</td>\n",
       "      <td>-0.782695</td>\n",
       "      <td>3.114267</td>\n",
       "      <td>-0.388912</td>\n",
       "    </tr>\n",
       "    <tr>\n",
       "      <th>TCGA-78-7539-01</th>\n",
       "      <td>1</td>\n",
       "      <td>-0.237592</td>\n",
       "      <td>3.581474</td>\n",
       "      <td>0.592065</td>\n",
       "      <td>-0.108372</td>\n",
       "      <td>-0.499978</td>\n",
       "      <td>-0.02541</td>\n",
       "      <td>0.163006</td>\n",
       "      <td>0.131654</td>\n",
       "      <td>-0.050899</td>\n",
       "      <td>...</td>\n",
       "      <td>2.209922</td>\n",
       "      <td>-1.587117</td>\n",
       "      <td>1.565367</td>\n",
       "      <td>2.63871</td>\n",
       "      <td>0.049123</td>\n",
       "      <td>-1.243086</td>\n",
       "      <td>-1.283227</td>\n",
       "      <td>0.034105</td>\n",
       "      <td>0.571467</td>\n",
       "      <td>0.233588</td>\n",
       "    </tr>\n",
       "    <tr>\n",
       "      <th>TCGA-50-5931-11</th>\n",
       "      <td>1</td>\n",
       "      <td>-1.180492</td>\n",
       "      <td>3.927674</td>\n",
       "      <td>0.291065</td>\n",
       "      <td>-0.043472</td>\n",
       "      <td>0.710822</td>\n",
       "      <td>1.05089</td>\n",
       "      <td>-0.564394</td>\n",
       "      <td>1.683954</td>\n",
       "      <td>0.398701</td>\n",
       "      <td>...</td>\n",
       "      <td>-0.748878</td>\n",
       "      <td>0.900483</td>\n",
       "      <td>1.903567</td>\n",
       "      <td>-1.28139</td>\n",
       "      <td>-0.549277</td>\n",
       "      <td>2.802714</td>\n",
       "      <td>2.250473</td>\n",
       "      <td>-0.540795</td>\n",
       "      <td>3.985967</td>\n",
       "      <td>0.370988</td>\n",
       "    </tr>\n",
       "    <tr>\n",
       "      <th>TCGA-73-4658-01</th>\n",
       "      <td>1</td>\n",
       "      <td>-0.656192</td>\n",
       "      <td>-0.525926</td>\n",
       "      <td>-0.531035</td>\n",
       "      <td>-0.156672</td>\n",
       "      <td>0.373522</td>\n",
       "      <td>0.44729</td>\n",
       "      <td>-0.438994</td>\n",
       "      <td>1.831554</td>\n",
       "      <td>-0.423399</td>\n",
       "      <td>...</td>\n",
       "      <td>-0.748878</td>\n",
       "      <td>-0.931417</td>\n",
       "      <td>1.915167</td>\n",
       "      <td>-0.17659</td>\n",
       "      <td>0.042323</td>\n",
       "      <td>1.110714</td>\n",
       "      <td>1.513973</td>\n",
       "      <td>-0.454095</td>\n",
       "      <td>2.893167</td>\n",
       "      <td>0.193788</td>\n",
       "    </tr>\n",
       "    <tr>\n",
       "      <th>...</th>\n",
       "      <td>...</td>\n",
       "      <td>...</td>\n",
       "      <td>...</td>\n",
       "      <td>...</td>\n",
       "      <td>...</td>\n",
       "      <td>...</td>\n",
       "      <td>...</td>\n",
       "      <td>...</td>\n",
       "      <td>...</td>\n",
       "      <td>...</td>\n",
       "      <td>...</td>\n",
       "      <td>...</td>\n",
       "      <td>...</td>\n",
       "      <td>...</td>\n",
       "      <td>...</td>\n",
       "      <td>...</td>\n",
       "      <td>...</td>\n",
       "      <td>...</td>\n",
       "      <td>...</td>\n",
       "      <td>...</td>\n",
       "      <td>...</td>\n",
       "    </tr>\n",
       "    <tr>\n",
       "      <th>TCGA-85-A512-01</th>\n",
       "      <td>0</td>\n",
       "      <td>-1.286992</td>\n",
       "      <td>-1.863426</td>\n",
       "      <td>-0.531035</td>\n",
       "      <td>0.020328</td>\n",
       "      <td>-0.560978</td>\n",
       "      <td>0.51729</td>\n",
       "      <td>0.519806</td>\n",
       "      <td>-0.748146</td>\n",
       "      <td>-0.423399</td>\n",
       "      <td>...</td>\n",
       "      <td>-0.748878</td>\n",
       "      <td>-1.587117</td>\n",
       "      <td>-0.236033</td>\n",
       "      <td>1.41071</td>\n",
       "      <td>1.653723</td>\n",
       "      <td>0.434414</td>\n",
       "      <td>-0.491427</td>\n",
       "      <td>0.318305</td>\n",
       "      <td>-1.011433</td>\n",
       "      <td>0.392288</td>\n",
       "    </tr>\n",
       "    <tr>\n",
       "      <th>TCGA-85-8354-01</th>\n",
       "      <td>0</td>\n",
       "      <td>-1.847792</td>\n",
       "      <td>-1.297326</td>\n",
       "      <td>-0.531035</td>\n",
       "      <td>-0.280072</td>\n",
       "      <td>-0.560278</td>\n",
       "      <td>0.85009</td>\n",
       "      <td>-0.166294</td>\n",
       "      <td>-1.519246</td>\n",
       "      <td>0.602101</td>\n",
       "      <td>...</td>\n",
       "      <td>0.276622</td>\n",
       "      <td>-1.587117</td>\n",
       "      <td>-0.784133</td>\n",
       "      <td>1.46201</td>\n",
       "      <td>0.765023</td>\n",
       "      <td>1.246914</td>\n",
       "      <td>-0.070027</td>\n",
       "      <td>-0.620695</td>\n",
       "      <td>-1.390333</td>\n",
       "      <td>0.918888</td>\n",
       "    </tr>\n",
       "    <tr>\n",
       "      <th>TCGA-O2-A5IB-01</th>\n",
       "      <td>0</td>\n",
       "      <td>0.568508</td>\n",
       "      <td>0.025974</td>\n",
       "      <td>0.084865</td>\n",
       "      <td>-0.009372</td>\n",
       "      <td>-0.136278</td>\n",
       "      <td>-1.41811</td>\n",
       "      <td>0.173506</td>\n",
       "      <td>-2.194046</td>\n",
       "      <td>0.622701</td>\n",
       "      <td>...</td>\n",
       "      <td>-0.408378</td>\n",
       "      <td>-1.246617</td>\n",
       "      <td>-1.940533</td>\n",
       "      <td>-1.28139</td>\n",
       "      <td>1.281723</td>\n",
       "      <td>-2.425586</td>\n",
       "      <td>-0.734427</td>\n",
       "      <td>-1.926795</td>\n",
       "      <td>-2.121633</td>\n",
       "      <td>-0.637412</td>\n",
       "    </tr>\n",
       "    <tr>\n",
       "      <th>TCGA-77-7335-01</th>\n",
       "      <td>0</td>\n",
       "      <td>-0.849892</td>\n",
       "      <td>-2.414126</td>\n",
       "      <td>0.192865</td>\n",
       "      <td>0.197228</td>\n",
       "      <td>0.443922</td>\n",
       "      <td>0.54789</td>\n",
       "      <td>0.084406</td>\n",
       "      <td>1.015054</td>\n",
       "      <td>-0.423399</td>\n",
       "      <td>...</td>\n",
       "      <td>-0.748878</td>\n",
       "      <td>-1.587117</td>\n",
       "      <td>2.160367</td>\n",
       "      <td>1.19391</td>\n",
       "      <td>0.197023</td>\n",
       "      <td>1.550114</td>\n",
       "      <td>0.294773</td>\n",
       "      <td>0.369005</td>\n",
       "      <td>1.909267</td>\n",
       "      <td>0.117688</td>\n",
       "    </tr>\n",
       "    <tr>\n",
       "      <th>TCGA-56-7731-11</th>\n",
       "      <td>0</td>\n",
       "      <td>-0.888992</td>\n",
       "      <td>4.229474</td>\n",
       "      <td>-0.531035</td>\n",
       "      <td>0.162228</td>\n",
       "      <td>0.344522</td>\n",
       "      <td>0.42709</td>\n",
       "      <td>-0.910394</td>\n",
       "      <td>0.194154</td>\n",
       "      <td>0.468401</td>\n",
       "      <td>...</td>\n",
       "      <td>-0.748878</td>\n",
       "      <td>-0.396017</td>\n",
       "      <td>2.030467</td>\n",
       "      <td>-1.28139</td>\n",
       "      <td>-0.790077</td>\n",
       "      <td>2.468514</td>\n",
       "      <td>2.667973</td>\n",
       "      <td>-0.264695</td>\n",
       "      <td>3.930867</td>\n",
       "      <td>0.842588</td>\n",
       "    </tr>\n",
       "  </tbody>\n",
       "</table>\n",
       "<p>1129 rows × 20259 columns</p>\n",
       "</div>"
      ],
      "text/plain": [
       "                 label ARHGEF10L     HIF3A     RNF17     RNF10     RNF11  \\\n",
       "TCGA-69-7978-01      1  0.125808 -1.294926 -0.112935 -1.411872  0.203922   \n",
       "TCGA-62-8399-01      1  0.561708  6.069174 -0.531035 -0.228672  0.052122   \n",
       "TCGA-78-7539-01      1 -0.237592  3.581474  0.592065 -0.108372 -0.499978   \n",
       "TCGA-50-5931-11      1 -1.180492  3.927674  0.291065 -0.043472  0.710822   \n",
       "TCGA-73-4658-01      1 -0.656192 -0.525926 -0.531035 -0.156672  0.373522   \n",
       "...                ...       ...       ...       ...       ...       ...   \n",
       "TCGA-85-A512-01      0 -1.286992 -1.863426 -0.531035  0.020328 -0.560978   \n",
       "TCGA-85-8354-01      0 -1.847792 -1.297326 -0.531035 -0.280072 -0.560278   \n",
       "TCGA-O2-A5IB-01      0  0.568508  0.025974  0.084865 -0.009372 -0.136278   \n",
       "TCGA-77-7335-01      0 -0.849892 -2.414126  0.192865  0.197228  0.443922   \n",
       "TCGA-56-7731-11      0 -0.888992  4.229474 -0.531035  0.162228  0.344522   \n",
       "\n",
       "                   RNF13   GTF2IP1      REM1     MTVR2  ...     TULP2  \\\n",
       "TCGA-69-7978-01  0.09939 -0.222094  0.504354 -0.423399  ...  1.134722   \n",
       "TCGA-62-8399-01 -1.20601 -0.338894  1.449854  0.039401  ... -0.286078   \n",
       "TCGA-78-7539-01 -0.02541  0.163006  0.131654 -0.050899  ...  2.209922   \n",
       "TCGA-50-5931-11  1.05089 -0.564394  1.683954  0.398701  ... -0.748878   \n",
       "TCGA-73-4658-01  0.44729 -0.438994  1.831554 -0.423399  ... -0.748878   \n",
       "...                  ...       ...       ...       ...  ...       ...   \n",
       "TCGA-85-A512-01  0.51729  0.519806 -0.748146 -0.423399  ... -0.748878   \n",
       "TCGA-85-8354-01  0.85009 -0.166294 -1.519246  0.602101  ...  0.276622   \n",
       "TCGA-O2-A5IB-01 -1.41811  0.173506 -2.194046  0.622701  ... -0.408378   \n",
       "TCGA-77-7335-01  0.54789  0.084406  1.015054 -0.423399  ... -0.748878   \n",
       "TCGA-56-7731-11  0.42709 -0.910394  0.194154  0.468401  ... -0.748878   \n",
       "\n",
       "                    NPY5R     GNGT2    GNGT1     TULP3      PTRF     BCL6B  \\\n",
       "TCGA-69-7978-01 -0.845117  1.760167 -1.28139  0.224623  0.863614  0.802173   \n",
       "TCGA-62-8399-01 -0.055517 -0.028233  0.04801  0.295223  0.317114  1.079073   \n",
       "TCGA-78-7539-01 -1.587117  1.565367  2.63871  0.049123 -1.243086 -1.283227   \n",
       "TCGA-50-5931-11  0.900483  1.903567 -1.28139 -0.549277  2.802714  2.250473   \n",
       "TCGA-73-4658-01 -0.931417  1.915167 -0.17659  0.042323  1.110714  1.513973   \n",
       "...                   ...       ...      ...       ...       ...       ...   \n",
       "TCGA-85-A512-01 -1.587117 -0.236033  1.41071  1.653723  0.434414 -0.491427   \n",
       "TCGA-85-8354-01 -1.587117 -0.784133  1.46201  0.765023  1.246914 -0.070027   \n",
       "TCGA-O2-A5IB-01 -1.246617 -1.940533 -1.28139  1.281723 -2.425586 -0.734427   \n",
       "TCGA-77-7335-01 -1.587117  2.160367  1.19391  0.197023  1.550114  0.294773   \n",
       "TCGA-56-7731-11 -0.396017  2.030467 -1.28139 -0.790077  2.468514  2.667973   \n",
       "\n",
       "                    GSTK1      SELP      SELS  \n",
       "TCGA-69-7978-01  0.108205  0.595367 -0.222712  \n",
       "TCGA-62-8399-01 -0.782695  3.114267 -0.388912  \n",
       "TCGA-78-7539-01  0.034105  0.571467  0.233588  \n",
       "TCGA-50-5931-11 -0.540795  3.985967  0.370988  \n",
       "TCGA-73-4658-01 -0.454095  2.893167  0.193788  \n",
       "...                   ...       ...       ...  \n",
       "TCGA-85-A512-01  0.318305 -1.011433  0.392288  \n",
       "TCGA-85-8354-01 -0.620695 -1.390333  0.918888  \n",
       "TCGA-O2-A5IB-01 -1.926795 -2.121633 -0.637412  \n",
       "TCGA-77-7335-01  0.369005  1.909267  0.117688  \n",
       "TCGA-56-7731-11 -0.264695  3.930867  0.842588  \n",
       "\n",
       "[1129 rows x 20259 columns]"
      ]
     },
     "metadata": {},
     "output_type": "display_data"
    },
    {
     "data": {
      "text/html": [
       "Data preprocessing done. Returning processed dataframe as 'df_final', sample labels as 'labels', gene names as 'columns'."
      ],
      "text/plain": [
       "<IPython.core.display.HTML object>"
      ]
     },
     "metadata": {},
     "output_type": "display_data"
    },
    {
     "data": {
      "text/html": [
       "Done."
      ],
      "text/plain": [
       "<IPython.core.display.HTML object>"
      ]
     },
     "metadata": {},
     "output_type": "display_data"
    }
   ],
   "source": [
    "df, labels, columns = u.dataset_preprocess(df_luad, df_lusu)"
   ]
  },
  {
   "cell_type": "markdown",
   "metadata": {},
   "source": [
    "# Train Test Split"
   ]
  },
  {
   "cell_type": "code",
   "execution_count": 13,
   "metadata": {},
   "outputs": [],
   "source": [
    "df_xtrain, df_xtest, df_ytrain, df_ytest = train_test_split(df, labels, train_size=0.9, random_state=seed, stratify=labels)"
   ]
  },
  {
   "cell_type": "code",
   "execution_count": 14,
   "metadata": {},
   "outputs": [],
   "source": [
    "df = df_xtrain.copy(deep=True)\n",
    "labels = df_ytrain\n",
    "df.reset_index(drop=True, inplace=True)\n",
    "df_xtest.reset_index(drop=True, inplace=True)"
   ]
  },
  {
   "cell_type": "markdown",
   "metadata": {},
   "source": [
    "# Standardize the train split"
   ]
  },
  {
   "cell_type": "code",
   "execution_count": 15,
   "metadata": {
    "id": "WsIrIVOH3EyD"
   },
   "outputs": [],
   "source": [
    "input_dim = df.shape[1] \n",
    "output_dim = 512"
   ]
  },
  {
   "cell_type": "code",
   "execution_count": 16,
   "metadata": {
    "id": "RdM6YPZx3F1u"
   },
   "outputs": [],
   "source": [
    "df_scaler = StandardScaler()\n",
    "df_scaled = df_scaler.fit_transform(df)\n",
    "df_scaled_xtest = df_scaler.transform(df_xtest)"
   ]
  },
  {
   "cell_type": "code",
   "execution_count": 17,
   "metadata": {
    "id": "FjiLnKIj4RXw",
    "scrolled": false
   },
   "outputs": [],
   "source": [
    "only_encoder = c.AutoEncoder(input_dim, output_dim).to(device)\n",
    "only_encoder.load_state_dict(torch.load(PATH+\"SECOND_ITERATION/models/XENA_LUNG_GeneExp_Autoencoder.kd\", map_location=torch.device('cpu')))\n",
    "only_encoder = nn.Sequential(*list(only_encoder.children())[:-1])"
   ]
  },
  {
   "cell_type": "code",
   "execution_count": 18,
   "metadata": {},
   "outputs": [],
   "source": [
    "classifier = c.Classifier(only_encoder, output_dim).to(device)\n",
    "classifier.load_state_dict(torch.load(PATH+\"SECOND_ITERATION/models/XENA_LUNG_GeneExp_Classifier.kd\", map_location=torch.device('cpu')))\n",
    "del only_encoder"
   ]
  },
  {
   "cell_type": "markdown",
   "metadata": {},
   "source": [
    "---\n",
    "---\n",
    "---\n"
   ]
  },
  {
   "cell_type": "code",
   "execution_count": 19,
   "metadata": {},
   "outputs": [
    {
     "name": "stdout",
     "output_type": "stream",
     "text": [
      "1.8.1\n"
     ]
    }
   ],
   "source": [
    "print(torch.__version__)"
   ]
  },
  {
   "cell_type": "code",
   "execution_count": 20,
   "metadata": {},
   "outputs": [
    {
     "name": "stdout",
     "output_type": "stream",
     "text": [
      "Python 3.7.13\n"
     ]
    }
   ],
   "source": [
    "!python --version"
   ]
  },
  {
   "cell_type": "markdown",
   "metadata": {
    "id": "Q83A22IK4pCU"
   },
   "source": [
    "\n",
    "\n",
    "---\n",
    "\n",
    "\n",
    "\n",
    "---\n",
    "\n",
    "\n",
    "\n",
    "---\n",
    "\n"
   ]
  },
  {
   "cell_type": "code",
   "execution_count": 21,
   "metadata": {},
   "outputs": [],
   "source": [
    "# !pip install venn"
   ]
  },
  {
   "cell_type": "code",
   "execution_count": 22,
   "metadata": {},
   "outputs": [],
   "source": [
    "from captum.attr import IntegratedGradients, GradientShap, DeepLift"
   ]
  },
  {
   "cell_type": "code",
   "execution_count": 23,
   "metadata": {},
   "outputs": [],
   "source": [
    "def visualize_importances(file_path, algo_name, feature_names, importances, title, plot=True, axis_title=\"Features (Genes)\"):\n",
    "    \n",
    "    file_path=file_path+algo_name\n",
    "    \n",
    "    x_pos = (np.arange(len(feature_names[:20])))\n",
    "    importances = importances.detach().cpu().numpy()\n",
    "    importances = importances[:20]\n",
    "    if plot:\n",
    "        plt.figure(figsize=(14,6))\n",
    "        g=sea.barplot(x_pos, importances)\n",
    "        g.set_xticks([])\n",
    "        plt.xlabel(axis_title)\n",
    "        plt.ylabel('Importance')\n",
    "        plt.title(title, fontsize='x-large')\n",
    "        plt.savefig(file_path, dpi=300, bbox_inches='tight')\n",
    "        plt.show()"
   ]
  },
  {
   "cell_type": "code",
   "execution_count": 24,
   "metadata": {},
   "outputs": [],
   "source": [
    "\"\"\"\n",
    "In this method, we will select  top 1000 genes that are highly correlated, positive as well as negative.\n",
    "Therefore, for each class (0, 1), we will return 1000 genes in total: 500 most positively correlated, 500 most negatively correlated.\n",
    "\"\"\"\n",
    "\n",
    "def get_top_genes_from_attributions(attr1, attr0, columns, k):\n",
    "    \n",
    "    attr1 = attr1.detach().cpu().numpy()\n",
    "    attr0 = attr0.detach().cpu().numpy()\n",
    "       \n",
    "    mean_attr1 = np.mean(attr1, axis=0).reshape((attr1.shape[1], 1))\n",
    "    mean_attr0 = np.mean(attr0, axis=0).reshape((attr0.shape[1], 1))\n",
    "    \n",
    "    temp_df_1 = pd.DataFrame(mean_attr1, columns=['mean_target_1'])\n",
    "    temp_df_0 = pd.DataFrame(mean_attr0, columns=['mean_target_0'])\n",
    "    \n",
    "    temp_df_1.insert(0, 'genes', columns)\n",
    "    temp_df_0.insert(0, 'genes', columns)\n",
    "    \n",
    "    temp_df_1.sort_values(by=['mean_target_1'], ascending=False, inplace=True)\n",
    "    temp_df_0.sort_values(by=['mean_target_0'], ascending=False, inplace=True)\n",
    "    l1 = temp_df_1.head(k)\n",
    "    l2 = temp_df_1.tail(k)\n",
    "    algo_top_genes_luad = pd.concat([l1, l2])\n",
    "    \n",
    "    l1 = temp_df_0.head(k)\n",
    "    l2 = temp_df_0.tail(k)\n",
    "    algo_top_genes_lusu = pd.concat([l1, l2])\n",
    "    \n",
    "    algo_top_genes_luad = algo_top_genes_luad.iloc[:,0].values\n",
    "    algo_top_genes_lusu = algo_top_genes_lusu.iloc[:,0].values\n",
    "    \n",
    "    return algo_top_genes_luad, algo_top_genes_lusu"
   ]
  },
  {
   "cell_type": "code",
   "execution_count": 25,
   "metadata": {},
   "outputs": [],
   "source": [
    "\n",
    "def get_first20_genes_from_attributions(attr1, attr0, columns, k):\n",
    "    \n",
    "    attr1 = attr1.detach().cpu().numpy()\n",
    "    attr0 = attr0.detach().cpu().numpy()\n",
    "       \n",
    "    mean_attr1 = np.mean(attr1, axis=0).reshape((attr1.shape[1], 1))\n",
    "    mean_attr0 = np.mean(attr0, axis=0).reshape((attr0.shape[1], 1))\n",
    "    \n",
    "    temp_df_1 = pd.DataFrame(mean_attr1, columns=['mean_target_1'])\n",
    "    temp_df_0 = pd.DataFrame(mean_attr0, columns=['mean_target_0'])\n",
    "    \n",
    "    temp_df_1.insert(0, 'genes', columns)\n",
    "    temp_df_0.insert(0, 'genes', columns)\n",
    "    \n",
    "    temp_df_1.sort_values(by=['mean_target_1'], ascending=False, inplace=True)\n",
    "    temp_df_0.sort_values(by=['mean_target_0'], ascending=False, inplace=True)\n",
    "    \n",
    "    l1 = temp_df_1.head(10)\n",
    "    _l1 = temp_df_1.tail(10)\n",
    "    l0 = temp_df_0.head(10)\n",
    "    _l0 = temp_df_0.tail(10)\n",
    "    \n",
    "    top_genes_luad = pd.concat([l1, _l1])\n",
    "    top_genes_lusu = pd.concat([l0, _l0])\n",
    "    \n",
    "#     l0 = temp_df_0.head(20)\n",
    "    return top_genes_luad, top_genes_lusu"
   ]
  },
  {
   "cell_type": "code",
   "execution_count": 26,
   "metadata": {
    "id": "s55GgnYD4ucs"
   },
   "outputs": [],
   "source": [
    "inputs = torch.from_numpy(df_scaled).type(torch.FloatTensor).to(device)"
   ]
  },
  {
   "cell_type": "code",
   "execution_count": 27,
   "metadata": {
    "scrolled": false
   },
   "outputs": [
    {
     "data": {
      "text/plain": [
       "tensor([[ 0.6019, -0.5126,  0.1678,  ...,  1.0776,  0.3724,  0.2021],\n",
       "        [-1.6375, -1.6656, -0.7694,  ..., -1.2041, -0.1155,  0.3184],\n",
       "        [-1.1352,  1.0159,  0.1922,  ..., -0.6302, -1.9744, -0.9463],\n",
       "        ...,\n",
       "        [ 1.1590,  1.0307, -0.0886,  ...,  1.3593,  0.8653,  0.2026],\n",
       "        [-0.1419, -1.4646,  1.1835,  ..., -0.3998,  0.3288,  1.4702],\n",
       "        [-1.4185, -1.5943, -0.7694,  ..., -0.4083, -2.0001,  0.7766]],\n",
       "       requires_grad=True)"
      ]
     },
     "execution_count": 27,
     "metadata": {},
     "output_type": "execute_result"
    }
   ],
   "source": [
    "inputs.requires_grad_()"
   ]
  },
  {
   "cell_type": "code",
   "execution_count": 28,
   "metadata": {},
   "outputs": [],
   "source": [
    "targets = torch.from_numpy(np.array(labels)).type(torch.IntTensor).to(device)"
   ]
  },
  {
   "cell_type": "code",
   "execution_count": 29,
   "metadata": {},
   "outputs": [],
   "source": [
    "baselines = torch.Tensor(np.zeros(inputs.shape)).to(device)"
   ]
  },
  {
   "cell_type": "code",
   "execution_count": 30,
   "metadata": {
    "scrolled": true
   },
   "outputs": [
    {
     "data": {
      "text/plain": [
       "tensor([[0., 0., 0.,  ..., 0., 0., 0.],\n",
       "        [0., 0., 0.,  ..., 0., 0., 0.],\n",
       "        [0., 0., 0.,  ..., 0., 0., 0.],\n",
       "        ...,\n",
       "        [0., 0., 0.,  ..., 0., 0., 0.],\n",
       "        [0., 0., 0.,  ..., 0., 0., 0.],\n",
       "        [0., 0., 0.,  ..., 0., 0., 0.]])"
      ]
     },
     "execution_count": 30,
     "metadata": {},
     "output_type": "execute_result"
    }
   ],
   "source": [
    "baselines"
   ]
  },
  {
   "cell_type": "markdown",
   "metadata": {
    "id": "1pW1oFVq4rtw"
   },
   "source": [
    "---\n",
    "---\n",
    "---"
   ]
  },
  {
   "cell_type": "markdown",
   "metadata": {},
   "source": [
    "#  Start the investigation"
   ]
  },
  {
   "cell_type": "code",
   "execution_count": 31,
   "metadata": {},
   "outputs": [],
   "source": [
    "PATH = \"D:/CANCER BIOLOGY/DATASET/TCGA/FROM Xena/\""
   ]
  },
  {
   "cell_type": "code",
   "execution_count": 32,
   "metadata": {},
   "outputs": [],
   "source": [
    "full_path = PATH+\"SECOND_ITERATION/seed=\"+str(seed)+\"/\""
   ]
  },
  {
   "cell_type": "code",
   "execution_count": 33,
   "metadata": {
    "id": "Hr_xuwBB4tax"
   },
   "outputs": [],
   "source": [
    "## IntegratedGradients (baselines)\n",
    "\n",
    "def process_ig(threshold):\n",
    "    \n",
    "    u.set_all_seeds(seed)\n",
    "    classifier.eval()\n",
    "    ig_algo = IntegratedGradients(classifier)\n",
    "    ig_algo_attr1, d1 = ig_algo.attribute(inputs, target=1, baselines=baselines, n_steps=15, return_convergence_delta=True)\n",
    "    ig_algo_attr0, d0 = ig_algo.attribute(inputs, target=0, baselines=baselines, n_steps=15, return_convergence_delta=True)\n",
    "    print(\"Delta_1, Delta_0 = {}, {}\".format(torch.mean(d1), torch.mean(d0)))\n",
    "    return ig_algo_attr1, ig_algo_attr0\n",
    "    \n",
    "#     ig_top_genes_luad, ig_top_genes_lusu = get_top_genes_from_attributions(ig_algo_attr1, ig_algo_attr0, columns, threshold)\n",
    "#     with open(r'D:/CANCER BIOLOGY/DATASET/TCGA/FROM Xena/SECOND_ITERATION/seed=%s/ig_top_%s_genes_luad'%(str(seed), str(threshold)), 'w') as fp:\n",
    "#         for item in ig_top_genes_luad:\n",
    "#             fp.write(\"%s\\n\" % item)\n",
    "#         print('LUAD Genes written.')\n",
    "#     with open(r'D:/CANCER BIOLOGY/DATASET/TCGA/FROM Xena/SECOND_ITERATION/seed=%s/ig_top_%s_genes_lusu'%(str(seed), str(threshold)), 'w') as fp:\n",
    "#         for item in ig_top_genes_lusu:\n",
    "#             fp.write(\"%s\\n\" % item)\n",
    "#         print('LUSU Genes written.')"
   ]
  },
  {
   "cell_type": "code",
   "execution_count": 34,
   "metadata": {
    "scrolled": false
   },
   "outputs": [],
   "source": [
    "# visualize_importances(full_path, 'LUAD_IG', columns, torch.mean(ig_algo_attr1, axis=0), title=\"Sample representation of Feature Importances computed by Integrated Gradients on LUAD set\") ## LUAD genes visualisation\n",
    "# visualize_importances(full_path, 'LUSU_IG', columns, torch.mean(ig_algo_attr0, axis=0), title=\"Sample representation of Feature Importances computed by Integrated Gradients on LUSC set\") ## LUSU genes visualisation"
   ]
  },
  {
   "cell_type": "markdown",
   "metadata": {},
   "source": [
    "---"
   ]
  },
  {
   "cell_type": "code",
   "execution_count": 35,
   "metadata": {
    "scrolled": false
   },
   "outputs": [],
   "source": [
    "## GradientShap (baselines)\n",
    "\n",
    "def process_gs(threshold):\n",
    "\n",
    "    u.set_all_seeds(seed)\n",
    "    classifier.eval()\n",
    "    gradshap_algo = GradientShap(classifier)\n",
    "    gradshap_attr1, d1 = gradshap_algo.attribute(inputs, target=1, baselines=baselines, return_convergence_delta=True)\n",
    "    gradshap_attr0, d0 = gradshap_algo.attribute(inputs, target=0, baselines=baselines, return_convergence_delta=True)\n",
    "    print(\"Delta_1, Delta_0 = {}, {}\".format(torch.mean(d1), torch.mean(d0)))\n",
    "    return gradshap_attr1, gradshap_attr0\n",
    "\n",
    "#     gradshap_top_genes_luad, gradshap_top_genes_lusu = get_top_genes_from_attributions(gradshap_attr1, gradshap_attr0, columns, threshold)\n",
    "#     with open(r'D:/CANCER BIOLOGY/DATASET/TCGA/FROM Xena/SECOND_ITERATION/seed=%s/gs_top_%s_genes_luad'%(str(seed), str(threshold)), 'w') as fp:\n",
    "#         for item in gradshap_top_genes_luad:\n",
    "#             fp.write(\"%s\\n\" % item)\n",
    "#         print('LUAD Genes written.')\n",
    "#     with open(r'D:/CANCER BIOLOGY/DATASET/TCGA/FROM Xena/SECOND_ITERATION/seed=%s/gs_top_%s_genes_lusu'%(str(seed), str(threshold)), 'w') as fp:\n",
    "#         for item in gradshap_top_genes_lusu:\n",
    "#             fp.write(\"%s\\n\" % item)\n",
    "#         print('LUSU Genes written.')"
   ]
  },
  {
   "cell_type": "code",
   "execution_count": 36,
   "metadata": {},
   "outputs": [],
   "source": [
    "# visualize_importances(full_path, 'LUAD_GS', columns, torch.mean(gradshap_attr1, axis=0), title=\"Sample representation of Feature Importances computed by GradientSHAP on LUAD set\") ## LUAD genes visualisation\n",
    "# visualize_importances(full_path, 'LUSU_GS', columns, torch.mean(gradshap_attr0, axis=0), title=\"Sample representation of Feature Importances computed by GradientSHAP on LUSC set\") ## LUSU genes visualisation"
   ]
  },
  {
   "cell_type": "markdown",
   "metadata": {},
   "source": [
    "---"
   ]
  },
  {
   "cell_type": "code",
   "execution_count": 37,
   "metadata": {
    "scrolled": true
   },
   "outputs": [],
   "source": [
    "## DeepLift (baselines)\n",
    "\n",
    "def process_dl(threshold):\n",
    "    \n",
    "    u.set_all_seeds(seed)\n",
    "    classifier.eval()\n",
    "    deeplift_algo = DeepLift(classifier)\n",
    "    deeplift_attr1, d1 = deeplift_algo.attribute(inputs, target=1, baselines=baselines, return_convergence_delta=True)\n",
    "    deeplift_attr0, d0 = deeplift_algo.attribute(inputs, target=0, baselines=baselines, return_convergence_delta=True)\n",
    "    print(\"Delta_1, Delta_0 = {}, {}\".format(torch.mean(d1), torch.mean(d0)))\n",
    "    return deeplift_attr1, deeplift_attr0\n",
    "    \n",
    "#     deeplift_top_genes_luad, deeplift_top_genes_lusu = get_top_genes_from_attributions(deeplift_attr1, deeplift_attr0, columns, threshold)\n",
    "#     with open(r'D:/CANCER BIOLOGY/DATASET/TCGA/FROM Xena/SECOND_ITERATION/seed=%s/dl_top_%s_genes_luad'%(str(seed), str(threshold)), 'w') as fp:\n",
    "#         for item in deeplift_top_genes_luad:\n",
    "#             fp.write(\"%s\\n\" % item)\n",
    "#         print('LUAD Genes written.')\n",
    "#     with open(r'D:/CANCER BIOLOGY/DATASET/TCGA/FROM Xena/SECOND_ITERATION/seed=%s/dl_top_%s_genes_lusu'%(str(seed), str(threshold)), 'w') as fp:\n",
    "#         for item in deeplift_top_genes_lusu:\n",
    "#             fp.write(\"%s\\n\" % item)\n",
    "#         print('LUSU Genes written.')"
   ]
  },
  {
   "cell_type": "code",
   "execution_count": 38,
   "metadata": {
    "scrolled": false
   },
   "outputs": [],
   "source": [
    "# visualize_importances(full_path, 'LUAD_DL', columns, torch.mean(deeplift_attr1, axis=0), title=\"Sample representation of Feature Importances computed by DeepLIFT on LUAD set\") ## LUAD genes visualisation\n",
    "# visualize_importances(full_path, 'LUSU_DL', columns, torch.mean(deeplift_attr0, axis=0), title=\"Sample representation of Feature Importances computed by DeepLIFT on LUSC set\") ## LUSU genes visualisation"
   ]
  },
  {
   "cell_type": "code",
   "execution_count": 39,
   "metadata": {
    "scrolled": true
   },
   "outputs": [
    {
     "name": "stdout",
     "output_type": "stream",
     "text": [
      "Delta_1, Delta_0 = 0.00045384567332377697, -0.0005275968281522072\n",
      "Delta_1, Delta_0 = 0.00534229027107358, -0.009345714002847672\n",
      "Delta_1, Delta_0 = -1.6087313703394557e-09, -1.1816751310789186e-07\n"
     ]
    }
   ],
   "source": [
    "ig1, ig0 = process_ig(0)\n",
    "gs1, gs0 = process_gs(0)\n",
    "dl1, dl0 = process_dl(0)"
   ]
  },
  {
   "cell_type": "code",
   "execution_count": 40,
   "metadata": {},
   "outputs": [],
   "source": [
    "ig_top_genes_luad, ig_top_genes_lusu = get_first20_genes_from_attributions(ig1, ig0, columns, 0)"
   ]
  },
  {
   "cell_type": "code",
   "execution_count": 41,
   "metadata": {},
   "outputs": [
    {
     "data": {
      "text/html": [
       "<div>\n",
       "<style scoped>\n",
       "    .dataframe tbody tr th:only-of-type {\n",
       "        vertical-align: middle;\n",
       "    }\n",
       "\n",
       "    .dataframe tbody tr th {\n",
       "        vertical-align: top;\n",
       "    }\n",
       "\n",
       "    .dataframe thead th {\n",
       "        text-align: right;\n",
       "    }\n",
       "</style>\n",
       "<table border=\"1\" class=\"dataframe\">\n",
       "  <thead>\n",
       "    <tr style=\"text-align: right;\">\n",
       "      <th></th>\n",
       "      <th>genes</th>\n",
       "      <th>mean_target_1</th>\n",
       "    </tr>\n",
       "  </thead>\n",
       "  <tbody>\n",
       "    <tr>\n",
       "      <th>5580</th>\n",
       "      <td>CALML3</td>\n",
       "      <td>0.000968</td>\n",
       "    </tr>\n",
       "    <tr>\n",
       "      <th>13498</th>\n",
       "      <td>DSC3</td>\n",
       "      <td>0.000935</td>\n",
       "    </tr>\n",
       "    <tr>\n",
       "      <th>3476</th>\n",
       "      <td>KRT14</td>\n",
       "      <td>0.000912</td>\n",
       "    </tr>\n",
       "    <tr>\n",
       "      <th>13707</th>\n",
       "      <td>CLCA2</td>\n",
       "      <td>0.000897</td>\n",
       "    </tr>\n",
       "    <tr>\n",
       "      <th>4728</th>\n",
       "      <td>S100A7</td>\n",
       "      <td>0.000892</td>\n",
       "    </tr>\n",
       "    <tr>\n",
       "      <th>15020</th>\n",
       "      <td>KRT6A</td>\n",
       "      <td>0.000873</td>\n",
       "    </tr>\n",
       "    <tr>\n",
       "      <th>12228</th>\n",
       "      <td>KRT5</td>\n",
       "      <td>0.000867</td>\n",
       "    </tr>\n",
       "    <tr>\n",
       "      <th>4012</th>\n",
       "      <td>KRT16</td>\n",
       "      <td>0.000835</td>\n",
       "    </tr>\n",
       "    <tr>\n",
       "      <th>19478</th>\n",
       "      <td>S100A7A</td>\n",
       "      <td>0.000819</td>\n",
       "    </tr>\n",
       "    <tr>\n",
       "      <th>4015</th>\n",
       "      <td>KRT13</td>\n",
       "      <td>0.000802</td>\n",
       "    </tr>\n",
       "    <tr>\n",
       "      <th>2851</th>\n",
       "      <td>E2F7</td>\n",
       "      <td>-0.000297</td>\n",
       "    </tr>\n",
       "    <tr>\n",
       "      <th>16099</th>\n",
       "      <td>HPR</td>\n",
       "      <td>-0.000306</td>\n",
       "    </tr>\n",
       "    <tr>\n",
       "      <th>14629</th>\n",
       "      <td>SLC25A20</td>\n",
       "      <td>-0.000309</td>\n",
       "    </tr>\n",
       "    <tr>\n",
       "      <th>3205</th>\n",
       "      <td>KRT37</td>\n",
       "      <td>-0.000309</td>\n",
       "    </tr>\n",
       "    <tr>\n",
       "      <th>1912</th>\n",
       "      <td>EBF2</td>\n",
       "      <td>-0.000310</td>\n",
       "    </tr>\n",
       "    <tr>\n",
       "      <th>6300</th>\n",
       "      <td>CKMT1A</td>\n",
       "      <td>-0.000311</td>\n",
       "    </tr>\n",
       "    <tr>\n",
       "      <th>15509</th>\n",
       "      <td>ODZ4</td>\n",
       "      <td>-0.000319</td>\n",
       "    </tr>\n",
       "    <tr>\n",
       "      <th>8036</th>\n",
       "      <td>PA2G4P4</td>\n",
       "      <td>-0.000328</td>\n",
       "    </tr>\n",
       "    <tr>\n",
       "      <th>14868</th>\n",
       "      <td>NUMB</td>\n",
       "      <td>-0.000370</td>\n",
       "    </tr>\n",
       "    <tr>\n",
       "      <th>10914</th>\n",
       "      <td>LMO1</td>\n",
       "      <td>-0.000432</td>\n",
       "    </tr>\n",
       "  </tbody>\n",
       "</table>\n",
       "</div>"
      ],
      "text/plain": [
       "          genes  mean_target_1\n",
       "5580     CALML3       0.000968\n",
       "13498      DSC3       0.000935\n",
       "3476      KRT14       0.000912\n",
       "13707     CLCA2       0.000897\n",
       "4728     S100A7       0.000892\n",
       "15020     KRT6A       0.000873\n",
       "12228      KRT5       0.000867\n",
       "4012      KRT16       0.000835\n",
       "19478   S100A7A       0.000819\n",
       "4015      KRT13       0.000802\n",
       "2851       E2F7      -0.000297\n",
       "16099       HPR      -0.000306\n",
       "14629  SLC25A20      -0.000309\n",
       "3205      KRT37      -0.000309\n",
       "1912       EBF2      -0.000310\n",
       "6300     CKMT1A      -0.000311\n",
       "15509      ODZ4      -0.000319\n",
       "8036    PA2G4P4      -0.000328\n",
       "14868      NUMB      -0.000370\n",
       "10914      LMO1      -0.000432"
      ]
     },
     "execution_count": 41,
     "metadata": {},
     "output_type": "execute_result"
    }
   ],
   "source": [
    "ig_top_genes_luad"
   ]
  },
  {
   "cell_type": "code",
   "execution_count": 42,
   "metadata": {},
   "outputs": [],
   "source": [
    "xtiks = np.linspace(-0.0005, 0.0015, 5)"
   ]
  },
  {
   "cell_type": "code",
   "execution_count": 82,
   "metadata": {
    "scrolled": false
   },
   "outputs": [
    {
     "data": {
      "image/png": "[encoded data removed]",
      "text/plain": [
       "<Figure size 576x396 with 1 Axes>"
      ]
     },
     "metadata": {},
     "output_type": "display_data"
    }
   ],
   "source": [
    "b = sea.barplot(x=ig_top_genes_luad.iloc[:,1], y=ig_top_genes_luad.iloc[:,0])\n",
    "b.axes.set_title(\"IntegratedGradients\",fontsize=20)\n",
    "b.set_xlabel(\"Score\",fontsize=20)\n",
    "b.set_ylabel(None)\n",
    "\n",
    "b.set_xticks(xtiks)\n",
    "b.tick_params(labelsize=15)\n",
    "plt.savefig(PATH+\"relevance_score_gene_exp_TOP20_ig.pdf\", dpi=300, bbox_inches='tight')\n",
    "plt.show()"
   ]
  },
  {
   "cell_type": "code",
   "execution_count": 44,
   "metadata": {},
   "outputs": [],
   "source": [
    "gs_top_genes_luad, gs_top_genes_lusu = get_first20_genes_from_attributions(gs1, gs0, columns, 0)"
   ]
  },
  {
   "cell_type": "code",
   "execution_count": 45,
   "metadata": {},
   "outputs": [
    {
     "data": {
      "image/png": "[encoded data removed]",
      "text/plain": [
       "<Figure size 576x396 with 1 Axes>"
      ]
     },
     "metadata": {},
     "output_type": "display_data"
    }
   ],
   "source": [
    "\n",
    "b = sea.barplot(x=gs_top_genes_luad.iloc[:,1], y=gs_top_genes_luad.iloc[:,0])\n",
    "b.axes.set_title(\"GradientSHAP\",fontsize=20)\n",
    "b.set_xlabel(\"Score\",fontsize=20)\n",
    "b.set_ylabel(None)\n",
    "b.set_xticks(xtiks)\n",
    "b.tick_params(labelsize=15)\n",
    "plt.savefig(PATH+\"relevance_score_gene_exp_TOP20_gs.pdf\", dpi=300, bbox_inches='tight')\n",
    "plt.show()"
   ]
  },
  {
   "cell_type": "code",
   "execution_count": 46,
   "metadata": {},
   "outputs": [],
   "source": [
    "dl_top_genes_luad, dl_top_genes_lusu = get_first20_genes_from_attributions(dl1, dl0, columns, 0)"
   ]
  },
  {
   "cell_type": "code",
   "execution_count": 47,
   "metadata": {},
   "outputs": [
    {
     "data": {
      "image/png": "[encoded data removed]",
      "text/plain": [
       "<Figure size 576x396 with 1 Axes>"
      ]
     },
     "metadata": {},
     "output_type": "display_data"
    }
   ],
   "source": [
    "b = sea.barplot(x=dl_top_genes_luad.iloc[:,1], y=dl_top_genes_luad.iloc[:,0])\n",
    "b.axes.set_title(\"DeepLIFT\",fontsize=20)\n",
    "b.set_xlabel(\"Score\",fontsize=20)\n",
    "b.set_ylabel(None)\n",
    "# b.set_xticks(xtiks)\n",
    "b.tick_params(labelsize=15)\n",
    "plt.savefig(PATH+\"relevance_score_gene_exp_TOP20_dl.pdf\", dpi=300, bbox_inches='tight')\n",
    "plt.show()"
   ]
  },
  {
   "cell_type": "markdown",
   "metadata": {},
   "source": [
    "---\n",
    "---\n",
    "---"
   ]
  },
  {
   "cell_type": "markdown",
   "metadata": {},
   "source": [
    "#  Plot  Venns "
   ]
  },
  {
   "cell_type": "code",
   "execution_count": 48,
   "metadata": {},
   "outputs": [],
   "source": [
    "# from venn import venn, pseudovenn"
   ]
  },
  {
   "cell_type": "code",
   "execution_count": 49,
   "metadata": {
    "scrolled": false
   },
   "outputs": [],
   "source": [
    "# genes_dict_luad = {\n",
    "    \n",
    "#     'IntegratedGrad':set(ig_top_genes_luad),\n",
    "#     'GradShap': set(gradshap_top_genes_luad),\n",
    "#     'DeepLift': set(deeplift_top_genes_luad),\n",
    "# }\n",
    "# venn(genes_dict_luad, cmap='prism', hint_hidden=False, figsize=(11,11), legend_loc=\"upper left\")\n",
    "# plt.title(\"Intersection of LUAD genes using IntegratedGradients, GradientSHAP and DeepLIFT\")\n",
    "# plt.savefig(PATH+\"project_summary_seed_wise/seed=\"+str(seed)+\"/luad_venn\", dpi=300, bbox_inches='tight')\n",
    "# plt.show()\n",
    "# # pseudovenn(genes_dict_luad,)"
   ]
  },
  {
   "cell_type": "code",
   "execution_count": 50,
   "metadata": {},
   "outputs": [],
   "source": [
    "# genes_dict_lusu = {\n",
    "    \n",
    "#     'IntegratedGrad':set(ig_top_genes_lusu),\n",
    "#     'GradShap': set(gradshap_top_genes_lusu),\n",
    "#     'DeepLift': set(deeplift_top_genes_lusu),\n",
    "# }\n",
    "# venn(genes_dict_lusu, cmap='winter', hint_hidden=False, figsize=(11,11), legend_loc=\"upper left\")\n",
    "# plt.title(\"Intersection of LUSC genes using IntegratedGradients, GradientSHAP and DeepLIFT\")\n",
    "# plt.savefig(PATH+\"project_summary_seed_wise/seed=\"+str(seed)+\"/lusu_venn\", dpi=300, bbox_inches='tight')\n",
    "# plt.show()\n",
    "# # pseudovenn(genes_dict_lusu, cmap='Spectral_r', hint_hidden=False, figsize=(11,11), legend_loc=\"upper left\")"
   ]
  },
  {
   "cell_type": "markdown",
   "metadata": {},
   "source": [
    "---\n",
    "---\n",
    "---"
   ]
  },
  {
   "cell_type": "markdown",
   "metadata": {},
   "source": [
    "# Identify common genes from all the methods and save them"
   ]
  },
  {
   "cell_type": "code",
   "execution_count": 51,
   "metadata": {},
   "outputs": [],
   "source": [
    "# common_luad_genes =  set(deeplift_top_genes_luad) & set(ig_top_genes_luad) & set(gradshap_top_genes_luad)\n",
    "# common_lusu_genes =  set(deeplift_top_genes_lusu) & set(ig_top_genes_lusu) & set(gradshap_top_genes_lusu)"
   ]
  },
  {
   "cell_type": "code",
   "execution_count": 52,
   "metadata": {},
   "outputs": [],
   "source": [
    "# common_genes = common_luad_genes.union(common_lusu_genes)"
   ]
  },
  {
   "cell_type": "code",
   "execution_count": 53,
   "metadata": {
    "scrolled": false
   },
   "outputs": [],
   "source": [
    "# len(common_genes)"
   ]
  },
  {
   "cell_type": "code",
   "execution_count": 54,
   "metadata": {
    "scrolled": false
   },
   "outputs": [],
   "source": [
    "# common_genes"
   ]
  },
  {
   "cell_type": "code",
   "execution_count": 55,
   "metadata": {},
   "outputs": [],
   "source": [
    "# u.write_seed_genes(PATH, seed, common_genes)"
   ]
  },
  {
   "cell_type": "markdown",
   "metadata": {},
   "source": [
    "---\n",
    "---\n",
    "---"
   ]
  },
  {
   "cell_type": "markdown",
   "metadata": {},
   "source": [
    "#  Evaluate these common genes (not necessary, but can do)"
   ]
  },
  {
   "cell_type": "code",
   "execution_count": 56,
   "metadata": {},
   "outputs": [],
   "source": [
    "# epochs = 100\n",
    "# learning_rate = 1e-4\n",
    "# batch_size_df = 64"
   ]
  },
  {
   "cell_type": "code",
   "execution_count": 57,
   "metadata": {},
   "outputs": [],
   "source": [
    "# sklearn_classifiers = [\n",
    "    \n",
    "#     MLPClassifier(hidden_layer_sizes=(150, 75, 25), random_state=seed, batch_size=batch_size_df, verbose=False, learning_rate_init=learning_rate, max_iter = epochs),  ## predict_proba\n",
    "#     LogisticRegression(random_state=seed, max_iter=epochs, solver='saga'),  ## predict_proba\n",
    "#     RandomForestClassifier(max_depth=8, random_state=seed), ## predict_proba\n",
    "#     SVC(kernel='rbf', random_state=seed), ## decision_func\n",
    "# ]"
   ]
  },
  {
   "cell_type": "code",
   "execution_count": 58,
   "metadata": {},
   "outputs": [],
   "source": [
    "# ## https://stackoverflow.com/questions/40636514/selecting-columns-by-list-and-columns-are-subset-of-list\n",
    "\n",
    "# df_intersect = df[df.columns.intersection(common_genes)]\n",
    "# df_xtest_intersect = df_xtest[df_xtest.columns.intersection(common_genes)]"
   ]
  },
  {
   "cell_type": "code",
   "execution_count": 59,
   "metadata": {},
   "outputs": [],
   "source": [
    "# df_intersect_scaler = StandardScaler()\n",
    "# df_intersect_scaled = df_intersect_scaler.fit_transform(df_intersect)\n",
    "# df_intersect_scaled_xtest = df_intersect_scaler.transform(df_xtest_intersect)"
   ]
  },
  {
   "cell_type": "code",
   "execution_count": 60,
   "metadata": {
    "scrolled": true
   },
   "outputs": [],
   "source": [
    "# list_fit_train_per_algo=[]\n",
    "# list_fit_test_per_algo=[]\n",
    "# models=('MLP','LR', 'RF', 'SVC')\n",
    "# for classifier in (sklearn_classifiers):\n",
    "#     classifier.fit(df_intersect_scaled, df_ytrain)\n",
    "#     list_fit_train_per_algo.append(classifier.score(df_intersect_scaled, df_ytrain))\n",
    "#     list_fit_test_per_algo.append(classifier.score(df_intersect_scaled_xtest, df_ytest))"
   ]
  },
  {
   "cell_type": "code",
   "execution_count": 61,
   "metadata": {},
   "outputs": [],
   "source": [
    "# u.plot_train_test_k_fold_accuracy(\n",
    "#     list_fit_train_per_algo,\n",
    "#     list_fit_test_per_algo,\n",
    "#     N=4, \n",
    "#     width=0.45,\n",
    "#     width_mult=1,\n",
    "#     fig_size=(12, 8), \n",
    "#     title='Accuracy score of Various Algorithms on Train/Test Split',\n",
    "#     x_ticks=models,\n",
    "#     legends=('Train', 'Test'),\n",
    "#     file_path=PATH+\"project_summary_seed_wise/seed=\"+str(seed)+\"/interpretation_results\"\n",
    "# )"
   ]
  },
  {
   "cell_type": "code",
   "execution_count": null,
   "metadata": {},
   "outputs": [],
   "source": []
  },
  {
   "cell_type": "code",
   "execution_count": null,
   "metadata": {},
   "outputs": [],
   "source": []
  },
  {
   "cell_type": "code",
   "execution_count": 62,
   "metadata": {
    "scrolled": false
   },
   "outputs": [],
   "source": [
    "# # k = [50, 100, 150]\n",
    "# for threshold in k:\n",
    "#     print('Threshold value: ',threshold)\n",
    "#     process_ig(threshold)\n",
    "#     process_gs(threshold)\n",
    "#     process_dl(threshold)\n",
    "#     print('========================================')"
   ]
  },
  {
   "cell_type": "code",
   "execution_count": 63,
   "metadata": {},
   "outputs": [],
   "source": [
    "# process_ig(threshold)\n",
    "# process_gs(threshold)\n",
    "# process_dl(threshold)"
   ]
  },
  {
   "cell_type": "code",
   "execution_count": null,
   "metadata": {},
   "outputs": [],
   "source": []
  },
  {
   "cell_type": "code",
   "execution_count": null,
   "metadata": {},
   "outputs": [],
   "source": []
  },
  {
   "cell_type": "code",
   "execution_count": null,
   "metadata": {},
   "outputs": [],
   "source": []
  },
  {
   "cell_type": "code",
   "execution_count": null,
   "metadata": {},
   "outputs": [],
   "source": []
  },
  {
   "cell_type": "code",
   "execution_count": null,
   "metadata": {},
   "outputs": [],
   "source": []
  },
  {
   "cell_type": "code",
   "execution_count": null,
   "metadata": {},
   "outputs": [],
   "source": []
  },
  {
   "cell_type": "code",
   "execution_count": null,
   "metadata": {},
   "outputs": [],
   "source": []
  },
  {
   "cell_type": "code",
   "execution_count": null,
   "metadata": {},
   "outputs": [],
   "source": []
  },
  {
   "cell_type": "code",
   "execution_count": null,
   "metadata": {},
   "outputs": [],
   "source": []
  },
  {
   "cell_type": "code",
   "execution_count": null,
   "metadata": {},
   "outputs": [],
   "source": []
  },
  {
   "cell_type": "code",
   "execution_count": null,
   "metadata": {},
   "outputs": [],
   "source": []
  }
 ],
 "metadata": {
  "accelerator": "GPU",
  "colab": {
   "collapsed_sections": [],
   "name": "1_XENA_LUNG_GeneExp_Interpretability",
   "provenance": []
  },
  "kernelspec": {
   "display_name": "Python 3 (ipykernel)",
   "language": "python",
   "name": "python3"
  },
  "language_info": {
   "codemirror_mode": {
    "name": "ipython",
    "version": 3
   },
   "file_extension": ".py",
   "mimetype": "text/x-python",
   "name": "python",
   "nbconvert_exporter": "python",
   "pygments_lexer": "ipython3",
   "version": "3.7.13"
  }
 },
 "nbformat": 4,
 "nbformat_minor": 1
}
